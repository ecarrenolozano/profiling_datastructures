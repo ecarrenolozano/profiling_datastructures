{
 "cells": [
  {
   "cell_type": "markdown",
   "id": "0be74670-0ab5-4b48-9444-a66ae52cd5d1",
   "metadata": {},
   "source": [
    "# Experiment 1: Testing profilers"
   ]
  },
  {
   "cell_type": "markdown",
   "id": "1e67bac5-aa4a-4bfb-bab9-2a87ac29dbdc",
   "metadata": {},
   "source": [
    "[//]: # (------------------------------------------    DO NOT MODIFY THIS    ------------------------------------------)\n",
    "<style type=\"text/css\">\n",
    ".tg  {border-collapse:collapse;\n",
    "      border-spacing:0;\n",
    "     }\n",
    ".tg td{border-color:black;\n",
    "       border-style:solid;\n",
    "       border-width:1px;\n",
    "       font-family:Arial, sans-serif;\n",
    "       font-size:14px;\n",
    "       overflow:hidden;\n",
    "       padding:10px 5px;\n",
    "       word-break:normal;\n",
    "      }\n",
    ".tg th{border-color:black;\n",
    "       border-style:solid;\n",
    "       border-width:1px;\n",
    "       font-family:Arial, sans-serif;\n",
    "       font-size:14px;\n",
    "       font-weight:normal;\n",
    "       overflow:hidden;\n",
    "       padding:10px 5px;\n",
    "       word-break:normal;\n",
    "      }\n",
    ".tg .tg-fymr{border-color:inherit;\n",
    "             font-weight:bold;\n",
    "             text-align:left;\n",
    "             vertical-align:top\n",
    "            }\n",
    ".tg .tg-0pky{border-color:inherit;\n",
    "             text-align:left;\n",
    "             vertical-align:top\n",
    "            }\n",
    "[//]: # (--------------------------------------------------------------------------------------------------------------)\n",
    "\n",
    "[//]: # (-------------------------------------    FILL THIS OUT WITH YOUR DATA    -------------------------------------)\n",
    "</style>\n",
    "<table class=\"tg\">\n",
    "    <tbody>\n",
    "      <tr>\n",
    "        <td class=\"tg-fymr\" style=\"font-weight: bold\">Title:</td>\n",
    "        <td class=\"tg-0pky\"> Experiment 1: Testing profilers</td>\n",
    "      </tr>\n",
    "      <tr>\n",
    "        <td class=\"tg-fymr\" style=\"font-weight: bold\">Authors:</td>\n",
    "        <td class=\"tg-0pky\">\n",
    "            <a href=\"https://github.com/ecarrenolozano\" target=\"_blank\" rel=\"noopener noreferrer\">Edwin Carreño</a>\n",
    "        </td>\n",
    "      </tr>\n",
    "      <tr>\n",
    "        <td class=\"tg-fymr\" style=\"font-weight: bold\">Affiliations:</td>\n",
    "        <td class=\"tg-0pky\">\n",
    "            <a href=\"https://www.ssc.uni-heidelberg.de/en\" target=\"_blank\" rel=\"noopener noreferrer\">Scientific Software Center</a>\n",
    "        </td>\n",
    "      </tr>\n",
    "      <tr>\n",
    "        <td class=\"tg-fymr\" style=\"font-weight: bold\">Date Created:</td>\n",
    "        <td class=\"tg-0pky\">30.10.2024</td>\n",
    "      </tr>\n",
    "      <tr>\n",
    "        <td class=\"tg-fymr\" style=\"font-weight: bold\">Description:</td>\n",
    "        <td class=\"tg-0pky\">Testing profilers for memory and time in: Lists, Pandas DF, Dictionaries, Numpy Arrays.</td>\n",
    "      </tr>\n",
    "    </tbody>\n",
    "</table>\n",
    "\n",
    "[//]: # (--------------------------------------------------------------------------------------------------------------)"
   ]
  },
  {
   "cell_type": "markdown",
   "id": "a6f2daac-918d-471e-83b7-6685cd141424",
   "metadata": {},
   "source": [
    "<table class=\"tfo-notebook-buttons\" align=\"left\">\n",
    "  <td>\n",
    "    <a target=\"_blank\" href=\"https://colab.research.google.com/github/tensorflow/docs/blob/master/site/en/tutorials/quickstart/beginner.ipynb\"><img src=\"https://www.tensorflow.org/images/colab_logo_32px.png\" />Run in Google Colab</a>\n",
    "  </td>\n",
    "  <td>\n",
    "    <a target=\"_blank\" href=\"https://github.com/tensorflow/docs/blob/master/site/en/tutorials/quickstart/beginner.ipynb\"><img src=\"https://www.tensorflow.org/images/GitHub-Mark-32px.png\" />View source on GitHub</a>\n",
    "  </td>  \n",
    "</table>"
   ]
  },
  {
   "cell_type": "markdown",
   "id": "1fb5ab5e-6d91-4d66-b054-c95cf385b943",
   "metadata": {},
   "source": [
    "## Overview"
   ]
  },
  {
   "cell_type": "markdown",
   "id": "30d9abb0-6e7b-4061-ac52-99e30da031cc",
   "metadata": {},
   "source": [
    "In this notebook we are going to:\n",
    "\n",
    "1. Import CSV (comma-separated values) data from nodes and edges.\n",
    "2. Describe the data from CSVs.\n",
    "3. Store the CSV data in data structures:\n",
    "   - List of tuples\n",
    "   - Pandas DF\n",
    "   - Dictionaries of dictionaries\n",
    "   - Numpy Arrays\n",
    "4. Profile the memory and time to create the data structure.\n",
    "5. Create a NetworkX graph from the aforementioned datasets"
   ]
  },
  {
   "cell_type": "markdown",
   "id": "2174e6d2-5701-455a-a617-10d394d17424",
   "metadata": {},
   "source": [
    "## Setup (if required)\n",
    "\n",
    "**Note:** If your code require to install dependencies before your main code, please add the commands to install the dependencies. You can silence the messages returned by `pip` the flag `-q`, i.e. `pip install pandas -q`"
   ]
  },
  {
   "cell_type": "markdown",
   "id": "d898971c-065f-44f2-8b6f-b0c11ee7a039",
   "metadata": {},
   "source": [
    "### NetworkX installation"
   ]
  },
  {
   "cell_type": "code",
   "execution_count": 1,
   "id": "b8e3ea23-d939-4fb4-b995-28837b276806",
   "metadata": {},
   "outputs": [],
   "source": [
    "!pip install networkx[default] -q"
   ]
  },
  {
   "cell_type": "markdown",
   "id": "d649800f-af21-422f-be65-e289455c68ba",
   "metadata": {},
   "source": [
    "## Importing Libraries"
   ]
  },
  {
   "cell_type": "code",
   "execution_count": 20,
   "id": "c294dcee-9162-4f31-bcb5-576f598f387f",
   "metadata": {},
   "outputs": [],
   "source": [
    "\"\"\"\n",
    "Recommendations:\n",
    "    - Respect the order of the imports, they are indicated by the numbers 1, 2, 3.\n",
    "    - One import per line is recommended, with this we can track easily any modified line when we use git.\n",
    "    - Absolute imports are recommended (see 3. Local application/library specific imports below), they improve readability and give better error messages.\n",
    "    - You should put a blank line between each group of imports.\n",
    "\"\"\"\n",
    "\n",
    "# future-imports (for instance: from __future__ import barry_as_FLUFL)\n",
    "# from __future__ import barry_as_FLUFL  \n",
    "\n",
    "# 1. Standard library imports\n",
    "import ast\n",
    "import cProfile\n",
    "import csv\n",
    "import os\n",
    "import pstats\n",
    "import sys\n",
    "\n",
    "# 2. Related third party imports\n",
    "import networkx as nx\n",
    "import pandas as pd\n",
    "from pympler import asizeof\n",
    "\n",
    "# 3. Local application/library specific imports\n",
    "# import <mypackage>.<MyClass>         # this is an example\n",
    "# from <mypackage> import <MyClass>    # this is another example "
   ]
  },
  {
   "cell_type": "markdown",
   "id": "7ca790f6-9af7-43b2-a5a1-7c2b7f5bd2b3",
   "metadata": {},
   "source": [
    "## Helper Functions"
   ]
  },
  {
   "cell_type": "code",
   "execution_count": 3,
   "id": "ad47a09f-ca55-4882-882a-6e135502390a",
   "metadata": {},
   "outputs": [],
   "source": [
    "def create_edgelist_ds(iterable):\n",
    "    return [edge for edge in iterable]    \n",
    "\n",
    "def edges_generator_streaming(edgelist):\n",
    "    for edge in edgelist:\n",
    "\n",
    "        # Original format\n",
    "        #  (id, source node, target node, label, properties)\n",
    "        \n",
    "        # Desired format\n",
    "        #  (source node, target node, properties)\n",
    "\n",
    "        edge_source = edge[1]\n",
    "        edge_target = edge[2]\n",
    "        properties = ast.literal_eval(edge[4])\n",
    "        properties[\"id\"] = edge[0]\n",
    "        properties[\"label\"] = edge[3]\n",
    "        \n",
    "        #dict_prop = {\"id\":edge[0],\n",
    "        #            \"label\":edge[3],\n",
    "        #            \"properties\":edge[4\n",
    "        #            }\n",
    "        yield(\n",
    "            edge_source,\n",
    "            edge_target,\n",
    "            properties\n",
    "            #dict_prop\n",
    "        ) \n",
    "\n",
    "def load_csv_module(filepath, header=True):\n",
    "    list_rows = []\n",
    "    with open(filepath, 'r') as file:\n",
    "        reader = csv.reader(file)\n",
    "        for row in reader:\n",
    "            if header: # Skip first row when header exists\n",
    "                header = False\n",
    "                continue\n",
    "\n",
    "            row = [field.strip() for field in row]\n",
    "            list_rows.append(tuple(row))  # Add each row to the list\n",
    "            \n",
    "    return list_rows"
   ]
  },
  {
   "cell_type": "markdown",
   "id": "0cd932b1-cfd4-4dae-be70-aac312bc6043",
   "metadata": {},
   "source": [
    "## Introduction"
   ]
  },
  {
   "cell_type": "code",
   "execution_count": null,
   "id": "97b3fb54-fa92-4906-a8a6-81f11a7fdaaf",
   "metadata": {},
   "outputs": [],
   "source": []
  },
  {
   "cell_type": "code",
   "execution_count": null,
   "id": "a7b0eb1f-2dc2-40d9-890a-f0a6c45101bb",
   "metadata": {},
   "outputs": [],
   "source": []
  },
  {
   "cell_type": "code",
   "execution_count": null,
   "id": "97f08137-2904-43e5-9cf9-8d50631bdbe8",
   "metadata": {},
   "outputs": [],
   "source": []
  },
  {
   "cell_type": "code",
   "execution_count": null,
   "id": "281de799-d9c8-4d81-804a-3c7fc6f6ee32",
   "metadata": {},
   "outputs": [],
   "source": []
  },
  {
   "cell_type": "code",
   "execution_count": null,
   "id": "a679d96b-4b43-4e1f-8dc3-602266d09248",
   "metadata": {},
   "outputs": [],
   "source": []
  },
  {
   "cell_type": "code",
   "execution_count": null,
   "id": "16e8ccc8-80fe-46c8-a6f1-4d5ddec23988",
   "metadata": {},
   "outputs": [],
   "source": []
  },
  {
   "cell_type": "code",
   "execution_count": null,
   "id": "8d7a7d39-77f9-4ea4-83ae-cd38bd44d9ff",
   "metadata": {},
   "outputs": [],
   "source": []
  },
  {
   "cell_type": "markdown",
   "id": "ef9b5426-9c61-4113-a86c-5d99e164034c",
   "metadata": {},
   "source": [
    "## Section 1: Load the CSV data that contains nodes and edges\n",
    "\n",
    "For this exercise, each graph is represented by two CSV files. One containing information about the **nodes** and the other about the **edges**. To indicate that both files correspond to the same graph, their names include the same number of nodes. For example:\n",
    "\n",
    "- `dataset_30_nodes_proteins.csv`: contains 30 rows (nodes).\n",
    "- `dataset_30_edges_interactions.csv`: contains 47 rows (edges).\n",
    "\n",
    "We reference each CSV file or dataset as follows:"
   ]
  },
  {
   "cell_type": "code",
   "execution_count": 4,
   "id": "5bd42b65-6e18-4e3a-9115-62f3efd0310c",
   "metadata": {},
   "outputs": [],
   "source": [
    "filename_nodes = \"dataset_dummy2_nodes.csv\"\n",
    "filename_edges = \"dataset_dummy2_edges.csv\""
   ]
  },
  {
   "cell_type": "markdown",
   "id": "3d28236b-c3c8-425c-9fdc-0d2c6d021137",
   "metadata": {},
   "source": [
    "### 1.1: Load Nodes\n",
    "\n",
    "The CSV file for nodes contains three columns:\n",
    "- `UniProt ID`\n",
    "- `label`\n",
    "- `properties`\n",
    "\n",
    "We are going to load the information of nodes as a **list of tuples**. Each tuple represents a node with the structure:\n",
    "- `(id, label, properties)`\n",
    "- Each field in the tuple is a `string`\n",
    "- The `properties` field is a string containing a dictionary of properties."
   ]
  },
  {
   "cell_type": "code",
   "execution_count": 5,
   "id": "397537fa-046f-41d0-b90e-80aab4e3f951",
   "metadata": {},
   "outputs": [],
   "source": [
    "filepath_nodes = os.path.join(\"./datasets\", filename_nodes)\n",
    "\n",
    "list_nodes = load_csv_module(filepath_nodes, header=True)"
   ]
  },
  {
   "cell_type": "code",
   "execution_count": 6,
   "id": "23a07299-5403-4388-a9dd-09a4a6ace368",
   "metadata": {},
   "outputs": [
    {
     "name": "stdout",
     "output_type": "stream",
     "text": [
      "The list of NODES contains: 6 nodes\n",
      "Example:\n",
      "\t('A', 'letters', \"{'alphabet': 'latin'\", \"'equivalent':'a'}\")\n"
     ]
    }
   ],
   "source": [
    "print(\"The list of NODES contains: {} nodes\".format(len(list_nodes)))\n",
    "print(\"Example:\\n\\t{}\".format(list_nodes[0]))"
   ]
  },
  {
   "cell_type": "markdown",
   "id": "b9ac9426-27e1-4ff6-a360-6ec984134e44",
   "metadata": {},
   "source": [
    "### 1.2: Load Edges\n",
    "\n",
    "The CSV file for edges contains five columns:\n",
    "- `Relation ID`\n",
    "- `Source ID`\n",
    "- `Target ID`\n",
    "- `label`\n",
    "- `properties`\n",
    "\n",
    "We are going to load the information of edges as a list of tuples. Each tuple represents a node with thethe structure:\n",
    "- `(id, source, target, label, properties)`\n",
    "- Each field in the tuple is a `string`\n",
    "- The `properties` field is string containing a dictionary of properties."
   ]
  },
  {
   "cell_type": "code",
   "execution_count": 7,
   "id": "31d3ffb6-2de3-429a-bfcf-2ed6f68501d8",
   "metadata": {},
   "outputs": [],
   "source": [
    "filepath_edges = os.path.join(\"./datasets\", filename_edges)\n",
    "\n",
    "list_edges = load_csv_module(filepath_edges, header=True)"
   ]
  },
  {
   "cell_type": "code",
   "execution_count": 8,
   "id": "6a2c5d42-d6fd-4dc9-82d1-ca3ea448724f",
   "metadata": {},
   "outputs": [
    {
     "name": "stdout",
     "output_type": "stream",
     "text": [
      "The list of EDGES contains: 6 edges\n",
      "Example:\n",
      "\t('E1', 'A', '1', 'is_equivalent', \"{'info': 'A is equal to 1', 'mass=': 1}\")\n",
      "\t('E2', 'B', '2', 'is_equivalent', \"{'info': 'B is equal to 2', 'mass=': 2}\")\n",
      "\t('E3', 'C', '3', 'is_equivalent', \"{'info': 'C is equal to 3', 'mass=': 3}\")\n",
      "\t('R1', 'B', 'A', 'follows', \"{'info': 'B follows A', 'mass=': 1.0}\")\n",
      "\t('R2', 'C', 'B', 'follows', \"{'info': 'C follows B', 'mass=': 2.0}\")\n",
      "\t('R3', 'C', 'A', 'follows', \"{'info': 'C follows A', 'mass=': 3.0}\")\n"
     ]
    }
   ],
   "source": [
    "print(\"The list of EDGES contains: {} edges\".format(len(list_edges)))\n",
    "print(\"Example:\")\n",
    "for edge in list_edges[0:6]:\n",
    "    print(\"\\t{}\".format(edge))"
   ]
  },
  {
   "cell_type": "markdown",
   "id": "bb0eeaa8-c8c4-413c-9949-ea9d158d5a27",
   "metadata": {},
   "source": [
    "## Section 2: Profile each data structure\n",
    "- List of tuples\n",
    "- Pandas DF\n",
    "- Dictionary of dictionaries\n",
    "- \n",
    "\n",
    "| Stage | Function                      | Description |\n",
    "|-------|-------------------------------| ----------- |\n",
    "| 1     | `load_csv_module()`           | read the csv and load the information in memory    |\n",
    "| 2     | `edges_generator_streaming()` | transform the tuples to desired format             |\n",
    "| 3     | `create_edgelist_ds()`        | create an edgelist containing all the tuples       |"
   ]
  },
  {
   "cell_type": "markdown",
   "id": "c08f7e8d-d4dd-444f-a22f-af87d46d79bc",
   "metadata": {},
   "source": [
    "### 2.1 Create List of tuples (data structure)"
   ]
  },
  {
   "cell_type": "code",
   "execution_count": 9,
   "id": "1bb73a4e-d997-46a5-bf25-6743403c23c6",
   "metadata": {},
   "outputs": [],
   "source": [
    "edgelist = create_edgelist_ds(edges_generator_streaming(load_csv_module(filepath_edges, header=True)))"
   ]
  },
  {
   "cell_type": "code",
   "execution_count": 15,
   "id": "2dca3f67-e2fc-4344-85fb-a412af842299",
   "metadata": {},
   "outputs": [
    {
     "name": "stdout",
     "output_type": "stream",
     "text": [
      "('A', '1', {'info': 'A is equal to 1', 'mass=': 1, 'id': 'E1', 'label': 'is_equivalent'})\n",
      "('B', '2', {'info': 'B is equal to 2', 'mass=': 2, 'id': 'E2', 'label': 'is_equivalent'})\n",
      "('C', '3', {'info': 'C is equal to 3', 'mass=': 3, 'id': 'E3', 'label': 'is_equivalent'})\n",
      "('B', 'A', {'info': 'B follows A', 'mass=': 1.0, 'id': 'R1', 'label': 'follows'})\n",
      "('C', 'B', {'info': 'C follows B', 'mass=': 2.0, 'id': 'R2', 'label': 'follows'})\n"
     ]
    }
   ],
   "source": [
    "for edge in edgelist[0:5]:\n",
    "    print(edge)"
   ]
  },
  {
   "cell_type": "code",
   "execution_count": 17,
   "id": "e72a37b2-a539-40aa-bb63-13a1515bb469",
   "metadata": {},
   "outputs": [
    {
     "name": "stdout",
     "output_type": "stream",
     "text": [
      "[('A', '1', {'info': 'A is equal to 1'....3.0, 'id': 'R3', 'label': 'follows'})] size=4264 flat=120\n",
      "    ('A', '1', {'info': 'A is equal to 1',....'id': 'E1', 'label': 'is_equivalent'}) size=848 flat=64\n",
      "    ('B', '2', {'info': 'B is equal to 2',....'id': 'E2', 'label': 'is_equivalent'}) size=736 flat=64\n",
      "    ('C', '3', {'info': 'C is equal to 3',....'id': 'E3', 'label': 'is_equivalent'}) size=736 flat=64\n",
      "    ('B', 'A', {'info': 'B follows A', 'ma.... 1.0, 'id': 'R1', 'label': 'follows'}) size=608 flat=64\n",
      "    ('C', 'B', {'info': 'C follows B', 'ma.... 2.0, 'id': 'R2', 'label': 'follows'}) size=608 flat=64\n",
      "    ('C', 'A', {'info': 'C follows A', 'ma.... 3.0, 'id': 'R3', 'label': 'follows'}) size=608 flat=64\n"
     ]
    }
   ],
   "source": [
    "print(asizeof.asized(edgelist, detail=1).format())"
   ]
  },
  {
   "cell_type": "code",
   "execution_count": 19,
   "id": "03778ff6-bb9c-43cf-b726-6b41296505b6",
   "metadata": {},
   "outputs": [
    {
     "name": "stdout",
     "output_type": "stream",
     "text": [
      "('A', '1', {'info': 'A is equal to 1',....'id': 'E1', 'label': 'is_equivalent'}) size=848 flat=64\n",
      "    {'info': 'A is equal to 1', 'mass=': 1, 'id': 'E1', 'label': 'is_equivalent'} size=672 flat=232\n",
      "        [V] info: 'A is equal to 1' size=64 flat=64\n",
      "        [V] label: 'is_equivalent' size=64 flat=64\n",
      "        [K] info size=56 flat=56\n",
      "        [K] mass= size=56 flat=56\n",
      "        [K] id size=56 flat=56\n",
      "        [V] id: 'E1' size=56 flat=56\n",
      "        [K] label size=56 flat=56\n",
      "        [V] mass=: 1 size=32 flat=32\n",
      "    'A' size=56 flat=56\n",
      "    '1' size=56 flat=56\n"
     ]
    }
   ],
   "source": [
    "edge_tuple = ('A', '1', {'info': 'A is equal to 1', 'mass=': 1, 'id': 'E1', 'label': 'is_equivalent'})\n",
    "print(asizeof.asized(edge_tuple, detail=3).format())"
   ]
  },
  {
   "cell_type": "code",
   "execution_count": null,
   "id": "7b757ca7-da7e-4137-b543-bd746b9c6693",
   "metadata": {},
   "outputs": [],
   "source": []
  },
  {
   "cell_type": "code",
   "execution_count": 27,
   "id": "9f83b795-877b-446e-a90d-969ed088eccc",
   "metadata": {},
   "outputs": [
    {
     "data": {
      "text/html": [
       "<div>\n",
       "<style scoped>\n",
       "    .dataframe tbody tr th:only-of-type {\n",
       "        vertical-align: middle;\n",
       "    }\n",
       "\n",
       "    .dataframe tbody tr th {\n",
       "        vertical-align: top;\n",
       "    }\n",
       "\n",
       "    .dataframe thead th {\n",
       "        text-align: right;\n",
       "    }\n",
       "</style>\n",
       "<table border=\"1\" class=\"dataframe\">\n",
       "  <thead>\n",
       "    <tr style=\"text-align: right;\">\n",
       "      <th></th>\n",
       "      <th>ID</th>\n",
       "      <th>source</th>\n",
       "      <th>target</th>\n",
       "      <th>label</th>\n",
       "      <th>properties</th>\n",
       "    </tr>\n",
       "  </thead>\n",
       "  <tbody>\n",
       "    <tr>\n",
       "      <th>0</th>\n",
       "      <td>E1</td>\n",
       "      <td>A</td>\n",
       "      <td>1</td>\n",
       "      <td>is_equivalent</td>\n",
       "      <td>{'info': 'A is equal to 1', 'mass=': 1}</td>\n",
       "    </tr>\n",
       "    <tr>\n",
       "      <th>1</th>\n",
       "      <td>E2</td>\n",
       "      <td>B</td>\n",
       "      <td>2</td>\n",
       "      <td>is_equivalent</td>\n",
       "      <td>{'info': 'B is equal to 2', 'mass=': 2}</td>\n",
       "    </tr>\n",
       "    <tr>\n",
       "      <th>2</th>\n",
       "      <td>E3</td>\n",
       "      <td>C</td>\n",
       "      <td>3</td>\n",
       "      <td>is_equivalent</td>\n",
       "      <td>{'info': 'C is equal to 3', 'mass=': 3}</td>\n",
       "    </tr>\n",
       "    <tr>\n",
       "      <th>3</th>\n",
       "      <td>R1</td>\n",
       "      <td>B</td>\n",
       "      <td>A</td>\n",
       "      <td>follows</td>\n",
       "      <td>{'info': 'B follows A', 'mass=': 1.0}</td>\n",
       "    </tr>\n",
       "    <tr>\n",
       "      <th>4</th>\n",
       "      <td>R2</td>\n",
       "      <td>C</td>\n",
       "      <td>B</td>\n",
       "      <td>follows</td>\n",
       "      <td>{'info': 'C follows B', 'mass=': 2.0}</td>\n",
       "    </tr>\n",
       "  </tbody>\n",
       "</table>\n",
       "</div>"
      ],
      "text/plain": [
       "   ID source target          label                               properties\n",
       "0  E1      A      1  is_equivalent  {'info': 'A is equal to 1', 'mass=': 1}\n",
       "1  E2      B      2  is_equivalent  {'info': 'B is equal to 2', 'mass=': 2}\n",
       "2  E3      C      3  is_equivalent  {'info': 'C is equal to 3', 'mass=': 3}\n",
       "3  R1      B      A        follows    {'info': 'B follows A', 'mass=': 1.0}\n",
       "4  R2      C      B        follows    {'info': 'C follows B', 'mass=': 2.0}"
      ]
     },
     "execution_count": 27,
     "metadata": {},
     "output_type": "execute_result"
    }
   ],
   "source": [
    "df_edges = pd.read_csv(filepath_edges)\n",
    "df_edges.head()"
   ]
  },
  {
   "cell_type": "code",
   "execution_count": 24,
   "id": "04a52a92-25de-4889-9663-59ba7d15df32",
   "metadata": {},
   "outputs": [
    {
     "data": {
      "text/plain": [
       "Index         128\n",
       "ID            354\n",
       "source        348\n",
       "target        348\n",
       "label         402\n",
       "properties    570\n",
       "dtype: int64"
      ]
     },
     "execution_count": 24,
     "metadata": {},
     "output_type": "execute_result"
    }
   ],
   "source": [
    "df_edges.memory_usage(deep=True)"
   ]
  },
  {
   "cell_type": "code",
   "execution_count": null,
   "id": "bb2a8022-16b1-4d95-a527-2fcc9d752004",
   "metadata": {},
   "outputs": [],
   "source": []
  },
  {
   "cell_type": "code",
   "execution_count": 25,
   "id": "0bd06669-d713-49aa-8176-9729df54bc35",
   "metadata": {},
   "outputs": [
    {
     "data": {
      "text/plain": [
       "ID            object\n",
       "source        object\n",
       "target        object\n",
       "label         object\n",
       "properties    object\n",
       "dtype: object"
      ]
     },
     "execution_count": 25,
     "metadata": {},
     "output_type": "execute_result"
    }
   ],
   "source": [
    "df_edges.dtypes"
   ]
  },
  {
   "cell_type": "code",
   "execution_count": 31,
   "id": "ba9fd9e1-45e4-486e-9df2-2917e3ec7ad8",
   "metadata": {},
   "outputs": [
    {
     "data": {
      "text/plain": [
       "Index         128\n",
       "ID            532\n",
       "source        288\n",
       "target        468\n",
       "label         248\n",
       "properties    748\n",
       "dtype: int64"
      ]
     },
     "execution_count": 31,
     "metadata": {},
     "output_type": "execute_result"
    }
   ],
   "source": [
    "df_edges[df_edges.columns].astype('category').memory_usage(deep=True)"
   ]
  },
  {
   "cell_type": "code",
   "execution_count": null,
   "id": "31ee6832-959d-4a34-a80a-d0533d48a4ab",
   "metadata": {},
   "outputs": [],
   "source": [
    "128+"
   ]
  },
  {
   "cell_type": "code",
   "execution_count": null,
   "id": "f601c39b-5c50-4930-9f47-14543d7ae701",
   "metadata": {},
   "outputs": [],
   "source": []
  },
  {
   "cell_type": "markdown",
   "id": "ff55d01d-0419-41e9-bb17-bb401daf995c",
   "metadata": {},
   "source": [
    "## Section 3: Creating NetworkX "
   ]
  },
  {
   "cell_type": "code",
   "execution_count": null,
   "id": "216b6d5d-c2e4-4677-a096-b7e548b24c9c",
   "metadata": {},
   "outputs": [],
   "source": [
    "try:\n",
    "    G.clear()\n",
    "    print(\"Graph has been cleared!\")\n",
    "except:\n",
    "    print(\"Graph G doesn't exist\")"
   ]
  },
  {
   "cell_type": "markdown",
   "id": "ab982179-d23c-43e9-98b1-c6bad344bd5d",
   "metadata": {},
   "source": [
    "### 3.1 Create a Directed Graph"
   ]
  },
  {
   "cell_type": "code",
   "execution_count": null,
   "id": "c47bcb34-ec18-42b2-9ed7-e1b670601706",
   "metadata": {},
   "outputs": [],
   "source": [
    "G = nx.from_edgelist(edgelist, create_using=nx.DiGraph)"
   ]
  },
  {
   "cell_type": "markdown",
   "id": "159eb09e-6f7e-4f71-840c-b836d0d91988",
   "metadata": {},
   "source": [
    "### 3.2 Draw Graph"
   ]
  },
  {
   "cell_type": "code",
   "execution_count": null,
   "id": "ab373c16-aa79-4f6d-95bd-bdffefed6c20",
   "metadata": {},
   "outputs": [],
   "source": [
    "nx.draw(G, with_labels=True)"
   ]
  },
  {
   "cell_type": "markdown",
   "id": "07c3ca3c-a3bf-4f7b-a098-a5ab18695842",
   "metadata": {},
   "source": [
    "### 3.3 Some statistics"
   ]
  },
  {
   "cell_type": "code",
   "execution_count": null,
   "id": "d6724a37-75a7-4f21-9187-6166747692fd",
   "metadata": {},
   "outputs": [],
   "source": [
    "print(\"Number of nodes: {}\".format(G.number_of_nodes()))\n",
    "print(\"Number of edges: {}\".format(G.number_of_edges()))"
   ]
  },
  {
   "cell_type": "code",
   "execution_count": null,
   "id": "5fe924bc-d677-46ed-919a-5c84d941f382",
   "metadata": {},
   "outputs": [],
   "source": [
    "limit = 5\n",
    "for index, edge in enumerate(G.edges(data=True)):\n",
    "    if index == limit:\n",
    "        break\n",
    "    print(edge)"
   ]
  },
  {
   "cell_type": "code",
   "execution_count": null,
   "id": "6740b8cc-aac6-4e0a-ab9a-6aa16ecc968b",
   "metadata": {},
   "outputs": [],
   "source": []
  },
  {
   "cell_type": "code",
   "execution_count": null,
   "id": "cf5f9d2f-f574-4e4b-b66d-dcf47a7e140b",
   "metadata": {},
   "outputs": [],
   "source": []
  },
  {
   "cell_type": "code",
   "execution_count": null,
   "id": "c95ed795-71c8-4113-ac46-58801df2b156",
   "metadata": {},
   "outputs": [],
   "source": []
  },
  {
   "cell_type": "code",
   "execution_count": null,
   "id": "e31b0da4-31a7-46a7-b629-f848ca859c93",
   "metadata": {},
   "outputs": [],
   "source": []
  },
  {
   "cell_type": "code",
   "execution_count": 32,
   "id": "622b81bc-d5c6-4eb7-ad43-d935e3712683",
   "metadata": {},
   "outputs": [],
   "source": [
    "%load_ext memray"
   ]
  },
  {
   "cell_type": "code",
   "execution_count": 33,
   "id": "d5bf5a77-bf04-4ba0-9b83-a51260953dee",
   "metadata": {},
   "outputs": [
    {
     "data": {
      "text/html": [
       "<pre style=\"white-space:pre;overflow-x:auto;line-height:normal;font-family:Menlo,'DejaVu Sans Mono',consolas,'Courier New',monospace\">/home/ecarreno/miniconda3/envs/biocypher/lib/python3.10/site-packages/rich/live.py:231: UserWarning: install \n",
       "\"ipywidgets\" for Jupyter support\n",
       "  warnings.warn('install \"ipywidgets\" for Jupyter support')\n",
       "</pre>\n"
      ],
      "text/plain": [
       "/home/ecarreno/miniconda3/envs/biocypher/lib/python3.10/site-packages/rich/live.py:231: UserWarning: install \n",
       "\"ipywidgets\" for Jupyter support\n",
       "  warnings.warn('install \"ipywidgets\" for Jupyter support')\n"
      ]
     },
     "metadata": {},
     "output_type": "display_data"
    },
    {
     "name": "stderr",
     "output_type": "stream",
     "text": [
      "Memray WARNING: Correcting symbol for aligned_alloc from 0x750a2ce57c50 to 0x750a9e2a5c60\n"
     ]
    },
    {
     "data": {
      "text/html": [
       "<pre style=\"white-space:pre;overflow-x:auto;line-height:normal;font-family:Menlo,'DejaVu Sans Mono',consolas,'Courier New',monospace\"></pre>\n"
      ],
      "text/plain": []
     },
     "metadata": {},
     "output_type": "display_data"
    },
    {
     "data": {
      "text/html": [
       "<pre style=\"white-space:pre;overflow-x:auto;line-height:normal;font-family:Menlo,'DejaVu Sans Mono',consolas,'Courier New',monospace\"></pre>\n"
      ],
      "text/plain": []
     },
     "metadata": {},
     "output_type": "display_data"
    },
    {
     "data": {
      "text/html": [
       "<pre style=\"white-space:pre;overflow-x:auto;line-height:normal;font-family:Menlo,'DejaVu Sans Mono',consolas,'Courier New',monospace\">Results saved to <span style=\"color: #008080; text-decoration-color: #008080; font-weight: bold\">memray-results/tmpfnwyyksw/flamegraph.html</span>\n",
       "</pre>\n"
      ],
      "text/plain": [
       "Results saved to \u001b[1;36mmemray-results/tmpfnwyyksw/flamegraph.html\u001b[0m\n"
      ]
     },
     "metadata": {},
     "output_type": "display_data"
    },
    {
     "data": {
      "text/html": [
       "\n",
       "        <iframe\n",
       "            width=\"100%\"\n",
       "            height=\"600\"\n",
       "            src=\"memray-results/tmpfnwyyksw/flamegraph.html\"\n",
       "            frameborder=\"0\"\n",
       "            allowfullscreen\n",
       "            \n",
       "        ></iframe>\n",
       "        "
      ],
      "text/plain": [
       "<IPython.lib.display.IFrame at 0x750a2f117250>"
      ]
     },
     "metadata": {},
     "output_type": "display_data"
    }
   ],
   "source": [
    "%%memray_flamegraph --trace-python-allocators --leaks\n",
    "def a():\n",
    "    return \"a\" * 10_000\n",
    "\n",
    "def bc():\n",
    "    return \"bc\" * 10_000\n",
    "\n",
    "x = a() + bc()"
   ]
  },
  {
   "cell_type": "code",
   "execution_count": null,
   "id": "081afc8a-ee23-45a5-b8f2-eae15cb7fd7c",
   "metadata": {},
   "outputs": [],
   "source": []
  }
 ],
 "metadata": {
  "kernelspec": {
   "display_name": "Python 3 (ipykernel)",
   "language": "python",
   "name": "python3"
  },
  "language_info": {
   "codemirror_mode": {
    "name": "ipython",
    "version": 3
   },
   "file_extension": ".py",
   "mimetype": "text/x-python",
   "name": "python",
   "nbconvert_exporter": "python",
   "pygments_lexer": "ipython3",
   "version": "3.10.14"
  }
 },
 "nbformat": 4,
 "nbformat_minor": 5
}
