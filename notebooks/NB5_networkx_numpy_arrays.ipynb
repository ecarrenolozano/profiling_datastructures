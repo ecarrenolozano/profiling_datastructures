{
 "cells": [
  {
   "cell_type": "markdown",
   "id": "35f519fb-c112-4978-ac8c-266aea978bcf",
   "metadata": {},
   "source": [
    "# Experiment 5: Numpy Arrays as data structure for Graphs"
   ]
  },
  {
   "cell_type": "markdown",
   "id": "13ed58ee-4486-4cfd-bad3-05c4d1c81e1f",
   "metadata": {},
   "source": [
    "[//]: # (------------------------------------------    DO NOT MODIFY THIS    ------------------------------------------)\n",
    "<style type=\"text/css\">\n",
    ".tg  {border-collapse:collapse;\n",
    "      border-spacing:0;\n",
    "     }\n",
    ".tg td{border-color:black;\n",
    "       border-style:solid;\n",
    "       border-width:1px;\n",
    "       font-family:Arial, sans-serif;\n",
    "       font-size:14px;\n",
    "       overflow:hidden;\n",
    "       padding:10px 5px;\n",
    "       word-break:normal;\n",
    "      }\n",
    ".tg th{border-color:black;\n",
    "       border-style:solid;\n",
    "       border-width:1px;\n",
    "       font-family:Arial, sans-serif;\n",
    "       font-size:14px;\n",
    "       font-weight:normal;\n",
    "       overflow:hidden;\n",
    "       padding:10px 5px;\n",
    "       word-break:normal;\n",
    "      }\n",
    ".tg .tg-fymr{border-color:inherit;\n",
    "             font-weight:bold;\n",
    "             text-align:left;\n",
    "             vertical-align:top\n",
    "            }\n",
    ".tg .tg-0pky{border-color:inherit;\n",
    "             text-align:left;\n",
    "             vertical-align:top\n",
    "            }\n",
    "[//]: # (--------------------------------------------------------------------------------------------------------------)\n",
    "\n",
    "[//]: # (-------------------------------------    FILL THIS OUT WITH YOUR DATA    -------------------------------------)\n",
    "</style>\n",
    "<table class=\"tg\">\n",
    "    <tbody>\n",
    "      <tr>\n",
    "        <td class=\"tg-fymr\" style=\"font-weight: bold\">Title:</td>\n",
    "        <td class=\"tg-0pky\">Experiment 5: Numpy Arrays as data structure for Graphs</td>\n",
    "      </tr>\n",
    "      <tr>\n",
    "        <td class=\"tg-fymr\" style=\"font-weight: bold\">Authors:</td>\n",
    "        <td class=\"tg-0pky\">\n",
    "            <a href=\"https://github.com/ecarrenolozano\" target=\"_blank\" rel=\"noopener noreferrer\">Edwin Carreño</a>\n",
    "        </td>\n",
    "      </tr>\n",
    "      <tr>\n",
    "        <td class=\"tg-fymr\" style=\"font-weight: bold\">Affiliations:</td>\n",
    "        <td class=\"tg-0pky\">\n",
    "            <a href=\"https://www.ssc.uni-heidelberg.de/en\" target=\"_blank\" rel=\"noopener noreferrer\">Scientific Software Center</a>\n",
    "        </td>\n",
    "      </tr>\n",
    "      <tr>\n",
    "        <td class=\"tg-fymr\" style=\"font-weight: bold\">Date Created:</td>\n",
    "        <td class=\"tg-0pky\">30.10.2024</td>\n",
    "      </tr>\n",
    "      <tr>\n",
    "        <td class=\"tg-fymr\" style=\"font-weight: bold\">Description:</td>\n",
    "        <td class=\"tg-0pky\">Creation of a graph using numpy arrays and data from CSV files. Conversion to NetworkX is tested too.</td>\n",
    "      </tr>\n",
    "    </tbody>\n",
    "</table>\n",
    "\n",
    "[//]: # (--------------------------------------------------------------------------------------------------------------)"
   ]
  },
  {
   "cell_type": "markdown",
   "id": "c32de8e4-efd1-457d-a22d-49aad0ae7474",
   "metadata": {},
   "source": [
    "<table class=\"tfo-notebook-buttons\" align=\"left\">\n",
    "  <td>\n",
    "    <a target=\"_blank\" href=\"https://colab.research.google.com/github/tensorflow/docs/blob/master/site/en/tutorials/quickstart/beginner.ipynb\"><img src=\"https://www.tensorflow.org/images/colab_logo_32px.png\" />Run in Google Colab</a>\n",
    "  </td>\n",
    "  <td>\n",
    "    <a target=\"_blank\" href=\"https://github.com/tensorflow/docs/blob/master/site/en/tutorials/quickstart/beginner.ipynb\"><img src=\"https://www.tensorflow.org/images/GitHub-Mark-32px.png\" />View source on GitHub</a>\n",
    "  </td>  \n",
    "</table>"
   ]
  },
  {
   "cell_type": "markdown",
   "id": "084484b1-73d6-42ae-a1a3-f3c2476f33e8",
   "metadata": {},
   "source": [
    "## Overview"
   ]
  },
  {
   "cell_type": "markdown",
   "id": "7e7c9a52-bd7f-4832-851b-bd8a2c78fd89",
   "metadata": {},
   "source": [
    "In this notebook we are going to:\n",
    "\n",
    "1. Import CSV (comma-separated values) data from nodes and edges.\n",
    "2. Describe the data from CSVs.\n",
    "3. Create a data pipeline that:\n",
    "   - load csv data\n",
    "   - convert the data from edges into a Numpy Array (data structure).\n",
    "4. Create a NetworkX graph from the Numpy array that contains information about edges."
   ]
  },
  {
   "cell_type": "markdown",
   "id": "3bfa44b7-26bb-494d-8a98-14a00d9df0a0",
   "metadata": {},
   "source": [
    "## Setup (if required)"
   ]
  },
  {
   "cell_type": "markdown",
   "id": "d5df3507-ea9f-417d-ad92-4c5106eeb501",
   "metadata": {},
   "source": [
    "If your code require to install dependencies before your main code, please add the commands to install the dependencies. You can silence the messages returned by `pip` the flag `-q`, i.e. `pip install pandas -q`"
   ]
  },
  {
   "cell_type": "markdown",
   "id": "3fd5b238-c57d-4c8d-ba87-df7ccd1d8219",
   "metadata": {},
   "source": [
    "### NetworkX installation"
   ]
  },
  {
   "cell_type": "code",
   "execution_count": 1,
   "id": "fa16f58a-0862-4d29-9ca9-1dfe6f3f1a47",
   "metadata": {},
   "outputs": [],
   "source": [
    "!pip install networkx[default] -q"
   ]
  },
  {
   "cell_type": "markdown",
   "id": "8fae0a05-5496-414a-b70e-1048f091a5df",
   "metadata": {},
   "source": [
    "## Importing Libraries"
   ]
  },
  {
   "cell_type": "code",
   "execution_count": 2,
   "id": "92018775-64da-4945-833f-48f6de0c067e",
   "metadata": {},
   "outputs": [],
   "source": [
    "\"\"\"\n",
    "Recommendations:\n",
    "    - Respect the order of the imports, they are indicated by the numbers 1, 2, 3.\n",
    "    - One import per line is recommended, with this we can track easily any modified line when we use git.\n",
    "    - Absolute imports are recommended (see 3. Local application/library specific imports below), they improve readability and give better error messages.\n",
    "    - You should put a blank line between each group of imports.\n",
    "\"\"\"\n",
    "\n",
    "# future-imports (for instance: from __future__ import barry_as_FLUFL)\n",
    "# from __future__ import barry_as_FLUFL  \n",
    "\n",
    "# 1. Standard library imports\n",
    "import ast\n",
    "import csv\n",
    "import os\n",
    "\n",
    "# 2. Related third party imports\n",
    "import networkx as nx\n",
    "import numpy as np\n",
    "\n",
    "# 3. Local application/library specific imports\n",
    "# import <mypackage>.<MyClass>         # this is an example\n",
    "# from <mypackage> import <MyClass>    # this is another example "
   ]
  },
  {
   "cell_type": "markdown",
   "id": "b0ab5494-98ae-42ed-816f-6f483801d0a5",
   "metadata": {},
   "source": [
    "## Helper Functions"
   ]
  },
  {
   "cell_type": "code",
   "execution_count": 3,
   "id": "3d68de39-0590-47ac-bce4-37392681a8b2",
   "metadata": {},
   "outputs": [],
   "source": [
    "def load_csv_generator(file_path, header=True):\n",
    "    with open(file_path, \"r\") as file:\n",
    "        reader = csv.reader(file)\n",
    "        if header:\n",
    "            next(reader)\n",
    "        for row in reader:\n",
    "            yield tuple(row)\n",
    "\n",
    "def create_arrays():\n",
    "    nodes_ds = load_csv_generator(file_path_nodes, header=True)\n",
    "    nodes_ds = create_numpy_array(nodes_ds)\n",
    "\n",
    "    edges_ds = load_csv_generator(file_path_edges, header=True)\n",
    "    edges_ds = create_numpy_array(edges_ds)\n",
    "\n",
    "    return nodes_ds, edges_ds\n",
    "\n",
    "def create_numpy_array(iterable):\n",
    "    return np.array([item for item in iterable])\n",
    "\n",
    "def to_networkx_nodes_format(nodes_iterable, mapping_properties=True):\n",
    "    for (node_id, node_label, properties) in nodes_iterable:\n",
    "        # Original format\n",
    "        #  (node id, node label, properties)\n",
    "\n",
    "        # Desired format\n",
    "        #  (node id, properties as dict)\n",
    "\n",
    "        properties = ast.literal_eval(properties)\n",
    "\n",
    "        if mapping_properties:\n",
    "            properties[\"node_label\"] = node_label\n",
    "\n",
    "        yield(\n",
    "            node_id,\n",
    "            properties\n",
    "        )\n",
    "\n",
    "def to_networkx_edges_format(edges_iterable, mapping_properties=True):\n",
    "    for (edge_id, source_id, target_id, edge_label, properties) in edges_iterable:\n",
    "        # Original format\n",
    "        #  (edge id, source (edge id), target (edge id), label, properties)\n",
    "\n",
    "        # Desired format\n",
    "        #  (source (edge id), target (edge id), properties as dict)\n",
    "\n",
    "        properties = ast.literal_eval(properties)\n",
    "\n",
    "        if mapping_properties:\n",
    "            properties[\"edge_id\"] = edge_id\n",
    "            properties[\"edge_label\"] = edge_label\n",
    "\n",
    "        yield (\n",
    "            source_id,\n",
    "            target_id,\n",
    "            properties,\n",
    "        )\n",
    "\n",
    "def networkx_graph_from_nparrays(nodes_array, edges_array, graph_type=nx.DiGraph()):\n",
    "    # Build an empty graph\n",
    "    networkx_graph = graph_type\n",
    "\n",
    "    # Populate the graph with edges containing properties\n",
    "    networkx_graph.add_edges_from(edges_array)\n",
    "\n",
    "    # Populate the graph with nodes containing properties\n",
    "    networkx_graph.add_nodes_from(nodes_array)\n",
    "\n",
    "    return networkx_graph"
   ]
  },
  {
   "cell_type": "markdown",
   "id": "f6f0ab58-836c-467c-bd5f-157a2284b68e",
   "metadata": {},
   "source": [
    "## Introduction"
   ]
  },
  {
   "cell_type": "code",
   "execution_count": null,
   "id": "99dcfe3d-3eb8-4aef-8be0-414bc770dc3c",
   "metadata": {},
   "outputs": [],
   "source": []
  },
  {
   "cell_type": "code",
   "execution_count": null,
   "id": "2081a8da-dd1b-45da-9f0a-780aee3dc665",
   "metadata": {},
   "outputs": [],
   "source": []
  },
  {
   "cell_type": "markdown",
   "id": "c946ef70-0a97-480a-a968-af258debaa18",
   "metadata": {},
   "source": [
    "## Section 1: Load the CSV data that contains nodes and edges"
   ]
  },
  {
   "cell_type": "markdown",
   "id": "a3e440d7-a30e-4019-bff9-4b0b115de04d",
   "metadata": {},
   "source": [
    "## Section 1: Load the CSV data that contains nodes and edges\n",
    "\n",
    "For this exercise, each graph is represented by two CSV files. One containing information about the **nodes** and the other about the **edges**. To indicate that both files correspond to the same graph, their names include the same number of nodes. For example:\n",
    "\n",
    "- `dataset_30_nodes_proteins.csv`: contains 30 rows (nodes).\n",
    "- `dataset_30_edges_interactions.csv`: contains 47 rows (edges).\n",
    "\n",
    "We reference each CSV file or dataset as follows:"
   ]
  },
  {
   "cell_type": "code",
   "execution_count": 4,
   "id": "e64420dc-f34c-45e1-bb46-20d0f189dfa7",
   "metadata": {},
   "outputs": [],
   "source": [
    "filename_nodes = \"dataset_30_nodes_proteins.csv\"\n",
    "filename_edges = \"dataset_30_edges_interactions.csv\"\n",
    "\n",
    "# FILE_PATH_DATASETS = \"../../../DATASETS\"\n",
    "FILE_PATH_DATASETS = \"../data_examples\""
   ]
  },
  {
   "cell_type": "markdown",
   "id": "f244186f-71c5-48ca-bf8f-14a83c2cdf30",
   "metadata": {},
   "source": [
    "### 1.1: Load Nodes\n",
    "\n",
    "The CSV file for nodes contains three columns:\n",
    "- `UniProt ID`\n",
    "- `label`\n",
    "- `properties`\n",
    "\n",
    "We are going to load the information of nodes as a **list of tuples**. Each tuple represents a node with the structure:\n",
    "- `(id, label, properties)`\n",
    "- Each field in the tuple is a `string`\n",
    "- The `properties` field is a string containing a dictionary of properties."
   ]
  },
  {
   "cell_type": "code",
   "execution_count": 5,
   "id": "edaf1988-c2ae-455d-aeca-9f8931f758fc",
   "metadata": {},
   "outputs": [],
   "source": [
    "file_path_nodes = os.path.join(FILE_PATH_DATASETS, filename_nodes)\n",
    "\n",
    "list_nodes = [node for node in load_csv_generator(file_path_nodes, header=True)]"
   ]
  },
  {
   "cell_type": "code",
   "execution_count": 6,
   "id": "cf6487ac-fe16-4fed-baa6-3bc5ae496bf6",
   "metadata": {},
   "outputs": [
    {
     "name": "stdout",
     "output_type": "stream",
     "text": [
      "The list of NODES contains: 30 nodes\n",
      "Example:\n",
      "\t('G0P1I0', 'uniprot_protein', \"{'sequence': 'QKRTLFKVEFGSMSWFYKHRTNMHLRTMMYD', 'description': 'Lorem ipsum ilymp', 'taxon': '7813'}\")\n"
     ]
    }
   ],
   "source": [
    "print(\"The list of NODES contains: {} nodes\".format(len(list_nodes)))\n",
    "print(\"Example:\\n\\t{}\".format(list_nodes[0]))"
   ]
  },
  {
   "cell_type": "markdown",
   "id": "776fef58-693f-4fbe-b502-bf12d3f76509",
   "metadata": {},
   "source": [
    "### 1.2: Load Edges\n",
    "\n",
    "The CSV file for edges contains five columns:\n",
    "- `Relation ID`\n",
    "- `Source ID`\n",
    "- `Target ID`\n",
    "- `label`\n",
    "- `properties`\n",
    "\n",
    "We are going to load the information of edges as a list of tuples. Each tuple represents a node with thethe structure:\n",
    "- `(id, source, target, label, properties)`\n",
    "- Each field in the tuple is a `string`\n",
    "- The `properties` field is string containing a dictionary of properties."
   ]
  },
  {
   "cell_type": "code",
   "execution_count": 7,
   "id": "eec6ad23-e6a3-4668-ba1f-c4a1fe5b0b3a",
   "metadata": {},
   "outputs": [],
   "source": [
    "file_path_edges = os.path.join(FILE_PATH_DATASETS, filename_edges)\n",
    "\n",
    "list_edges = [edge for edge in load_csv_generator(file_path_edges, header=True)]"
   ]
  },
  {
   "cell_type": "code",
   "execution_count": 8,
   "id": "0c01180d-bfb6-46dc-b4d0-9ddee33a257b",
   "metadata": {},
   "outputs": [
    {
     "name": "stdout",
     "output_type": "stream",
     "text": [
      "The list of EDGES contains: 47 edges\n",
      "Example:\n",
      "\n",
      "\t('', 'B6V6V7', 'H9R6K5', 'interacts_with', \"{'source': 'signor'}\")\n",
      "\t('', 'B6V6V7', 'I5X3I2', 'interacts_with', \"{'method': 'Lorem ipsum pblfc'}\")\n",
      "\t('', '385603', 'H9R6K5', 'interacts_with', \"{'source': 'intact', 'method': 'Lorem ipsum nbqvj'}\")\n",
      "\t('', '385603', 'I9A3P8', 'interacts_with', '{}')\n",
      "\t('', 'L3V2Y6', 'X0C9T5', 'interacts_with', \"{'source': 'intact', 'method': 'Lorem ipsum zwhrq'}\")\n",
      "\t('intact956331', 'L3V2Y6', 'Y8Y3K0', 'interacts_with', \"{'source': 'signor'}\")\n"
     ]
    }
   ],
   "source": [
    "print(\"The list of EDGES contains: {} edges\".format(len(list_edges)))\n",
    "print(\"Example:\\n\")\n",
    "for edge in list_edges[0:6]:\n",
    "    print(\"\\t{}\".format(edge))"
   ]
  },
  {
   "cell_type": "code",
   "execution_count": null,
   "id": "82c565ab-ea69-4266-9be6-20d5f8743ed5",
   "metadata": {},
   "outputs": [],
   "source": []
  },
  {
   "cell_type": "markdown",
   "id": "cca66399-2b2a-4234-b17f-1d7c9adaa09f",
   "metadata": {},
   "source": [
    "## Section 2: Create Data Pipeline\n",
    "\n",
    "- **input:** CSV data of edges\n",
    "- **output:** Numpy array containing information of edges\n",
    "\n",
    "The pipeline consist of three consecutive stages:\n",
    "\n",
    "| Stage | Function                      | Description |\n",
    "|-------|-------------------------------| ----------- |\n",
    "| 1     | `load_csv_generator()`           | read the csv and load the information in memory    |\n",
    "| 2     | `edges_generator_streaming()` | transform the tuples to desired format             |\n",
    "| 3     | `create_numpy_array_edges()`  | create a Numpy array containing all the tuples     |"
   ]
  },
  {
   "cell_type": "markdown",
   "id": "4f51a9de-0519-46f6-af7f-a90b6043734f",
   "metadata": {},
   "source": [
    "### 2.1 Create Numpy Array (data structure)"
   ]
  },
  {
   "cell_type": "code",
   "execution_count": 9,
   "id": "62d32e91-d2c8-4c50-8134-6f6301c08dd7",
   "metadata": {},
   "outputs": [],
   "source": [
    "nodes_array, edges_array = create_arrays()"
   ]
  },
  {
   "cell_type": "code",
   "execution_count": 10,
   "id": "7b4bd85b-0a52-45da-9007-4f11968c0f2f",
   "metadata": {},
   "outputs": [
    {
     "name": "stdout",
     "output_type": "stream",
     "text": [
      "Dimension array: (30, 3)\n",
      "Type: <class 'numpy.ndarray'>\n",
      "Example: \n",
      "\t\n",
      "['G0P1I0' 'uniprot_protein'\n",
      " \"{'sequence': 'QKRTLFKVEFGSMSWFYKHRTNMHLRTMMYD', 'description': 'Lorem ipsum ilymp', 'taxon': '7813'}\"]\n",
      "['B6V6V7' 'uniprot_isoform'\n",
      " \"{'sequence': 'CGLGLSMRFLMVGVQNWFWYGTRVPDVAYIDWHEYQHQPRVLMQNGN', 'description': 'Lorem ipsum kxujk', 'taxon': '4800'}\"]\n",
      "['385603' 'entrez_protein'\n",
      " \"{'sequence': 'EHYTERRSMRSTGQDKTSNPYLFFHITRFKRCPANQVKPWFMVLHKYEW', 'description': 'Lorem ipsum ufuuy', 'taxon': '9606'}\"]\n",
      "['L3V2Y6' 'uniprot_protein'\n",
      " \"{'sequence': 'EGYPSHLLDVESFMSHNWTPWIFKCDARLC', 'description': 'Lorem ipsum yueos', 'taxon': '3342', 'mass': 73}\"]\n",
      "['Q1R3N5' 'uniprot_isoform'\n",
      " \"{'sequence': 'IVHIKHTTQLGAIIQRNFQVGWCHVG', 'description': 'Lorem ipsum xyked', 'taxon': '5672', 'mass': 7347}\"]\n"
     ]
    }
   ],
   "source": [
    "print(\"Dimension array: {}\".format(nodes_array.shape))\n",
    "print(f\"Type: {type(nodes_array)}\")\n",
    "\n",
    "nodes_examples = nodes_array[0:5]\n",
    "\n",
    "print(\"Example: \\n\\t\")\n",
    "for node in nodes_examples:\n",
    "    print(node)"
   ]
  },
  {
   "cell_type": "code",
   "execution_count": 11,
   "id": "e2eb3852-4b69-45ef-836c-bb8be3604e69",
   "metadata": {},
   "outputs": [
    {
     "name": "stdout",
     "output_type": "stream",
     "text": [
      "Dimension array: (47, 5)\n",
      "Type: <class 'numpy.ndarray'>\n",
      "Example: \n",
      "\t\n",
      "['' 'B6V6V7' 'H9R6K5' 'interacts_with' \"{'source': 'signor'}\"]\n",
      "['' 'B6V6V7' 'I5X3I2' 'interacts_with' \"{'method': 'Lorem ipsum pblfc'}\"]\n",
      "['' '385603' 'H9R6K5' 'interacts_with'\n",
      " \"{'source': 'intact', 'method': 'Lorem ipsum nbqvj'}\"]\n",
      "['' '385603' 'I9A3P8' 'interacts_with' '{}']\n",
      "['' 'L3V2Y6' 'X0C9T5' 'interacts_with'\n",
      " \"{'source': 'intact', 'method': 'Lorem ipsum zwhrq'}\"]\n"
     ]
    }
   ],
   "source": [
    "print(\"Dimension array: {}\".format(edges_array.shape))\n",
    "print(f\"Type: {type(edges_array)}\")\n",
    "\n",
    "edges_examples = edges_array[0:5]\n",
    "\n",
    "print(\"Example: \\n\\t\")\n",
    "for edge in edges_examples:\n",
    "    print(edge)"
   ]
  },
  {
   "cell_type": "code",
   "execution_count": null,
   "id": "6662d58b-5659-4eb5-83ee-1c2290d28f9b",
   "metadata": {},
   "outputs": [],
   "source": []
  },
  {
   "cell_type": "code",
   "execution_count": null,
   "id": "43d5f254-e4ad-4489-b465-2a6388ac46d5",
   "metadata": {},
   "outputs": [],
   "source": []
  },
  {
   "cell_type": "markdown",
   "id": "ff55d01d-0419-41e9-bb17-bb401daf995c",
   "metadata": {},
   "source": [
    "## Section 3: Converting to Networkx graph"
   ]
  },
  {
   "cell_type": "code",
   "execution_count": 12,
   "id": "26b05eca-cda5-4816-b2d1-bd5d5ac46a3b",
   "metadata": {},
   "outputs": [
    {
     "name": "stdout",
     "output_type": "stream",
     "text": [
      "Graph G doesn't exist\n"
     ]
    }
   ],
   "source": [
    "try:\n",
    "    G.clear()\n",
    "    print(\"Graph has been cleared!\")\n",
    "except:\n",
    "    print(\"Graph G doesn't exist\")"
   ]
  },
  {
   "cell_type": "markdown",
   "id": "a6a45f4e-0788-4475-89f0-4eded29a535b",
   "metadata": {},
   "source": [
    "### 3.1 Create a Directed Graph"
   ]
  },
  {
   "cell_type": "code",
   "execution_count": 14,
   "id": "9cf2e5c5-6585-43df-ad9c-91df21b1c5b7",
   "metadata": {},
   "outputs": [],
   "source": [
    "G = networkx_graph_from_nparrays(nodes_array=to_networkx_nodes_format(nodes_array),\n",
    "                                 edges_array=to_networkx_edges_format(edges_array),\n",
    "                                 graph_type=nx.DiGraph()\n",
    "                                )"
   ]
  },
  {
   "cell_type": "markdown",
   "id": "b5738400-e25f-4111-92dc-feb107a15731",
   "metadata": {},
   "source": [
    "### 3.3 Draw Graph"
   ]
  },
  {
   "cell_type": "code",
   "execution_count": 15,
   "id": "5fe924bc-d677-46ed-919a-5c84d941f382",
   "metadata": {},
   "outputs": [
    {
     "data": {
      "image/png": "[encoded data removed]",
      "text/plain": [
       "<Figure size 640x480 with 1 Axes>"
      ]
     },
     "metadata": {},
     "output_type": "display_data"
    }
   ],
   "source": [
    "nx.draw(G, with_labels=True)"
   ]
  },
  {
   "cell_type": "markdown",
   "id": "228ef13f-c401-455c-ab4c-07eb890a990a",
   "metadata": {},
   "source": [
    "### 3.4 Some statistics"
   ]
  },
  {
   "cell_type": "code",
   "execution_count": 16,
   "id": "79feb05e-09d2-4d07-9a34-ebe4bec15bfb",
   "metadata": {},
   "outputs": [
    {
     "name": "stdout",
     "output_type": "stream",
     "text": [
      "Number of nodes: 30\n",
      "Number of edges: 47\n"
     ]
    }
   ],
   "source": [
    "print(\"Number of nodes: {}\".format(G.number_of_nodes()))\n",
    "print(\"Number of edges: {}\".format(G.number_of_edges()))"
   ]
  },
  {
   "cell_type": "code",
   "execution_count": 17,
   "id": "55ce79e5-b377-4cac-a8fc-492addcac9f8",
   "metadata": {},
   "outputs": [
    {
     "name": "stdout",
     "output_type": "stream",
     "text": [
      "(np.str_('B6V6V7'), np.str_('H9R6K5'), {'source': 'signor', 'edge_id': np.str_(''), 'edge_label': np.str_('interacts_with')})\n",
      "(np.str_('B6V6V7'), np.str_('I5X3I2'), {'method': 'Lorem ipsum pblfc', 'edge_id': np.str_(''), 'edge_label': np.str_('interacts_with')})\n",
      "(np.str_('H9R6K5'), np.str_('E8I0O8'), {'edge_id': np.str_('intact277910'), 'edge_label': np.str_('interacts_with')})\n",
      "(np.str_('I5X3I2'), np.str_('D4X6C4'), {'source': 'intact', 'method': 'Lorem ipsum iiozd', 'edge_id': np.str_(''), 'edge_label': np.str_('interacts_with')})\n",
      "(np.str_('I5X3I2'), np.str_('T9Z8Y0'), {'method': 'Lorem ipsum gconp', 'edge_id': np.str_('intact994853'), 'edge_label': np.str_('interacts_with')})\n"
     ]
    }
   ],
   "source": [
    "limit = 5\n",
    "for index, edge in enumerate(G.edges(data=True)):\n",
    "    if index >=5:\n",
    "        break\n",
    "    print(edge)"
   ]
  },
  {
   "cell_type": "code",
   "execution_count": 18,
   "id": "110e9f4d-2665-4e38-8ab0-97a967081cd9",
   "metadata": {},
   "outputs": [
    {
     "name": "stdout",
     "output_type": "stream",
     "text": [
      "(np.str_('B6V6V7'), {'sequence': 'CGLGLSMRFLMVGVQNWFWYGTRVPDVAYIDWHEYQHQPRVLMQNGN', 'description': 'Lorem ipsum kxujk', 'taxon': '4800', 'node_label': np.str_('uniprot_isoform')})\n",
      "(np.str_('H9R6K5'), {'sequence': 'CEDNSRWWHWPVKIAHININCSKACCENTSLATLTARSTLC', 'description': 'Lorem ipsum fdrbm', 'taxon': '7576', 'mass': 9671, 'node_label': np.str_('uniprot_isoform')})\n",
      "(np.str_('I5X3I2'), {'sequence': 'WSAAEAGGAELALDFWLVASRKKYGMLQVT', 'description': 'Lorem ipsum ddbvb', 'taxon': '4186', 'node_label': np.str_('uniprot_isoform')})\n",
      "(np.str_('385603'), {'sequence': 'EHYTERRSMRSTGQDKTSNPYLFFHITRFKRCPANQVKPWFMVLHKYEW', 'description': 'Lorem ipsum ufuuy', 'taxon': '9606', 'node_label': np.str_('entrez_protein')})\n",
      "(np.str_('I9A3P8'), {'sequence': 'YMSEGKWSIWIINMMLMHAQNLHVALIIVVY', 'description': 'Lorem ipsum dbhcg', 'taxon': '1230', 'mass': 6364, 'node_label': np.str_('uniprot_protein')})\n"
     ]
    }
   ],
   "source": [
    "limit = 5\n",
    "for index, node in enumerate(G.nodes(data=True)):\n",
    "    if index >=5:\n",
    "        break\n",
    "    print(node)"
   ]
  },
  {
   "cell_type": "code",
   "execution_count": null,
   "id": "e08b6a61-a9bf-4c31-b206-8cd49c626a90",
   "metadata": {},
   "outputs": [],
   "source": []
  },
  {
   "cell_type": "code",
   "execution_count": null,
   "id": "e67315d5-d1de-459b-a03b-df4cece6661d",
   "metadata": {},
   "outputs": [],
   "source": []
  }
 ],
 "metadata": {
  "kernelspec": {
   "display_name": "Python 3 (ipykernel)",
   "language": "python",
   "name": "python3"
  },
  "language_info": {
   "codemirror_mode": {
    "name": "ipython",
    "version": 3
   },
   "file_extension": ".py",
   "mimetype": "text/x-python",
   "name": "python",
   "nbconvert_exporter": "python",
   "pygments_lexer": "ipython3",
   "version": "3.10.14"
  }
 },
 "nbformat": 4,
 "nbformat_minor": 5
}
