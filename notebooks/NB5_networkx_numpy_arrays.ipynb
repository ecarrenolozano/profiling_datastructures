{
 "cells": [
  {
   "cell_type": "markdown",
   "id": "35f519fb-c112-4978-ac8c-266aea978bcf",
   "metadata": {},
   "source": [
    "# Experiment 5: Numpy Arrays as data structure for Graphs"
   ]
  },
  {
   "cell_type": "markdown",
   "id": "13ed58ee-4486-4cfd-bad3-05c4d1c81e1f",
   "metadata": {},
   "source": [
    "[//]: # (------------------------------------------    DO NOT MODIFY THIS    ------------------------------------------)\n",
    "<style type=\"text/css\">\n",
    ".tg  {border-collapse:collapse;\n",
    "      border-spacing:0;\n",
    "     }\n",
    ".tg td{border-color:black;\n",
    "       border-style:solid;\n",
    "       border-width:1px;\n",
    "       font-family:Arial, sans-serif;\n",
    "       font-size:14px;\n",
    "       overflow:hidden;\n",
    "       padding:10px 5px;\n",
    "       word-break:normal;\n",
    "      }\n",
    ".tg th{border-color:black;\n",
    "       border-style:solid;\n",
    "       border-width:1px;\n",
    "       font-family:Arial, sans-serif;\n",
    "       font-size:14px;\n",
    "       font-weight:normal;\n",
    "       overflow:hidden;\n",
    "       padding:10px 5px;\n",
    "       word-break:normal;\n",
    "      }\n",
    ".tg .tg-fymr{border-color:inherit;\n",
    "             font-weight:bold;\n",
    "             text-align:left;\n",
    "             vertical-align:top\n",
    "            }\n",
    ".tg .tg-0pky{border-color:inherit;\n",
    "             text-align:left;\n",
    "             vertical-align:top\n",
    "            }\n",
    "[//]: # (--------------------------------------------------------------------------------------------------------------)\n",
    "\n",
    "[//]: # (-------------------------------------    FILL THIS OUT WITH YOUR DATA    -------------------------------------)\n",
    "</style>\n",
    "<table class=\"tg\">\n",
    "    <tbody>\n",
    "      <tr>\n",
    "        <td class=\"tg-fymr\" style=\"font-weight: bold\">Title:</td>\n",
    "        <td class=\"tg-0pky\">Experiment 5: Numpy Arrays as data structure for Graphs</td>\n",
    "      </tr>\n",
    "      <tr>\n",
    "        <td class=\"tg-fymr\" style=\"font-weight: bold\">Authors:</td>\n",
    "        <td class=\"tg-0pky\">\n",
    "            <a href=\"https://github.com/ecarrenolozano\" target=\"_blank\" rel=\"noopener noreferrer\">Edwin Carreño</a>\n",
    "        </td>\n",
    "      </tr>\n",
    "      <tr>\n",
    "        <td class=\"tg-fymr\" style=\"font-weight: bold\">Affiliations:</td>\n",
    "        <td class=\"tg-0pky\">\n",
    "            <a href=\"https://www.ssc.uni-heidelberg.de/en\" target=\"_blank\" rel=\"noopener noreferrer\">Scientific Software Center</a>\n",
    "        </td>\n",
    "      </tr>\n",
    "      <tr>\n",
    "        <td class=\"tg-fymr\" style=\"font-weight: bold\">Date Created:</td>\n",
    "        <td class=\"tg-0pky\">30.10.2024</td>\n",
    "      </tr>\n",
    "      <tr>\n",
    "        <td class=\"tg-fymr\" style=\"font-weight: bold\">Description:</td>\n",
    "        <td class=\"tg-0pky\">Creation of a graph using numpy arrays and data from CSV files. Conversion to NetworkX is tested too.</td>\n",
    "      </tr>\n",
    "    </tbody>\n",
    "</table>\n",
    "\n",
    "[//]: # (--------------------------------------------------------------------------------------------------------------)"
   ]
  },
  {
   "cell_type": "markdown",
   "id": "c32de8e4-efd1-457d-a22d-49aad0ae7474",
   "metadata": {},
   "source": [
    "<table class=\"tfo-notebook-buttons\" align=\"left\">\n",
    "  <td>\n",
    "    <a target=\"_blank\" href=\"https://colab.research.google.com/github/tensorflow/docs/blob/master/site/en/tutorials/quickstart/beginner.ipynb\"><img src=\"https://www.tensorflow.org/images/colab_logo_32px.png\" />Run in Google Colab</a>\n",
    "  </td>\n",
    "  <td>\n",
    "    <a target=\"_blank\" href=\"https://github.com/tensorflow/docs/blob/master/site/en/tutorials/quickstart/beginner.ipynb\"><img src=\"https://www.tensorflow.org/images/GitHub-Mark-32px.png\" />View source on GitHub</a>\n",
    "  </td>  \n",
    "</table>"
   ]
  },
  {
   "cell_type": "markdown",
   "id": "084484b1-73d6-42ae-a1a3-f3c2476f33e8",
   "metadata": {},
   "source": [
    "## Overview"
   ]
  },
  {
   "cell_type": "markdown",
   "id": "7e7c9a52-bd7f-4832-851b-bd8a2c78fd89",
   "metadata": {},
   "source": [
    "In this notebook we are going to:\n",
    "\n",
    "1. Import CSV (comma-separated values) data from nodes and edges.\n",
    "2. Describe the data from CSVs.\n",
    "3. Create a data pipeline that:\n",
    "   - load csv data\n",
    "   - convert the data from edges into a Numpy Array (data structure).\n",
    "4. Create a NetworkX graph from the Numpy array that contains information about edges."
   ]
  },
  {
   "cell_type": "markdown",
   "id": "3bfa44b7-26bb-494d-8a98-14a00d9df0a0",
   "metadata": {},
   "source": [
    "## Setup (if required)"
   ]
  },
  {
   "cell_type": "markdown",
   "id": "d5df3507-ea9f-417d-ad92-4c5106eeb501",
   "metadata": {},
   "source": [
    "If your code require to install dependencies before your main code, please add the commands to install the dependencies. You can silence the messages returned by `pip` the flag `-q`, i.e. `pip install pandas -q`"
   ]
  },
  {
   "cell_type": "markdown",
   "id": "3fd5b238-c57d-4c8d-ba87-df7ccd1d8219",
   "metadata": {},
   "source": [
    "### NetworkX installation"
   ]
  },
  {
   "cell_type": "code",
   "execution_count": 1,
   "id": "fa16f58a-0862-4d29-9ca9-1dfe6f3f1a47",
   "metadata": {},
   "outputs": [],
   "source": [
    "!pip install networkx[default] -q"
   ]
  },
  {
   "cell_type": "markdown",
   "id": "8fae0a05-5496-414a-b70e-1048f091a5df",
   "metadata": {},
   "source": [
    "## Importing Libraries"
   ]
  },
  {
   "cell_type": "code",
   "execution_count": 2,
   "id": "92018775-64da-4945-833f-48f6de0c067e",
   "metadata": {},
   "outputs": [],
   "source": [
    "\"\"\"\n",
    "Recommendations:\n",
    "    - Respect the order of the imports, they are indicated by the numbers 1, 2, 3.\n",
    "    - One import per line is recommended, with this we can track easily any modified line when we use git.\n",
    "    - Absolute imports are recommended (see 3. Local application/library specific imports below), they improve readability and give better error messages.\n",
    "    - You should put a blank line between each group of imports.\n",
    "\"\"\"\n",
    "\n",
    "# future-imports (for instance: from __future__ import barry_as_FLUFL)\n",
    "# from __future__ import barry_as_FLUFL  \n",
    "\n",
    "# 1. Standard library imports\n",
    "import ast\n",
    "import csv\n",
    "import os\n",
    "\n",
    "# 2. Related third party imports\n",
    "import networkx as nx\n",
    "import numpy as np\n",
    "\n",
    "# 3. Local application/library specific imports\n",
    "# import <mypackage>.<MyClass>         # this is an example\n",
    "# from <mypackage> import <MyClass>    # this is another example "
   ]
  },
  {
   "cell_type": "markdown",
   "id": "b0ab5494-98ae-42ed-816f-6f483801d0a5",
   "metadata": {},
   "source": [
    "## Helper Functions"
   ]
  },
  {
   "cell_type": "code",
   "execution_count": 21,
   "id": "3d68de39-0590-47ac-bce4-37392681a8b2",
   "metadata": {},
   "outputs": [],
   "source": [
    "def create_numpy_array_edges(iterable):\n",
    "    return np.array([edge for edge in iterable])\n",
    "\n",
    "def edges_generator_streaming(list_edges):\n",
    "    for edge in list_edges:\n",
    "\n",
    "        # Original format\n",
    "        #  (id, source node, target node, label, properties)\n",
    "        \n",
    "        # Desired format\n",
    "        #  (source node, target node, properties)\n",
    "\n",
    "        edge_source = edge[1]\n",
    "        edge_target = edge[2]\n",
    "        properties = ast.literal_eval(edge[4])\n",
    "        properties[\"id\"] = edge[0]\n",
    "        properties[\"label\"] = edge[3]\n",
    "        \n",
    "        #dict_prop = {\"id\":edge[0],\n",
    "        #            \"label\":edge[3],\n",
    "        #            \"properties\":edge[4\n",
    "        #            }\n",
    "        yield(\n",
    "            edge_source,\n",
    "            edge_target,\n",
    "            properties\n",
    "            #dict_prop\n",
    "        )\n",
    "\n",
    "def load_csv_module(filepath, header=True):\n",
    "    list_rows = []\n",
    "    with open(filepath, 'r') as file:\n",
    "        reader = csv.reader(file)\n",
    "        for row in reader:\n",
    "            if header: # Skip first row when header exists\n",
    "                header = False\n",
    "                continue\n",
    "\n",
    "            row = [field.strip() for field in row]\n",
    "            list_rows.append(tuple(row))  # Add each row to the list\n",
    "            \n",
    "    return list_rows"
   ]
  },
  {
   "cell_type": "markdown",
   "id": "f6f0ab58-836c-467c-bd5f-157a2284b68e",
   "metadata": {},
   "source": [
    "## Introduction"
   ]
  },
  {
   "cell_type": "code",
   "execution_count": null,
   "id": "99dcfe3d-3eb8-4aef-8be0-414bc770dc3c",
   "metadata": {},
   "outputs": [],
   "source": []
  },
  {
   "cell_type": "code",
   "execution_count": null,
   "id": "2081a8da-dd1b-45da-9f0a-780aee3dc665",
   "metadata": {},
   "outputs": [],
   "source": []
  },
  {
   "cell_type": "markdown",
   "id": "c946ef70-0a97-480a-a968-af258debaa18",
   "metadata": {},
   "source": [
    "## Section 1: Load the CSV data that contains nodes and edges"
   ]
  },
  {
   "cell_type": "markdown",
   "id": "a3e440d7-a30e-4019-bff9-4b0b115de04d",
   "metadata": {},
   "source": [
    "## Section 1: Load the CSV data that contains nodes and edges\n",
    "\n",
    "For this exercise, each graph is represented by two CSV files. One containing information about the **nodes** and the other about the **edges**. To indicate that both files correspond to the same graph, their names include the same number of nodes. For example:\n",
    "\n",
    "- `dataset_30_nodes_proteins.csv`: contains 30 rows (nodes).\n",
    "- `dataset_30_edges_interactions.csv`: contains 47 rows (edges).\n",
    "\n",
    "We reference each CSV file or dataset as follows:"
   ]
  },
  {
   "cell_type": "code",
   "execution_count": 4,
   "id": "e64420dc-f34c-45e1-bb46-20d0f189dfa7",
   "metadata": {},
   "outputs": [],
   "source": [
    "filename_nodes = \"dataset_30_nodes_proteins.csv\"\n",
    "filename_edges = \"dataset_30_edges_interactions.csv\""
   ]
  },
  {
   "cell_type": "markdown",
   "id": "f244186f-71c5-48ca-bf8f-14a83c2cdf30",
   "metadata": {},
   "source": [
    "### 1.1: Load Nodes\n",
    "\n",
    "The CSV file for nodes contains three columns:\n",
    "- `UniProt ID`\n",
    "- `label`\n",
    "- `properties`\n",
    "\n",
    "We are going to load the information of nodes as a **list of tuples**. Each tuple represents a node with the structure:\n",
    "- `(id, label, properties)`\n",
    "- Each field in the tuple is a `string`\n",
    "- The `properties` field is a string containing a dictionary of properties."
   ]
  },
  {
   "cell_type": "code",
   "execution_count": 22,
   "id": "edaf1988-c2ae-455d-aeca-9f8931f758fc",
   "metadata": {},
   "outputs": [],
   "source": [
    "filepath_nodes = os.path.join(\"./datasets\", filename_nodes)\n",
    "\n",
    "list_nodes = load_csv_module(filepath_nodes, header=True)"
   ]
  },
  {
   "cell_type": "code",
   "execution_count": 23,
   "id": "cf6487ac-fe16-4fed-baa6-3bc5ae496bf6",
   "metadata": {},
   "outputs": [
    {
     "name": "stdout",
     "output_type": "stream",
     "text": [
      "The list of NODES contains: 30 nodes\n",
      "Example:\n",
      "\t('G0P1I0', 'uniprot_protein', \"{'sequence': 'QKRTLFKVEFGSMSWFYKHRTNMHLRTMMYD', 'description': 'Lorem ipsum ilymp', 'taxon': '7813'}\")\n"
     ]
    }
   ],
   "source": [
    "print(\"The list of NODES contains: {} nodes\".format(len(list_nodes)))\n",
    "print(\"Example:\\n\\t{}\".format(list_nodes[0]))"
   ]
  },
  {
   "cell_type": "markdown",
   "id": "776fef58-693f-4fbe-b502-bf12d3f76509",
   "metadata": {},
   "source": [
    "### 1.2: Load Edges\n",
    "\n",
    "The CSV file for edges contains five columns:\n",
    "- `Relation ID`\n",
    "- `Source ID`\n",
    "- `Target ID`\n",
    "- `label`\n",
    "- `properties`\n",
    "\n",
    "We are going to load the information of edges as a list of tuples. Each tuple represents a node with thethe structure:\n",
    "- `(id, source, target, label, properties)`\n",
    "- Each field in the tuple is a `string`\n",
    "- The `properties` field is string containing a dictionary of properties."
   ]
  },
  {
   "cell_type": "code",
   "execution_count": 24,
   "id": "eec6ad23-e6a3-4668-ba1f-c4a1fe5b0b3a",
   "metadata": {},
   "outputs": [],
   "source": [
    "filepath_edges = os.path.join(\"./datasets\", filename_edges)\n",
    "\n",
    "list_edges = load_csv_module(filepath_edges, header=True)"
   ]
  },
  {
   "cell_type": "code",
   "execution_count": 25,
   "id": "0c01180d-bfb6-46dc-b4d0-9ddee33a257b",
   "metadata": {},
   "outputs": [
    {
     "name": "stdout",
     "output_type": "stream",
     "text": [
      "The list of EDGES contains: 47 edges\n",
      "Example:\n",
      "\n",
      "\t('', 'B6V6V7', 'H9R6K5', 'interacts_with', \"{'source': 'signor'}\")\n",
      "\t('', 'B6V6V7', 'I5X3I2', 'interacts_with', \"{'method': 'Lorem ipsum pblfc'}\")\n",
      "\t('', '385603', 'H9R6K5', 'interacts_with', \"{'source': 'intact', 'method': 'Lorem ipsum nbqvj'}\")\n",
      "\t('', '385603', 'I9A3P8', 'interacts_with', '{}')\n",
      "\t('', 'L3V2Y6', 'X0C9T5', 'interacts_with', \"{'source': 'intact', 'method': 'Lorem ipsum zwhrq'}\")\n",
      "\t('intact956331', 'L3V2Y6', 'Y8Y3K0', 'interacts_with', \"{'source': 'signor'}\")\n"
     ]
    }
   ],
   "source": [
    "print(\"The list of EDGES contains: {} edges\".format(len(list_edges)))\n",
    "print(\"Example:\\n\")\n",
    "for edge in list_edges[0:6]:\n",
    "    print(\"\\t{}\".format(edge))"
   ]
  },
  {
   "cell_type": "code",
   "execution_count": null,
   "id": "82c565ab-ea69-4266-9be6-20d5f8743ed5",
   "metadata": {},
   "outputs": [],
   "source": []
  },
  {
   "cell_type": "markdown",
   "id": "cca66399-2b2a-4234-b17f-1d7c9adaa09f",
   "metadata": {},
   "source": [
    "## Section 2: Create Data Pipeline\n",
    "\n",
    "- **input:** CSV data of edges\n",
    "- **output:** Numpy array containing information of edges\n",
    "\n",
    "The pipeline consist of three consecutive stages:\n",
    "\n",
    "| Stage | Function                      | Description |\n",
    "|-------|-------------------------------| ----------- |\n",
    "| 1     | `load_csv_module()`           | read the csv and load the information in memory    |\n",
    "| 2     | `edges_generator_streaming()` | transform the tuples to desired format             |\n",
    "| 3     | `create_numpy_array_edges()`  | create a Numpy array containing all the tuples     |"
   ]
  },
  {
   "cell_type": "markdown",
   "id": "4f51a9de-0519-46f6-af7f-a90b6043734f",
   "metadata": {},
   "source": [
    "### 2.1 Create Numpy Array (data structure)"
   ]
  },
  {
   "cell_type": "code",
   "execution_count": 26,
   "id": "fe42a80d-c217-4555-aa0e-b49399ccacfd",
   "metadata": {},
   "outputs": [],
   "source": [
    "numpy_array_edges = create_numpy_array_edges(edges_generator_streaming(load_csv_module(filepath_edges, header=True)))"
   ]
  },
  {
   "cell_type": "code",
   "execution_count": 32,
   "id": "7b4bd85b-0a52-45da-9007-4f11968c0f2f",
   "metadata": {},
   "outputs": [
    {
     "name": "stdout",
     "output_type": "stream",
     "text": [
      "Dimension array: (47, 3)\n",
      "Type: <class 'numpy.ndarray'>\n"
     ]
    }
   ],
   "source": [
    "print(\"Dimension array: {}\".format(numpy_array_edges.shape))\n",
    "print(f\"Type: {type(numpy_array_edges)}\")"
   ]
  },
  {
   "cell_type": "code",
   "execution_count": 33,
   "id": "e2eb3852-4b69-45ef-836c-bb8be3604e69",
   "metadata": {},
   "outputs": [
    {
     "name": "stdout",
     "output_type": "stream",
     "text": [
      "Example: \n",
      "\t[['B6V6V7' 'H9R6K5'\n",
      "  {'source': 'signor', 'id': '', 'label': 'interacts_with'}]\n",
      " ['B6V6V7' 'I5X3I2'\n",
      "  {'method': 'Lorem ipsum pblfc', 'id': '', 'label': 'interacts_with'}]\n",
      " ['385603' 'H9R6K5'\n",
      "  {'source': 'intact', 'method': 'Lorem ipsum nbqvj', 'id': '', 'label': 'interacts_with'}]\n",
      " ['385603' 'I9A3P8' {'id': '', 'label': 'interacts_with'}]\n",
      " ['L3V2Y6' 'X0C9T5'\n",
      "  {'source': 'intact', 'method': 'Lorem ipsum zwhrq', 'id': '', 'label': 'interacts_with'}]]\n",
      "['B6V6V7' 'H9R6K5'\n",
      " {'source': 'signor', 'id': '', 'label': 'interacts_with'}]\n",
      "['B6V6V7' 'I5X3I2'\n",
      " {'method': 'Lorem ipsum pblfc', 'id': '', 'label': 'interacts_with'}]\n",
      "['385603' 'H9R6K5'\n",
      " {'source': 'intact', 'method': 'Lorem ipsum nbqvj', 'id': '', 'label': 'interacts_with'}]\n",
      "['385603' 'I9A3P8' {'id': '', 'label': 'interacts_with'}]\n",
      "['L3V2Y6' 'X0C9T5'\n",
      " {'source': 'intact', 'method': 'Lorem ipsum zwhrq', 'id': '', 'label': 'interacts_with'}]\n"
     ]
    }
   ],
   "source": [
    "edges_example = numpy_array_edges[0:5]\n",
    "print(\"Example: \\n\\t{}\".format(edge_example))\n",
    "for edge in edges_example:\n",
    "    print(edge)"
   ]
  },
  {
   "cell_type": "markdown",
   "id": "ff55d01d-0419-41e9-bb17-bb401daf995c",
   "metadata": {},
   "source": [
    "## Section 3: Converting to Networkx graph"
   ]
  },
  {
   "cell_type": "code",
   "execution_count": 3,
   "id": "26b05eca-cda5-4816-b2d1-bd5d5ac46a3b",
   "metadata": {},
   "outputs": [
    {
     "name": "stdout",
     "output_type": "stream",
     "text": [
      "Graph G doesn't exist\n"
     ]
    }
   ],
   "source": [
    "try:\n",
    "    G.clear()\n",
    "    print(\"Graph has been cleared!\")\n",
    "except:\n",
    "    print(\"Graph G doesn't exist\")"
   ]
  },
  {
   "cell_type": "markdown",
   "id": "a6a45f4e-0788-4475-89f0-4eded29a535b",
   "metadata": {},
   "source": [
    "### 3.1 Create a Directed Graph"
   ]
  },
  {
   "cell_type": "code",
   "execution_count": 4,
   "id": "c545e450-a95c-4c44-8958-88d7a4219ba5",
   "metadata": {},
   "outputs": [
    {
     "ename": "NameError",
     "evalue": "name 'nx' is not defined",
     "output_type": "error",
     "traceback": [
      "\u001b[0;31m---------------------------------------------------------------------------\u001b[0m",
      "\u001b[0;31mNameError\u001b[0m                                 Traceback (most recent call last)",
      "Cell \u001b[0;32mIn[4], line 1\u001b[0m\n\u001b[0;32m----> 1\u001b[0m G \u001b[38;5;241m=\u001b[39m \u001b[43mnx\u001b[49m\u001b[38;5;241m.\u001b[39mDiGraph()\n",
      "\u001b[0;31mNameError\u001b[0m: name 'nx' is not defined"
     ]
    }
   ],
   "source": [
    "G = nx.DiGraph()"
   ]
  },
  {
   "cell_type": "markdown",
   "id": "a9eb7faf-0e2f-4749-a2d8-c539db2217dc",
   "metadata": {},
   "source": [
    "### 3.2 Populate graph"
   ]
  },
  {
   "cell_type": "code",
   "execution_count": 37,
   "id": "39e90447-eb58-4af4-aca7-14c0a1761ece",
   "metadata": {},
   "outputs": [],
   "source": [
    "G.add_edges_from(numpy_array_edges)"
   ]
  },
  {
   "cell_type": "markdown",
   "id": "b5738400-e25f-4111-92dc-feb107a15731",
   "metadata": {},
   "source": [
    "### 3.3 Draw Graph"
   ]
  },
  {
   "cell_type": "code",
   "execution_count": 38,
   "id": "5fe924bc-d677-46ed-919a-5c84d941f382",
   "metadata": {},
   "outputs": [
    {
     "data": {
      "image/png": "[encoded data removed]",
      "text/plain": [
       "<Figure size 640x480 with 1 Axes>"
      ]
     },
     "metadata": {},
     "output_type": "display_data"
    }
   ],
   "source": [
    "nx.draw(G, with_labels=True)"
   ]
  },
  {
   "cell_type": "markdown",
   "id": "228ef13f-c401-455c-ab4c-07eb890a990a",
   "metadata": {},
   "source": [
    "### 3.4 Some statistics"
   ]
  },
  {
   "cell_type": "code",
   "execution_count": 39,
   "id": "79feb05e-09d2-4d07-9a34-ebe4bec15bfb",
   "metadata": {},
   "outputs": [
    {
     "name": "stdout",
     "output_type": "stream",
     "text": [
      "Number of nodes: 30\n",
      "Number of edges: 47\n"
     ]
    }
   ],
   "source": [
    "print(\"Number of nodes: {}\".format(G.number_of_nodes()))\n",
    "print(\"Number of edges: {}\".format(G.number_of_edges()))"
   ]
  },
  {
   "cell_type": "code",
   "execution_count": 40,
   "id": "55ce79e5-b377-4cac-a8fc-492addcac9f8",
   "metadata": {},
   "outputs": [
    {
     "name": "stdout",
     "output_type": "stream",
     "text": [
      "('B6V6V7', 'H9R6K5', {'source': 'signor', 'id': '', 'label': 'interacts_with'})\n",
      "('B6V6V7', 'I5X3I2', {'method': 'Lorem ipsum pblfc', 'id': '', 'label': 'interacts_with'})\n",
      "('H9R6K5', 'E8I0O8', {'id': 'intact277910', 'label': 'interacts_with'})\n",
      "('I5X3I2', 'D4X6C4', {'source': 'intact', 'method': 'Lorem ipsum iiozd', 'id': '', 'label': 'interacts_with'})\n",
      "('I5X3I2', 'T9Z8Y0', {'method': 'Lorem ipsum gconp', 'id': 'intact994853', 'label': 'interacts_with'})\n"
     ]
    }
   ],
   "source": [
    "limit = 5\n",
    "for index, edge in enumerate(G.edges(data=True)):\n",
    "    if index >=5:\n",
    "        break\n",
    "    print(edge)"
   ]
  },
  {
   "cell_type": "code",
   "execution_count": null,
   "id": "110e9f4d-2665-4e38-8ab0-97a967081cd9",
   "metadata": {},
   "outputs": [],
   "source": []
  },
  {
   "cell_type": "code",
   "execution_count": 2,
   "id": "afba79ee-d4f9-4abb-a600-6c77e5f24e18",
   "metadata": {},
   "outputs": [
    {
     "ename": "NameError",
     "evalue": "name 'G' is not defined",
     "output_type": "error",
     "traceback": [
      "\u001b[0;31m---------------------------------------------------------------------------\u001b[0m",
      "\u001b[0;31mNameError\u001b[0m                                 Traceback (most recent call last)",
      "Cell \u001b[0;32mIn[2], line 1\u001b[0m\n\u001b[0;32m----> 1\u001b[0m \u001b[43mG\u001b[49m\u001b[38;5;241m.\u001b[39madd_node(\u001b[38;5;124m\"\u001b[39m\u001b[38;5;124mI5X3I2\u001b[39m\u001b[38;5;124m\"\u001b[39m, {\u001b[38;5;124m'\u001b[39m\u001b[38;5;124msequence\u001b[39m\u001b[38;5;124m'\u001b[39m: \u001b[38;5;124m'\u001b[39m\u001b[38;5;124mWSAAEAGGAELALDFWLVASRKKYGMLQVT\u001b[39m\u001b[38;5;124m'\u001b[39m, \u001b[38;5;124m'\u001b[39m\u001b[38;5;124mdescription\u001b[39m\u001b[38;5;124m'\u001b[39m: \u001b[38;5;124m'\u001b[39m\u001b[38;5;124mLorem ipsum ddbvb\u001b[39m\u001b[38;5;124m'\u001b[39m, \u001b[38;5;124m'\u001b[39m\u001b[38;5;124mtaxon\u001b[39m\u001b[38;5;124m'\u001b[39m: \u001b[38;5;124m'\u001b[39m\u001b[38;5;124m4186\u001b[39m\u001b[38;5;124m'\u001b[39m})\n",
      "\u001b[0;31mNameError\u001b[0m: name 'G' is not defined"
     ]
    }
   ],
   "source": []
  },
  {
   "cell_type": "code",
   "execution_count": null,
   "id": "a61406e5-30b5-4226-8932-f7c9fc22d54c",
   "metadata": {},
   "outputs": [],
   "source": []
  },
  {
   "cell_type": "code",
   "execution_count": null,
   "id": "e08b6a61-a9bf-4c31-b206-8cd49c626a90",
   "metadata": {},
   "outputs": [],
   "source": []
  }
 ],
 "metadata": {
  "kernelspec": {
   "display_name": "Python 3 (ipykernel)",
   "language": "python",
   "name": "python3"
  },
  "language_info": {
   "codemirror_mode": {
    "name": "ipython",
    "version": 3
   },
   "file_extension": ".py",
   "mimetype": "text/x-python",
   "name": "python",
   "nbconvert_exporter": "python",
   "pygments_lexer": "ipython3",
   "version": "3.10.14"
  }
 },
 "nbformat": 4,
 "nbformat_minor": 5
}
