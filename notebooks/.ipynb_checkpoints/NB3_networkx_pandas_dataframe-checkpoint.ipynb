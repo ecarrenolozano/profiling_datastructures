{
 "cells": [
  {
   "cell_type": "markdown",
   "id": "c0de5ce9-181a-4b51-91b0-baea01d91cbc",
   "metadata": {},
   "source": [
    "# Experiment 3: Pandas Dataframes as data structures for Graphs"
   ]
  },
  {
   "cell_type": "markdown",
   "id": "3c952c33-0a33-4b38-8e5f-3a60e80e13c0",
   "metadata": {},
   "source": [
    "[//]: # (------------------------------------------    DO NOT MODIFY THIS    ------------------------------------------)\n",
    "<style type=\"text/css\">\n",
    ".tg  {border-collapse:collapse;\n",
    "      border-spacing:0;\n",
    "     }\n",
    ".tg td{border-color:black;\n",
    "       border-style:solid;\n",
    "       border-width:1px;\n",
    "       font-family:Arial, sans-serif;\n",
    "       font-size:14px;\n",
    "       overflow:hidden;\n",
    "       padding:10px 5px;\n",
    "       word-break:normal;\n",
    "      }\n",
    ".tg th{border-color:black;\n",
    "       border-style:solid;\n",
    "       border-width:1px;\n",
    "       font-family:Arial, sans-serif;\n",
    "       font-size:14px;\n",
    "       font-weight:normal;\n",
    "       overflow:hidden;\n",
    "       padding:10px 5px;\n",
    "       word-break:normal;\n",
    "      }\n",
    ".tg .tg-fymr{border-color:inherit;\n",
    "             font-weight:bold;\n",
    "             text-align:left;\n",
    "             vertical-align:top\n",
    "            }\n",
    ".tg .tg-0pky{border-color:inherit;\n",
    "             text-align:left;\n",
    "             vertical-align:top\n",
    "            }\n",
    "[//]: # (--------------------------------------------------------------------------------------------------------------)\n",
    "\n",
    "[//]: # (-------------------------------------    FILL THIS OUT WITH YOUR DATA    -------------------------------------)\n",
    "</style>\n",
    "<table class=\"tg\">\n",
    "    <tbody>\n",
    "      <tr>\n",
    "        <td class=\"tg-fymr\" style=\"font-weight: bold\">Title:</td>\n",
    "        <td class=\"tg-0pky\">Experiment 3: Pandas Dataframes as data structures for Graphs</td>\n",
    "      </tr>\n",
    "      <tr>\n",
    "        <td class=\"tg-fymr\" style=\"font-weight: bold\">Authors:</td>\n",
    "        <td class=\"tg-0pky\">\n",
    "            <a href=\"https://github.com/ecarrenolozano\" target=\"_blank\" rel=\"noopener noreferrer\">Edwin Carreño</a>\n",
    "        </td>\n",
    "      </tr>\n",
    "      <tr>\n",
    "        <td class=\"tg-fymr\" style=\"font-weight: bold\">Affiliations:</td>\n",
    "        <td class=\"tg-0pky\">\n",
    "            <a href=\"https://www.ssc.uni-heidelberg.de/en\" target=\"_blank\" rel=\"noopener noreferrer\">Scientific Software Center</a>\n",
    "        </td>\n",
    "      </tr>\n",
    "      <tr>\n",
    "        <td class=\"tg-fymr\" style=\"font-weight: bold\">Date Created:</td>\n",
    "        <td class=\"tg-0pky\">30.10.2024</td>\n",
    "      </tr>\n",
    "      <tr>\n",
    "        <td class=\"tg-fymr\" style=\"font-weight: bold\">Description:</td>\n",
    "        <td class=\"tg-0pky\">Creation of a graph using Pandas dataframes and data from CSV files. Conversion to NetworkX is tested too.</td>\n",
    "      </tr>\n",
    "    </tbody>\n",
    "</table>\n",
    "\n",
    "[//]: # (--------------------------------------------------------------------------------------------------------------)"
   ]
  },
  {
   "cell_type": "markdown",
   "id": "653757e8-0707-435f-a254-17e93a65df5e",
   "metadata": {},
   "source": [
    "<table class=\"tfo-notebook-buttons\" align=\"left\">\n",
    "  <td>\n",
    "    <a target=\"_blank\" href=\"https://colab.research.google.com/github/tensorflow/docs/blob/master/site/en/tutorials/quickstart/beginner.ipynb\"><img src=\"https://www.tensorflow.org/images/colab_logo_32px.png\" />Run in Google Colab</a>\n",
    "  </td>\n",
    "  <td>\n",
    "    <a target=\"_blank\" href=\"https://github.com/tensorflow/docs/blob/master/site/en/tutorials/quickstart/beginner.ipynb\"><img src=\"https://www.tensorflow.org/images/GitHub-Mark-32px.png\" />View source on GitHub</a>\n",
    "  </td>\n",
    "</table>"
   ]
  },
  {
   "cell_type": "markdown",
   "id": "7f88122b-bb84-4f8a-8e1f-1c7e352a82ff",
   "metadata": {},
   "source": [
    "## Overview"
   ]
  },
  {
   "cell_type": "markdown",
   "id": "21c7cb98-8b5b-4512-bff9-c28f828b9511",
   "metadata": {},
   "source": [
    "In this notebook we are going to:\n",
    "\n",
    "1. Import CSV data from nodes and edges.\n",
    "2. Describe the data from CSVs.\n",
    "3. Create a data pipeline that:\n",
    "   - load csv data as Pandas dataframes.\n",
    "4. Create a NetworkX graph from a Pandas dataframe that contains information about edges."
   ]
  },
  {
   "cell_type": "markdown",
   "id": "ee004365-46a9-4318-9151-9ef3de72bce8",
   "metadata": {},
   "source": [
    "## Setup (if required)"
   ]
  },
  {
   "cell_type": "markdown",
   "id": "a3048939-862a-464e-95f6-530c165fceea",
   "metadata": {},
   "source": [
    "If your code require to install dependencies before your main code, please add the commands to install the dependencies. You can silence the messages returned by `pip` the flag `-q`, i.e. `pip install pandas -q`"
   ]
  },
  {
   "cell_type": "markdown",
   "id": "ccae6a64-c265-4c36-9120-42399598c4a6",
   "metadata": {},
   "source": [
    "### NetworkX installation"
   ]
  },
  {
   "cell_type": "code",
   "execution_count": 1,
   "id": "4b8a6f6a-0a47-4475-b8a3-bf333d173eaf",
   "metadata": {},
   "outputs": [],
   "source": [
    "!pip install networkx[default] -q"
   ]
  },
  {
   "cell_type": "markdown",
   "id": "275908a3-9b55-4a06-beed-f9a5ce96629f",
   "metadata": {},
   "source": [
    "### Pandas installation"
   ]
  },
  {
   "cell_type": "code",
   "execution_count": 2,
   "id": "1246c7ab-9d29-49d9-abbc-a1e81b5bd1b9",
   "metadata": {},
   "outputs": [],
   "source": [
    "!pip install pandas -q"
   ]
  },
  {
   "cell_type": "markdown",
   "id": "8a7d3a16-1b78-414f-929d-95af2d3fabfc",
   "metadata": {},
   "source": [
    "## Importing Libraries"
   ]
  },
  {
   "cell_type": "code",
   "execution_count": 3,
   "id": "f958512c-3e17-4f2e-9d28-53f91179c0fe",
   "metadata": {},
   "outputs": [],
   "source": [
    "\"\"\"\n",
    "Recommendations:\n",
    "    - Respect the order of the imports, they are indicated by the numbers 1, 2, 3.\n",
    "    - One import per line is recommended, with this we can track easily any modified line when we use git.\n",
    "    - Absolute imports are recommended (see 3. Local application/library specific imports below), they improve readability and give better error messages.\n",
    "    - You should put a blank line between each group of imports.\n",
    "\"\"\"\n",
    "\n",
    "# future-imports (for instance: from __future__ import barry_as_FLUFL)\n",
    "# from __future__ import barry_as_FLUFL  \n",
    "\n",
    "# 1. Standard library imports\n",
    "import ast\n",
    "import csv\n",
    "import os\n",
    "\n",
    "# 2. Related third party imports\n",
    "import networkx as nx\n",
    "import pandas as pd\n",
    "\n",
    "# 3. Local application/library specific imports\n",
    "# import <mypackage>.<MyClass>         # this is an example\n",
    "# from <mypackage> import <MyClass>    # this is another example "
   ]
  },
  {
   "cell_type": "markdown",
   "id": "66111ca1-b143-4832-b669-ffc7ec3d29c0",
   "metadata": {},
   "source": [
    "## Helper Functions"
   ]
  },
  {
   "cell_type": "code",
   "execution_count": 35,
   "id": "9b06b5e2-3131-4c60-b8de-43923bb22e94",
   "metadata": {},
   "outputs": [],
   "source": [
    "def load_csv_generator(file_path, header=True):\n",
    "    with open(file_path, \"r\") as file:\n",
    "        reader = csv.reader(file)\n",
    "        if header:\n",
    "            next(reader)\n",
    "        for row in reader:\n",
    "            yield tuple(row)\n",
    "\n",
    "def from_csv_to_pandasdf(file_path, delimiter=','):\n",
    "    return pd.read_csv(file_path,\n",
    "                       delimiter=delimiter)\n",
    "\n",
    "def create_dataframes(file_path_nodes, file_path_edges):\n",
    "    df_nodes = from_csv_to_pandasdf(file_path_nodes, delimiter=',')\n",
    "    df_edges = from_csv_to_pandasdf(file_path_edges, delimiter=',')\n",
    "    return df_nodes, df_edges\n",
    "\n",
    "\n",
    "\n",
    "\n",
    "def networkx_graph_from_pandas(df_nodes, df_edges, graph_type=nx.DiGraph()):\n",
    "    # create_graph_from_edgeslist\n",
    "    networkx_graph = nx.from_pandas_edgelist(df_edges,\n",
    "                                             source='Source ID',\n",
    "                                             target='Target ID',\n",
    "                                             create_using=nx.DiGraph()\n",
    "                                            )\n",
    "    # populate_graph_nodes_properties\n",
    "    networkx_graph.add_edges_from(pd.concat([df_edges[['Source ID', 'Target ID']],\n",
    "                                             df_edges['properties'].map(ast.literal_eval)\n",
    "                                            ],\n",
    "                                            axis=1).itertuples(index=False, name=None)\n",
    "                                 )\n",
    "\n",
    "    # populate_graph_nodes_properties\n",
    "    networkx_graph.add_nodes_from(pd.concat([df_nodes['UniProt ID'],\n",
    "                                             df_nodes['properties'].map(ast.literal_eval)\n",
    "                                            ],\n",
    "                                            axis=1).itertuples(index=False, name=None)\n",
    "                                 )\n",
    "    return networkx_graph\n",
    "\n",
    "def change_column_names(df, column_names_dict):\n",
    "    return df.rename(columns=column_names_dict)\n",
    "\n",
    "def merge_properties(df, column_to_keep, column_to_merge):\n",
    "    \n",
    "    df[column_to_keep] = df[column_to_keep].map(ast.literal_eval)\n",
    "    df[column_to_keep] = [{**c1, **c2} for c1, c2 in zip(df[column_to_keep], df[column_to_merge])]\n",
    "    \n",
    "    return df.drop(columns=column_to_merge, axis=1)\n",
    "\n",
    "def row_to_dictionary(df, columns_to_keep_intact):\n",
    "    if isinstance(columns_to_keep_intact, list):\n",
    "        remaining_df = df.drop(columns=columns_to_keep_intact, axis=1)\n",
    "    if isinstance(columns_to_keep_intact, dict):\n",
    "        remaining_df = df.drop(columns=list(columns_to_keep_intact.keys()), axis=1)\n",
    "        \n",
    "    temp_dicts = pd.Series([dict(zip(remaining_df.columns, row)) for row in remaining_df.to_numpy()], name=\"temp_dicts\")\n",
    "\n",
    "    return pd.concat([df.drop(columns=remaining_df.columns, axis=1), temp_dicts], axis=1)\n",
    "\n",
    "\n",
    "def df_to_networkx_nodes(df_nodes, columns_to_keep_intact):\n",
    "    transformed_df_nodes = (df_nodes\n",
    "                            .pipe(row_to_dictionary, columns_to_keep_intact=columns_to_keep_intact)\n",
    "                            .pipe(merge_properties, column_to_keep=\"properties\", column_to_merge=\"temp_dicts\")\n",
    "                            #.pipe(change_column_names, column_names_dict)\n",
    "    )\n",
    "    return transformed_df_nodes\n",
    "\n",
    "def df_to_networkx_edges(df_edges, columns_to_keep_intact):\n",
    "    transformed_df_edges = (df_edges\n",
    "                            .pipe(row_to_dictionary, columns_to_keep_intact=columns_to_keep_intact)\n",
    "                            .pipe(merge_properties, \"properties\", \"temp_dicts\")\n",
    "                            .pipe(change_column_names, column_names_edges)\n",
    "    )\n",
    "    return transformed_df_edges\n",
    "\n",
    "def networkx_graph_from_pandas(networkx_nodes_df, networkx_edges_df, graph_type=nx.DiGraph()):\n",
    "    networkx_graph = nx.from_pandas_edgelist(networkx_edges_df,\n",
    "                                             source=\"source\",\n",
    "                                             target=\"target\",\n",
    "                                             edge_attr=\"Properties\"\n",
    "                                            )\n",
    "    #networkx_graph.add_nodes_from((nodes, dict(properties_dict)) for nodes, properties_dict in networkx_nodes_df.itertuples(index=False))\n",
    "\n",
    "    return networkx_graph"
   ]
  },
  {
   "cell_type": "code",
   "execution_count": null,
   "id": "9d870815-21d6-42ad-a381-9888020e53b8",
   "metadata": {},
   "outputs": [],
   "source": []
  },
  {
   "cell_type": "code",
   "execution_count": null,
   "id": "65acf8bc-e78b-450c-94bd-914862662da4",
   "metadata": {},
   "outputs": [],
   "source": []
  },
  {
   "cell_type": "markdown",
   "id": "54ddca15-f883-4099-b5fc-f9d786a2831f",
   "metadata": {},
   "source": [
    "## Introduction"
   ]
  },
  {
   "cell_type": "code",
   "execution_count": null,
   "id": "468f2860-5866-4281-91c4-304f73cd6ab5",
   "metadata": {},
   "outputs": [],
   "source": []
  },
  {
   "cell_type": "markdown",
   "id": "34f979dc-b2ba-4642-9a49-58fc7a0c5d96",
   "metadata": {},
   "source": [
    "## Section 1: Load the CSV data that contains nodes and edges\n",
    "\n",
    "For this exercise, each graph is represented by two CSV files. One containing information about the **nodes** and the other about the **edges**. To indicate that both files correspond to the same graph, their names include the same number of nodes. For example:\n",
    "\n",
    "- `dataset_30_nodes_proteins.csv`: contains 30 rows (nodes).\n",
    "- `dataset_30_edges_interactions.csv`: contains 47 rows (edges).\n",
    "\n",
    "We reference each CSV file or dataset as follows:"
   ]
  },
  {
   "cell_type": "code",
   "execution_count": 36,
   "id": "0d93aef8-5fb2-4817-b705-0812575d4e81",
   "metadata": {},
   "outputs": [],
   "source": [
    "filename_nodes = \"dataset_30_nodes_proteins.csv\"\n",
    "filename_edges = \"dataset_30_edges_interactions.csv\"\n",
    "\n",
    "# FILE_PATH_DATASETS = \"../../../DATASETS\"\n",
    "FILE_PATH_DATASETS = \"../data_examples\""
   ]
  },
  {
   "cell_type": "markdown",
   "id": "a9078df4-c914-4e68-a265-f81b527ed41d",
   "metadata": {},
   "source": [
    "### 1.1: Load Nodes\n",
    "\n",
    "The CSV file for nodes contains three columns:\n",
    "- `UniProt ID`\n",
    "- `label`\n",
    "- `properties`\n",
    "\n",
    "We are going to load the information of nodes as a **list of tuples**. Each tuple represents a node with the structure:\n",
    "- `(id, label, properties)`\n",
    "- Each field in the tuple is a `string`\n",
    "- The `properties` field is a string containing a dictionary of properties."
   ]
  },
  {
   "cell_type": "code",
   "execution_count": 37,
   "id": "ebea24bf-fbd7-42d2-a06b-0380266271d7",
   "metadata": {},
   "outputs": [],
   "source": [
    "file_path_nodes = os.path.join(FILE_PATH_DATASETS, filename_nodes)\n",
    "\n",
    "list_nodes = [node for node in load_csv_generator(file_path_nodes, header=True)]"
   ]
  },
  {
   "cell_type": "code",
   "execution_count": 38,
   "id": "58536a6f-3ab1-4067-96ec-274ead181f73",
   "metadata": {},
   "outputs": [
    {
     "name": "stdout",
     "output_type": "stream",
     "text": [
      "The NODES dataframe contains: 30 nodes\n",
      "Example:\n",
      "\t('G0P1I0', 'uniprot_protein', \"{'sequence': 'QKRTLFKVEFGSMSWFYKHRTNMHLRTMMYD', 'description': 'Lorem ipsum ilymp', 'taxon': '7813'}\")\n"
     ]
    }
   ],
   "source": [
    "print(\"The NODES dataframe contains: {} nodes\".format(len(list_nodes)))\n",
    "print(\"Example:\\n\\t{}\".format(list_nodes[0]))"
   ]
  },
  {
   "cell_type": "markdown",
   "id": "a7654e4e-1cf3-47c4-87da-68b3aad0feff",
   "metadata": {},
   "source": [
    "### 1.2: Load Edges\n",
    "\n",
    "The CSV file for edges contains five columns:\n",
    "- `Relation ID`\n",
    "- `Source ID`\n",
    "- `Target ID`\n",
    "- `label`\n",
    "- `properties`\n",
    "\n",
    "We are going to load the information of edges as a list of tuples. Each tuple represents a node with thethe structure:\n",
    "- `(id, source, target, label, properties)`\n",
    "- Each field in the tuple is a `string`\n",
    "- The `properties` field is string containing a dictionary of properties."
   ]
  },
  {
   "cell_type": "code",
   "execution_count": 39,
   "id": "b0f494bb-4fc5-458d-83dc-8f4567aac7ee",
   "metadata": {},
   "outputs": [],
   "source": [
    "file_path_edges = os.path.join(FILE_PATH_DATASETS, filename_edges)\n",
    "\n",
    "list_edges = [edge for edge in load_csv_generator(file_path_edges, header=True)]"
   ]
  },
  {
   "cell_type": "code",
   "execution_count": 40,
   "id": "d236833d-4cc5-4842-9f6a-192cab33c247",
   "metadata": {},
   "outputs": [
    {
     "name": "stdout",
     "output_type": "stream",
     "text": [
      "The list of EDGES contains: 47 edges\n",
      "Example:\n",
      "\t('', 'B6V6V7', 'H9R6K5', 'interacts_with', \"{'source': 'signor'}\")\n",
      "\t('', 'B6V6V7', 'I5X3I2', 'interacts_with', \"{'method': 'Lorem ipsum pblfc'}\")\n",
      "\t('', '385603', 'H9R6K5', 'interacts_with', \"{'source': 'intact', 'method': 'Lorem ipsum nbqvj'}\")\n",
      "\t('', '385603', 'I9A3P8', 'interacts_with', '{}')\n",
      "\t('', 'L3V2Y6', 'X0C9T5', 'interacts_with', \"{'source': 'intact', 'method': 'Lorem ipsum zwhrq'}\")\n",
      "\t('intact956331', 'L3V2Y6', 'Y8Y3K0', 'interacts_with', \"{'source': 'signor'}\")\n"
     ]
    }
   ],
   "source": [
    "print(\"The list of EDGES contains: {} edges\".format(len(list_edges)))\n",
    "print(\"Example:\")\n",
    "for edge in list_edges[0:6]:\n",
    "    print(\"\\t{}\".format(edge))"
   ]
  },
  {
   "cell_type": "markdown",
   "id": "95e42816-66d7-46cd-8ef6-88cd841f414e",
   "metadata": {},
   "source": [
    "## Section 2: Create Data Pipeline\n",
    "- **input:** CSV data of edges\n",
    "- **output:** Pandas dataframe containing information of edges\n",
    "\n",
    "The pipeline consist of two consecutive stages:\n",
    "\n",
    "| Stage | Function                              | Description |\n",
    "|-------|---------------------------------------| ----------- |\n",
    "| 1     | `create_pandasdf_from_csv()`          | create a pandas dataframe in memory        |\n",
    "| 2     | `edges_format_converter(dataframe)`   | transform dataframe rows to desired format |"
   ]
  },
  {
   "cell_type": "markdown",
   "id": "dc665a12-7f51-443c-ace2-281e899e11c1",
   "metadata": {},
   "source": [
    "### 2.1 Create Pandas Dataframe from CSV file (data structure)"
   ]
  },
  {
   "cell_type": "code",
   "execution_count": 41,
   "id": "7269fb6c-d1a7-4245-81b4-73a2d39d87af",
   "metadata": {},
   "outputs": [],
   "source": [
    "df_nodes, df_edges = create_dataframes(file_path_nodes, file_path_edges)"
   ]
  },
  {
   "cell_type": "code",
   "execution_count": 42,
   "id": "8b6ec146-4afd-43f1-805f-e18b53547e55",
   "metadata": {},
   "outputs": [
    {
     "data": {
      "text/html": [
       "<div>\n",
       "<style scoped>\n",
       "    .dataframe tbody tr th:only-of-type {\n",
       "        vertical-align: middle;\n",
       "    }\n",
       "\n",
       "    .dataframe tbody tr th {\n",
       "        vertical-align: top;\n",
       "    }\n",
       "\n",
       "    .dataframe thead th {\n",
       "        text-align: right;\n",
       "    }\n",
       "</style>\n",
       "<table border=\"1\" class=\"dataframe\">\n",
       "  <thead>\n",
       "    <tr style=\"text-align: right;\">\n",
       "      <th></th>\n",
       "      <th>UniProt ID</th>\n",
       "      <th>label</th>\n",
       "      <th>properties</th>\n",
       "    </tr>\n",
       "  </thead>\n",
       "  <tbody>\n",
       "    <tr>\n",
       "      <th>0</th>\n",
       "      <td>G0P1I0</td>\n",
       "      <td>uniprot_protein</td>\n",
       "      <td>{'sequence': 'QKRTLFKVEFGSMSWFYKHRTNMHLRTMMYD'...</td>\n",
       "    </tr>\n",
       "    <tr>\n",
       "      <th>1</th>\n",
       "      <td>B6V6V7</td>\n",
       "      <td>uniprot_isoform</td>\n",
       "      <td>{'sequence': 'CGLGLSMRFLMVGVQNWFWYGTRVPDVAYIDW...</td>\n",
       "    </tr>\n",
       "    <tr>\n",
       "      <th>2</th>\n",
       "      <td>385603</td>\n",
       "      <td>entrez_protein</td>\n",
       "      <td>{'sequence': 'EHYTERRSMRSTGQDKTSNPYLFFHITRFKRC...</td>\n",
       "    </tr>\n",
       "    <tr>\n",
       "      <th>3</th>\n",
       "      <td>L3V2Y6</td>\n",
       "      <td>uniprot_protein</td>\n",
       "      <td>{'sequence': 'EGYPSHLLDVESFMSHNWTPWIFKCDARLC',...</td>\n",
       "    </tr>\n",
       "    <tr>\n",
       "      <th>4</th>\n",
       "      <td>Q1R3N5</td>\n",
       "      <td>uniprot_isoform</td>\n",
       "      <td>{'sequence': 'IVHIKHTTQLGAIIQRNFQVGWCHVG', 'de...</td>\n",
       "    </tr>\n",
       "    <tr>\n",
       "      <th>5</th>\n",
       "      <td>249853</td>\n",
       "      <td>entrez_protein</td>\n",
       "      <td>{'sequence': 'RYWCKKEDCLAIKLEWVNHTHCLVQKDGMCMN...</td>\n",
       "    </tr>\n",
       "    <tr>\n",
       "      <th>6</th>\n",
       "      <td>X0C9T5</td>\n",
       "      <td>uniprot_protein</td>\n",
       "      <td>{'sequence': 'VPWFKQEYWACIYPEKWDETCTQTCHWSYQWK...</td>\n",
       "    </tr>\n",
       "    <tr>\n",
       "      <th>7</th>\n",
       "      <td>Y8Y3K0</td>\n",
       "      <td>uniprot_isoform</td>\n",
       "      <td>{'sequence': 'LKPNAIFRKINTLIMMWTAFRGQGKEKR', '...</td>\n",
       "    </tr>\n",
       "    <tr>\n",
       "      <th>8</th>\n",
       "      <td>535278</td>\n",
       "      <td>entrez_protein</td>\n",
       "      <td>{'sequence': 'LEGPWGTSCMNSCNISKNYMEYSFKCQYMHRH...</td>\n",
       "    </tr>\n",
       "    <tr>\n",
       "      <th>9</th>\n",
       "      <td>D8O4Y7</td>\n",
       "      <td>uniprot_protein</td>\n",
       "      <td>{'sequence': 'IQMLFDTFTNNMRNWWCEHW', 'descript...</td>\n",
       "    </tr>\n",
       "    <tr>\n",
       "      <th>10</th>\n",
       "      <td>I0S4T8</td>\n",
       "      <td>uniprot_isoform</td>\n",
       "      <td>{'sequence': 'AADKYTPQSSFSQKALLPRDCLKNHC', 'de...</td>\n",
       "    </tr>\n",
       "    <tr>\n",
       "      <th>11</th>\n",
       "      <td>447972</td>\n",
       "      <td>entrez_protein</td>\n",
       "      <td>{'sequence': 'NNCNGNLMHNYVKNWINYLLLNKFLRMDHEHC...</td>\n",
       "    </tr>\n",
       "    <tr>\n",
       "      <th>12</th>\n",
       "      <td>H0U9R4</td>\n",
       "      <td>uniprot_protein</td>\n",
       "      <td>{'sequence': 'IIDDWVAVYNCKAYVVWDFATLWEDCIHWRHP...</td>\n",
       "    </tr>\n",
       "    <tr>\n",
       "      <th>13</th>\n",
       "      <td>H1M7P2</td>\n",
       "      <td>uniprot_isoform</td>\n",
       "      <td>{'sequence': 'KNQMFLNAYVASYWVSFMNAHKEVWSAKTWQ'...</td>\n",
       "    </tr>\n",
       "    <tr>\n",
       "      <th>14</th>\n",
       "      <td>373262</td>\n",
       "      <td>entrez_protein</td>\n",
       "      <td>{'sequence': 'YKVVYTTYPHFGDMSMPSCIHLVHMAKQSTTN...</td>\n",
       "    </tr>\n",
       "    <tr>\n",
       "      <th>15</th>\n",
       "      <td>E8I0O8</td>\n",
       "      <td>uniprot_protein</td>\n",
       "      <td>{'sequence': 'HHFWCQTQHHHHSTKMMKLPFEWDAMEAACYA...</td>\n",
       "    </tr>\n",
       "    <tr>\n",
       "      <th>16</th>\n",
       "      <td>H9R6K5</td>\n",
       "      <td>uniprot_isoform</td>\n",
       "      <td>{'sequence': 'CEDNSRWWHWPVKIAHININCSKACCENTSLA...</td>\n",
       "    </tr>\n",
       "    <tr>\n",
       "      <th>17</th>\n",
       "      <td>189306</td>\n",
       "      <td>entrez_protein</td>\n",
       "      <td>{'sequence': 'TIGFHYNGAYCCREMAMPSVNGHWMCCQSGVC...</td>\n",
       "    </tr>\n",
       "    <tr>\n",
       "      <th>18</th>\n",
       "      <td>D4X6C4</td>\n",
       "      <td>uniprot_protein</td>\n",
       "      <td>{'sequence': 'YNEIVKSFGEQNILAKYTAQGRWFYNCRFNWM...</td>\n",
       "    </tr>\n",
       "    <tr>\n",
       "      <th>19</th>\n",
       "      <td>D5V7Y7</td>\n",
       "      <td>uniprot_isoform</td>\n",
       "      <td>{'sequence': 'KNPGSYCRGIHKDAAPPTNCMDAELRFVKCSW...</td>\n",
       "    </tr>\n",
       "    <tr>\n",
       "      <th>20</th>\n",
       "      <td>999852</td>\n",
       "      <td>entrez_protein</td>\n",
       "      <td>{'sequence': 'IECHFPPMEDYNDNMMYLKGEFRCEYPFPDTW...</td>\n",
       "    </tr>\n",
       "    <tr>\n",
       "      <th>21</th>\n",
       "      <td>P8X2R8</td>\n",
       "      <td>uniprot_protein</td>\n",
       "      <td>{'sequence': 'HAFWAFNHYSVKDPGQTCCCVHMAEAHRWPTS...</td>\n",
       "    </tr>\n",
       "    <tr>\n",
       "      <th>22</th>\n",
       "      <td>I5X3I2</td>\n",
       "      <td>uniprot_isoform</td>\n",
       "      <td>{'sequence': 'WSAAEAGGAELALDFWLVASRKKYGMLQVT',...</td>\n",
       "    </tr>\n",
       "    <tr>\n",
       "      <th>23</th>\n",
       "      <td>792512</td>\n",
       "      <td>entrez_protein</td>\n",
       "      <td>{'sequence': 'LTKMGAAFYMGCFNMSKKNMGQPSFPNNHKPD...</td>\n",
       "    </tr>\n",
       "    <tr>\n",
       "      <th>24</th>\n",
       "      <td>I9A3P8</td>\n",
       "      <td>uniprot_protein</td>\n",
       "      <td>{'sequence': 'YMSEGKWSIWIINMMLMHAQNLHVALIIVVY'...</td>\n",
       "    </tr>\n",
       "    <tr>\n",
       "      <th>25</th>\n",
       "      <td>C8W4F0</td>\n",
       "      <td>uniprot_isoform</td>\n",
       "      <td>{'sequence': 'WLTGIDRADPNRDWINKKNDPYKCFAPFGRAI...</td>\n",
       "    </tr>\n",
       "    <tr>\n",
       "      <th>26</th>\n",
       "      <td>559407</td>\n",
       "      <td>entrez_protein</td>\n",
       "      <td>{'sequence': 'LYHNKDSHWTPPKWCWHQMVYWMIFLDWGTPK...</td>\n",
       "    </tr>\n",
       "    <tr>\n",
       "      <th>27</th>\n",
       "      <td>U9P9L6</td>\n",
       "      <td>uniprot_protein</td>\n",
       "      <td>{'sequence': 'LSNLKDTLHGRYLPGPKYLPYCCCKDLDPQPT...</td>\n",
       "    </tr>\n",
       "    <tr>\n",
       "      <th>28</th>\n",
       "      <td>T9Z8Y0</td>\n",
       "      <td>uniprot_isoform</td>\n",
       "      <td>{'sequence': 'HNGDDWLINCDYCKNLRTDTHSQAPCSSESEC...</td>\n",
       "    </tr>\n",
       "    <tr>\n",
       "      <th>29</th>\n",
       "      <td>449383</td>\n",
       "      <td>entrez_protein</td>\n",
       "      <td>{'sequence': 'ETCHDEFEHYDKPCQECSQKDMWGGRELPQKH...</td>\n",
       "    </tr>\n",
       "  </tbody>\n",
       "</table>\n",
       "</div>"
      ],
      "text/plain": [
       "   UniProt ID            label  \\\n",
       "0      G0P1I0  uniprot_protein   \n",
       "1      B6V6V7  uniprot_isoform   \n",
       "2      385603   entrez_protein   \n",
       "3      L3V2Y6  uniprot_protein   \n",
       "4      Q1R3N5  uniprot_isoform   \n",
       "5      249853   entrez_protein   \n",
       "6      X0C9T5  uniprot_protein   \n",
       "7      Y8Y3K0  uniprot_isoform   \n",
       "8      535278   entrez_protein   \n",
       "9      D8O4Y7  uniprot_protein   \n",
       "10     I0S4T8  uniprot_isoform   \n",
       "11     447972   entrez_protein   \n",
       "12     H0U9R4  uniprot_protein   \n",
       "13     H1M7P2  uniprot_isoform   \n",
       "14     373262   entrez_protein   \n",
       "15     E8I0O8  uniprot_protein   \n",
       "16     H9R6K5  uniprot_isoform   \n",
       "17     189306   entrez_protein   \n",
       "18     D4X6C4  uniprot_protein   \n",
       "19     D5V7Y7  uniprot_isoform   \n",
       "20     999852   entrez_protein   \n",
       "21     P8X2R8  uniprot_protein   \n",
       "22     I5X3I2  uniprot_isoform   \n",
       "23     792512   entrez_protein   \n",
       "24     I9A3P8  uniprot_protein   \n",
       "25     C8W4F0  uniprot_isoform   \n",
       "26     559407   entrez_protein   \n",
       "27     U9P9L6  uniprot_protein   \n",
       "28     T9Z8Y0  uniprot_isoform   \n",
       "29     449383   entrez_protein   \n",
       "\n",
       "                                           properties  \n",
       "0   {'sequence': 'QKRTLFKVEFGSMSWFYKHRTNMHLRTMMYD'...  \n",
       "1   {'sequence': 'CGLGLSMRFLMVGVQNWFWYGTRVPDVAYIDW...  \n",
       "2   {'sequence': 'EHYTERRSMRSTGQDKTSNPYLFFHITRFKRC...  \n",
       "3   {'sequence': 'EGYPSHLLDVESFMSHNWTPWIFKCDARLC',...  \n",
       "4   {'sequence': 'IVHIKHTTQLGAIIQRNFQVGWCHVG', 'de...  \n",
       "5   {'sequence': 'RYWCKKEDCLAIKLEWVNHTHCLVQKDGMCMN...  \n",
       "6   {'sequence': 'VPWFKQEYWACIYPEKWDETCTQTCHWSYQWK...  \n",
       "7   {'sequence': 'LKPNAIFRKINTLIMMWTAFRGQGKEKR', '...  \n",
       "8   {'sequence': 'LEGPWGTSCMNSCNISKNYMEYSFKCQYMHRH...  \n",
       "9   {'sequence': 'IQMLFDTFTNNMRNWWCEHW', 'descript...  \n",
       "10  {'sequence': 'AADKYTPQSSFSQKALLPRDCLKNHC', 'de...  \n",
       "11  {'sequence': 'NNCNGNLMHNYVKNWINYLLLNKFLRMDHEHC...  \n",
       "12  {'sequence': 'IIDDWVAVYNCKAYVVWDFATLWEDCIHWRHP...  \n",
       "13  {'sequence': 'KNQMFLNAYVASYWVSFMNAHKEVWSAKTWQ'...  \n",
       "14  {'sequence': 'YKVVYTTYPHFGDMSMPSCIHLVHMAKQSTTN...  \n",
       "15  {'sequence': 'HHFWCQTQHHHHSTKMMKLPFEWDAMEAACYA...  \n",
       "16  {'sequence': 'CEDNSRWWHWPVKIAHININCSKACCENTSLA...  \n",
       "17  {'sequence': 'TIGFHYNGAYCCREMAMPSVNGHWMCCQSGVC...  \n",
       "18  {'sequence': 'YNEIVKSFGEQNILAKYTAQGRWFYNCRFNWM...  \n",
       "19  {'sequence': 'KNPGSYCRGIHKDAAPPTNCMDAELRFVKCSW...  \n",
       "20  {'sequence': 'IECHFPPMEDYNDNMMYLKGEFRCEYPFPDTW...  \n",
       "21  {'sequence': 'HAFWAFNHYSVKDPGQTCCCVHMAEAHRWPTS...  \n",
       "22  {'sequence': 'WSAAEAGGAELALDFWLVASRKKYGMLQVT',...  \n",
       "23  {'sequence': 'LTKMGAAFYMGCFNMSKKNMGQPSFPNNHKPD...  \n",
       "24  {'sequence': 'YMSEGKWSIWIINMMLMHAQNLHVALIIVVY'...  \n",
       "25  {'sequence': 'WLTGIDRADPNRDWINKKNDPYKCFAPFGRAI...  \n",
       "26  {'sequence': 'LYHNKDSHWTPPKWCWHQMVYWMIFLDWGTPK...  \n",
       "27  {'sequence': 'LSNLKDTLHGRYLPGPKYLPYCCCKDLDPQPT...  \n",
       "28  {'sequence': 'HNGDDWLINCDYCKNLRTDTHSQAPCSSESEC...  \n",
       "29  {'sequence': 'ETCHDEFEHYDKPCQECSQKDMWGGRELPQKH...  "
      ]
     },
     "execution_count": 42,
     "metadata": {},
     "output_type": "execute_result"
    }
   ],
   "source": [
    "df_nodes"
   ]
  },
  {
   "cell_type": "code",
   "execution_count": 59,
   "id": "4b393cdb-92a6-433c-b16b-8b69ba3cbc13",
   "metadata": {},
   "outputs": [
    {
     "name": "stdout",
     "output_type": "stream",
     "text": [
      "Pandas(Index=0, _1=nan, _2='B6V6V7', _3='H9R6K5', label='interacts_with', properties=\"{'source': 'signor'}\")\n",
      "Pandas(Index=1, _1=nan, _2='B6V6V7', _3='I5X3I2', label='interacts_with', properties=\"{'method': 'Lorem ipsum pblfc'}\")\n",
      "Pandas(Index=2, _1=nan, _2='385603', _3='H9R6K5', label='interacts_with', properties=\"{'source': 'intact', 'method': 'Lorem ipsum nbqvj'}\")\n",
      "Pandas(Index=3, _1=nan, _2='385603', _3='I9A3P8', label='interacts_with', properties='{}')\n",
      "Pandas(Index=4, _1=nan, _2='L3V2Y6', _3='X0C9T5', label='interacts_with', properties=\"{'source': 'intact', 'method': 'Lorem ipsum zwhrq'}\")\n",
      "Pandas(Index=5, _1='intact956331', _2='L3V2Y6', _3='Y8Y3K0', label='interacts_with', properties=\"{'source': 'signor'}\")\n",
      "Pandas(Index=6, _1='intact337768', _2='L3V2Y6', _3='I5X3I2', label='interacts_with', properties=\"{'method': 'Lorem ipsum hfvlp'}\")\n",
      "Pandas(Index=7, _1=nan, _2='Q1R3N5', _3='I0S4T8', label='interacts_with', properties='{}')\n",
      "Pandas(Index=8, _1='intact260500', _2='Q1R3N5', _3='H0U9R4', label='interacts_with', properties=\"{'source': 'intact'}\")\n",
      "Pandas(Index=9, _1=nan, _2='249853', _3='G0P1I0', label='interacts_with', properties=\"{'source': 'intact', 'method': 'Lorem ipsum lsbdz'}\")\n",
      "Pandas(Index=10, _1='intact82265', _2='249853', _3='H1M7P2', label='interacts_with', properties=\"{'method': 'Lorem ipsum qsult'}\")\n",
      "Pandas(Index=11, _1=nan, _2='249853', _3='D4X6C4', label='interacts_with', properties=\"{'source': 'signor', 'method': 'Lorem ipsum rlyhh'}\")\n",
      "Pandas(Index=12, _1=nan, _2='249853', _3='999852', label='interacts_with', properties=\"{'source': 'signor', 'method': 'Lorem ipsum ulkku'}\")\n",
      "Pandas(Index=13, _1='intact205562', _2='249853', _3='P8X2R8', label='interacts_with', properties='{}')\n",
      "Pandas(Index=14, _1=nan, _2='X0C9T5', _3='535278', label='interacts_with', properties=\"{'source': 'signor'}\")\n",
      "Pandas(Index=15, _1=nan, _2='535278', _3='447972', label='interacts_with', properties=\"{'source': 'intact', 'method': 'Lorem ipsum ficmx'}\")\n",
      "Pandas(Index=16, _1='intact357405', _2='D8O4Y7', _3='L3V2Y6', label='interacts_with', properties='{}')\n",
      "Pandas(Index=17, _1='intact538978', _2='I0S4T8', _3='C8W4F0', label='interacts_with', properties='{}')\n",
      "Pandas(Index=18, _1='intact556444', _2='447972', _3='H0U9R4', label='interacts_with', properties=\"{'source': 'intact', 'method': 'Lorem ipsum jkoie'}\")\n",
      "Pandas(Index=19, _1=nan, _2='H0U9R4', _3='Q1R3N5', label='interacts_with', properties=\"{'source': 'signor'}\")\n",
      "Pandas(Index=20, _1=nan, _2='H0U9R4', _3='C8W4F0', label='interacts_with', properties='{}')\n",
      "Pandas(Index=21, _1=nan, _2='H1M7P2', _3='373262', label='interacts_with', properties=\"{'source': 'signor', 'method': 'Lorem ipsum jmzhj'}\")\n",
      "Pandas(Index=22, _1='intact631800', _2='H1M7P2', _3='189306', label='interacts_with', properties=\"{'method': 'Lorem ipsum iqlma'}\")\n",
      "Pandas(Index=23, _1='intact277910', _2='H9R6K5', _3='E8I0O8', label='interacts_with', properties='{}')\n",
      "Pandas(Index=24, _1=nan, _2='189306', _3='H9R6K5', label='interacts_with', properties='{}')\n",
      "Pandas(Index=25, _1='intact608806', _2='189306', _3='C8W4F0', label='interacts_with', properties=\"{'source': 'intact', 'method': 'Lorem ipsum raxbi'}\")\n",
      "Pandas(Index=26, _1='intact405378', _2='D4X6C4', _3='I0S4T8', label='interacts_with', properties=\"{'source': 'signor', 'method': 'Lorem ipsum xafpj'}\")\n",
      "Pandas(Index=27, _1='intact694086', _2='D4X6C4', _3='H0U9R4', label='interacts_with', properties='{}')\n",
      "Pandas(Index=28, _1='intact446811', _2='D4X6C4', _3='H1M7P2', label='interacts_with', properties=\"{'source': 'signor'}\")\n",
      "Pandas(Index=29, _1='intact850890', _2='D4X6C4', _3='D5V7Y7', label='interacts_with', properties='{}')\n",
      "Pandas(Index=30, _1='intact859346', _2='D4X6C4', _3='U9P9L6', label='interacts_with', properties=\"{'method': 'Lorem ipsum ygxkg'}\")\n",
      "Pandas(Index=31, _1='intact51967', _2='D5V7Y7', _3='H1M7P2', label='interacts_with', properties=\"{'source': 'signor'}\")\n",
      "Pandas(Index=32, _1=nan, _2='P8X2R8', _3='T9Z8Y0', label='interacts_with', properties=\"{'source': 'signor'}\")\n",
      "Pandas(Index=33, _1=nan, _2='I5X3I2', _3='D4X6C4', label='interacts_with', properties=\"{'source': 'intact', 'method': 'Lorem ipsum iiozd'}\")\n",
      "Pandas(Index=34, _1='intact994853', _2='I5X3I2', _3='T9Z8Y0', label='interacts_with', properties=\"{'method': 'Lorem ipsum gconp'}\")\n",
      "Pandas(Index=35, _1='intact419487', _2='792512', _3='L3V2Y6', label='interacts_with', properties='{}')\n",
      "Pandas(Index=36, _1='intact180399', _2='792512', _3='H0U9R4', label='interacts_with', properties=\"{'source': 'signor'}\")\n",
      "Pandas(Index=37, _1=nan, _2='I9A3P8', _3='L3V2Y6', label='interacts_with', properties=\"{'source': 'intact'}\")\n",
      "Pandas(Index=38, _1='intact812038', _2='I9A3P8', _3='373262', label='interacts_with', properties='{}')\n",
      "Pandas(Index=39, _1=nan, _2='C8W4F0', _3='H9R6K5', label='interacts_with', properties=\"{'method': 'Lorem ipsum wwkkw'}\")\n",
      "Pandas(Index=40, _1='intact898671', _2='C8W4F0', _3='D5V7Y7', label='interacts_with', properties=\"{'source': 'signor', 'method': 'Lorem ipsum cdcxn'}\")\n",
      "Pandas(Index=41, _1=nan, _2='C8W4F0', _3='I9A3P8', label='interacts_with', properties=\"{'source': 'signor', 'method': 'Lorem ipsum lyrwo'}\")\n",
      "Pandas(Index=42, _1=nan, _2='559407', _3='385603', label='interacts_with', properties=\"{'source': 'signor'}\")\n",
      "Pandas(Index=43, _1=nan, _2='559407', _3='I0S4T8', label='interacts_with', properties=\"{'method': 'Lorem ipsum nvdex'}\")\n",
      "Pandas(Index=44, _1='intact795446', _2='U9P9L6', _3='X0C9T5', label='interacts_with', properties=\"{'method': 'Lorem ipsum bxjad'}\")\n",
      "Pandas(Index=45, _1='intact620870', _2='449383', _3='L3V2Y6', label='interacts_with', properties=\"{'method': 'Lorem ipsum qhpxd'}\")\n",
      "Pandas(Index=46, _1=nan, _2='449383', _3='T9Z8Y0', label='interacts_with', properties=\"{'source': 'intact'}\")\n"
     ]
    }
   ],
   "source": [
    "for item in df_edges.itertuples():\n",
    "    print(item)"
   ]
  },
  {
   "cell_type": "markdown",
   "id": "e81545df-47e5-4296-a752-40fed325d2c9",
   "metadata": {},
   "source": [
    "## Section 3: Converting to Networkx graph"
   ]
  },
  {
   "cell_type": "code",
   "execution_count": 44,
   "id": "2c50800f-ec8e-4a79-ae64-a2775628f732",
   "metadata": {},
   "outputs": [],
   "source": [
    "column_names_edges={\n",
    "    \"Source ID\": \"source\",\n",
    "    \"Target ID\": \"target\",\n",
    "    \"properties\": \"Properties\"    \n",
    "}\n",
    "\n",
    "#transformed_df_edges = (df_edges\n",
    "#                        .pipe(row_to_dictionary, columns_to_keep_intact=[\"Source ID\", \"Target ID\", \"properties\"])\n",
    "#                        .pipe(merge_properties, \"properties\", \"temp_dicts\")\n",
    "#                        .pipe(change_column_names, column_names_edges)\n",
    "#)"
   ]
  },
  {
   "cell_type": "code",
   "execution_count": 45,
   "id": "529f0973-21fa-478c-b46e-f9020ca4526b",
   "metadata": {},
   "outputs": [
    {
     "name": "stdout",
     "output_type": "stream",
     "text": [
      "Graph has been cleared!\n"
     ]
    }
   ],
   "source": [
    "try:\n",
    "    G.clear()\n",
    "    print(\"Graph has been cleared!\")\n",
    "except:\n",
    "    print(\"Graph G doesn't exist\")"
   ]
  },
  {
   "cell_type": "markdown",
   "id": "ef9fedd7-2199-4a7d-be81-a74cb8b4effb",
   "metadata": {},
   "source": [
    "### 3.1 Create a Directed Graph"
   ]
  },
  {
   "cell_type": "code",
   "execution_count": 46,
   "id": "af1823ee-0588-4025-a5a9-2c3b7bcb637c",
   "metadata": {},
   "outputs": [],
   "source": [
    "G = networkx_graph_from_pandas(networkx_nodes_df=df_to_networkx_nodes(df_nodes, columns_to_keep_intact=[\"UniProt ID\", \"properties\"]),\n",
    "                               networkx_edges_df=df_to_networkx_edges(df_edges, columns_to_keep_intact=[\"Source ID\", \"Target ID\", \"properties\"]),\n",
    "                               graph_type=nx.DiGraph())"
   ]
  },
  {
   "cell_type": "markdown",
   "id": "db95f6ed-d199-40ff-a4cf-0d6c20ea7d28",
   "metadata": {},
   "source": [
    "Note that the graph contains a dictionary with a single key, `\"properties\"`. Inside this dictionary is another dictionary that holds each property. However, this is not the desired format. Instead, we want a single dictionary containing all the properties directly."
   ]
  },
  {
   "cell_type": "markdown",
   "id": "f3ee7e48-8fc5-47f1-99e8-413c33a4ee88",
   "metadata": {},
   "source": [
    "### 3.2 Draw Graph"
   ]
  },
  {
   "cell_type": "code",
   "execution_count": 47,
   "id": "9f83f10a-b537-469a-b8fd-c64bef2b54c8",
   "metadata": {},
   "outputs": [
    {
     "data": {
      "image/png": "[encoded data removed]",
      "text/plain": [
       "<Figure size 640x480 with 1 Axes>"
      ]
     },
     "metadata": {},
     "output_type": "display_data"
    }
   ],
   "source": [
    "nx.draw(G, with_labels=True)"
   ]
  },
  {
   "cell_type": "markdown",
   "id": "8b45347c-e79c-4174-bf1f-cc7ff6653575",
   "metadata": {},
   "source": [
    "### 3.3 Some statistics"
   ]
  },
  {
   "cell_type": "code",
   "execution_count": 48,
   "id": "53174abf-67f8-48a3-a5f9-3e261c41463e",
   "metadata": {},
   "outputs": [
    {
     "name": "stdout",
     "output_type": "stream",
     "text": [
      "Number of nodes: 30\n",
      "Number of edges: 46\n"
     ]
    }
   ],
   "source": [
    "print(\"Number of nodes: {}\".format(G.number_of_nodes()))\n",
    "print(\"Number of edges: {}\".format(G.number_of_edges()))"
   ]
  },
  {
   "cell_type": "code",
   "execution_count": 49,
   "id": "217cbf8e-8fff-4b6a-81e4-6923e49a8410",
   "metadata": {},
   "outputs": [
    {
     "name": "stdout",
     "output_type": "stream",
     "text": [
      "('B6V6V7', 'H9R6K5', {'Properties': {'source': 'signor', 'Relationship ID': nan, 'label': 'interacts_with'}})\n",
      "('B6V6V7', 'I5X3I2', {'Properties': {'method': 'Lorem ipsum pblfc', 'Relationship ID': nan, 'label': 'interacts_with'}})\n",
      "('H9R6K5', '385603', {'Properties': {'source': 'intact', 'method': 'Lorem ipsum nbqvj', 'Relationship ID': nan, 'label': 'interacts_with'}})\n",
      "('H9R6K5', 'E8I0O8', {'Properties': {'Relationship ID': 'intact277910', 'label': 'interacts_with'}})\n",
      "('H9R6K5', '189306', {'Properties': {'Relationship ID': nan, 'label': 'interacts_with'}})\n"
     ]
    }
   ],
   "source": [
    "limit = 5\n",
    "for index, edge in enumerate(G.edges(data=True)):\n",
    "    if index == limit:\n",
    "        break\n",
    "    print(edge)"
   ]
  },
  {
   "cell_type": "code",
   "execution_count": 50,
   "id": "d1c24eff-0989-451a-ba6a-6311e9603cb7",
   "metadata": {},
   "outputs": [
    {
     "name": "stdout",
     "output_type": "stream",
     "text": [
      "('B6V6V7', {})\n",
      "('H9R6K5', {})\n",
      "('I5X3I2', {})\n",
      "('385603', {})\n",
      "('I9A3P8', {})\n"
     ]
    }
   ],
   "source": [
    "limit = 5\n",
    "for index, node in enumerate(G.nodes(data=True)):\n",
    "    if index == limit:\n",
    "        break\n",
    "    print(node)"
   ]
  },
  {
   "cell_type": "code",
   "execution_count": null,
   "id": "62643718-1359-4b27-a97e-937c56ca4b40",
   "metadata": {},
   "outputs": [],
   "source": []
  },
  {
   "cell_type": "code",
   "execution_count": 51,
   "id": "4ca320f1-f2c3-4093-8d75-701252db5f80",
   "metadata": {},
   "outputs": [
    {
     "data": {
      "text/plain": [
       "('G0P1I0',\n",
       " {'sequence': 'QKRTLFKVEFGSMSWFYKHRTNMHLRTMMYD',\n",
       "  'description': 'Lorem ipsum ilymp',\n",
       "  'taxon': '7813',\n",
       "  'label': 'uniprot_protein'})"
      ]
     },
     "execution_count": 51,
     "metadata": {},
     "output_type": "execute_result"
    }
   ],
   "source": [
    "[(nodes, dict(properties_dict)) for nodes, properties_dict in df_to_networkx_nodes(df_nodes, columns_to_keep_intact=[\"UniProt ID\", \"properties\"]).itertuples(index=False)][0]"
   ]
  },
  {
   "cell_type": "code",
   "execution_count": 52,
   "id": "261a95f0-4112-4eba-a1fe-3038e7487725",
   "metadata": {},
   "outputs": [
    {
     "data": {
      "text/html": [
       "<div>\n",
       "<style scoped>\n",
       "    .dataframe tbody tr th:only-of-type {\n",
       "        vertical-align: middle;\n",
       "    }\n",
       "\n",
       "    .dataframe tbody tr th {\n",
       "        vertical-align: top;\n",
       "    }\n",
       "\n",
       "    .dataframe thead th {\n",
       "        text-align: right;\n",
       "    }\n",
       "</style>\n",
       "<table border=\"1\" class=\"dataframe\">\n",
       "  <thead>\n",
       "    <tr style=\"text-align: right;\">\n",
       "      <th></th>\n",
       "      <th>UniProt ID</th>\n",
       "      <th>properties</th>\n",
       "    </tr>\n",
       "  </thead>\n",
       "  <tbody>\n",
       "    <tr>\n",
       "      <th>0</th>\n",
       "      <td>G0P1I0</td>\n",
       "      <td>{'sequence': 'QKRTLFKVEFGSMSWFYKHRTNMHLRTMMYD'...</td>\n",
       "    </tr>\n",
       "    <tr>\n",
       "      <th>1</th>\n",
       "      <td>B6V6V7</td>\n",
       "      <td>{'sequence': 'CGLGLSMRFLMVGVQNWFWYGTRVPDVAYIDW...</td>\n",
       "    </tr>\n",
       "    <tr>\n",
       "      <th>2</th>\n",
       "      <td>385603</td>\n",
       "      <td>{'sequence': 'EHYTERRSMRSTGQDKTSNPYLFFHITRFKRC...</td>\n",
       "    </tr>\n",
       "    <tr>\n",
       "      <th>3</th>\n",
       "      <td>L3V2Y6</td>\n",
       "      <td>{'sequence': 'EGYPSHLLDVESFMSHNWTPWIFKCDARLC',...</td>\n",
       "    </tr>\n",
       "    <tr>\n",
       "      <th>4</th>\n",
       "      <td>Q1R3N5</td>\n",
       "      <td>{'sequence': 'IVHIKHTTQLGAIIQRNFQVGWCHVG', 'de...</td>\n",
       "    </tr>\n",
       "  </tbody>\n",
       "</table>\n",
       "</div>"
      ],
      "text/plain": [
       "  UniProt ID                                         properties\n",
       "0     G0P1I0  {'sequence': 'QKRTLFKVEFGSMSWFYKHRTNMHLRTMMYD'...\n",
       "1     B6V6V7  {'sequence': 'CGLGLSMRFLMVGVQNWFWYGTRVPDVAYIDW...\n",
       "2     385603  {'sequence': 'EHYTERRSMRSTGQDKTSNPYLFFHITRFKRC...\n",
       "3     L3V2Y6  {'sequence': 'EGYPSHLLDVESFMSHNWTPWIFKCDARLC',...\n",
       "4     Q1R3N5  {'sequence': 'IVHIKHTTQLGAIIQRNFQVGWCHVG', 'de..."
      ]
     },
     "execution_count": 52,
     "metadata": {},
     "output_type": "execute_result"
    }
   ],
   "source": [
    "df_to_networkx_nodes(df_nodes, columns_to_keep_intact=[\"UniProt ID\", \"properties\"]).head()"
   ]
  },
  {
   "cell_type": "code",
   "execution_count": 53,
   "id": "60c2df80-700a-4634-a19d-4b7e46ac65c3",
   "metadata": {},
   "outputs": [
    {
     "data": {
      "text/plain": [
       "30"
      ]
     },
     "execution_count": 53,
     "metadata": {},
     "output_type": "execute_result"
    }
   ],
   "source": [
    "list_nodes = [item for item in df_to_networkx_nodes(df_nodes, columns_to_keep_intact=[\"UniProt ID\", \"properties\"]).itertuples(index=False)]\n",
    "len(list_nodes)"
   ]
  },
  {
   "cell_type": "code",
   "execution_count": 54,
   "id": "ae6916da-882c-41bc-8d2c-8beb1c2c3d59",
   "metadata": {},
   "outputs": [
    {
     "data": {
      "text/plain": [
       "[Pandas(source='B6V6V7', target='H9R6K5', Properties={'source': 'signor', 'Relationship ID': nan, 'label': 'interacts_with'}),\n",
       " Pandas(source='B6V6V7', target='I5X3I2', Properties={'method': 'Lorem ipsum pblfc', 'Relationship ID': nan, 'label': 'interacts_with'}),\n",
       " Pandas(source='385603', target='H9R6K5', Properties={'source': 'intact', 'method': 'Lorem ipsum nbqvj', 'Relationship ID': nan, 'label': 'interacts_with'}),\n",
       " Pandas(source='385603', target='I9A3P8', Properties={'Relationship ID': nan, 'label': 'interacts_with'}),\n",
       " Pandas(source='L3V2Y6', target='X0C9T5', Properties={'source': 'intact', 'method': 'Lorem ipsum zwhrq', 'Relationship ID': nan, 'label': 'interacts_with'}),\n",
       " Pandas(source='L3V2Y6', target='Y8Y3K0', Properties={'source': 'signor', 'Relationship ID': 'intact956331', 'label': 'interacts_with'}),\n",
       " Pandas(source='L3V2Y6', target='I5X3I2', Properties={'method': 'Lorem ipsum hfvlp', 'Relationship ID': 'intact337768', 'label': 'interacts_with'}),\n",
       " Pandas(source='Q1R3N5', target='I0S4T8', Properties={'Relationship ID': nan, 'label': 'interacts_with'}),\n",
       " Pandas(source='Q1R3N5', target='H0U9R4', Properties={'source': 'intact', 'Relationship ID': 'intact260500', 'label': 'interacts_with'}),\n",
       " Pandas(source='249853', target='G0P1I0', Properties={'source': 'intact', 'method': 'Lorem ipsum lsbdz', 'Relationship ID': nan, 'label': 'interacts_with'}),\n",
       " Pandas(source='249853', target='H1M7P2', Properties={'method': 'Lorem ipsum qsult', 'Relationship ID': 'intact82265', 'label': 'interacts_with'}),\n",
       " Pandas(source='249853', target='D4X6C4', Properties={'source': 'signor', 'method': 'Lorem ipsum rlyhh', 'Relationship ID': nan, 'label': 'interacts_with'}),\n",
       " Pandas(source='249853', target='999852', Properties={'source': 'signor', 'method': 'Lorem ipsum ulkku', 'Relationship ID': nan, 'label': 'interacts_with'}),\n",
       " Pandas(source='249853', target='P8X2R8', Properties={'Relationship ID': 'intact205562', 'label': 'interacts_with'}),\n",
       " Pandas(source='X0C9T5', target='535278', Properties={'source': 'signor', 'Relationship ID': nan, 'label': 'interacts_with'}),\n",
       " Pandas(source='535278', target='447972', Properties={'source': 'intact', 'method': 'Lorem ipsum ficmx', 'Relationship ID': nan, 'label': 'interacts_with'}),\n",
       " Pandas(source='D8O4Y7', target='L3V2Y6', Properties={'Relationship ID': 'intact357405', 'label': 'interacts_with'}),\n",
       " Pandas(source='I0S4T8', target='C8W4F0', Properties={'Relationship ID': 'intact538978', 'label': 'interacts_with'}),\n",
       " Pandas(source='447972', target='H0U9R4', Properties={'source': 'intact', 'method': 'Lorem ipsum jkoie', 'Relationship ID': 'intact556444', 'label': 'interacts_with'}),\n",
       " Pandas(source='H0U9R4', target='Q1R3N5', Properties={'source': 'signor', 'Relationship ID': nan, 'label': 'interacts_with'}),\n",
       " Pandas(source='H0U9R4', target='C8W4F0', Properties={'Relationship ID': nan, 'label': 'interacts_with'}),\n",
       " Pandas(source='H1M7P2', target='373262', Properties={'source': 'signor', 'method': 'Lorem ipsum jmzhj', 'Relationship ID': nan, 'label': 'interacts_with'}),\n",
       " Pandas(source='H1M7P2', target='189306', Properties={'method': 'Lorem ipsum iqlma', 'Relationship ID': 'intact631800', 'label': 'interacts_with'}),\n",
       " Pandas(source='H9R6K5', target='E8I0O8', Properties={'Relationship ID': 'intact277910', 'label': 'interacts_with'}),\n",
       " Pandas(source='189306', target='H9R6K5', Properties={'Relationship ID': nan, 'label': 'interacts_with'}),\n",
       " Pandas(source='189306', target='C8W4F0', Properties={'source': 'intact', 'method': 'Lorem ipsum raxbi', 'Relationship ID': 'intact608806', 'label': 'interacts_with'}),\n",
       " Pandas(source='D4X6C4', target='I0S4T8', Properties={'source': 'signor', 'method': 'Lorem ipsum xafpj', 'Relationship ID': 'intact405378', 'label': 'interacts_with'}),\n",
       " Pandas(source='D4X6C4', target='H0U9R4', Properties={'Relationship ID': 'intact694086', 'label': 'interacts_with'}),\n",
       " Pandas(source='D4X6C4', target='H1M7P2', Properties={'source': 'signor', 'Relationship ID': 'intact446811', 'label': 'interacts_with'}),\n",
       " Pandas(source='D4X6C4', target='D5V7Y7', Properties={'Relationship ID': 'intact850890', 'label': 'interacts_with'}),\n",
       " Pandas(source='D4X6C4', target='U9P9L6', Properties={'method': 'Lorem ipsum ygxkg', 'Relationship ID': 'intact859346', 'label': 'interacts_with'}),\n",
       " Pandas(source='D5V7Y7', target='H1M7P2', Properties={'source': 'signor', 'Relationship ID': 'intact51967', 'label': 'interacts_with'}),\n",
       " Pandas(source='P8X2R8', target='T9Z8Y0', Properties={'source': 'signor', 'Relationship ID': nan, 'label': 'interacts_with'}),\n",
       " Pandas(source='I5X3I2', target='D4X6C4', Properties={'source': 'intact', 'method': 'Lorem ipsum iiozd', 'Relationship ID': nan, 'label': 'interacts_with'}),\n",
       " Pandas(source='I5X3I2', target='T9Z8Y0', Properties={'method': 'Lorem ipsum gconp', 'Relationship ID': 'intact994853', 'label': 'interacts_with'}),\n",
       " Pandas(source='792512', target='L3V2Y6', Properties={'Relationship ID': 'intact419487', 'label': 'interacts_with'}),\n",
       " Pandas(source='792512', target='H0U9R4', Properties={'source': 'signor', 'Relationship ID': 'intact180399', 'label': 'interacts_with'}),\n",
       " Pandas(source='I9A3P8', target='L3V2Y6', Properties={'source': 'intact', 'Relationship ID': nan, 'label': 'interacts_with'}),\n",
       " Pandas(source='I9A3P8', target='373262', Properties={'Relationship ID': 'intact812038', 'label': 'interacts_with'}),\n",
       " Pandas(source='C8W4F0', target='H9R6K5', Properties={'method': 'Lorem ipsum wwkkw', 'Relationship ID': nan, 'label': 'interacts_with'}),\n",
       " Pandas(source='C8W4F0', target='D5V7Y7', Properties={'source': 'signor', 'method': 'Lorem ipsum cdcxn', 'Relationship ID': 'intact898671', 'label': 'interacts_with'}),\n",
       " Pandas(source='C8W4F0', target='I9A3P8', Properties={'source': 'signor', 'method': 'Lorem ipsum lyrwo', 'Relationship ID': nan, 'label': 'interacts_with'}),\n",
       " Pandas(source='559407', target='385603', Properties={'source': 'signor', 'Relationship ID': nan, 'label': 'interacts_with'}),\n",
       " Pandas(source='559407', target='I0S4T8', Properties={'method': 'Lorem ipsum nvdex', 'Relationship ID': nan, 'label': 'interacts_with'}),\n",
       " Pandas(source='U9P9L6', target='X0C9T5', Properties={'method': 'Lorem ipsum bxjad', 'Relationship ID': 'intact795446', 'label': 'interacts_with'}),\n",
       " Pandas(source='449383', target='L3V2Y6', Properties={'method': 'Lorem ipsum qhpxd', 'Relationship ID': 'intact620870', 'label': 'interacts_with'}),\n",
       " Pandas(source='449383', target='T9Z8Y0', Properties={'source': 'intact', 'Relationship ID': nan, 'label': 'interacts_with'})]"
      ]
     },
     "execution_count": 54,
     "metadata": {},
     "output_type": "execute_result"
    }
   ],
   "source": [
    "list_edges = [item for item in df_to_networkx_edges(df_edges, columns_to_keep_intact=[\"Source ID\", \"Target ID\", \"properties\"]).itertuples(index=False)]\n",
    "len(list_edges)\n",
    "list_edges"
   ]
  },
  {
   "cell_type": "code",
   "execution_count": 55,
   "id": "e8bd5d5f-d2f3-4624-9c2a-898087bac5fa",
   "metadata": {},
   "outputs": [
    {
     "name": "stdout",
     "output_type": "stream",
     "text": [
      "('B6V6V7', 'H9R6K5', {'Properties': {'source': 'signor', 'Relationship ID': nan, 'label': 'interacts_with'}})\n",
      "('B6V6V7', 'I5X3I2', {'Properties': {'method': 'Lorem ipsum pblfc', 'Relationship ID': nan, 'label': 'interacts_with'}})\n",
      "('H9R6K5', '385603', {'Properties': {'source': 'intact', 'method': 'Lorem ipsum nbqvj', 'Relationship ID': nan, 'label': 'interacts_with'}})\n",
      "('H9R6K5', 'E8I0O8', {'Properties': {'Relationship ID': 'intact277910', 'label': 'interacts_with'}})\n",
      "('H9R6K5', '189306', {'Properties': {'Relationship ID': nan, 'label': 'interacts_with'}})\n",
      "('H9R6K5', 'C8W4F0', {'Properties': {'method': 'Lorem ipsum wwkkw', 'Relationship ID': nan, 'label': 'interacts_with'}})\n",
      "('I5X3I2', 'L3V2Y6', {'Properties': {'method': 'Lorem ipsum hfvlp', 'Relationship ID': 'intact337768', 'label': 'interacts_with'}})\n",
      "('I5X3I2', 'D4X6C4', {'Properties': {'source': 'intact', 'method': 'Lorem ipsum iiozd', 'Relationship ID': nan, 'label': 'interacts_with'}})\n",
      "('I5X3I2', 'T9Z8Y0', {'Properties': {'method': 'Lorem ipsum gconp', 'Relationship ID': 'intact994853', 'label': 'interacts_with'}})\n",
      "('385603', 'I9A3P8', {'Properties': {'Relationship ID': nan, 'label': 'interacts_with'}})\n",
      "('385603', '559407', {'Properties': {'source': 'signor', 'Relationship ID': nan, 'label': 'interacts_with'}})\n",
      "('I9A3P8', 'L3V2Y6', {'Properties': {'source': 'intact', 'Relationship ID': nan, 'label': 'interacts_with'}})\n",
      "('I9A3P8', '373262', {'Properties': {'Relationship ID': 'intact812038', 'label': 'interacts_with'}})\n",
      "('I9A3P8', 'C8W4F0', {'Properties': {'source': 'signor', 'method': 'Lorem ipsum lyrwo', 'Relationship ID': nan, 'label': 'interacts_with'}})\n",
      "('L3V2Y6', 'X0C9T5', {'Properties': {'source': 'intact', 'method': 'Lorem ipsum zwhrq', 'Relationship ID': nan, 'label': 'interacts_with'}})\n",
      "('L3V2Y6', 'Y8Y3K0', {'Properties': {'source': 'signor', 'Relationship ID': 'intact956331', 'label': 'interacts_with'}})\n",
      "('L3V2Y6', 'D8O4Y7', {'Properties': {'Relationship ID': 'intact357405', 'label': 'interacts_with'}})\n",
      "('L3V2Y6', '792512', {'Properties': {'Relationship ID': 'intact419487', 'label': 'interacts_with'}})\n",
      "('L3V2Y6', '449383', {'Properties': {'method': 'Lorem ipsum qhpxd', 'Relationship ID': 'intact620870', 'label': 'interacts_with'}})\n",
      "('X0C9T5', '535278', {'Properties': {'source': 'signor', 'Relationship ID': nan, 'label': 'interacts_with'}})\n",
      "('X0C9T5', 'U9P9L6', {'Properties': {'method': 'Lorem ipsum bxjad', 'Relationship ID': 'intact795446', 'label': 'interacts_with'}})\n",
      "('Q1R3N5', 'I0S4T8', {'Properties': {'Relationship ID': nan, 'label': 'interacts_with'}})\n",
      "('Q1R3N5', 'H0U9R4', {'Properties': {'source': 'signor', 'Relationship ID': nan, 'label': 'interacts_with'}})\n",
      "('I0S4T8', 'C8W4F0', {'Properties': {'Relationship ID': 'intact538978', 'label': 'interacts_with'}})\n",
      "('I0S4T8', 'D4X6C4', {'Properties': {'source': 'signor', 'method': 'Lorem ipsum xafpj', 'Relationship ID': 'intact405378', 'label': 'interacts_with'}})\n",
      "('I0S4T8', '559407', {'Properties': {'method': 'Lorem ipsum nvdex', 'Relationship ID': nan, 'label': 'interacts_with'}})\n",
      "('H0U9R4', '447972', {'Properties': {'source': 'intact', 'method': 'Lorem ipsum jkoie', 'Relationship ID': 'intact556444', 'label': 'interacts_with'}})\n",
      "('H0U9R4', 'C8W4F0', {'Properties': {'Relationship ID': nan, 'label': 'interacts_with'}})\n",
      "('H0U9R4', 'D4X6C4', {'Properties': {'Relationship ID': 'intact694086', 'label': 'interacts_with'}})\n",
      "('H0U9R4', '792512', {'Properties': {'source': 'signor', 'Relationship ID': 'intact180399', 'label': 'interacts_with'}})\n",
      "('249853', 'G0P1I0', {'Properties': {'source': 'intact', 'method': 'Lorem ipsum lsbdz', 'Relationship ID': nan, 'label': 'interacts_with'}})\n",
      "('249853', 'H1M7P2', {'Properties': {'method': 'Lorem ipsum qsult', 'Relationship ID': 'intact82265', 'label': 'interacts_with'}})\n",
      "('249853', 'D4X6C4', {'Properties': {'source': 'signor', 'method': 'Lorem ipsum rlyhh', 'Relationship ID': nan, 'label': 'interacts_with'}})\n",
      "('249853', '999852', {'Properties': {'source': 'signor', 'method': 'Lorem ipsum ulkku', 'Relationship ID': nan, 'label': 'interacts_with'}})\n",
      "('249853', 'P8X2R8', {'Properties': {'Relationship ID': 'intact205562', 'label': 'interacts_with'}})\n",
      "('H1M7P2', '373262', {'Properties': {'source': 'signor', 'method': 'Lorem ipsum jmzhj', 'Relationship ID': nan, 'label': 'interacts_with'}})\n",
      "('H1M7P2', '189306', {'Properties': {'method': 'Lorem ipsum iqlma', 'Relationship ID': 'intact631800', 'label': 'interacts_with'}})\n",
      "('H1M7P2', 'D4X6C4', {'Properties': {'source': 'signor', 'Relationship ID': 'intact446811', 'label': 'interacts_with'}})\n",
      "('H1M7P2', 'D5V7Y7', {'Properties': {'source': 'signor', 'Relationship ID': 'intact51967', 'label': 'interacts_with'}})\n",
      "('D4X6C4', 'D5V7Y7', {'Properties': {'Relationship ID': 'intact850890', 'label': 'interacts_with'}})\n",
      "('D4X6C4', 'U9P9L6', {'Properties': {'method': 'Lorem ipsum ygxkg', 'Relationship ID': 'intact859346', 'label': 'interacts_with'}})\n",
      "('P8X2R8', 'T9Z8Y0', {'Properties': {'source': 'signor', 'Relationship ID': nan, 'label': 'interacts_with'}})\n",
      "('535278', '447972', {'Properties': {'source': 'intact', 'method': 'Lorem ipsum ficmx', 'Relationship ID': nan, 'label': 'interacts_with'}})\n",
      "('C8W4F0', '189306', {'Properties': {'source': 'intact', 'method': 'Lorem ipsum raxbi', 'Relationship ID': 'intact608806', 'label': 'interacts_with'}})\n",
      "('C8W4F0', 'D5V7Y7', {'Properties': {'source': 'signor', 'method': 'Lorem ipsum cdcxn', 'Relationship ID': 'intact898671', 'label': 'interacts_with'}})\n",
      "('T9Z8Y0', '449383', {'Properties': {'source': 'intact', 'Relationship ID': nan, 'label': 'interacts_with'}})\n"
     ]
    }
   ],
   "source": [
    "for item in G.edges(data=True):\n",
    "    print(item)"
   ]
  },
  {
   "cell_type": "code",
   "execution_count": null,
   "id": "86d7e192-99c8-4bc6-92ba-8d185c8333f6",
   "metadata": {},
   "outputs": [],
   "source": []
  },
  {
   "cell_type": "code",
   "execution_count": null,
   "id": "a406fa2e-7ec2-4b64-be66-7941e48bc971",
   "metadata": {},
   "outputs": [],
   "source": []
  },
  {
   "cell_type": "code",
   "execution_count": null,
   "id": "32f1b0ba-dbc4-4385-8d2c-4d18870f7d3f",
   "metadata": {},
   "outputs": [],
   "source": []
  }
 ],
 "metadata": {
  "kernelspec": {
   "display_name": "Python 3 (ipykernel)",
   "language": "python",
   "name": "python3"
  },
  "language_info": {
   "codemirror_mode": {
    "name": "ipython",
    "version": 3
   },
   "file_extension": ".py",
   "mimetype": "text/x-python",
   "name": "python",
   "nbconvert_exporter": "python",
   "pygments_lexer": "ipython3",
   "version": "3.10.14"
  }
 },
 "nbformat": 4,
 "nbformat_minor": 5
}
