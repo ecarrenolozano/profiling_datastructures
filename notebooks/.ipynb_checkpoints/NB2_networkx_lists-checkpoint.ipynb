{
 "cells": [
  {
   "cell_type": "markdown",
   "id": "0be74670-0ab5-4b48-9444-a66ae52cd5d1",
   "metadata": {},
   "source": [
    "# Experiment 1: Lists as data structures for Graphs"
   ]
  },
  {
   "cell_type": "markdown",
   "id": "1e67bac5-aa4a-4bfb-bab9-2a87ac29dbdc",
   "metadata": {},
   "source": [
    "[//]: # (------------------------------------------    DO NOT MODIFY THIS    ------------------------------------------)\n",
    "<style type=\"text/css\">\n",
    ".tg  {border-collapse:collapse;\n",
    "      border-spacing:0;\n",
    "     }\n",
    ".tg td{border-color:black;\n",
    "       border-style:solid;\n",
    "       border-width:1px;\n",
    "       font-family:Arial, sans-serif;\n",
    "       font-size:14px;\n",
    "       overflow:hidden;\n",
    "       padding:10px 5px;\n",
    "       word-break:normal;\n",
    "      }\n",
    ".tg th{border-color:black;\n",
    "       border-style:solid;\n",
    "       border-width:1px;\n",
    "       font-family:Arial, sans-serif;\n",
    "       font-size:14px;\n",
    "       font-weight:normal;\n",
    "       overflow:hidden;\n",
    "       padding:10px 5px;\n",
    "       word-break:normal;\n",
    "      }\n",
    ".tg .tg-fymr{border-color:inherit;\n",
    "             font-weight:bold;\n",
    "             text-align:left;\n",
    "             vertical-align:top\n",
    "            }\n",
    ".tg .tg-0pky{border-color:inherit;\n",
    "             text-align:left;\n",
    "             vertical-align:top\n",
    "            }\n",
    "[//]: # (--------------------------------------------------------------------------------------------------------------)\n",
    "\n",
    "[//]: # (-------------------------------------    FILL THIS OUT WITH YOUR DATA    -------------------------------------)\n",
    "</style>\n",
    "<table class=\"tg\">\n",
    "    <tbody>\n",
    "      <tr>\n",
    "        <td class=\"tg-fymr\" style=\"font-weight: bold\">Title:</td>\n",
    "        <td class=\"tg-0pky\"> Experiment 1: Lists as data structures for Graphs</td>\n",
    "      </tr>\n",
    "      <tr>\n",
    "        <td class=\"tg-fymr\" style=\"font-weight: bold\">Authors:</td>\n",
    "        <td class=\"tg-0pky\">\n",
    "            <a href=\"https://github.com/ecarrenolozano\" target=\"_blank\" rel=\"noopener noreferrer\">Edwin Carreño</a>\n",
    "        </td>\n",
    "      </tr>\n",
    "      <tr>\n",
    "        <td class=\"tg-fymr\" style=\"font-weight: bold\">Affiliations:</td>\n",
    "        <td class=\"tg-0pky\">\n",
    "            <a href=\"https://www.ssc.uni-heidelberg.de/en\" target=\"_blank\" rel=\"noopener noreferrer\">Scientific Software Center</a>\n",
    "        </td>\n",
    "      </tr>\n",
    "      <tr>\n",
    "        <td class=\"tg-fymr\" style=\"font-weight: bold\">Date Created:</td>\n",
    "        <td class=\"tg-0pky\">30.10.2024</td>\n",
    "      </tr>\n",
    "      <tr>\n",
    "        <td class=\"tg-fymr\" style=\"font-weight: bold\">Description:</td>\n",
    "        <td class=\"tg-0pky\">Creation of a graph using Python lists and data from CSV files. Conversion to NetworkX is tested too.</td>\n",
    "      </tr>\n",
    "    </tbody>\n",
    "</table>\n",
    "\n",
    "[//]: # (--------------------------------------------------------------------------------------------------------------)"
   ]
  },
  {
   "cell_type": "markdown",
   "id": "a6f2daac-918d-471e-83b7-6685cd141424",
   "metadata": {},
   "source": [
    "<table class=\"tfo-notebook-buttons\" align=\"left\">\n",
    "  <td>\n",
    "    <a target=\"_blank\" href=\"https://colab.research.google.com/github/tensorflow/docs/blob/master/site/en/tutorials/quickstart/beginner.ipynb\"><img src=\"https://www.tensorflow.org/images/colab_logo_32px.png\" />Run in Google Colab</a>\n",
    "  </td>\n",
    "  <td>\n",
    "    <a target=\"_blank\" href=\"https://github.com/tensorflow/docs/blob/master/site/en/tutorials/quickstart/beginner.ipynb\"><img src=\"https://www.tensorflow.org/images/GitHub-Mark-32px.png\" />View source on GitHub</a>\n",
    "  </td>  \n",
    "</table>"
   ]
  },
  {
   "cell_type": "markdown",
   "id": "1fb5ab5e-6d91-4d66-b054-c95cf385b943",
   "metadata": {},
   "source": [
    "## Overview"
   ]
  },
  {
   "cell_type": "markdown",
   "id": "30d9abb0-6e7b-4061-ac52-99e30da031cc",
   "metadata": {},
   "source": [
    "In this notebook we are going to:\n",
    "\n",
    "1. Import CSV (comma-separated values) data from nodes and edges.\n",
    "2. Describe the data from CSVs.\n",
    "3. Create a data pipeline that:\n",
    "   - load csv data.\n",
    "   - transform the format of tuples that represents edges (from 5 to 3 elements).\n",
    "   - create a list (data structure) of tuples containing the information of edges .\n",
    "4. Create a NetworkX graph from an edge list."
   ]
  },
  {
   "cell_type": "markdown",
   "id": "2174e6d2-5701-455a-a617-10d394d17424",
   "metadata": {},
   "source": [
    "## Setup (if required)\n",
    "\n",
    "**Note:** If your code require to install dependencies before your main code, please add the commands to install the dependencies. You can silence the messages returned by `pip` the flag `-q`, i.e. `pip install pandas -q`"
   ]
  },
  {
   "cell_type": "markdown",
   "id": "d898971c-065f-44f2-8b6f-b0c11ee7a039",
   "metadata": {},
   "source": [
    "### NetworkX installation"
   ]
  },
  {
   "cell_type": "code",
   "execution_count": 1,
   "id": "b8e3ea23-d939-4fb4-b995-28837b276806",
   "metadata": {},
   "outputs": [],
   "source": [
    "!pip install networkx[default] -q"
   ]
  },
  {
   "cell_type": "markdown",
   "id": "d649800f-af21-422f-be65-e289455c68ba",
   "metadata": {},
   "source": [
    "## Importing Libraries"
   ]
  },
  {
   "cell_type": "code",
   "execution_count": 2,
   "id": "c294dcee-9162-4f31-bcb5-576f598f387f",
   "metadata": {},
   "outputs": [],
   "source": [
    "\"\"\"\n",
    "Recommendations:\n",
    "    - Respect the order of the imports, they are indicated by the numbers 1, 2, 3.\n",
    "    - One import per line is recommended, with this we can track easily any modified line when we use git.\n",
    "    - Absolute imports are recommended (see 3. Local application/library specific imports below), they improve readability and give better error messages.\n",
    "    - You should put a blank line between each group of imports.\n",
    "\"\"\"\n",
    "\n",
    "# future-imports (for instance: from __future__ import barry_as_FLUFL)\n",
    "# from __future__ import barry_as_FLUFL  \n",
    "\n",
    "# 1. Standard library imports\n",
    "import ast\n",
    "import csv\n",
    "import os\n",
    "\n",
    "# 2. Related third party imports\n",
    "import networkx as nx\n",
    "\n",
    "# 3. Local application/library specific imports\n",
    "# import <mypackage>.<MyClass>         # this is an example\n",
    "# from <mypackage> import <MyClass>    # this is another example "
   ]
  },
  {
   "cell_type": "markdown",
   "id": "7ca790f6-9af7-43b2-a5a1-7c2b7f5bd2b3",
   "metadata": {},
   "source": [
    "## Helper Functions"
   ]
  },
  {
   "cell_type": "code",
   "execution_count": 3,
   "id": "ad47a09f-ca55-4882-882a-6e135502390a",
   "metadata": {},
   "outputs": [],
   "source": [
    "def load_csv_generator(file_path, header=True):\n",
    "    with open(file_path, \"r\") as file:\n",
    "        reader = csv.reader(file)\n",
    "        if header:\n",
    "            next(reader)\n",
    "        for row in reader:\n",
    "            yield tuple(row)\n",
    "\n",
    "def to_networkx_nodes_format(nodes_iterable, mapping_properties=True):\n",
    "    for node in nodes_iterable:\n",
    "        # Original format\n",
    "        #  (node id, node label, properties)\n",
    "\n",
    "        # Desired format\n",
    "        #  (node id, properties as dict)\n",
    "\n",
    "        node_id = node[0]\n",
    "        properties = ast.literal_eval(node[2])\n",
    "\n",
    "        if mapping_properties:\n",
    "            properties[\"node_label\"] = node[1]\n",
    "\n",
    "        yield(\n",
    "            node_id,\n",
    "            properties\n",
    "        )\n",
    "\n",
    "\n",
    "def to_networkx_edges_format(edges_iterable, mapping_properties=True):\n",
    "    for edge in edges_iterable:\n",
    "        # Original format\n",
    "        #  (edge id, source (node id), target (node id), label, properties)\n",
    "\n",
    "        # Desired format\n",
    "        #  (source (node id), target (node id), properties as dict)\n",
    "\n",
    "        edge_source_id = edge[1]\n",
    "        edge_target_id = edge[2]\n",
    "        properties = ast.literal_eval(edge[4])\n",
    "\n",
    "        if mapping_properties:\n",
    "            properties[\"edge_id\"] = edge[0]\n",
    "            properties[\"edge_label\"] = edge[3]\n",
    "\n",
    "        yield (\n",
    "            edge_source_id,\n",
    "            edge_target_id,\n",
    "            properties,\n",
    "        )\n",
    "\n",
    "\n",
    "\n",
    "\n",
    "def generate_lists(nodes_generator, edges_generator):\n",
    "    list_nodes = [item for item in nodes_generator]\n",
    "    list_edges = [item for item in edges_generator]\n",
    "\n",
    "    return list_nodes, list_edges"
   ]
  },
  {
   "cell_type": "markdown",
   "id": "0cd932b1-cfd4-4dae-be70-aac312bc6043",
   "metadata": {},
   "source": [
    "## Introduction"
   ]
  },
  {
   "cell_type": "code",
   "execution_count": null,
   "id": "97b3fb54-fa92-4906-a8a6-81f11a7fdaaf",
   "metadata": {},
   "outputs": [],
   "source": []
  },
  {
   "cell_type": "code",
   "execution_count": null,
   "id": "a7b0eb1f-2dc2-40d9-890a-f0a6c45101bb",
   "metadata": {},
   "outputs": [],
   "source": []
  },
  {
   "cell_type": "markdown",
   "id": "ef9b5426-9c61-4113-a86c-5d99e164034c",
   "metadata": {},
   "source": [
    "## Section 1: Load the CSV data that contains nodes and edges\n",
    "\n",
    "For this exercise, each graph is represented by two CSV files. One containing information about the **nodes** and the other about the **edges**. To indicate that both files correspond to the same graph, their names include the same number of nodes. For example:\n",
    "\n",
    "- `dataset_30_nodes_proteins.csv`: contains 30 rows (nodes).\n",
    "- `dataset_30_edges_interactions.csv`: contains 47 rows (edges).\n",
    "\n",
    "We reference each CSV file or dataset as follows:"
   ]
  },
  {
   "cell_type": "code",
   "execution_count": 4,
   "id": "5bd42b65-6e18-4e3a-9115-62f3efd0310c",
   "metadata": {},
   "outputs": [],
   "source": [
    "filename_nodes = \"dataset_30_nodes_proteins.csv\"\n",
    "filename_edges = \"dataset_30_edges_interactions.csv\"\n",
    "\n",
    "FILE_PATH_DATASETS = \"../../../DATASETS\""
   ]
  },
  {
   "cell_type": "markdown",
   "id": "3d28236b-c3c8-425c-9fdc-0d2c6d021137",
   "metadata": {},
   "source": [
    "### 1.1: Load Nodes\n",
    "\n",
    "The CSV file for nodes contains three columns:\n",
    "- `UniProt ID`\n",
    "- `label`\n",
    "- `properties`\n",
    "\n",
    "We are going to load the information of nodes as a **list of tuples**. Each tuple represents a node with the structure:\n",
    "- `(id, label, properties)`\n",
    "- Each field in the tuple is a `string`\n",
    "- The `properties` field is a string containing a dictionary of properties."
   ]
  },
  {
   "cell_type": "code",
   "execution_count": 5,
   "id": "397537fa-046f-41d0-b90e-80aab4e3f951",
   "metadata": {},
   "outputs": [],
   "source": [
    "file_path_nodes = os.path.join(FILE_PATH_DATASETS, filename_nodes)\n",
    "\n",
    "list_nodes = [node for node in load_csv_generator(file_path_nodes, header=True)]"
   ]
  },
  {
   "cell_type": "code",
   "execution_count": 6,
   "id": "2fbf819a-e86f-412c-8720-17c7391cd065",
   "metadata": {},
   "outputs": [
    {
     "name": "stdout",
     "output_type": "stream",
     "text": [
      "/home/ecarreno/SSC-Projects/REPOSITORIES/profiling_datastructures/notebooks\n"
     ]
    }
   ],
   "source": [
    "!pwd"
   ]
  },
  {
   "cell_type": "code",
   "execution_count": 7,
   "id": "23a07299-5403-4388-a9dd-09a4a6ace368",
   "metadata": {},
   "outputs": [
    {
     "name": "stdout",
     "output_type": "stream",
     "text": [
      "The list of NODES contains: 30 nodes\n",
      "Example:\n",
      "\t('G0P1I0', 'uniprot_protein', \"{'sequence': 'QKRTLFKVEFGSMSWFYKHRTNMHLRTMMYD', 'description': 'Lorem ipsum ilymp', 'taxon': '7813'}\")\n"
     ]
    }
   ],
   "source": [
    "print(\"The list of NODES contains: {} nodes\".format(len(list_nodes)))\n",
    "print(\"Example:\\n\\t{}\".format(list_nodes[0]))"
   ]
  },
  {
   "cell_type": "markdown",
   "id": "b9ac9426-27e1-4ff6-a360-6ec984134e44",
   "metadata": {},
   "source": [
    "### 1.2: Load Edges\n",
    "\n",
    "The CSV file for edges contains five columns:\n",
    "- `Relation ID`\n",
    "- `Source ID`\n",
    "- `Target ID`\n",
    "- `label`\n",
    "- `properties`\n",
    "\n",
    "We are going to load the information of edges as a list of tuples. Each tuple represents a node with thethe structure:\n",
    "- `(id, source, target, label, properties)`\n",
    "- Each field in the tuple is a `string`\n",
    "- The `properties` field is string containing a dictionary of properties."
   ]
  },
  {
   "cell_type": "code",
   "execution_count": 8,
   "id": "31d3ffb6-2de3-429a-bfcf-2ed6f68501d8",
   "metadata": {},
   "outputs": [],
   "source": [
    "file_path_edges = os.path.join(FILE_PATH_DATASETS, filename_edges)\n",
    "\n",
    "list_edges = [edge for edge in load_csv_generator(file_path_edges, header=True)]"
   ]
  },
  {
   "cell_type": "code",
   "execution_count": 9,
   "id": "6a2c5d42-d6fd-4dc9-82d1-ca3ea448724f",
   "metadata": {},
   "outputs": [
    {
     "name": "stdout",
     "output_type": "stream",
     "text": [
      "The list of EDGES contains: 47 edges\n",
      "Example:\n",
      "\t('', 'B6V6V7', 'H9R6K5', 'interacts_with', \"{'source': 'signor'}\")\n",
      "\t('', 'B6V6V7', 'I5X3I2', 'interacts_with', \"{'method': 'Lorem ipsum pblfc'}\")\n",
      "\t('', '385603', 'H9R6K5', 'interacts_with', \"{'source': 'intact', 'method': 'Lorem ipsum nbqvj'}\")\n",
      "\t('', '385603', 'I9A3P8', 'interacts_with', '{}')\n",
      "\t('', 'L3V2Y6', 'X0C9T5', 'interacts_with', \"{'source': 'intact', 'method': 'Lorem ipsum zwhrq'}\")\n",
      "\t('intact956331', 'L3V2Y6', 'Y8Y3K0', 'interacts_with', \"{'source': 'signor'}\")\n"
     ]
    }
   ],
   "source": [
    "print(\"The list of EDGES contains: {} edges\".format(len(list_edges)))\n",
    "print(\"Example:\")\n",
    "for edge in list_edges[0:6]:\n",
    "    print(\"\\t{}\".format(edge))"
   ]
  },
  {
   "cell_type": "markdown",
   "id": "bb0eeaa8-c8c4-413c-9949-ea9d158d5a27",
   "metadata": {},
   "source": [
    "## Section 2: Create Data Pipeline\n",
    "\n",
    "- **input:** CSV data of edges\n",
    "- **output:** List of tuples containing information of edges\n",
    "\n",
    "The pipeline consist of three consecutive stages:\n",
    "\n",
    "| Stage | Function                      | Description |\n",
    "|-------|-------------------------------| ----------- |\n",
    "| 1     | `load_csv_module()`           | read the csv and load the information in memory    |\n",
    "| 2     | `edges_generator_streaming()` | transform the tuples to desired format             |\n",
    "| 3     | `create_edgelist_ds()`        | create an edgelist containing all the tuples       |"
   ]
  },
  {
   "cell_type": "markdown",
   "id": "c08f7e8d-d4dd-444f-a22f-af87d46d79bc",
   "metadata": {},
   "source": [
    "### 2.1 Create List of tuples (data structure)"
   ]
  },
  {
   "cell_type": "code",
   "execution_count": 20,
   "id": "1bb73a4e-d997-46a5-bf25-6743403c23c6",
   "metadata": {},
   "outputs": [],
   "source": [
    "nodelist, edgelist = generate_lists(\n",
    "    nodes_generator=load_csv_generator(file_path_nodes),\n",
    "    edges_generator=load_csv_generator(file_path_edges))"
   ]
  },
  {
   "cell_type": "code",
   "execution_count": 11,
   "id": "2dca3f67-e2fc-4344-85fb-a412af842299",
   "metadata": {},
   "outputs": [
    {
     "name": "stdout",
     "output_type": "stream",
     "text": [
      "('G0P1I0', 'uniprot_protein', \"{'sequence': 'QKRTLFKVEFGSMSWFYKHRTNMHLRTMMYD', 'description': 'Lorem ipsum ilymp', 'taxon': '7813'}\")\n",
      "('B6V6V7', 'uniprot_isoform', \"{'sequence': 'CGLGLSMRFLMVGVQNWFWYGTRVPDVAYIDWHEYQHQPRVLMQNGN', 'description': 'Lorem ipsum kxujk', 'taxon': '4800'}\")\n",
      "('385603', 'entrez_protein', \"{'sequence': 'EHYTERRSMRSTGQDKTSNPYLFFHITRFKRCPANQVKPWFMVLHKYEW', 'description': 'Lorem ipsum ufuuy', 'taxon': '9606'}\")\n",
      "('L3V2Y6', 'uniprot_protein', \"{'sequence': 'EGYPSHLLDVESFMSHNWTPWIFKCDARLC', 'description': 'Lorem ipsum yueos', 'taxon': '3342', 'mass': 73}\")\n",
      "('Q1R3N5', 'uniprot_isoform', \"{'sequence': 'IVHIKHTTQLGAIIQRNFQVGWCHVG', 'description': 'Lorem ipsum xyked', 'taxon': '5672', 'mass': 7347}\")\n"
     ]
    }
   ],
   "source": [
    "for node in nodelist[0:5]:\n",
    "    print(node)"
   ]
  },
  {
   "cell_type": "code",
   "execution_count": 12,
   "id": "2de432f6-a5a1-4d82-a566-8f11c7107f58",
   "metadata": {},
   "outputs": [
    {
     "name": "stdout",
     "output_type": "stream",
     "text": [
      "('', 'B6V6V7', 'H9R6K5', 'interacts_with', \"{'source': 'signor'}\")\n",
      "('', 'B6V6V7', 'I5X3I2', 'interacts_with', \"{'method': 'Lorem ipsum pblfc'}\")\n",
      "('', '385603', 'H9R6K5', 'interacts_with', \"{'source': 'intact', 'method': 'Lorem ipsum nbqvj'}\")\n",
      "('', '385603', 'I9A3P8', 'interacts_with', '{}')\n",
      "('', 'L3V2Y6', 'X0C9T5', 'interacts_with', \"{'source': 'intact', 'method': 'Lorem ipsum zwhrq'}\")\n"
     ]
    }
   ],
   "source": [
    "for edge in edgelist[0:5]:\n",
    "    print(edge)"
   ]
  },
  {
   "cell_type": "markdown",
   "id": "ff55d01d-0419-41e9-bb17-bb401daf995c",
   "metadata": {},
   "source": [
    "## Section 3: Creating NetworkX "
   ]
  },
  {
   "cell_type": "markdown",
   "id": "7e9b0cbc-f931-447a-97e8-5988aec65b88",
   "metadata": {},
   "source": [
    "Before creating a NetworkX graph we need to convert the data we have into a format that NetworkX understand.\n",
    "\n",
    "NetworkX format for nodes\n",
    "- `(node, properties)`\n",
    "- **node:** hashable object, except `None`. For instance, `str`, `int`, `dict`, etc.\n",
    "- **properties:** python dictionary\n",
    "\n",
    "NetworkX format for nodes\n",
    "- `(source node, target node, properties)`\n",
    "- **source node:** hashable object, except `None`. For instance, `str`, `int`, `dict`, etc.\n",
    "- **target node:** hashable object, except `None`. For instance, `str`, `int`, `dict`, etc.\n",
    "- **properties:** python dictionary"
   ]
  },
  {
   "cell_type": "code",
   "execution_count": 47,
   "id": "9fd37f30-124a-4260-8106-e2192e0905b5",
   "metadata": {},
   "outputs": [],
   "source": [
    "def networkx_graph_from_lists(nodes_iterable, edges_iterable, graph_type=nx.DiGraph()):\n",
    "    # create graph from a list of edges\n",
    "    try:\n",
    "        graph = nx.from_edgelist(edges_iterable, create_using=graph_type)\n",
    "    except nx.NetworkXError as e:\n",
    "        # Edge format not compatible\n",
    "        if '2-tuple' or '3-tuple' in e:\n",
    "            print(\"ERROR: Edge format is not compatible\")\n",
    "            raise\n",
    "\n",
    "    # populate nodes with properties\n",
    "     try:\n",
    "        print(node)\n",
    "        graph.add_nodes_from(nodes_iterable)\n",
    "    except nx.NetworkXError as e:\n",
    "        # node format not compatible\n",
    "        if '2-tuple' or '3-tuple' in e:\n",
    "            print(\"ERROR: Edge format is not compatible\")\n",
    "            raise\n",
    "    \n",
    "    return graph"
   ]
  },
  {
   "cell_type": "code",
   "execution_count": 48,
   "id": "962665b5-615d-4dc8-ba83-3360ef809448",
   "metadata": {},
   "outputs": [],
   "source": [
    "nodes = to_networkx_nodes_format(nodelist)\n",
    "edges = to_networkx_edges_format(edgelist)"
   ]
  },
  {
   "cell_type": "code",
   "execution_count": 49,
   "id": "5d2232f0-321d-4d21-8751-542d83dd64db",
   "metadata": {},
   "outputs": [
    {
     "data": {
      "text/plain": [
       "<generator object to_networkx_nodes_format at 0x737d80ea09e0>"
      ]
     },
     "execution_count": 49,
     "metadata": {},
     "output_type": "execute_result"
    }
   ],
   "source": [
    "nodes"
   ]
  },
  {
   "cell_type": "code",
   "execution_count": null,
   "id": "b0fd5a4d-f55a-44fc-9758-a9d2307c5610",
   "metadata": {},
   "outputs": [],
   "source": []
  },
  {
   "cell_type": "code",
   "execution_count": 50,
   "id": "f1a9fb92-50c2-4980-a51f-df5001031bfc",
   "metadata": {},
   "outputs": [
    {
     "name": "stdout",
     "output_type": "stream",
     "text": [
      "('G0P1I0', {'sequence': 'QKRTLFKVEFGSMSWFYKHRTNMHLRTMMYD', 'description': 'Lorem ipsum ilymp', 'taxon': '7813', 'node_label': 'uniprot_protein'})\n"
     ]
    },
    {
     "ename": "ValueError",
     "evalue": "too many values to unpack (expected 2)",
     "output_type": "error",
     "traceback": [
      "\u001b[0;31m---------------------------------------------------------------------------\u001b[0m",
      "\u001b[0;31mTypeError\u001b[0m                                 Traceback (most recent call last)",
      "File \u001b[0;32m~/miniconda3/envs/biocypher/lib/python3.10/site-packages/networkx/classes/digraph.py:534\u001b[0m, in \u001b[0;36mDiGraph.add_nodes_from\u001b[0;34m(self, nodes_for_adding, **attr)\u001b[0m\n\u001b[1;32m    533\u001b[0m \u001b[38;5;28;01mtry\u001b[39;00m:\n\u001b[0;32m--> 534\u001b[0m     newnode \u001b[38;5;241m=\u001b[39m \u001b[43mn\u001b[49m\u001b[43m \u001b[49m\u001b[38;5;129;43;01mnot\u001b[39;49;00m\u001b[43m \u001b[49m\u001b[38;5;129;43;01min\u001b[39;49;00m\u001b[43m \u001b[49m\u001b[38;5;28;43mself\u001b[39;49m\u001b[38;5;241;43m.\u001b[39;49m\u001b[43m_node\u001b[49m\n\u001b[1;32m    535\u001b[0m     newdict \u001b[38;5;241m=\u001b[39m attr\n",
      "\u001b[0;31mTypeError\u001b[0m: unhashable type: 'dict'",
      "\nDuring handling of the above exception, another exception occurred:\n",
      "\u001b[0;31mValueError\u001b[0m                                Traceback (most recent call last)",
      "Cell \u001b[0;32mIn[50], line 1\u001b[0m\n\u001b[0;32m----> 1\u001b[0m G \u001b[38;5;241m=\u001b[39m \u001b[43mnetworkx_graph_from_lists\u001b[49m\u001b[43m(\u001b[49m\u001b[43medges_iterable\u001b[49m\u001b[38;5;241;43m=\u001b[39;49m\u001b[43mto_networkx_edges_format\u001b[49m\u001b[43m(\u001b[49m\u001b[43medgelist\u001b[49m\u001b[43m)\u001b[49m\u001b[43m,\u001b[49m\n\u001b[1;32m      2\u001b[0m \u001b[43m                              \u001b[49m\u001b[43mnodes_iterable\u001b[49m\u001b[38;5;241;43m=\u001b[39;49m\u001b[43mto_networkx_nodes_format\u001b[49m\u001b[43m(\u001b[49m\u001b[43mnodelist\u001b[49m\u001b[43m)\u001b[49m\u001b[43m,\u001b[49m\n\u001b[1;32m      3\u001b[0m \u001b[43m                              \u001b[49m\u001b[43mgraph_type\u001b[49m\u001b[38;5;241;43m=\u001b[39;49m\u001b[43mnx\u001b[49m\u001b[38;5;241;43m.\u001b[39;49m\u001b[43mDiGraph\u001b[49m\u001b[43m(\u001b[49m\u001b[43m)\u001b[49m\u001b[43m)\u001b[49m\n",
      "Cell \u001b[0;32mIn[47], line 15\u001b[0m, in \u001b[0;36mnetworkx_graph_from_lists\u001b[0;34m(nodes_iterable, edges_iterable, graph_type)\u001b[0m\n\u001b[1;32m     13\u001b[0m \u001b[38;5;28;01mtry\u001b[39;00m:\n\u001b[1;32m     14\u001b[0m     \u001b[38;5;28mprint\u001b[39m(node)\n\u001b[0;32m---> 15\u001b[0m     \u001b[43mgraph\u001b[49m\u001b[38;5;241;43m.\u001b[39;49m\u001b[43madd_nodes_from\u001b[49m\u001b[43m(\u001b[49m\u001b[43mnode\u001b[49m\u001b[43m)\u001b[49m\n\u001b[1;32m     16\u001b[0m \u001b[38;5;28;01mexcept\u001b[39;00m nx\u001b[38;5;241m.\u001b[39mNetworkXError \u001b[38;5;28;01mas\u001b[39;00m e:\n\u001b[1;32m     17\u001b[0m     \u001b[38;5;66;03m# node format not compatible\u001b[39;00m\n\u001b[1;32m     18\u001b[0m     \u001b[38;5;28;01mif\u001b[39;00m \u001b[38;5;124m'\u001b[39m\u001b[38;5;124m2-tuple\u001b[39m\u001b[38;5;124m'\u001b[39m \u001b[38;5;129;01mor\u001b[39;00m \u001b[38;5;124m'\u001b[39m\u001b[38;5;124m3-tuple\u001b[39m\u001b[38;5;124m'\u001b[39m \u001b[38;5;129;01min\u001b[39;00m e:\n",
      "File \u001b[0;32m~/miniconda3/envs/biocypher/lib/python3.10/site-packages/networkx/classes/digraph.py:537\u001b[0m, in \u001b[0;36mDiGraph.add_nodes_from\u001b[0;34m(self, nodes_for_adding, **attr)\u001b[0m\n\u001b[1;32m    535\u001b[0m     newdict \u001b[38;5;241m=\u001b[39m attr\n\u001b[1;32m    536\u001b[0m \u001b[38;5;28;01mexcept\u001b[39;00m \u001b[38;5;167;01mTypeError\u001b[39;00m:\n\u001b[0;32m--> 537\u001b[0m     n, ndict \u001b[38;5;241m=\u001b[39m n\n\u001b[1;32m    538\u001b[0m     newnode \u001b[38;5;241m=\u001b[39m n \u001b[38;5;129;01mnot\u001b[39;00m \u001b[38;5;129;01min\u001b[39;00m \u001b[38;5;28mself\u001b[39m\u001b[38;5;241m.\u001b[39m_node\n\u001b[1;32m    539\u001b[0m     newdict \u001b[38;5;241m=\u001b[39m attr\u001b[38;5;241m.\u001b[39mcopy()\n",
      "\u001b[0;31mValueError\u001b[0m: too many values to unpack (expected 2)"
     ]
    }
   ],
   "source": [
    "G = networkx_graph_from_lists(edges_iterable=to_networkx_edges_format(edgelist),\n",
    "                              nodes_iterable=to_networkx_nodes_format(nodelist),\n",
    "                              graph_type=nx.DiGraph())"
   ]
  },
  {
   "cell_type": "code",
   "execution_count": 43,
   "id": "a1b20c24-ef96-4444-93a6-1cf9dee4cc2b",
   "metadata": {},
   "outputs": [
    {
     "data": {
      "text/plain": [
       "OutEdgeDataView([('B6V6V7', 'H9R6K5', {'source': 'signor', 'edge_id': '', 'edge_label': 'interacts_with'}), ('B6V6V7', 'I5X3I2', {'method': 'Lorem ipsum pblfc', 'edge_id': '', 'edge_label': 'interacts_with'}), ('H9R6K5', 'E8I0O8', {'edge_id': 'intact277910', 'edge_label': 'interacts_with'}), ('I5X3I2', 'D4X6C4', {'source': 'intact', 'method': 'Lorem ipsum iiozd', 'edge_id': '', 'edge_label': 'interacts_with'}), ('I5X3I2', 'T9Z8Y0', {'method': 'Lorem ipsum gconp', 'edge_id': 'intact994853', 'edge_label': 'interacts_with'}), ('385603', 'H9R6K5', {'source': 'intact', 'method': 'Lorem ipsum nbqvj', 'edge_id': '', 'edge_label': 'interacts_with'}), ('385603', 'I9A3P8', {'edge_id': '', 'edge_label': 'interacts_with'}), ('I9A3P8', 'L3V2Y6', {'source': 'intact', 'edge_id': '', 'edge_label': 'interacts_with'}), ('I9A3P8', '373262', {'edge_id': 'intact812038', 'edge_label': 'interacts_with'}), ('L3V2Y6', 'X0C9T5', {'source': 'intact', 'method': 'Lorem ipsum zwhrq', 'edge_id': '', 'edge_label': 'interacts_with'}), ('L3V2Y6', 'Y8Y3K0', {'source': 'signor', 'edge_id': 'intact956331', 'edge_label': 'interacts_with'}), ('L3V2Y6', 'I5X3I2', {'method': 'Lorem ipsum hfvlp', 'edge_id': 'intact337768', 'edge_label': 'interacts_with'}), ('X0C9T5', '535278', {'source': 'signor', 'edge_id': '', 'edge_label': 'interacts_with'}), ('Q1R3N5', 'I0S4T8', {'edge_id': '', 'edge_label': 'interacts_with'}), ('Q1R3N5', 'H0U9R4', {'source': 'intact', 'edge_id': 'intact260500', 'edge_label': 'interacts_with'}), ('I0S4T8', 'C8W4F0', {'edge_id': 'intact538978', 'edge_label': 'interacts_with'}), ('H0U9R4', 'Q1R3N5', {'source': 'signor', 'edge_id': '', 'edge_label': 'interacts_with'}), ('H0U9R4', 'C8W4F0', {'edge_id': '', 'edge_label': 'interacts_with'}), ('249853', 'G0P1I0', {'source': 'intact', 'method': 'Lorem ipsum lsbdz', 'edge_id': '', 'edge_label': 'interacts_with'}), ('249853', 'H1M7P2', {'method': 'Lorem ipsum qsult', 'edge_id': 'intact82265', 'edge_label': 'interacts_with'}), ('249853', 'D4X6C4', {'source': 'signor', 'method': 'Lorem ipsum rlyhh', 'edge_id': '', 'edge_label': 'interacts_with'}), ('249853', '999852', {'source': 'signor', 'method': 'Lorem ipsum ulkku', 'edge_id': '', 'edge_label': 'interacts_with'}), ('249853', 'P8X2R8', {'edge_id': 'intact205562', 'edge_label': 'interacts_with'}), ('H1M7P2', '373262', {'source': 'signor', 'method': 'Lorem ipsum jmzhj', 'edge_id': '', 'edge_label': 'interacts_with'}), ('H1M7P2', '189306', {'method': 'Lorem ipsum iqlma', 'edge_id': 'intact631800', 'edge_label': 'interacts_with'}), ('D4X6C4', 'I0S4T8', {'source': 'signor', 'method': 'Lorem ipsum xafpj', 'edge_id': 'intact405378', 'edge_label': 'interacts_with'}), ('D4X6C4', 'H0U9R4', {'edge_id': 'intact694086', 'edge_label': 'interacts_with'}), ('D4X6C4', 'H1M7P2', {'source': 'signor', 'edge_id': 'intact446811', 'edge_label': 'interacts_with'}), ('D4X6C4', 'D5V7Y7', {'edge_id': 'intact850890', 'edge_label': 'interacts_with'}), ('D4X6C4', 'U9P9L6', {'method': 'Lorem ipsum ygxkg', 'edge_id': 'intact859346', 'edge_label': 'interacts_with'}), ('P8X2R8', 'T9Z8Y0', {'source': 'signor', 'edge_id': '', 'edge_label': 'interacts_with'}), ('535278', '447972', {'source': 'intact', 'method': 'Lorem ipsum ficmx', 'edge_id': '', 'edge_label': 'interacts_with'}), ('447972', 'H0U9R4', {'source': 'intact', 'method': 'Lorem ipsum jkoie', 'edge_id': 'intact556444', 'edge_label': 'interacts_with'}), ('D8O4Y7', 'L3V2Y6', {'edge_id': 'intact357405', 'edge_label': 'interacts_with'}), ('C8W4F0', 'H9R6K5', {'method': 'Lorem ipsum wwkkw', 'edge_id': '', 'edge_label': 'interacts_with'}), ('C8W4F0', 'D5V7Y7', {'source': 'signor', 'method': 'Lorem ipsum cdcxn', 'edge_id': 'intact898671', 'edge_label': 'interacts_with'}), ('C8W4F0', 'I9A3P8', {'source': 'signor', 'method': 'Lorem ipsum lyrwo', 'edge_id': '', 'edge_label': 'interacts_with'}), ('189306', 'H9R6K5', {'edge_id': '', 'edge_label': 'interacts_with'}), ('189306', 'C8W4F0', {'source': 'intact', 'method': 'Lorem ipsum raxbi', 'edge_id': 'intact608806', 'edge_label': 'interacts_with'}), ('D5V7Y7', 'H1M7P2', {'source': 'signor', 'edge_id': 'intact51967', 'edge_label': 'interacts_with'}), ('U9P9L6', 'X0C9T5', {'method': 'Lorem ipsum bxjad', 'edge_id': 'intact795446', 'edge_label': 'interacts_with'}), ('792512', 'L3V2Y6', {'edge_id': 'intact419487', 'edge_label': 'interacts_with'}), ('792512', 'H0U9R4', {'source': 'signor', 'edge_id': 'intact180399', 'edge_label': 'interacts_with'}), ('559407', '385603', {'source': 'signor', 'edge_id': '', 'edge_label': 'interacts_with'}), ('559407', 'I0S4T8', {'method': 'Lorem ipsum nvdex', 'edge_id': '', 'edge_label': 'interacts_with'}), ('449383', 'L3V2Y6', {'method': 'Lorem ipsum qhpxd', 'edge_id': 'intact620870', 'edge_label': 'interacts_with'}), ('449383', 'T9Z8Y0', {'source': 'intact', 'edge_id': '', 'edge_label': 'interacts_with'})])"
      ]
     },
     "execution_count": 43,
     "metadata": {},
     "output_type": "execute_result"
    }
   ],
   "source": [
    "G.edges(data=True)"
   ]
  },
  {
   "cell_type": "code",
   "execution_count": null,
   "id": "ffa18ca0-99bb-4494-9674-07306a113b13",
   "metadata": {},
   "outputs": [],
   "source": []
  },
  {
   "cell_type": "code",
   "execution_count": null,
   "id": "216b6d5d-c2e4-4677-a096-b7e548b24c9c",
   "metadata": {},
   "outputs": [],
   "source": [
    "try:\n",
    "    G.clear()\n",
    "    print(\"Graph has been cleared!\")\n",
    "except:\n",
    "    print(\"Graph G doesn't exist\")"
   ]
  },
  {
   "cell_type": "markdown",
   "id": "ab982179-d23c-43e9-98b1-c6bad344bd5d",
   "metadata": {},
   "source": [
    "### 3.1 Create a Directed Graph"
   ]
  },
  {
   "cell_type": "code",
   "execution_count": null,
   "id": "c47bcb34-ec18-42b2-9ed7-e1b670601706",
   "metadata": {},
   "outputs": [],
   "source": [
    "G = nx.from_edgelist(edgelist, create_using=nx.DiGraph)"
   ]
  },
  {
   "cell_type": "markdown",
   "id": "159eb09e-6f7e-4f71-840c-b836d0d91988",
   "metadata": {},
   "source": [
    "### 3.2 Draw Graph"
   ]
  },
  {
   "cell_type": "code",
   "execution_count": null,
   "id": "ab373c16-aa79-4f6d-95bd-bdffefed6c20",
   "metadata": {},
   "outputs": [],
   "source": [
    "nx.draw(G, with_labels=True)"
   ]
  },
  {
   "cell_type": "markdown",
   "id": "07c3ca3c-a3bf-4f7b-a098-a5ab18695842",
   "metadata": {},
   "source": [
    "### 3.3 Some statistics"
   ]
  },
  {
   "cell_type": "code",
   "execution_count": null,
   "id": "d6724a37-75a7-4f21-9187-6166747692fd",
   "metadata": {},
   "outputs": [],
   "source": [
    "print(\"Number of nodes: {}\".format(G.number_of_nodes()))\n",
    "print(\"Number of edges: {}\".format(G.number_of_edges()))"
   ]
  },
  {
   "cell_type": "code",
   "execution_count": null,
   "id": "5fe924bc-d677-46ed-919a-5c84d941f382",
   "metadata": {},
   "outputs": [],
   "source": [
    "limit = 5\n",
    "for index, edge in enumerate(G.edges(data=True)):\n",
    "    if index == limit:\n",
    "        break\n",
    "    print(edge)"
   ]
  },
  {
   "cell_type": "code",
   "execution_count": null,
   "id": "fe0629a5-7691-4b75-8061-abe8d18454ea",
   "metadata": {},
   "outputs": [],
   "source": [
    "limit = 5\n",
    "for index, node in enumerate(G.nodes(data=True)):\n",
    "    if index == limit:\n",
    "        break\n",
    "    print(node)"
   ]
  },
  {
   "cell_type": "code",
   "execution_count": null,
   "id": "906bd6ad-5376-414e-94e5-0cfcb7d74c4a",
   "metadata": {},
   "outputs": [],
   "source": []
  }
 ],
 "metadata": {
  "kernelspec": {
   "display_name": "Python 3 (ipykernel)",
   "language": "python",
   "name": "python3"
  },
  "language_info": {
   "codemirror_mode": {
    "name": "ipython",
    "version": 3
   },
   "file_extension": ".py",
   "mimetype": "text/x-python",
   "name": "python",
   "nbconvert_exporter": "python",
   "pygments_lexer": "ipython3",
   "version": "3.10.14"
  }
 },
 "nbformat": 4,
 "nbformat_minor": 5
}
