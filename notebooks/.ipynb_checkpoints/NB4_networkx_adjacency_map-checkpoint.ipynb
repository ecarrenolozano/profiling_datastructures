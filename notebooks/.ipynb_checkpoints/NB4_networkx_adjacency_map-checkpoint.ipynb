{
 "cells": [
  {
   "cell_type": "markdown",
   "metadata": {},
   "source": [
    "# Experiment 4: Adjacency Map as data structure for Graphs"
   ]
  },
  {
   "cell_type": "markdown",
   "metadata": {},
   "source": [
    "[//]: # (------------------------------------------    DO NOT MODIFY THIS    ------------------------------------------)\n",
    "<style type=\"text/css\">\n",
    ".tg  {border-collapse:collapse;\n",
    "      border-spacing:0;\n",
    "     }\n",
    ".tg td{border-color:black;\n",
    "       border-style:solid;\n",
    "       border-width:1px;\n",
    "       font-family:Arial, sans-serif;\n",
    "       font-size:14px;\n",
    "       overflow:hidden;\n",
    "       padding:10px 5px;\n",
    "       word-break:normal;\n",
    "      }\n",
    ".tg th{border-color:black;\n",
    "       border-style:solid;\n",
    "       border-width:1px;\n",
    "       font-family:Arial, sans-serif;\n",
    "       font-size:14px;\n",
    "       font-weight:normal;\n",
    "       overflow:hidden;\n",
    "       padding:10px 5px;\n",
    "       word-break:normal;\n",
    "      }\n",
    ".tg .tg-fymr{border-color:inherit;\n",
    "             font-weight:bold;\n",
    "             text-align:left;\n",
    "             vertical-align:top\n",
    "            }\n",
    ".tg .tg-0pky{border-color:inherit;\n",
    "             text-align:left;\n",
    "             vertical-align:top\n",
    "            }\n",
    "[//]: # (--------------------------------------------------------------------------------------------------------------)\n",
    "\n",
    "[//]: # (-------------------------------------    FILL THIS OUT WITH YOUR DATA    -------------------------------------)\n",
    "</style>\n",
    "<table class=\"tg\">\n",
    "    <tbody>\n",
    "      <tr>\n",
    "        <td class=\"tg-fymr\" style=\"font-weight: bold\">Title:</td>\n",
    "        <td class=\"tg-0pky\">Experiment 4: Adjacency Map as data structure for Graphs</td>\n",
    "      </tr>\n",
    "      <tr>\n",
    "        <td class=\"tg-fymr\" style=\"font-weight: bold\">Authors:</td>\n",
    "        <td class=\"tg-0pky\">\n",
    "            <a href=\"https://github.com/ecarrenolozano\" target=\"_blank\" rel=\"noopener noreferrer\">Edwin Carreño</a>\n",
    "        </td>\n",
    "      </tr>\n",
    "      <tr>\n",
    "        <td class=\"tg-fymr\" style=\"font-weight: bold\">Affiliations:</td>\n",
    "        <td class=\"tg-0pky\">\n",
    "            <a href=\"https://www.ssc.uni-heidelberg.de/en\" target=\"_blank\" rel=\"noopener noreferrer\">Scientific Software Center</a>\n",
    "        </td>\n",
    "      </tr>\n",
    "      <tr>\n",
    "        <td class=\"tg-fymr\" style=\"font-weight: bold\">Date Created:</td>\n",
    "        <td class=\"tg-0pky\">30.10.2024</td>\n",
    "      </tr>\n",
    "      <tr>\n",
    "        <td class=\"tg-fymr\" style=\"font-weight: bold\">Description:</td>\n",
    "        <td class=\"tg-0pky\">Creation of a graph using adjacency maps and data from CSV files. Conversion to NetworkX is tested too.</td>\n",
    "      </tr>\n",
    "    </tbody>\n",
    "</table>\n",
    "\n",
    "[//]: # (--------------------------------------------------------------------------------------------------------------)"
   ]
  },
  {
   "cell_type": "markdown",
   "metadata": {},
   "source": [
    "<table class=\"tfo-notebook-buttons\" align=\"left\">\n",
    "  <td>\n",
    "    <a target=\"_blank\" href=\"https://colab.research.google.com/github/tensorflow/docs/blob/master/site/en/tutorials/quickstart/beginner.ipynb\"><img src=\"https://www.tensorflow.org/images/colab_logo_32px.png\" />Run in Google Colab</a>\n",
    "  </td>\n",
    "  <td>\n",
    "    <a target=\"_blank\" href=\"https://github.com/tensorflow/docs/blob/master/site/en/tutorials/quickstart/beginner.ipynb\"><img src=\"https://www.tensorflow.org/images/GitHub-Mark-32px.png\" />View source on GitHub</a>\n",
    "  </td>\n",
    "  \n",
    "</table>"
   ]
  },
  {
   "cell_type": "markdown",
   "metadata": {},
   "source": [
    "## Overview"
   ]
  },
  {
   "cell_type": "markdown",
   "metadata": {},
   "source": [
    "In this notebook we are going to:\n",
    "\n",
    "1. Import CSV (comma-separated values) data from nodes and edges.\n",
    "2. Describe the data from CSVs.\n",
    "3. Create a data pipeline that:\n",
    "   - extract CSV data\n",
    "   - transform the format for edges\n",
    "   - convert the data from edges into an adjacency map (data structure)\n",
    "4. Create a NetworkX graph from an Adjacency Map."
   ]
  },
  {
   "cell_type": "markdown",
   "metadata": {},
   "source": [
    "## Setup (if required)\n",
    "\n",
    "**Note:** If your code require to install dependencies before your main code, please add the commands to install the dependencies. You can silence the messages returned by `pip` the flag `-q`, i.e. `pip install pandas -q`"
   ]
  },
  {
   "cell_type": "markdown",
   "metadata": {},
   "source": [
    "### NetworkX installation"
   ]
  },
  {
   "cell_type": "code",
   "execution_count": 1,
   "metadata": {},
   "outputs": [],
   "source": [
    "!pip install networkx[default] -q"
   ]
  },
  {
   "cell_type": "markdown",
   "metadata": {
    "vscode": {
     "languageId": "plaintext"
    }
   },
   "source": [
    "## Importing Libraries"
   ]
  },
  {
   "cell_type": "code",
   "execution_count": 2,
   "metadata": {},
   "outputs": [],
   "source": [
    "\"\"\"\n",
    "Recommendations:\n",
    "    - Respect the order of the imports, they are indicated by the numbers 1, 2, 3.\n",
    "    - One import per line is recommended, with this we can track easily any modified line when we use git.\n",
    "    - Absolute imports are recommended (see 3. Local application/library specific imports below), they improve readability and give better error messages.\n",
    "    - You should put a blank line between each group of imports.\n",
    "\"\"\"\n",
    "\n",
    "# future-imports (for instance: from __future__ import barry_as_FLUFL)\n",
    "# from __future__ import barry_as_FLUFL  \n",
    "\n",
    "# 1. Standard library imports\n",
    "import ast\n",
    "import csv\n",
    "import json\n",
    "import os\n",
    "import re\n",
    "\n",
    "# 2. Related third party imports\n",
    "import networkx as nx\n",
    "\n",
    "# 3. Local application/library specific imports\n",
    "# import <mypackage>.<MyClass>         # this is an example\n",
    "# from <mypackage> import <MyClass>    # this is another example "
   ]
  },
  {
   "cell_type": "markdown",
   "metadata": {},
   "source": [
    "## Helper Functions"
   ]
  },
  {
   "cell_type": "code",
   "execution_count": 3,
   "metadata": {},
   "outputs": [],
   "source": [
    "def string_contains_dictionary(string):\n",
    "    pattern = r'^\\s*\\{.*:.*\\}\\s*$'  # Matches strings that resemble a dictionary\n",
    "    return bool(re.match(pattern, string))\n",
    "    \n",
    "def string_contains_empty_dictionary(string):\n",
    "    pattern = r'^\\s*\\{\\}\\s*$'\n",
    "    return bool(re.match(pattern, string))\n",
    "\n",
    "def dict_from_edgelist(edgelist):\n",
    "    graph_dict = {}   # This is the data structure for a directed graph\n",
    "    \n",
    "    # Build an unique set of nodes\n",
    "    set_nodes = set()                                    \n",
    "    for rel in edgelist:\n",
    "        if len(rel) == 3: # format (source_node, target_node, properties)\n",
    "            source_node, target_node, _ = rel\n",
    "        else:             # format (id, source_node, target_node, label, properties)\n",
    "            _, source_node, target_node, _, _ = rel\n",
    "        set_nodes.add(source_node)\n",
    "        set_nodes.add(target_node)\n",
    "\n",
    "    # Assigns to each node an empty dictionary\n",
    "    for node in set_nodes:\n",
    "        graph_dict[node]={}\n",
    "\n",
    "    # Populate nodes with relationships and properties\n",
    "    for rel in edgelist:\n",
    "        if len(rel) == 3: # format (source_node, target_node, properties)\n",
    "            source_node, target_node, properties = rel\n",
    "            \n",
    "        elif len(rel) == 5: # format (edge_id, source_node, target_node, edge_label, properties)\n",
    "            edge_id, source_node, target_node, edge_label, properties = rel\n",
    "            \n",
    "            if isinstance(properties, str) and string_contains_dictionary(properties):\n",
    "                properties = ast.literal_eval(properties)\n",
    "\n",
    "            if isinstance(properties, str) and string_contains_empty_dictionary(properties):\n",
    "                properties = ast.literal_eval(properties)\n",
    "            \n",
    "            if isinstance(properties, dict):\n",
    "                properties[\"id\"] = edge_id\n",
    "                properties[\"label\"] = edge_label            \n",
    "\n",
    "        graph_dict[source_node][target_node] = properties\n",
    "                                               \n",
    "    return graph_dict\n",
    "\n",
    "def to_networkx_nodes_format(nodes_iterable, mapping_properties=True):\n",
    "    for (node_id, node_label, properties) in nodes_iterable:\n",
    "        # Original format\n",
    "        #  (node id, node label, properties)\n",
    "\n",
    "        # Desired format\n",
    "        #  (node id, properties as dict)\n",
    "\n",
    "        properties = ast.literal_eval(properties)\n",
    "\n",
    "        if mapping_properties:\n",
    "            properties[\"node_label\"] = node_label\n",
    "\n",
    "        yield(\n",
    "            node_id,\n",
    "            properties\n",
    "        )\n",
    "\n",
    "def to_networkx_edges_format(edges_iterable, mapping_properties=True):\n",
    "    for (edge_id, source_id, target_id, edge_label, properties) in edges_iterable:\n",
    "        # Original format\n",
    "        #  (edge id, source (edge id), target (edge id), label, properties)\n",
    "\n",
    "        # Desired format\n",
    "        #  (source (edge id), target (edge id), properties as dict)\n",
    "\n",
    "        properties = ast.literal_eval(properties)\n",
    "\n",
    "        if mapping_properties:\n",
    "            properties[\"edge_id\"] = edge_id\n",
    "            properties[\"edge_label\"] = edge_label\n",
    "\n",
    "        yield (\n",
    "            source_id,\n",
    "            target_id,\n",
    "            properties,\n",
    "        )\n",
    "\n",
    "\n",
    "def load_csv_generator(file_path, header=True):\n",
    "    with open(file_path, \"r\") as file:\n",
    "        reader = csv.reader(file)\n",
    "        if header:\n",
    "            next(reader)\n",
    "        for row in reader:\n",
    "            yield tuple(row)"
   ]
  },
  {
   "cell_type": "markdown",
   "metadata": {},
   "source": [
    "## Introduction"
   ]
  },
  {
   "cell_type": "code",
   "execution_count": null,
   "metadata": {},
   "outputs": [],
   "source": []
  },
  {
   "cell_type": "code",
   "execution_count": null,
   "metadata": {},
   "outputs": [],
   "source": []
  },
  {
   "cell_type": "markdown",
   "metadata": {},
   "source": [
    "## Section 1: Load the CSV data that contains nodes and edges\n",
    "\n",
    "For this exercise, each graph is represented by two CSV files. One containing information about the **nodes** and the other about the **edges**. To indicate that both files correspond to the same graph, their names include the same number of nodes. For example:\n",
    "\n",
    "- `dataset_30_nodes_proteins.csv`: contains 30 rows (nodes).\n",
    "- `dataset_30_edges_interactions.csv`: contains 47 rows (edges).\n",
    "\n",
    "We reference each CSV file or dataset as follows:"
   ]
  },
  {
   "cell_type": "code",
   "execution_count": 4,
   "metadata": {},
   "outputs": [],
   "source": [
    "filename_nodes = \"dataset_30_nodes_proteins.csv\"\n",
    "filename_edges = \"dataset_30_edges_interactions.csv\"\n",
    "\n",
    "FILE_PATH_DATASETS = \"../../../DATASETS\""
   ]
  },
  {
   "cell_type": "markdown",
   "metadata": {},
   "source": [
    "### 1.1: Load Nodes\n",
    "\n",
    "The CSV file for nodes contains three columns:\n",
    "- `UniProt ID`\n",
    "- `label`\n",
    "- `properties`\n",
    "\n",
    "We are going to load the information of nodes as a **list of tuples**. Each tuple represents a node with the structure:\n",
    "- `(id, label, properties)`\n",
    "- Each field in the tuple is a `string`\n",
    "- The `properties` field is a string containing a dictionary of properties."
   ]
  },
  {
   "cell_type": "code",
   "execution_count": 5,
   "metadata": {},
   "outputs": [],
   "source": [
    "file_path_nodes = os.path.join(FILE_PATH_DATASETS, filename_nodes)\n",
    "\n",
    "list_nodes = [node for node in load_csv_generator(file_path_nodes, header=True)]"
   ]
  },
  {
   "cell_type": "code",
   "execution_count": 6,
   "metadata": {},
   "outputs": [
    {
     "name": "stdout",
     "output_type": "stream",
     "text": [
      "The list of NODES contains: 30 nodes\n",
      "Example:\n",
      "\t('G0P1I0', 'uniprot_protein', \"{'sequence': 'QKRTLFKVEFGSMSWFYKHRTNMHLRTMMYD', 'description': 'Lorem ipsum ilymp', 'taxon': '7813'}\")\n"
     ]
    }
   ],
   "source": [
    "print(\"The list of NODES contains: {} nodes\".format(len(list_nodes)))\n",
    "print(\"Example:\\n\\t{}\".format(list_nodes[0]))"
   ]
  },
  {
   "cell_type": "markdown",
   "metadata": {},
   "source": [
    "### 1.2: Load Edges\n",
    "\n",
    "The CSV file for edges contains five columns:\n",
    "- `Relation ID`\n",
    "- `Source ID`\n",
    "- `Target ID`\n",
    "- `label`\n",
    "- `properties`\n",
    "\n",
    "We are going to load the information of edges as a list of tuples. Each tuple represents a node with thethe structure:\n",
    "- `(id, source, target, label, properties)`\n",
    "- Each field in the tuple is a `string`\n",
    "- The `properties` field is string containing a dictionary of properties."
   ]
  },
  {
   "cell_type": "code",
   "execution_count": 7,
   "metadata": {},
   "outputs": [],
   "source": [
    "file_path_edges = os.path.join(FILE_PATH_DATASETS, filename_edges)\n",
    "\n",
    "list_edges = [edge for edge in load_csv_generator(file_path_edges, header=True)]"
   ]
  },
  {
   "cell_type": "code",
   "execution_count": 8,
   "metadata": {},
   "outputs": [
    {
     "name": "stdout",
     "output_type": "stream",
     "text": [
      "The list of EDGES contains: 47 edges\n",
      "Example:\n",
      "\t('', 'B6V6V7', 'H9R6K5', 'interacts_with', \"{'source': 'signor'}\")\n",
      "\t('', 'B6V6V7', 'I5X3I2', 'interacts_with', \"{'method': 'Lorem ipsum pblfc'}\")\n",
      "\t('', '385603', 'H9R6K5', 'interacts_with', \"{'source': 'intact', 'method': 'Lorem ipsum nbqvj'}\")\n",
      "\t('', '385603', 'I9A3P8', 'interacts_with', '{}')\n",
      "\t('', 'L3V2Y6', 'X0C9T5', 'interacts_with', \"{'source': 'intact', 'method': 'Lorem ipsum zwhrq'}\")\n",
      "\t('intact956331', 'L3V2Y6', 'Y8Y3K0', 'interacts_with', \"{'source': 'signor'}\")\n"
     ]
    }
   ],
   "source": [
    "print(\"The list of EDGES contains: {} edges\".format(len(list_edges)))\n",
    "print(\"Example:\")\n",
    "for edge in list_edges[0:6]:\n",
    "    print(\"\\t{}\".format(edge))"
   ]
  },
  {
   "cell_type": "markdown",
   "metadata": {},
   "source": [
    "## Section 2: Create Data Pipeline\n",
    "\n",
    "- **input:** CSV data of edges\n",
    "- **output:** Adjacency map containing graph's data.\n",
    "\n",
    "The pipeline consist of two consecutive stages:\n",
    "\n",
    "| Stage | Function                      | Description |\n",
    "|-------|-------------------------------| ----------- |\n",
    "| 1     | `load_csv_generator()`           | read the csv and load the information in memory           |\n",
    "| 2     | `dict_from_edgelist(edgelist)`| create an adjacency map with the information of the graph |"
   ]
  },
  {
   "cell_type": "markdown",
   "metadata": {},
   "source": [
    "### 2.1 Create Adjacency Map (data structure)"
   ]
  },
  {
   "cell_type": "code",
   "execution_count": 9,
   "metadata": {},
   "outputs": [
    {
     "name": "stdout",
     "output_type": "stream",
     "text": [
      "('G0P1I0', {'sequence': 'QKRTLFKVEFGSMSWFYKHRTNMHLRTMMYD', 'description': 'Lorem ipsum ilymp', 'taxon': '7813', 'node_label': 'uniprot_protein'})\n"
     ]
    }
   ],
   "source": [
    "for node in to_networkx_nodes_format(list_nodes):\n",
    "    print(node)\n",
    "    break"
   ]
  },
  {
   "cell_type": "code",
   "execution_count": 10,
   "metadata": {},
   "outputs": [
    {
     "name": "stdout",
     "output_type": "stream",
     "text": [
      "('B6V6V7', 'H9R6K5', {'source': 'signor', 'edge_id': '', 'edge_label': 'interacts_with'})\n"
     ]
    }
   ],
   "source": [
    "for edge in to_networkx_edges_format(list_edges):\n",
    "    print(edge)\n",
    "    break"
   ]
  },
  {
   "cell_type": "code",
   "execution_count": null,
   "metadata": {},
   "outputs": [],
   "source": []
  },
  {
   "cell_type": "code",
   "execution_count": 11,
   "metadata": {},
   "outputs": [],
   "source": [
    "def build_set_nodes(iterator_edges):\n",
    "    set_nodes = set()                                    \n",
    "    for (source_id, target_id, properties) in iterator_edges:\n",
    "        set_nodes.add(source_id)\n",
    "        set_nodes.add(target_id)\n",
    "\n",
    "    return set_nodes"
   ]
  },
  {
   "cell_type": "code",
   "execution_count": 38,
   "metadata": {},
   "outputs": [],
   "source": [
    "def create_adjacency_map(function_generator_edges, generator_edges):\n",
    "    \n",
    "    adjacency_map = {}   # This is the data structure for a directed graph\n",
    "    \n",
    "    # Build an unique set of nodes\n",
    "    iterator_edges_1 = function_generator_edges(generator_edges)\n",
    "    set_nodes = build_set_nodes(iterator_edges_1)\n",
    "\n",
    "    # Assigns to each node an empty dictionary\n",
    "    for node in set_nodes:\n",
    "        adjacency_map[node]={}\n",
    "\n",
    "    iterator_edges_2 = function_generator_edges(generator_edges)\n",
    "    # Populate nodes with relationships and properties\n",
    "    for (source_id, target_id, properties) in iterator_edges_2:\n",
    "        if isinstance(properties, str):\n",
    "            properties = ast.literal_eval(properties)\n",
    "        \n",
    "        adjacency_map[source_id][target_id] = properties\n",
    "                                                       \n",
    "    return adjacency_map"
   ]
  },
  {
   "cell_type": "code",
   "execution_count": 39,
   "metadata": {},
   "outputs": [],
   "source": [
    "def create_dictionaries_structure(function_generator_nodes,\n",
    "                                  function_generator_edges, \n",
    "                                  generator_nodes, \n",
    "                                  generator_edges):\n",
    "    # Create nodes dictionary\n",
    "    iterator_nodes = function_generator_nodes(generator_nodes)\n",
    "    nodes_dict = {node:properties for (node, properties) in iterator_nodes}\n",
    "\n",
    "    # Create adjacency map\n",
    "    adjacency_map = create_adjacency_map(function_generator_edges, generator_edges)\n",
    "    \n",
    "    return nodes_dict, adjacency_map"
   ]
  },
  {
   "cell_type": "code",
   "execution_count": 40,
   "metadata": {},
   "outputs": [
    {
     "name": "stdout",
     "output_type": "stream",
     "text": [
      "<function to_networkx_edges_format at 0x78b47422cc10>\n"
     ]
    }
   ],
   "source": [
    "nodes_ds, edges_ds = create_dictionaries_structure(to_networkx_nodes_format,\n",
    "                                                   to_networkx_edges_format,\n",
    "                                                   load_csv_generator(file_path_nodes, header=True),\n",
    "                                                   load_csv_generator(file_path_edges, header=True))"
   ]
  },
  {
   "cell_type": "code",
   "execution_count": 41,
   "metadata": {},
   "outputs": [
    {
     "data": {
      "text/plain": [
       "{'G0P1I0': {'sequence': 'QKRTLFKVEFGSMSWFYKHRTNMHLRTMMYD',\n",
       "  'description': 'Lorem ipsum ilymp',\n",
       "  'taxon': '7813',\n",
       "  'node_label': 'uniprot_protein'},\n",
       " 'B6V6V7': {'sequence': 'CGLGLSMRFLMVGVQNWFWYGTRVPDVAYIDWHEYQHQPRVLMQNGN',\n",
       "  'description': 'Lorem ipsum kxujk',\n",
       "  'taxon': '4800',\n",
       "  'node_label': 'uniprot_isoform'},\n",
       " '385603': {'sequence': 'EHYTERRSMRSTGQDKTSNPYLFFHITRFKRCPANQVKPWFMVLHKYEW',\n",
       "  'description': 'Lorem ipsum ufuuy',\n",
       "  'taxon': '9606',\n",
       "  'node_label': 'entrez_protein'},\n",
       " 'L3V2Y6': {'sequence': 'EGYPSHLLDVESFMSHNWTPWIFKCDARLC',\n",
       "  'description': 'Lorem ipsum yueos',\n",
       "  'taxon': '3342',\n",
       "  'mass': 73,\n",
       "  'node_label': 'uniprot_protein'},\n",
       " 'Q1R3N5': {'sequence': 'IVHIKHTTQLGAIIQRNFQVGWCHVG',\n",
       "  'description': 'Lorem ipsum xyked',\n",
       "  'taxon': '5672',\n",
       "  'mass': 7347,\n",
       "  'node_label': 'uniprot_isoform'},\n",
       " '249853': {'sequence': 'RYWCKKEDCLAIKLEWVNHTHCLVQKDGMCMNKKSHNCWAHDR',\n",
       "  'description': 'Lorem ipsum lskfp',\n",
       "  'taxon': '9606',\n",
       "  'node_label': 'entrez_protein'},\n",
       " 'X0C9T5': {'sequence': 'VPWFKQEYWACIYPEKWDETCTQTCHWSYQWKIVHHRHIKK',\n",
       "  'description': 'Lorem ipsum jrhyp',\n",
       "  'taxon': '5638',\n",
       "  'mass': 58,\n",
       "  'node_label': 'uniprot_protein'},\n",
       " 'Y8Y3K0': {'sequence': 'LKPNAIFRKINTLIMMWTAFRGQGKEKR',\n",
       "  'description': 'Lorem ipsum zstxn',\n",
       "  'taxon': '8662',\n",
       "  'node_label': 'uniprot_isoform'},\n",
       " '535278': {'sequence': 'LEGPWGTSCMNSCNISKNYMEYSFKCQYMHRHVLGYNIYGSM',\n",
       "  'description': 'Lorem ipsum mykyw',\n",
       "  'taxon': '9606',\n",
       "  'node_label': 'entrez_protein'},\n",
       " 'D8O4Y7': {'sequence': 'IQMLFDTFTNNMRNWWCEHW',\n",
       "  'description': 'Lorem ipsum cmowt',\n",
       "  'taxon': '9376',\n",
       "  'node_label': 'uniprot_protein'},\n",
       " 'I0S4T8': {'sequence': 'AADKYTPQSSFSQKALLPRDCLKNHC',\n",
       "  'description': 'Lorem ipsum kesgr',\n",
       "  'taxon': '9259',\n",
       "  'node_label': 'uniprot_isoform'},\n",
       " '447972': {'sequence': 'NNCNGNLMHNYVKNWINYLLLNKFLRMDHEHCMV',\n",
       "  'description': 'Lorem ipsum kksku',\n",
       "  'taxon': '9606',\n",
       "  'node_label': 'entrez_protein'},\n",
       " 'H0U9R4': {'sequence': 'IIDDWVAVYNCKAYVVWDFATLWEDCIHWRHPK',\n",
       "  'description': 'Lorem ipsum iexyy',\n",
       "  'taxon': '1500',\n",
       "  'mass': 4209,\n",
       "  'node_label': 'uniprot_protein'},\n",
       " 'H1M7P2': {'sequence': 'KNQMFLNAYVASYWVSFMNAHKEVWSAKTWQ',\n",
       "  'description': 'Lorem ipsum limyh',\n",
       "  'taxon': '9754',\n",
       "  'mass': 2246,\n",
       "  'node_label': 'uniprot_isoform'},\n",
       " '373262': {'sequence': 'YKVVYTTYPHFGDMSMPSCIHLVHMAKQSTTNFM',\n",
       "  'description': 'Lorem ipsum dluez',\n",
       "  'taxon': '9606',\n",
       "  'node_label': 'entrez_protein'},\n",
       " 'E8I0O8': {'sequence': 'HHFWCQTQHHHHSTKMMKLPFEWDAMEAACYAS',\n",
       "  'description': 'Lorem ipsum tvnyj',\n",
       "  'taxon': '7445',\n",
       "  'node_label': 'uniprot_protein'},\n",
       " 'H9R6K5': {'sequence': 'CEDNSRWWHWPVKIAHININCSKACCENTSLATLTARSTLC',\n",
       "  'description': 'Lorem ipsum fdrbm',\n",
       "  'taxon': '7576',\n",
       "  'mass': 9671,\n",
       "  'node_label': 'uniprot_isoform'},\n",
       " '189306': {'sequence': 'TIGFHYNGAYCCREMAMPSVNGHWMCCQSGVCL',\n",
       "  'description': 'Lorem ipsum ipuou',\n",
       "  'taxon': '9606',\n",
       "  'node_label': 'entrez_protein'},\n",
       " 'D4X6C4': {'sequence': 'YNEIVKSFGEQNILAKYTAQGRWFYNCRFNWMWDRDCMTQIGKCCCDYFA',\n",
       "  'description': 'Lorem ipsum pkyyg',\n",
       "  'taxon': '1836',\n",
       "  'mass': 2757,\n",
       "  'node_label': 'uniprot_protein'},\n",
       " 'D5V7Y7': {'sequence': 'KNPGSYCRGIHKDAAPPTNCMDAELRFVKCSWDDEKNTIRLTSYLKMI',\n",
       "  'description': 'Lorem ipsum zzdxf',\n",
       "  'taxon': '2751',\n",
       "  'mass': 5192,\n",
       "  'node_label': 'uniprot_isoform'},\n",
       " '999852': {'sequence': 'IECHFPPMEDYNDNMMYLKGEFRCEYPFPDTWSLPDGGLQRFVFTH',\n",
       "  'description': 'Lorem ipsum xuewv',\n",
       "  'taxon': '9606',\n",
       "  'node_label': 'entrez_protein'},\n",
       " 'P8X2R8': {'sequence': 'HAFWAFNHYSVKDPGQTCCCVHMAEAHRWPTSHHKYATLWERTCHYWNM',\n",
       "  'description': 'Lorem ipsum phpss',\n",
       "  'taxon': '3255',\n",
       "  'node_label': 'uniprot_protein'},\n",
       " 'I5X3I2': {'sequence': 'WSAAEAGGAELALDFWLVASRKKYGMLQVT',\n",
       "  'description': 'Lorem ipsum ddbvb',\n",
       "  'taxon': '4186',\n",
       "  'node_label': 'uniprot_isoform'},\n",
       " '792512': {'sequence': 'LTKMGAAFYMGCFNMSKKNMGQPSFPNNHKPDTYHCCYWKLWKDHAIQ',\n",
       "  'description': 'Lorem ipsum mqyzz',\n",
       "  'taxon': '9606',\n",
       "  'node_label': 'entrez_protein'},\n",
       " 'I9A3P8': {'sequence': 'YMSEGKWSIWIINMMLMHAQNLHVALIIVVY',\n",
       "  'description': 'Lorem ipsum dbhcg',\n",
       "  'taxon': '1230',\n",
       "  'mass': 6364,\n",
       "  'node_label': 'uniprot_protein'},\n",
       " 'C8W4F0': {'sequence': 'WLTGIDRADPNRDWINKKNDPYKCFAPFGRAI',\n",
       "  'description': 'Lorem ipsum jqhzq',\n",
       "  'taxon': '8924',\n",
       "  'mass': 8470,\n",
       "  'node_label': 'uniprot_isoform'},\n",
       " '559407': {'sequence': 'LYHNKDSHWTPPKWCWHQMVYWMIFLDWGTPKRWWMNNRDAEGSIGQYM',\n",
       "  'description': 'Lorem ipsum orlkj',\n",
       "  'taxon': '9606',\n",
       "  'node_label': 'entrez_protein'},\n",
       " 'U9P9L6': {'sequence': 'LSNLKDTLHGRYLPGPKYLPYCCCKDLDPQPTLPASV',\n",
       "  'description': 'Lorem ipsum vivmu',\n",
       "  'taxon': '8573',\n",
       "  'node_label': 'uniprot_protein'},\n",
       " 'T9Z8Y0': {'sequence': 'HNGDDWLINCDYCKNLRTDTHSQAPCSSESECQQFMAKPPVKHMICNSAV',\n",
       "  'description': 'Lorem ipsum lkttd',\n",
       "  'taxon': '674',\n",
       "  'mass': 2003,\n",
       "  'node_label': 'uniprot_isoform'},\n",
       " '449383': {'sequence': 'ETCHDEFEHYDKPCQECSQKDMWGGRELPQKHAV',\n",
       "  'description': 'Lorem ipsum jzsau',\n",
       "  'taxon': '9606',\n",
       "  'node_label': 'entrez_protein'}}"
      ]
     },
     "execution_count": 41,
     "metadata": {},
     "output_type": "execute_result"
    }
   ],
   "source": [
    "nodes_ds"
   ]
  },
  {
   "cell_type": "code",
   "execution_count": 37,
   "metadata": {},
   "outputs": [
    {
     "data": {
      "text/plain": [
       "{'999852': {},\n",
       " 'B6V6V7': {},\n",
       " 'H9R6K5': {},\n",
       " '535278': {},\n",
       " 'H0U9R4': {},\n",
       " '559407': {},\n",
       " 'H1M7P2': {},\n",
       " '373262': {},\n",
       " 'I9A3P8': {},\n",
       " 'D5V7Y7': {},\n",
       " '189306': {},\n",
       " '449383': {},\n",
       " 'Q1R3N5': {},\n",
       " '792512': {},\n",
       " 'T9Z8Y0': {},\n",
       " 'Y8Y3K0': {},\n",
       " 'L3V2Y6': {},\n",
       " 'G0P1I0': {},\n",
       " 'P8X2R8': {},\n",
       " '447972': {},\n",
       " 'D8O4Y7': {},\n",
       " 'I5X3I2': {},\n",
       " '385603': {},\n",
       " 'C8W4F0': {},\n",
       " 'I0S4T8': {},\n",
       " '249853': {},\n",
       " 'U9P9L6': {},\n",
       " 'E8I0O8': {},\n",
       " 'D4X6C4': {},\n",
       " 'X0C9T5': {}}"
      ]
     },
     "execution_count": 37,
     "metadata": {},
     "output_type": "execute_result"
    }
   ],
   "source": [
    "edges_ds"
   ]
  },
  {
   "cell_type": "code",
   "execution_count": null,
   "metadata": {},
   "outputs": [],
   "source": []
  },
  {
   "cell_type": "markdown",
   "metadata": {},
   "source": [
    "## Section 3: Creating NetworkX "
   ]
  },
  {
   "cell_type": "code",
   "execution_count": 17,
   "metadata": {},
   "outputs": [
    {
     "name": "stdout",
     "output_type": "stream",
     "text": [
      "Graph G doesn't exist\n"
     ]
    }
   ],
   "source": [
    "try:\n",
    "    G.clear()\n",
    "    print(\"Graph has been cleared!\")\n",
    "except:\n",
    "    print(\"Graph G doesn't exist\")"
   ]
  },
  {
   "cell_type": "markdown",
   "metadata": {},
   "source": [
    "### 3.1 Create a Directed Graph"
   ]
  },
  {
   "cell_type": "code",
   "execution_count": 18,
   "metadata": {},
   "outputs": [],
   "source": [
    "G = nx.from_dict_of_dicts(edges_ds, create_using=nx.DiGraph)"
   ]
  },
  {
   "cell_type": "markdown",
   "metadata": {},
   "source": [
    "### 3.2 Draw Graph"
   ]
  },
  {
   "cell_type": "code",
   "execution_count": 19,
   "metadata": {},
   "outputs": [
    {
     "data": {
      "image/png": "[encoded data removed]",
      "text/plain": [
       "<Figure size 640x480 with 1 Axes>"
      ]
     },
     "metadata": {},
     "output_type": "display_data"
    }
   ],
   "source": [
    "nx.draw(G, with_labels=True)"
   ]
  },
  {
   "cell_type": "markdown",
   "metadata": {},
   "source": [
    "### 3.3 Some statistics"
   ]
  },
  {
   "cell_type": "code",
   "execution_count": 20,
   "metadata": {},
   "outputs": [
    {
     "name": "stdout",
     "output_type": "stream",
     "text": [
      "Number of nodes: 30\n",
      "Number of edges: 0\n"
     ]
    }
   ],
   "source": [
    "print(\"Number of nodes: {}\".format(G.number_of_nodes()))\n",
    "print(\"Number of edges: {}\".format(G.number_of_edges()))"
   ]
  },
  {
   "cell_type": "code",
   "execution_count": 21,
   "metadata": {},
   "outputs": [],
   "source": [
    "limit = 5\n",
    "for index, edge in enumerate(G.edges(data=True)):\n",
    "    if index == limit:\n",
    "        break\n",
    "    print(edge)"
   ]
  },
  {
   "cell_type": "code",
   "execution_count": 22,
   "metadata": {},
   "outputs": [
    {
     "name": "stdout",
     "output_type": "stream",
     "text": [
      "('999852', {})\n",
      "('B6V6V7', {})\n",
      "('H9R6K5', {})\n",
      "('535278', {})\n",
      "('H0U9R4', {})\n"
     ]
    }
   ],
   "source": [
    "limit = 5\n",
    "for index, node in enumerate(G.nodes(data=True)):\n",
    "    if index == limit:\n",
    "        break\n",
    "    print(node)"
   ]
  },
  {
   "cell_type": "code",
   "execution_count": null,
   "metadata": {},
   "outputs": [],
   "source": [
    "type(load_csv_generator)"
   ]
  },
  {
   "cell_type": "code",
   "execution_count": null,
   "metadata": {},
   "outputs": [],
   "source": []
  }
 ],
 "metadata": {
  "kernelspec": {
   "display_name": "Python 3 (ipykernel)",
   "language": "python",
   "name": "python3"
  },
  "language_info": {
   "codemirror_mode": {
    "name": "ipython",
    "version": 3
   },
   "file_extension": ".py",
   "mimetype": "text/x-python",
   "name": "python",
   "nbconvert_exporter": "python",
   "pygments_lexer": "ipython3",
   "version": "3.10.14"
  }
 },
 "nbformat": 4,
 "nbformat_minor": 4
}
