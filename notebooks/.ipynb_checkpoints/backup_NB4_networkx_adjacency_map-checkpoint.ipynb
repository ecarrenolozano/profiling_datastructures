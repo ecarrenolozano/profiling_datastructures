{
 "cells": [
  {
   "cell_type": "markdown",
   "metadata": {},
   "source": [
    "# Experiment 4: Adjacency Map as data structure for Graphs"
   ]
  },
  {
   "cell_type": "markdown",
   "metadata": {},
   "source": [
    "[//]: # (------------------------------------------    DO NOT MODIFY THIS    ------------------------------------------)\n",
    "<style type=\"text/css\">\n",
    ".tg  {border-collapse:collapse;\n",
    "      border-spacing:0;\n",
    "     }\n",
    ".tg td{border-color:black;\n",
    "       border-style:solid;\n",
    "       border-width:1px;\n",
    "       font-family:Arial, sans-serif;\n",
    "       font-size:14px;\n",
    "       overflow:hidden;\n",
    "       padding:10px 5px;\n",
    "       word-break:normal;\n",
    "      }\n",
    ".tg th{border-color:black;\n",
    "       border-style:solid;\n",
    "       border-width:1px;\n",
    "       font-family:Arial, sans-serif;\n",
    "       font-size:14px;\n",
    "       font-weight:normal;\n",
    "       overflow:hidden;\n",
    "       padding:10px 5px;\n",
    "       word-break:normal;\n",
    "      }\n",
    ".tg .tg-fymr{border-color:inherit;\n",
    "             font-weight:bold;\n",
    "             text-align:left;\n",
    "             vertical-align:top\n",
    "            }\n",
    ".tg .tg-0pky{border-color:inherit;\n",
    "             text-align:left;\n",
    "             vertical-align:top\n",
    "            }\n",
    "[//]: # (--------------------------------------------------------------------------------------------------------------)\n",
    "\n",
    "[//]: # (-------------------------------------    FILL THIS OUT WITH YOUR DATA    -------------------------------------)\n",
    "</style>\n",
    "<table class=\"tg\">\n",
    "    <tbody>\n",
    "      <tr>\n",
    "        <td class=\"tg-fymr\" style=\"font-weight: bold\">Title:</td>\n",
    "        <td class=\"tg-0pky\">Experiment 4: Adjacency Map as data structure for Graphs</td>\n",
    "      </tr>\n",
    "      <tr>\n",
    "        <td class=\"tg-fymr\" style=\"font-weight: bold\">Authors:</td>\n",
    "        <td class=\"tg-0pky\">\n",
    "            <a href=\"https://github.com/ecarrenolozano\" target=\"_blank\" rel=\"noopener noreferrer\">Edwin Carreño</a>\n",
    "        </td>\n",
    "      </tr>\n",
    "      <tr>\n",
    "        <td class=\"tg-fymr\" style=\"font-weight: bold\">Affiliations:</td>\n",
    "        <td class=\"tg-0pky\">\n",
    "            <a href=\"https://www.ssc.uni-heidelberg.de/en\" target=\"_blank\" rel=\"noopener noreferrer\">Scientific Software Center</a>\n",
    "        </td>\n",
    "      </tr>\n",
    "      <tr>\n",
    "        <td class=\"tg-fymr\" style=\"font-weight: bold\">Date Created:</td>\n",
    "        <td class=\"tg-0pky\">30.10.2024</td>\n",
    "      </tr>\n",
    "      <tr>\n",
    "        <td class=\"tg-fymr\" style=\"font-weight: bold\">Description:</td>\n",
    "        <td class=\"tg-0pky\">Creation of a graph using adjacency maps and data from CSV files. Conversion to NetworkX is tested too.</td>\n",
    "      </tr>\n",
    "    </tbody>\n",
    "</table>\n",
    "\n",
    "[//]: # (--------------------------------------------------------------------------------------------------------------)"
   ]
  },
  {
   "cell_type": "markdown",
   "metadata": {},
   "source": [
    "<table class=\"tfo-notebook-buttons\" align=\"left\">\n",
    "  <td>\n",
    "    <a target=\"_blank\" href=\"https://colab.research.google.com/github/tensorflow/docs/blob/master/site/en/tutorials/quickstart/beginner.ipynb\"><img src=\"https://www.tensorflow.org/images/colab_logo_32px.png\" />Run in Google Colab</a>\n",
    "  </td>\n",
    "  <td>\n",
    "    <a target=\"_blank\" href=\"https://github.com/tensorflow/docs/blob/master/site/en/tutorials/quickstart/beginner.ipynb\"><img src=\"https://www.tensorflow.org/images/GitHub-Mark-32px.png\" />View source on GitHub</a>\n",
    "  </td>\n",
    "  \n",
    "</table>"
   ]
  },
  {
   "cell_type": "markdown",
   "metadata": {},
   "source": [
    "## Overview"
   ]
  },
  {
   "cell_type": "markdown",
   "metadata": {},
   "source": [
    "In this notebook we are going to:\n",
    "\n",
    "1. Import CSV (comma-separated values) data from nodes and edges.\n",
    "2. Describe the data from CSVs.\n",
    "3. Create a data pipeline that:\n",
    "   - extract CSV data\n",
    "   - transform the format for edges\n",
    "   - convert the data from edges into an adjacency map (data structure)\n",
    "4. Create a NetworkX graph from an Adjacency Map."
   ]
  },
  {
   "cell_type": "markdown",
   "metadata": {},
   "source": [
    "## Setup (if required)\n",
    "\n",
    "**Note:** If your code require to install dependencies before your main code, please add the commands to install the dependencies. You can silence the messages returned by `pip` the flag `-q`, i.e. `pip install pandas -q`"
   ]
  },
  {
   "cell_type": "markdown",
   "metadata": {},
   "source": [
    "### NetworkX installation"
   ]
  },
  {
   "cell_type": "code",
   "execution_count": 1,
   "metadata": {},
   "outputs": [],
   "source": [
    "!pip install networkx[default] -q"
   ]
  },
  {
   "cell_type": "markdown",
   "metadata": {
    "vscode": {
     "languageId": "plaintext"
    }
   },
   "source": [
    "## Importing Libraries"
   ]
  },
  {
   "cell_type": "code",
   "execution_count": 2,
   "metadata": {},
   "outputs": [],
   "source": [
    "\"\"\"\n",
    "Recommendations:\n",
    "    - Respect the order of the imports, they are indicated by the numbers 1, 2, 3.\n",
    "    - One import per line is recommended, with this we can track easily any modified line when we use git.\n",
    "    - Absolute imports are recommended (see 3. Local application/library specific imports below), they improve readability and give better error messages.\n",
    "    - You should put a blank line between each group of imports.\n",
    "\"\"\"\n",
    "\n",
    "# future-imports (for instance: from __future__ import barry_as_FLUFL)\n",
    "# from __future__ import barry_as_FLUFL  \n",
    "\n",
    "# 1. Standard library imports\n",
    "import ast\n",
    "import csv\n",
    "import json\n",
    "import os\n",
    "import re\n",
    "\n",
    "# 2. Related third party imports\n",
    "import networkx as nx\n",
    "\n",
    "# 3. Local application/library specific imports\n",
    "# import <mypackage>.<MyClass>         # this is an example\n",
    "# from <mypackage> import <MyClass>    # this is another example "
   ]
  },
  {
   "cell_type": "markdown",
   "metadata": {},
   "source": [
    "## Helper Functions"
   ]
  },
  {
   "cell_type": "code",
   "execution_count": 3,
   "metadata": {},
   "outputs": [],
   "source": [
    "def string_contains_dictionary(string):\n",
    "    pattern = r'^\\s*\\{.*:.*\\}\\s*$'  # Matches strings that resemble a dictionary\n",
    "    return bool(re.match(pattern, string))\n",
    "    \n",
    "def string_contains_empty_dictionary(string):\n",
    "    pattern = r'^\\s*\\{\\}\\s*$'\n",
    "    return bool(re.match(pattern, string))\n",
    "\n",
    "def dict_from_edgelist(edgelist):\n",
    "    graph_dict = {}   # This is the data structure for a directed graph\n",
    "    \n",
    "    # Build an unique set of nodes\n",
    "    set_nodes = set()                                    \n",
    "    for rel in edgelist:\n",
    "        if len(rel) == 3: # format (source_node, target_node, properties)\n",
    "            source_node, target_node, _ = rel\n",
    "        else:             # format (id, source_node, target_node, label, properties)\n",
    "            _, source_node, target_node, _, _ = rel\n",
    "        set_nodes.add(source_node)\n",
    "        set_nodes.add(target_node)\n",
    "\n",
    "    # Assigns to each node an empty dictionary\n",
    "    for node in set_nodes:\n",
    "        graph_dict[node]={}\n",
    "\n",
    "    # Populate nodes with relationships and properties\n",
    "    for rel in edgelist:\n",
    "        if len(rel) == 3: # format (source_node, target_node, properties)\n",
    "            source_node, target_node, properties = rel\n",
    "            \n",
    "        elif len(rel) == 5: # format (edge_id, source_node, target_node, edge_label, properties)\n",
    "            edge_id, source_node, target_node, edge_label, properties = rel\n",
    "            \n",
    "            if isinstance(properties, str) and string_contains_dictionary(properties):\n",
    "                properties = ast.literal_eval(properties)\n",
    "\n",
    "            if isinstance(properties, str) and string_contains_empty_dictionary(properties):\n",
    "                properties = ast.literal_eval(properties)\n",
    "            \n",
    "            if isinstance(properties, dict):\n",
    "                properties[\"id\"] = edge_id\n",
    "                properties[\"label\"] = edge_label            \n",
    "\n",
    "        graph_dict[source_node][target_node] = properties\n",
    "                                               \n",
    "    return graph_dict\n",
    "\n",
    "\n",
    "def load_csv_module(filepath, header=True):\n",
    "    list_rows_as_tuples = []\n",
    "    with open(filepath, 'r') as file:\n",
    "        reader = csv.reader(file)\n",
    "        for row in reader:\n",
    "            if header: # Skip first row when header exists\n",
    "                header = False\n",
    "                continue\n",
    "            row = [field.strip() for field in row]\n",
    "            list_rows_as_tuples.append(tuple(row))  # Add each row to the list\n",
    "            \n",
    "    return list_rows_as_tuples"
   ]
  },
  {
   "cell_type": "markdown",
   "metadata": {},
   "source": [
    "## Introduction"
   ]
  },
  {
   "cell_type": "code",
   "execution_count": null,
   "metadata": {},
   "outputs": [],
   "source": []
  },
  {
   "cell_type": "code",
   "execution_count": null,
   "metadata": {},
   "outputs": [],
   "source": []
  },
  {
   "cell_type": "markdown",
   "metadata": {},
   "source": [
    "## Section 1: Load the CSV data that contains nodes and edges\n",
    "\n",
    "For this exercise, each graph is represented by two CSV files. One containing information about the **nodes** and the other about the **edges**. To indicate that both files correspond to the same graph, their names include the same number of nodes. For example:\n",
    "\n",
    "- `dataset_30_nodes_proteins.csv`: contains 30 rows (nodes).\n",
    "- `dataset_30_edges_interactions.csv`: contains 47 rows (edges).\n",
    "\n",
    "We reference each CSV file or dataset as follows:"
   ]
  },
  {
   "cell_type": "code",
   "execution_count": 4,
   "metadata": {},
   "outputs": [],
   "source": [
    "filename_nodes = \"dataset_30_nodes_proteins.csv\"\n",
    "filename_edges = \"dataset_30_edges_interactions.csv\""
   ]
  },
  {
   "cell_type": "markdown",
   "metadata": {},
   "source": [
    "### 1.1: Load Nodes\n",
    "\n",
    "The CSV file for nodes contains three columns:\n",
    "- `UniProt ID`\n",
    "- `label`\n",
    "- `properties`\n",
    "\n",
    "We are going to load the information of nodes as a **list of tuples**. Each tuple represents a node with the structure:\n",
    "- `(id, label, properties)`\n",
    "- Each field in the tuple is a `string`\n",
    "- The `properties` field is a string containing a dictionary of properties."
   ]
  },
  {
   "cell_type": "code",
   "execution_count": 5,
   "metadata": {},
   "outputs": [],
   "source": [
    "filepath_nodes = os.path.join(\"./datasets\", filename_nodes)\n",
    "\n",
    "list_nodes = load_csv_module(filepath_nodes, header=True)"
   ]
  },
  {
   "cell_type": "code",
   "execution_count": 6,
   "metadata": {},
   "outputs": [
    {
     "name": "stdout",
     "output_type": "stream",
     "text": [
      "The list of NODES contains: 30 nodes\n",
      "Example:\n",
      "\t('G0P1I0', 'uniprot_protein', \"{'sequence': 'QKRTLFKVEFGSMSWFYKHRTNMHLRTMMYD', 'description': 'Lorem ipsum ilymp', 'taxon': '7813'}\")\n"
     ]
    }
   ],
   "source": [
    "print(\"The list of NODES contains: {} nodes\".format(len(list_nodes)))\n",
    "print(\"Example:\\n\\t{}\".format(list_nodes[0]))"
   ]
  },
  {
   "cell_type": "markdown",
   "metadata": {},
   "source": [
    "### 1.2: Load Edges\n",
    "\n",
    "The CSV file for edges contains five columns:\n",
    "- `Relation ID`\n",
    "- `Source ID`\n",
    "- `Target ID`\n",
    "- `label`\n",
    "- `properties`\n",
    "\n",
    "We are going to load the information of edges as a list of tuples. Each tuple represents a node with thethe structure:\n",
    "- `(id, source, target, label, properties)`\n",
    "- Each field in the tuple is a `string`\n",
    "- The `properties` field is string containing a dictionary of properties."
   ]
  },
  {
   "cell_type": "code",
   "execution_count": 7,
   "metadata": {},
   "outputs": [],
   "source": [
    "filepath_edges = os.path.join(\"./datasets\", filename_edges)\n",
    "\n",
    "list_edges = load_csv_module(filepath_edges, header=True)"
   ]
  },
  {
   "cell_type": "code",
   "execution_count": 8,
   "metadata": {},
   "outputs": [
    {
     "name": "stdout",
     "output_type": "stream",
     "text": [
      "The list of EDGES contains: 47 edges\n",
      "Example:\n",
      "\t('', 'B6V6V7', 'H9R6K5', 'interacts_with', \"{'source': 'signor'}\")\n",
      "\t('', 'B6V6V7', 'I5X3I2', 'interacts_with', \"{'method': 'Lorem ipsum pblfc'}\")\n",
      "\t('', '385603', 'H9R6K5', 'interacts_with', \"{'source': 'intact', 'method': 'Lorem ipsum nbqvj'}\")\n",
      "\t('', '385603', 'I9A3P8', 'interacts_with', '{}')\n",
      "\t('', 'L3V2Y6', 'X0C9T5', 'interacts_with', \"{'source': 'intact', 'method': 'Lorem ipsum zwhrq'}\")\n",
      "\t('intact956331', 'L3V2Y6', 'Y8Y3K0', 'interacts_with', \"{'source': 'signor'}\")\n"
     ]
    }
   ],
   "source": [
    "print(\"The list of EDGES contains: {} edges\".format(len(list_edges)))\n",
    "print(\"Example:\")\n",
    "for edge in list_edges[0:6]:\n",
    "    print(\"\\t{}\".format(edge))"
   ]
  },
  {
   "cell_type": "markdown",
   "metadata": {},
   "source": [
    "## Section 2: Create Data Pipeline\n",
    "\n",
    "- **input:** CSV data of edges\n",
    "- **output:** Adjacency map containing graph's data.\n",
    "\n",
    "The pipeline consist of two consecutive stages:\n",
    "\n",
    "| Stage | Function                      | Description |\n",
    "|-------|-------------------------------| ----------- |\n",
    "| 1     | `load_csv_module()`           | read the csv and load the information in memory           |\n",
    "| 2     | `dict_from_edgelist(edgelist)`| create an adjacency map with the information of the graph |"
   ]
  },
  {
   "cell_type": "markdown",
   "metadata": {},
   "source": [
    "### 2.1 Create Adjacency Map (data structure)"
   ]
  },
  {
   "cell_type": "code",
   "execution_count": 9,
   "metadata": {},
   "outputs": [],
   "source": [
    "adj_map = dict_from_edgelist(load_csv_module(filepath_edges, header=True))"
   ]
  },
  {
   "cell_type": "code",
   "execution_count": 10,
   "metadata": {},
   "outputs": [
    {
     "data": {
      "text/plain": [
       "{'H0U9R4': {'Q1R3N5': {'source': 'signor',\n",
       "   'id': '',\n",
       "   'label': 'interacts_with'},\n",
       "  'C8W4F0': {'id': '', 'label': 'interacts_with'}},\n",
       " 'H1M7P2': {'373262': {'source': 'signor',\n",
       "   'method': 'Lorem ipsum jmzhj',\n",
       "   'id': '',\n",
       "   'label': 'interacts_with'},\n",
       "  '189306': {'method': 'Lorem ipsum iqlma',\n",
       "   'id': 'intact631800',\n",
       "   'label': 'interacts_with'}},\n",
       " 'D5V7Y7': {'H1M7P2': {'source': 'signor',\n",
       "   'id': 'intact51967',\n",
       "   'label': 'interacts_with'}},\n",
       " 'I0S4T8': {'C8W4F0': {'id': 'intact538978', 'label': 'interacts_with'}},\n",
       " 'X0C9T5': {'535278': {'source': 'signor',\n",
       "   'id': '',\n",
       "   'label': 'interacts_with'}},\n",
       " '373262': {},\n",
       " 'U9P9L6': {'X0C9T5': {'method': 'Lorem ipsum bxjad',\n",
       "   'id': 'intact795446',\n",
       "   'label': 'interacts_with'}},\n",
       " 'Q1R3N5': {'I0S4T8': {'id': '', 'label': 'interacts_with'},\n",
       "  'H0U9R4': {'source': 'intact',\n",
       "   'id': 'intact260500',\n",
       "   'label': 'interacts_with'}},\n",
       " '447972': {'H0U9R4': {'source': 'intact',\n",
       "   'method': 'Lorem ipsum jkoie',\n",
       "   'id': 'intact556444',\n",
       "   'label': 'interacts_with'}},\n",
       " 'C8W4F0': {'H9R6K5': {'method': 'Lorem ipsum wwkkw',\n",
       "   'id': '',\n",
       "   'label': 'interacts_with'},\n",
       "  'D5V7Y7': {'source': 'signor',\n",
       "   'method': 'Lorem ipsum cdcxn',\n",
       "   'id': 'intact898671',\n",
       "   'label': 'interacts_with'},\n",
       "  'I9A3P8': {'source': 'signor',\n",
       "   'method': 'Lorem ipsum lyrwo',\n",
       "   'id': '',\n",
       "   'label': 'interacts_with'}},\n",
       " '792512': {'L3V2Y6': {'id': 'intact419487', 'label': 'interacts_with'},\n",
       "  'H0U9R4': {'source': 'signor',\n",
       "   'id': 'intact180399',\n",
       "   'label': 'interacts_with'}},\n",
       " 'B6V6V7': {'H9R6K5': {'source': 'signor',\n",
       "   'id': '',\n",
       "   'label': 'interacts_with'},\n",
       "  'I5X3I2': {'method': 'Lorem ipsum pblfc',\n",
       "   'id': '',\n",
       "   'label': 'interacts_with'}},\n",
       " '559407': {'385603': {'source': 'signor',\n",
       "   'id': '',\n",
       "   'label': 'interacts_with'},\n",
       "  'I0S4T8': {'method': 'Lorem ipsum nvdex',\n",
       "   'id': '',\n",
       "   'label': 'interacts_with'}},\n",
       " '449383': {'L3V2Y6': {'method': 'Lorem ipsum qhpxd',\n",
       "   'id': 'intact620870',\n",
       "   'label': 'interacts_with'},\n",
       "  'T9Z8Y0': {'source': 'intact', 'id': '', 'label': 'interacts_with'}},\n",
       " 'D4X6C4': {'I0S4T8': {'source': 'signor',\n",
       "   'method': 'Lorem ipsum xafpj',\n",
       "   'id': 'intact405378',\n",
       "   'label': 'interacts_with'},\n",
       "  'H0U9R4': {'id': 'intact694086', 'label': 'interacts_with'},\n",
       "  'H1M7P2': {'source': 'signor',\n",
       "   'id': 'intact446811',\n",
       "   'label': 'interacts_with'},\n",
       "  'D5V7Y7': {'id': 'intact850890', 'label': 'interacts_with'},\n",
       "  'U9P9L6': {'method': 'Lorem ipsum ygxkg',\n",
       "   'id': 'intact859346',\n",
       "   'label': 'interacts_with'}},\n",
       " '385603': {'H9R6K5': {'source': 'intact',\n",
       "   'method': 'Lorem ipsum nbqvj',\n",
       "   'id': '',\n",
       "   'label': 'interacts_with'},\n",
       "  'I9A3P8': {'id': '', 'label': 'interacts_with'}},\n",
       " '999852': {},\n",
       " 'Y8Y3K0': {},\n",
       " 'T9Z8Y0': {},\n",
       " 'L3V2Y6': {'X0C9T5': {'source': 'intact',\n",
       "   'method': 'Lorem ipsum zwhrq',\n",
       "   'id': '',\n",
       "   'label': 'interacts_with'},\n",
       "  'Y8Y3K0': {'source': 'signor',\n",
       "   'id': 'intact956331',\n",
       "   'label': 'interacts_with'},\n",
       "  'I5X3I2': {'method': 'Lorem ipsum hfvlp',\n",
       "   'id': 'intact337768',\n",
       "   'label': 'interacts_with'}},\n",
       " 'H9R6K5': {'E8I0O8': {'id': 'intact277910', 'label': 'interacts_with'}},\n",
       " '535278': {'447972': {'source': 'intact',\n",
       "   'method': 'Lorem ipsum ficmx',\n",
       "   'id': '',\n",
       "   'label': 'interacts_with'}},\n",
       " 'D8O4Y7': {'L3V2Y6': {'id': 'intact357405', 'label': 'interacts_with'}},\n",
       " 'I5X3I2': {'D4X6C4': {'source': 'intact',\n",
       "   'method': 'Lorem ipsum iiozd',\n",
       "   'id': '',\n",
       "   'label': 'interacts_with'},\n",
       "  'T9Z8Y0': {'method': 'Lorem ipsum gconp',\n",
       "   'id': 'intact994853',\n",
       "   'label': 'interacts_with'}},\n",
       " 'G0P1I0': {},\n",
       " 'P8X2R8': {'T9Z8Y0': {'source': 'signor',\n",
       "   'id': '',\n",
       "   'label': 'interacts_with'}},\n",
       " 'E8I0O8': {},\n",
       " 'I9A3P8': {'L3V2Y6': {'source': 'intact',\n",
       "   'id': '',\n",
       "   'label': 'interacts_with'},\n",
       "  '373262': {'id': 'intact812038', 'label': 'interacts_with'}},\n",
       " '189306': {'H9R6K5': {'id': '', 'label': 'interacts_with'},\n",
       "  'C8W4F0': {'source': 'intact',\n",
       "   'method': 'Lorem ipsum raxbi',\n",
       "   'id': 'intact608806',\n",
       "   'label': 'interacts_with'}},\n",
       " '249853': {'G0P1I0': {'source': 'intact',\n",
       "   'method': 'Lorem ipsum lsbdz',\n",
       "   'id': '',\n",
       "   'label': 'interacts_with'},\n",
       "  'H1M7P2': {'method': 'Lorem ipsum qsult',\n",
       "   'id': 'intact82265',\n",
       "   'label': 'interacts_with'},\n",
       "  'D4X6C4': {'source': 'signor',\n",
       "   'method': 'Lorem ipsum rlyhh',\n",
       "   'id': '',\n",
       "   'label': 'interacts_with'},\n",
       "  '999852': {'source': 'signor',\n",
       "   'method': 'Lorem ipsum ulkku',\n",
       "   'id': '',\n",
       "   'label': 'interacts_with'},\n",
       "  'P8X2R8': {'id': 'intact205562', 'label': 'interacts_with'}}}"
      ]
     },
     "execution_count": 10,
     "metadata": {},
     "output_type": "execute_result"
    }
   ],
   "source": [
    "adj_map"
   ]
  },
  {
   "cell_type": "code",
   "execution_count": 11,
   "metadata": {},
   "outputs": [
    {
     "name": "stdout",
     "output_type": "stream",
     "text": [
      "{\n",
      "  \"H0U9R4\": {\n",
      "    \"Q1R3N5\": {\n",
      "      \"source\": \"signor\",\n",
      "      \"id\": \"\",\n",
      "      \"label\": \"interacts_with\"\n",
      "    },\n",
      "    \"C8W4F0\": {\n",
      "      \"id\": \"\",\n",
      "      \"label\": \"interacts_with\"\n",
      "    }\n",
      "  }\n",
      "}\n"
     ]
    }
   ],
   "source": [
    "first_key, first_value = next(iter(adj_map.items()))\n",
    "formatted_json = json.dumps({first_key: first_value}, indent=2)\n",
    "print(formatted_json)"
   ]
  },
  {
   "cell_type": "code",
   "execution_count": null,
   "metadata": {},
   "outputs": [],
   "source": []
  },
  {
   "cell_type": "code",
   "execution_count": null,
   "metadata": {},
   "outputs": [],
   "source": []
  },
  {
   "cell_type": "code",
   "execution_count": 12,
   "metadata": {},
   "outputs": [],
   "source": [
    "ds_map = {\n",
    "\t\"I5X3I2\": {\n",
    "\t\t\"edges\": {\n",
    "\t\t\t\"D4X6C4\": {\n",
    "\t\t\t\t\"source\": \"intact\",\n",
    "\t\t\t\t\"method\": \"Lorem ipsum iiozd\",\n",
    "\t\t\t\t\"id\": \"\",\n",
    "\t\t\t\t\"label\": \"interacts_with\",\n",
    "\t\t\t},\n",
    "\t\t\t\"T9Z8Y0\": {\n",
    "\t\t\t\t\"method\": \"Lorem ipsum gconp\",\n",
    "\t\t\t\t\"id\": \"intact994853\",\n",
    "\t\t\t\t\"label\": \"interacts_with\",\n",
    "\t\t\t}\n",
    "\t\t},\n",
    "\t\t\"properties\": {\n",
    "\t\t\t\t'sequence': 'WSAAEAGGAELALDFWLVASRKKYGMLQVT',\n",
    "\t\t\t\t'description': 'Lorem ipsum ddbvb',\n",
    "\t\t\t\t'taxon': '4186'\n",
    "\t\t}\n",
    "\t}\n",
    "}"
   ]
  },
  {
   "cell_type": "code",
   "execution_count": 13,
   "metadata": {},
   "outputs": [
    {
     "data": {
      "text/plain": [
       "{'D4X6C4': {'source': 'intact',\n",
       "  'method': 'Lorem ipsum iiozd',\n",
       "  'id': '',\n",
       "  'label': 'interacts_with'},\n",
       " 'T9Z8Y0': {'method': 'Lorem ipsum gconp',\n",
       "  'id': 'intact994853',\n",
       "  'label': 'interacts_with'}}"
      ]
     },
     "execution_count": 13,
     "metadata": {},
     "output_type": "execute_result"
    }
   ],
   "source": [
    "ds_map[\"I5X3I2\"][\"edges\"]"
   ]
  },
  {
   "cell_type": "code",
   "execution_count": null,
   "metadata": {},
   "outputs": [],
   "source": []
  },
  {
   "cell_type": "markdown",
   "metadata": {},
   "source": [
    "## Section 3: Creating NetworkX "
   ]
  },
  {
   "cell_type": "code",
   "execution_count": 14,
   "metadata": {},
   "outputs": [
    {
     "name": "stdout",
     "output_type": "stream",
     "text": [
      "Graph G doesn't exist\n"
     ]
    }
   ],
   "source": [
    "try:\n",
    "    G.clear()\n",
    "    print(\"Graph has been cleared!\")\n",
    "except:\n",
    "    print(\"Graph G doesn't exist\")"
   ]
  },
  {
   "cell_type": "markdown",
   "metadata": {},
   "source": [
    "### 3.1 Create a Directed Graph"
   ]
  },
  {
   "cell_type": "code",
   "execution_count": 15,
   "metadata": {},
   "outputs": [],
   "source": [
    "G = nx.from_dict_of_dicts(adj_map, create_using=nx.DiGraph)"
   ]
  },
  {
   "cell_type": "markdown",
   "metadata": {},
   "source": [
    "### 3.2 Draw Graph"
   ]
  },
  {
   "cell_type": "code",
   "execution_count": 16,
   "metadata": {},
   "outputs": [
    {
     "data": {
      "image/png": "[encoded data removed]",
      "text/plain": [
       "<Figure size 640x480 with 1 Axes>"
      ]
     },
     "metadata": {},
     "output_type": "display_data"
    }
   ],
   "source": [
    "nx.draw(G, with_labels=True)"
   ]
  },
  {
   "cell_type": "markdown",
   "metadata": {},
   "source": [
    "### 3.3 Some statistics"
   ]
  },
  {
   "cell_type": "code",
   "execution_count": 17,
   "metadata": {},
   "outputs": [
    {
     "name": "stdout",
     "output_type": "stream",
     "text": [
      "Number of nodes: 30\n",
      "Number of edges: 47\n"
     ]
    }
   ],
   "source": [
    "print(\"Number of nodes: {}\".format(G.number_of_nodes()))\n",
    "print(\"Number of edges: {}\".format(G.number_of_edges()))"
   ]
  },
  {
   "cell_type": "code",
   "execution_count": 18,
   "metadata": {},
   "outputs": [
    {
     "name": "stdout",
     "output_type": "stream",
     "text": [
      "('H0U9R4', 'Q1R3N5', {'source': 'signor', 'id': '', 'label': 'interacts_with'})\n",
      "('H0U9R4', 'C8W4F0', {'id': '', 'label': 'interacts_with'})\n",
      "('H1M7P2', '373262', {'source': 'signor', 'method': 'Lorem ipsum jmzhj', 'id': '', 'label': 'interacts_with'})\n",
      "('H1M7P2', '189306', {'method': 'Lorem ipsum iqlma', 'id': 'intact631800', 'label': 'interacts_with'})\n",
      "('D5V7Y7', 'H1M7P2', {'source': 'signor', 'id': 'intact51967', 'label': 'interacts_with'})\n"
     ]
    }
   ],
   "source": [
    "limit = 5\n",
    "for index, edge in enumerate(G.edges(data=True)):\n",
    "    if index == limit:\n",
    "        break\n",
    "    print(edge)"
   ]
  },
  {
   "cell_type": "code",
   "execution_count": null,
   "metadata": {},
   "outputs": [],
   "source": []
  },
  {
   "cell_type": "code",
   "execution_count": null,
   "metadata": {},
   "outputs": [],
   "source": []
  },
  {
   "cell_type": "code",
   "execution_count": null,
   "metadata": {},
   "outputs": [],
   "source": []
  },
  {
   "cell_type": "markdown",
   "metadata": {},
   "source": [
    "## More experimentation"
   ]
  },
  {
   "cell_type": "code",
   "execution_count": null,
   "metadata": {},
   "outputs": [],
   "source": []
  },
  {
   "cell_type": "code",
   "execution_count": 19,
   "metadata": {},
   "outputs": [],
   "source": [
    "nodes_properties = {\n",
    "    \"I5X3I2\": {\n",
    "      'sequence': 'WSAAEAGGAELALDFWLVASRKKYGMLQVT',\n",
    "      'description': 'Lorem ipsum ddbvb',\n",
    "      'taxon': '4186'\n",
    "    }\n",
    "}\n",
    "\n",
    "\n",
    "adj_map = {\n",
    "  \"I5X3I2\": \n",
    "  {\n",
    "    \"D4X6C4\": \n",
    "      {\n",
    "        \"source\": \"intact\",\n",
    "        \"method\": \"Lorem ipsum iiozd\",\n",
    "        \"id\": \"\",\n",
    "        \"label\": \"interacts_with\",\n",
    "      },\n",
    "      \"T9Z8Y0\": {\n",
    "        \"method\": \"Lorem ipsum gconp\",\n",
    "        \"id\": \"intact994853\",\n",
    "        \"label\": \"interacts_with\",\n",
    "      }\n",
    "  }  \n",
    "}"
   ]
  },
  {
   "cell_type": "code",
   "execution_count": 20,
   "metadata": {},
   "outputs": [],
   "source": [
    "H = nx.from_dict_of_dicts(adj_map)"
   ]
  },
  {
   "cell_type": "code",
   "execution_count": 21,
   "metadata": {},
   "outputs": [
    {
     "data": {
      "text/plain": [
       "EdgeDataView([('I5X3I2', 'D4X6C4', {'source': 'intact', 'method': 'Lorem ipsum iiozd', 'id': '', 'label': 'interacts_with'}), ('I5X3I2', 'T9Z8Y0', {'method': 'Lorem ipsum gconp', 'id': 'intact994853', 'label': 'interacts_with'})])"
      ]
     },
     "execution_count": 21,
     "metadata": {},
     "output_type": "execute_result"
    }
   ],
   "source": [
    "H.edges(data=True)"
   ]
  },
  {
   "cell_type": "code",
   "execution_count": 22,
   "metadata": {},
   "outputs": [
    {
     "data": {
      "text/plain": [
       "NodeDataView({'I5X3I2': {}, 'D4X6C4': {}, 'T9Z8Y0': {}})"
      ]
     },
     "execution_count": 22,
     "metadata": {},
     "output_type": "execute_result"
    }
   ],
   "source": [
    "H.nodes(data=True)"
   ]
  },
  {
   "cell_type": "code",
   "execution_count": 23,
   "metadata": {},
   "outputs": [],
   "source": [
    "H.add_node(\"I5X3I2\", **nodes_properties[\"I5X3I2\"])"
   ]
  },
  {
   "cell_type": "code",
   "execution_count": 24,
   "metadata": {},
   "outputs": [
    {
     "data": {
      "text/plain": [
       "NodeDataView({'I5X3I2': {'sequence': 'WSAAEAGGAELALDFWLVASRKKYGMLQVT', 'description': 'Lorem ipsum ddbvb', 'taxon': '4186'}, 'D4X6C4': {}, 'T9Z8Y0': {}})"
      ]
     },
     "execution_count": 24,
     "metadata": {},
     "output_type": "execute_result"
    }
   ],
   "source": [
    "H.nodes(data=True)"
   ]
  },
  {
   "cell_type": "code",
   "execution_count": 27,
   "metadata": {},
   "outputs": [
    {
     "data": {
      "text/plain": [
       "{'A': {'1': {'info': 'A is equal to 1', 'mass=': 1}},\n",
       " 'B': {'2': {'info': 'B is equal to 2', 'mass=': 2},\n",
       "  'A': {'info': 'B follows A', 'mass=': 1.0}},\n",
       " 'C': {'3': {'info': 'C is equal to 3', 'mass=': 3},\n",
       "  'B': {'info': 'C follows B', 'mass=': 2.0},\n",
       "  'A': {'info': 'C follows A', 'mass=': 3.0}}}"
      ]
     },
     "execution_count": 27,
     "metadata": {},
     "output_type": "execute_result"
    }
   ],
   "source": [
    "my_dict={'A': {'1': {'info': 'A is equal to 1', 'mass=': 1}},\n",
    "         'B': {'2': {'info': 'B is equal to 2', 'mass=': 2},\n",
    "               'A': {'info': 'B follows A', 'mass=': 1.0}},\n",
    "         'C': {'3': {'info': 'C is equal to 3', 'mass=': 3},\n",
    "               'B': {'info': 'C follows B', 'mass=': 2.0},\n",
    "               'A': {'info': 'C follows A', 'mass=': 3.0}\n",
    "              }\n",
    "        }\n",
    "\n",
    "my_dict"
   ]
  },
  {
   "cell_type": "code",
   "execution_count": 28,
   "metadata": {},
   "outputs": [],
   "source": [
    "J = nx.from_dict_of_dicts(my_dict, create_using=nx.DiGraph())"
   ]
  },
  {
   "cell_type": "code",
   "execution_count": 29,
   "metadata": {},
   "outputs": [
    {
     "data": {
      "image/png": "[encoded data removed]",
      "text/plain": [
       "<Figure size 640x480 with 1 Axes>"
      ]
     },
     "metadata": {},
     "output_type": "display_data"
    }
   ],
   "source": [
    "nx.draw(J, with_labels=True)"
   ]
  },
  {
   "cell_type": "code",
   "execution_count": 30,
   "metadata": {},
   "outputs": [
    {
     "data": {
      "text/plain": [
       "OutEdgeDataView([('A', '1', {'info': 'A is equal to 1', 'mass=': 1}), ('B', '2', {'info': 'B is equal to 2', 'mass=': 2}), ('B', 'A', {'info': 'B follows A', 'mass=': 1.0}), ('C', '3', {'info': 'C is equal to 3', 'mass=': 3}), ('C', 'B', {'info': 'C follows B', 'mass=': 2.0}), ('C', 'A', {'info': 'C follows A', 'mass=': 3.0})])"
      ]
     },
     "execution_count": 30,
     "metadata": {},
     "output_type": "execute_result"
    }
   ],
   "source": [
    "J.edges(data=True)"
   ]
  },
  {
   "cell_type": "code",
   "execution_count": null,
   "metadata": {},
   "outputs": [],
   "source": []
  }
 ],
 "metadata": {
  "kernelspec": {
   "display_name": "Python 3 (ipykernel)",
   "language": "python",
   "name": "python3"
  },
  "language_info": {
   "codemirror_mode": {
    "name": "ipython",
    "version": 3
   },
   "file_extension": ".py",
   "mimetype": "text/x-python",
   "name": "python",
   "nbconvert_exporter": "python",
   "pygments_lexer": "ipython3",
   "version": "3.10.14"
  }
 },
 "nbformat": 4,
 "nbformat_minor": 4
}
