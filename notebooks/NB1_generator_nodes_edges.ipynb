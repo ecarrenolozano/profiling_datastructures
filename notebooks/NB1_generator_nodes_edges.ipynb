{
 "cells": [
  {
   "cell_type": "code",
   "execution_count": null,
   "metadata": {
    "id": "i0O2tJoGwmW2"
   },
   "outputs": [],
   "source": [
    "import os\n",
    "\n",
    "import pandas as pd\n",
    "from data_generator import Protein\n",
    "from data_generator import EntrezProtein\n",
    "from data_generator import RandomPropertyProtein\n",
    "from data_generator import RandomPropertyProteinIsoform\n",
    "from data_generator import InteractionGenerator"
   ]
  },
  {
   "cell_type": "markdown",
   "metadata": {},
   "source": [
    "- [x] 1e1\n",
    "- [x] 2e1\n",
    "- [x] 4e1\n",
    "- [x] 8e1\n",
    "      \n",
    "- [x] 1e2\n",
    "- [x] 2e2\n",
    "- [ ] 3e2\n",
    "- [x] 4e2\n",
    "- [ ] 5e2\n",
    "- [ ] 6e2\n",
    "- [ ] 7e2\n",
    "- [x] 8e2\n",
    "- [ ] 9e2\n",
    "- [ ] 10e2\n",
    "\n",
    "- [x] 1e3\n",
    "- [x] 2e3\n",
    "- [x] 4e3\n",
    "- [x] 8e3"
   ]
  },
  {
   "cell_type": "code",
   "execution_count": null,
   "metadata": {},
   "outputs": [],
   "source": [
    "# Extract id, label, properties\n",
    "def node_generator(proteins):\n",
    "    for protein in proteins:\n",
    "        yield (\n",
    "            protein.get_id(),\n",
    "            protein.get_label(),\n",
    "            protein.get_properties(),\n",
    "        )"
   ]
  },
  {
   "cell_type": "code",
   "execution_count": null,
   "metadata": {},
   "outputs": [],
   "source": [
    "# Extract id, source, target, label, and property dictionary\n",
    "def edge_generator(ppi):\n",
    "    for interaction in ppi:\n",
    "        yield (\n",
    "            interaction.get_id(),\n",
    "            interaction.get_source_id(),\n",
    "            interaction.get_target_id(),\n",
    "            interaction.get_label(),\n",
    "            interaction.get_properties(),\n",
    "        )"
   ]
  },
  {
   "cell_type": "code",
   "execution_count": null,
   "metadata": {},
   "outputs": [],
   "source": [
    "def nodes_to_csv(generator_nodes):\n",
    "    list_nodes = [node for node in generator_nodes]\n",
    "\n",
    "    columns_nodes = [\"UniProt ID\", \"label\", \"properties\"]\n",
    "    df = pd.DataFrame(list_nodes, columns=columns_nodes)\n",
    "    df.info(memory_usage=\"deep\")\n",
    "\n",
    "    filename = \"dataset_\" + str(3*n_proteins) + \"_nodes_proteins.csv\"\n",
    "    \n",
    "    df.to_csv(os.path.join(\"./datasets\", filename), index=False)"
   ]
  },
  {
   "cell_type": "code",
   "execution_count": null,
   "metadata": {},
   "outputs": [],
   "source": [
    "def edges_to_csv(generator_edges):\n",
    "    list_edges = [edge for edge in generator_edges]\n",
    "\n",
    "    columns_edges = [\"UniProt ID\", \"Source ID\", \"Target ID\", \"label\", \"properties\"]\n",
    "    df = pd.DataFrame(list_edges, columns=columns_edges)\n",
    "    df.info(memory_usage=\"deep\")\n",
    "\n",
    "    filename = \"dataset_\" + str(3*n_proteins) + \"_edges_interactions.csv\"\n",
    "\n",
    "    df.to_csv(os.path.join(\"./datasets\", filename), index=False)"
   ]
  },
  {
   "cell_type": "markdown",
   "metadata": {
    "id": "PCTyoOPswmW6"
   },
   "source": [
    "# Generate Nodes"
   ]
  },
  {
   "cell_type": "code",
   "execution_count": null,
   "metadata": {},
   "outputs": [],
   "source": [
    "# Number of proteins to generate\n",
    "n_proteins = int(2e4)"
   ]
  },
  {
   "cell_type": "code",
   "execution_count": null,
   "metadata": {
    "id": "zsL5T1uLwmW9"
   },
   "outputs": [],
   "source": [
    "# Create a list of proteins from the data generator\n",
    "proteins = [\n",
    "    p for sublist in zip(\n",
    "        [RandomPropertyProtein() for _ in range(n_proteins)],\n",
    "        [RandomPropertyProteinIsoform() for _ in range(n_proteins)],\n",
    "        [EntrezProtein() for _ in range(n_proteins)],\n",
    "    ) for p in sublist\n",
    "]"
   ]
  },
  {
   "cell_type": "code",
   "execution_count": null,
   "metadata": {},
   "outputs": [],
   "source": [
    "# Write the nodes into a CSV file\n",
    "nodes_to_csv(node_generator(proteins))"
   ]
  },
  {
   "cell_type": "code",
   "execution_count": null,
   "metadata": {},
   "outputs": [],
   "source": []
  },
  {
   "cell_type": "code",
   "execution_count": null,
   "metadata": {},
   "outputs": [],
   "source": []
  },
  {
   "cell_type": "markdown",
   "metadata": {
    "id": "7RwYed1AwmW-"
   },
   "source": [
    "# Generator Edges"
   ]
  },
  {
   "cell_type": "code",
   "execution_count": null,
   "metadata": {
    "id": "6pCI75F6wmW-"
   },
   "outputs": [],
   "source": [
    "# Create a list of interactions from the data generator\n",
    "ppi = InteractionGenerator(\n",
    "    interactors=[p.get_id() for p in proteins],\n",
    "    interaction_probability=0.05,\n",
    ").generate_interactions()"
   ]
  },
  {
   "cell_type": "code",
   "execution_count": null,
   "metadata": {
    "id": "0SNwgvx4wmW-"
   },
   "outputs": [],
   "source": [
    "# Write the edges into a CSV file\n",
    "edges_to_csv(edge_generator(ppi))"
   ]
  },
  {
   "cell_type": "code",
   "execution_count": null,
   "metadata": {},
   "outputs": [],
   "source": []
  },
  {
   "cell_type": "code",
   "execution_count": null,
   "metadata": {},
   "outputs": [],
   "source": []
  }
 ],
 "metadata": {
  "colab": {
   "provenance": []
  },
  "kernelspec": {
   "display_name": "Python 3 (ipykernel)",
   "language": "python",
   "name": "python3"
  },
  "language_info": {
   "codemirror_mode": {
    "name": "ipython",
    "version": 3
   },
   "file_extension": ".py",
   "mimetype": "text/x-python",
   "name": "python",
   "nbconvert_exporter": "python",
   "pygments_lexer": "ipython3",
   "version": "3.10.14"
  },
  "vscode": {
   "interpreter": {
    "hash": "2ff371c403bc11abbc3c8e1391dba3b01886d66becfc523eea8e3dc677d5b98e"
   }
  }
 },
 "nbformat": 4,
 "nbformat_minor": 4
}
