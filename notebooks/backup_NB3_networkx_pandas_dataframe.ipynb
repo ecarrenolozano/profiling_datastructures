{
 "cells": [
  {
   "cell_type": "markdown",
   "id": "c0de5ce9-181a-4b51-91b0-baea01d91cbc",
   "metadata": {},
   "source": [
    "# Experiment 3: Pandas Dataframes as data structures for Graphs"
   ]
  },
  {
   "cell_type": "markdown",
   "id": "3c952c33-0a33-4b38-8e5f-3a60e80e13c0",
   "metadata": {},
   "source": [
    "[//]: # (------------------------------------------    DO NOT MODIFY THIS    ------------------------------------------)\n",
    "<style type=\"text/css\">\n",
    ".tg  {border-collapse:collapse;\n",
    "      border-spacing:0;\n",
    "     }\n",
    ".tg td{border-color:black;\n",
    "       border-style:solid;\n",
    "       border-width:1px;\n",
    "       font-family:Arial, sans-serif;\n",
    "       font-size:14px;\n",
    "       overflow:hidden;\n",
    "       padding:10px 5px;\n",
    "       word-break:normal;\n",
    "      }\n",
    ".tg th{border-color:black;\n",
    "       border-style:solid;\n",
    "       border-width:1px;\n",
    "       font-family:Arial, sans-serif;\n",
    "       font-size:14px;\n",
    "       font-weight:normal;\n",
    "       overflow:hidden;\n",
    "       padding:10px 5px;\n",
    "       word-break:normal;\n",
    "      }\n",
    ".tg .tg-fymr{border-color:inherit;\n",
    "             font-weight:bold;\n",
    "             text-align:left;\n",
    "             vertical-align:top\n",
    "            }\n",
    ".tg .tg-0pky{border-color:inherit;\n",
    "             text-align:left;\n",
    "             vertical-align:top\n",
    "            }\n",
    "[//]: # (--------------------------------------------------------------------------------------------------------------)\n",
    "\n",
    "[//]: # (-------------------------------------    FILL THIS OUT WITH YOUR DATA    -------------------------------------)\n",
    "</style>\n",
    "<table class=\"tg\">\n",
    "    <tbody>\n",
    "      <tr>\n",
    "        <td class=\"tg-fymr\" style=\"font-weight: bold\">Title:</td>\n",
    "        <td class=\"tg-0pky\">Experiment 3: Pandas Dataframes as data structures for Graphs</td>\n",
    "      </tr>\n",
    "      <tr>\n",
    "        <td class=\"tg-fymr\" style=\"font-weight: bold\">Authors:</td>\n",
    "        <td class=\"tg-0pky\">\n",
    "            <a href=\"https://github.com/ecarrenolozano\" target=\"_blank\" rel=\"noopener noreferrer\">Edwin Carreño</a>\n",
    "        </td>\n",
    "      </tr>\n",
    "      <tr>\n",
    "        <td class=\"tg-fymr\" style=\"font-weight: bold\">Affiliations:</td>\n",
    "        <td class=\"tg-0pky\">\n",
    "            <a href=\"https://www.ssc.uni-heidelberg.de/en\" target=\"_blank\" rel=\"noopener noreferrer\">Scientific Software Center</a>\n",
    "        </td>\n",
    "      </tr>\n",
    "      <tr>\n",
    "        <td class=\"tg-fymr\" style=\"font-weight: bold\">Date Created:</td>\n",
    "        <td class=\"tg-0pky\">30.10.2024</td>\n",
    "      </tr>\n",
    "      <tr>\n",
    "        <td class=\"tg-fymr\" style=\"font-weight: bold\">Description:</td>\n",
    "        <td class=\"tg-0pky\">Creation of a graph using Pandas dataframes and data from CSV files. Conversion to NetworkX is tested too.</td>\n",
    "      </tr>\n",
    "    </tbody>\n",
    "</table>\n",
    "\n",
    "[//]: # (--------------------------------------------------------------------------------------------------------------)"
   ]
  },
  {
   "cell_type": "markdown",
   "id": "653757e8-0707-435f-a254-17e93a65df5e",
   "metadata": {},
   "source": [
    "<table class=\"tfo-notebook-buttons\" align=\"left\">\n",
    "  <td>\n",
    "    <a target=\"_blank\" href=\"https://colab.research.google.com/github/tensorflow/docs/blob/master/site/en/tutorials/quickstart/beginner.ipynb\"><img src=\"https://www.tensorflow.org/images/colab_logo_32px.png\" />Run in Google Colab</a>\n",
    "  </td>\n",
    "  <td>\n",
    "    <a target=\"_blank\" href=\"https://github.com/tensorflow/docs/blob/master/site/en/tutorials/quickstart/beginner.ipynb\"><img src=\"https://www.tensorflow.org/images/GitHub-Mark-32px.png\" />View source on GitHub</a>\n",
    "  </td>\n",
    "</table>"
   ]
  },
  {
   "cell_type": "markdown",
   "id": "7f88122b-bb84-4f8a-8e1f-1c7e352a82ff",
   "metadata": {},
   "source": [
    "## Overview"
   ]
  },
  {
   "cell_type": "markdown",
   "id": "21c7cb98-8b5b-4512-bff9-c28f828b9511",
   "metadata": {},
   "source": [
    "In this notebook we are going to:\n",
    "\n",
    "1. Import CSV data from nodes and edges.\n",
    "2. Describe the data from CSVs.\n",
    "3. Create a data pipeline that:\n",
    "   - load csv data as Pandas dataframes.\n",
    "4. Create a NetworkX graph from a Pandas dataframe that contains information about edges."
   ]
  },
  {
   "cell_type": "markdown",
   "id": "ee004365-46a9-4318-9151-9ef3de72bce8",
   "metadata": {},
   "source": [
    "## Setup (if required)"
   ]
  },
  {
   "cell_type": "markdown",
   "id": "a3048939-862a-464e-95f6-530c165fceea",
   "metadata": {},
   "source": [
    "If your code require to install dependencies before your main code, please add the commands to install the dependencies. You can silence the messages returned by `pip` the flag `-q`, i.e. `pip install pandas -q`"
   ]
  },
  {
   "cell_type": "markdown",
   "id": "ccae6a64-c265-4c36-9120-42399598c4a6",
   "metadata": {},
   "source": [
    "### NetworkX installation"
   ]
  },
  {
   "cell_type": "code",
   "execution_count": 1,
   "id": "4b8a6f6a-0a47-4475-b8a3-bf333d173eaf",
   "metadata": {},
   "outputs": [],
   "source": [
    "!pip install networkx[default] -q"
   ]
  },
  {
   "cell_type": "markdown",
   "id": "275908a3-9b55-4a06-beed-f9a5ce96629f",
   "metadata": {},
   "source": [
    "### Pandas installation"
   ]
  },
  {
   "cell_type": "code",
   "execution_count": 2,
   "id": "1246c7ab-9d29-49d9-abbc-a1e81b5bd1b9",
   "metadata": {},
   "outputs": [],
   "source": [
    "!pip install pandas -q"
   ]
  },
  {
   "cell_type": "markdown",
   "id": "8a7d3a16-1b78-414f-929d-95af2d3fabfc",
   "metadata": {},
   "source": [
    "## Importing Libraries"
   ]
  },
  {
   "cell_type": "code",
   "execution_count": 3,
   "id": "f958512c-3e17-4f2e-9d28-53f91179c0fe",
   "metadata": {},
   "outputs": [],
   "source": [
    "\"\"\"\n",
    "Recommendations:\n",
    "    - Respect the order of the imports, they are indicated by the numbers 1, 2, 3.\n",
    "    - One import per line is recommended, with this we can track easily any modified line when we use git.\n",
    "    - Absolute imports are recommended (see 3. Local application/library specific imports below), they improve readability and give better error messages.\n",
    "    - You should put a blank line between each group of imports.\n",
    "\"\"\"\n",
    "\n",
    "# future-imports (for instance: from __future__ import barry_as_FLUFL)\n",
    "# from __future__ import barry_as_FLUFL  \n",
    "\n",
    "# 1. Standard library imports\n",
    "import ast\n",
    "import csv\n",
    "import os\n",
    "\n",
    "# 2. Related third party imports\n",
    "import networkx as nx\n",
    "import pandas as pd\n",
    "\n",
    "# 3. Local application/library specific imports\n",
    "# import <mypackage>.<MyClass>         # this is an example\n",
    "# from <mypackage> import <MyClass>    # this is another example "
   ]
  },
  {
   "cell_type": "markdown",
   "id": "66111ca1-b143-4832-b669-ffc7ec3d29c0",
   "metadata": {},
   "source": [
    "## Helper Functions"
   ]
  },
  {
   "cell_type": "code",
   "execution_count": 4,
   "id": "9b06b5e2-3131-4c60-b8de-43923bb22e94",
   "metadata": {},
   "outputs": [],
   "source": [
    "def print_networkx_edges(networkx_graph, limit=5):\n",
    "    for index, edge in enumerate(networkx_graph.edges(data=True)):\n",
    "        if index >=5:\n",
    "            break\n",
    "        print(edge)\n",
    "\n",
    "def create_pandasdf_from_csv(filepath, header=True):\n",
    "    pandas_dataframe = pd.read_csv(filepath, delimiter=',')\n",
    "         \n",
    "    return pandas_dataframe\n",
    "\n",
    "def update_dict(row):\n",
    "    if not pd.isna(row['UniProt ID']):\n",
    "        row['properties']['id'] = row['UniProt ID']\n",
    "    if not pd.isna(row['label']):\n",
    "        row['properties']['label'] = row['label']\n",
    "    return row['properties']\n",
    "\n",
    "def edges_format_converter(dataframe):\n",
    "    # Original format\n",
    "    #  (id, source node, target node, label, properties)\n",
    "    \n",
    "    # Desired format\n",
    "    #  (source node, target node, properties)\n",
    "\n",
    "    dataframe['properties'] = dataframe['properties'].apply(lambda d: ast.literal_eval(d))\n",
    "    dataframe['properties'] = dataframe.apply(update_dict, 1)    \n",
    "\n",
    "    dataframe.rename(columns={'Source ID':'source',\n",
    "                              'Target ID':'target'\n",
    "                             },\n",
    "                    inplace=True)\n",
    "\n",
    "    dataframe.drop(columns=['UniProt ID', 'label'], inplace=True)\n",
    "    \n",
    "    return dataframe\n",
    "\n",
    "def load_csv_module(filepath, header=True):\n",
    "    list_rows = []\n",
    "    with open(filepath, 'r') as file:\n",
    "        reader = csv.reader(file)\n",
    "        for row in reader:\n",
    "            if header: # Skip first row when header exists\n",
    "                header = False\n",
    "                continue\n",
    "\n",
    "            row = [field.strip() for field in row]\n",
    "            list_rows.append(tuple(row))  # Add each row to the list\n",
    "            \n",
    "    return list_rows"
   ]
  },
  {
   "cell_type": "markdown",
   "id": "54ddca15-f883-4099-b5fc-f9d786a2831f",
   "metadata": {},
   "source": [
    "## Introduction"
   ]
  },
  {
   "cell_type": "code",
   "execution_count": null,
   "id": "dfae1cb5-f356-449a-8235-5e4ede519eea",
   "metadata": {},
   "outputs": [],
   "source": []
  },
  {
   "cell_type": "code",
   "execution_count": null,
   "id": "468f2860-5866-4281-91c4-304f73cd6ab5",
   "metadata": {},
   "outputs": [],
   "source": []
  },
  {
   "cell_type": "markdown",
   "id": "0bff410b-f822-400c-a9e0-fbace37c98bd",
   "metadata": {},
   "source": [
    "## Section 1: Load the CSV data that contains nodes and edges"
   ]
  },
  {
   "cell_type": "markdown",
   "id": "34f979dc-b2ba-4642-9a49-58fc7a0c5d96",
   "metadata": {},
   "source": [
    "## Section 1: Load the CSV data that contains nodes and edges\n",
    "\n",
    "For this exercise, each graph is represented by two CSV files. One containing information about the **nodes** and the other about the **edges**. To indicate that both files correspond to the same graph, their names include the same number of nodes. For example:\n",
    "\n",
    "- `dataset_30_nodes_proteins.csv`: contains 30 rows (nodes).\n",
    "- `dataset_30_edges_interactions.csv`: contains 47 rows (edges).\n",
    "\n",
    "We reference each CSV file or dataset as follows:"
   ]
  },
  {
   "cell_type": "code",
   "execution_count": 5,
   "id": "0d93aef8-5fb2-4817-b705-0812575d4e81",
   "metadata": {},
   "outputs": [],
   "source": [
    "filename_nodes = \"dataset_30_nodes_proteins.csv\"\n",
    "filename_edges = \"dataset_30_edges_interactions.csv\""
   ]
  },
  {
   "cell_type": "markdown",
   "id": "a9078df4-c914-4e68-a265-f81b527ed41d",
   "metadata": {},
   "source": [
    "### 1.1: Load Nodes\n",
    "\n",
    "The CSV file for nodes contains three columns:\n",
    "- `UniProt ID`\n",
    "- `label`\n",
    "- `properties`\n",
    "\n",
    "We are going to load the information of nodes as a **list of tuples**. Each tuple represents a node with the structure:\n",
    "- `(id, label, properties)`\n",
    "- Each field in the tuple is a `string`\n",
    "- The `properties` field is a string containing a dictionary of properties."
   ]
  },
  {
   "cell_type": "code",
   "execution_count": 6,
   "id": "ebea24bf-fbd7-42d2-a06b-0380266271d7",
   "metadata": {},
   "outputs": [],
   "source": [
    "filepath_nodes = os.path.join(\"./datasets\", filename_nodes)\n",
    "\n",
    "list_nodes = load_csv_module(filepath_nodes, header=True)"
   ]
  },
  {
   "cell_type": "code",
   "execution_count": 7,
   "id": "58536a6f-3ab1-4067-96ec-274ead181f73",
   "metadata": {},
   "outputs": [
    {
     "name": "stdout",
     "output_type": "stream",
     "text": [
      "The NODES dataframe contains: 30 nodes\n",
      "Example:\n",
      "\t('G0P1I0', 'uniprot_protein', \"{'sequence': 'QKRTLFKVEFGSMSWFYKHRTNMHLRTMMYD', 'description': 'Lorem ipsum ilymp', 'taxon': '7813'}\")\n"
     ]
    }
   ],
   "source": [
    "print(\"The NODES dataframe contains: {} nodes\".format(len(list_nodes)))\n",
    "print(\"Example:\\n\\t{}\".format(list_nodes[0]))"
   ]
  },
  {
   "cell_type": "markdown",
   "id": "a7654e4e-1cf3-47c4-87da-68b3aad0feff",
   "metadata": {},
   "source": [
    "### 1.2: Load Edges\n",
    "\n",
    "The CSV file for edges contains five columns:\n",
    "- `Relation ID`\n",
    "- `Source ID`\n",
    "- `Target ID`\n",
    "- `label`\n",
    "- `properties`\n",
    "\n",
    "We are going to load the information of edges as a list of tuples. Each tuple represents a node with thethe structure:\n",
    "- `(id, source, target, label, properties)`\n",
    "- Each field in the tuple is a `string`\n",
    "- The `properties` field is string containing a dictionary of properties."
   ]
  },
  {
   "cell_type": "code",
   "execution_count": 8,
   "id": "b0f494bb-4fc5-458d-83dc-8f4567aac7ee",
   "metadata": {},
   "outputs": [],
   "source": [
    "filepath_edges = os.path.join(\"./datasets\", filename_edges)\n",
    "\n",
    "list_edges = load_csv_module(filepath_edges, header=True)"
   ]
  },
  {
   "cell_type": "code",
   "execution_count": 9,
   "id": "d236833d-4cc5-4842-9f6a-192cab33c247",
   "metadata": {},
   "outputs": [
    {
     "name": "stdout",
     "output_type": "stream",
     "text": [
      "The list of EDGES contains: 47 edges\n",
      "Example:\n",
      "\t('', 'B6V6V7', 'H9R6K5', 'interacts_with', \"{'source': 'signor'}\")\n",
      "\t('', 'B6V6V7', 'I5X3I2', 'interacts_with', \"{'method': 'Lorem ipsum pblfc'}\")\n",
      "\t('', '385603', 'H9R6K5', 'interacts_with', \"{'source': 'intact', 'method': 'Lorem ipsum nbqvj'}\")\n",
      "\t('', '385603', 'I9A3P8', 'interacts_with', '{}')\n",
      "\t('', 'L3V2Y6', 'X0C9T5', 'interacts_with', \"{'source': 'intact', 'method': 'Lorem ipsum zwhrq'}\")\n",
      "\t('intact956331', 'L3V2Y6', 'Y8Y3K0', 'interacts_with', \"{'source': 'signor'}\")\n"
     ]
    }
   ],
   "source": [
    "print(\"The list of EDGES contains: {} edges\".format(len(list_edges)))\n",
    "print(\"Example:\")\n",
    "for edge in list_edges[0:6]:\n",
    "    print(\"\\t{}\".format(edge))"
   ]
  },
  {
   "cell_type": "markdown",
   "id": "95e42816-66d7-46cd-8ef6-88cd841f414e",
   "metadata": {},
   "source": [
    "## Section 2: Create Data Pipeline\n",
    "- **input:** CSV data of edges\n",
    "- **output:** Pandas dataframe containing information of edges\n",
    "\n",
    "The pipeline consist of two consecutive stages:\n",
    "\n",
    "| Stage | Function                              | Description |\n",
    "|-------|---------------------------------------| ----------- |\n",
    "| 1     | `create_pandasdf_from_csv()`          | create a pandas dataframe in memory        |\n",
    "| 2     | `edges_format_converter(dataframe)`   | transform dataframe rows to desired format |"
   ]
  },
  {
   "cell_type": "markdown",
   "id": "dc665a12-7f51-443c-ace2-281e899e11c1",
   "metadata": {},
   "source": [
    "### 2.1 Create Pandas Dataframe from CSV file (data structure)"
   ]
  },
  {
   "cell_type": "code",
   "execution_count": 10,
   "id": "1e0edbca-351a-40a6-88c4-f342c68d9742",
   "metadata": {},
   "outputs": [],
   "source": [
    "edges_pandas_dataframe = edges_format_converter(create_pandasdf_from_csv(filepath_edges))"
   ]
  },
  {
   "cell_type": "code",
   "execution_count": 19,
   "id": "68704734-8b79-48ac-aded-30ba6a6a810c",
   "metadata": {},
   "outputs": [
    {
     "data": {
      "text/html": [
       "<div>\n",
       "<style scoped>\n",
       "    .dataframe tbody tr th:only-of-type {\n",
       "        vertical-align: middle;\n",
       "    }\n",
       "\n",
       "    .dataframe tbody tr th {\n",
       "        vertical-align: top;\n",
       "    }\n",
       "\n",
       "    .dataframe thead th {\n",
       "        text-align: right;\n",
       "    }\n",
       "</style>\n",
       "<table border=\"1\" class=\"dataframe\">\n",
       "  <thead>\n",
       "    <tr style=\"text-align: right;\">\n",
       "      <th></th>\n",
       "      <th>source</th>\n",
       "      <th>target</th>\n",
       "      <th>properties</th>\n",
       "    </tr>\n",
       "  </thead>\n",
       "  <tbody>\n",
       "    <tr>\n",
       "      <th>0</th>\n",
       "      <td>B6V6V7</td>\n",
       "      <td>H9R6K5</td>\n",
       "      <td>{'source': 'signor', 'label': 'interacts_with'}</td>\n",
       "    </tr>\n",
       "    <tr>\n",
       "      <th>1</th>\n",
       "      <td>B6V6V7</td>\n",
       "      <td>I5X3I2</td>\n",
       "      <td>{'method': 'Lorem ipsum pblfc', 'label': 'inte...</td>\n",
       "    </tr>\n",
       "    <tr>\n",
       "      <th>2</th>\n",
       "      <td>385603</td>\n",
       "      <td>H9R6K5</td>\n",
       "      <td>{'source': 'intact', 'method': 'Lorem ipsum nb...</td>\n",
       "    </tr>\n",
       "    <tr>\n",
       "      <th>3</th>\n",
       "      <td>385603</td>\n",
       "      <td>I9A3P8</td>\n",
       "      <td>{'label': 'interacts_with'}</td>\n",
       "    </tr>\n",
       "    <tr>\n",
       "      <th>4</th>\n",
       "      <td>L3V2Y6</td>\n",
       "      <td>X0C9T5</td>\n",
       "      <td>{'source': 'intact', 'method': 'Lorem ipsum zw...</td>\n",
       "    </tr>\n",
       "  </tbody>\n",
       "</table>\n",
       "</div>"
      ],
      "text/plain": [
       "   source  target                                         properties\n",
       "0  B6V6V7  H9R6K5    {'source': 'signor', 'label': 'interacts_with'}\n",
       "1  B6V6V7  I5X3I2  {'method': 'Lorem ipsum pblfc', 'label': 'inte...\n",
       "2  385603  H9R6K5  {'source': 'intact', 'method': 'Lorem ipsum nb...\n",
       "3  385603  I9A3P8                        {'label': 'interacts_with'}\n",
       "4  L3V2Y6  X0C9T5  {'source': 'intact', 'method': 'Lorem ipsum zw..."
      ]
     },
     "execution_count": 19,
     "metadata": {},
     "output_type": "execute_result"
    }
   ],
   "source": [
    "edges_pandas_dataframe.head()"
   ]
  },
  {
   "cell_type": "markdown",
   "id": "e81545df-47e5-4296-a752-40fed325d2c9",
   "metadata": {},
   "source": [
    "## Section 3: Converting to Networkx graph"
   ]
  },
  {
   "cell_type": "code",
   "execution_count": 11,
   "id": "529f0973-21fa-478c-b46e-f9020ca4526b",
   "metadata": {},
   "outputs": [
    {
     "name": "stdout",
     "output_type": "stream",
     "text": [
      "Graph G doesn't exist\n"
     ]
    }
   ],
   "source": [
    "try:\n",
    "    G.clear()\n",
    "    print(\"Graph has been cleared!\")\n",
    "except:\n",
    "    print(\"Graph G doesn't exist\")"
   ]
  },
  {
   "cell_type": "markdown",
   "id": "ef9fedd7-2199-4a7d-be81-a74cb8b4effb",
   "metadata": {},
   "source": [
    "### 3.1 Create a Directed Graph"
   ]
  },
  {
   "cell_type": "code",
   "execution_count": 12,
   "id": "af1823ee-0588-4025-a5a9-2c3b7bcb637c",
   "metadata": {},
   "outputs": [],
   "source": [
    "G = nx.from_pandas_edgelist(edges_pandas_dataframe, \n",
    "                            source=\"source\",\n",
    "                            target=\"target\",\n",
    "                            edge_attr=\"properties\",\n",
    "                            create_using=nx.DiGraph())"
   ]
  },
  {
   "cell_type": "markdown",
   "id": "db95f6ed-d199-40ff-a4cf-0d6c20ea7d28",
   "metadata": {},
   "source": [
    "Note that the graph contains a dictionary with a single key, `\"properties\"`. Inside this dictionary is another dictionary that holds each property. However, this is not the desired format. Instead, we want a single dictionary containing all the properties directly."
   ]
  },
  {
   "cell_type": "code",
   "execution_count": 13,
   "id": "ba100b74-abc5-4fb7-8ba8-a013345e377f",
   "metadata": {},
   "outputs": [
    {
     "name": "stdout",
     "output_type": "stream",
     "text": [
      "('B6V6V7', 'H9R6K5', {'properties': {'source': 'signor', 'label': 'interacts_with'}})\n",
      "('B6V6V7', 'I5X3I2', {'properties': {'method': 'Lorem ipsum pblfc', 'label': 'interacts_with'}})\n",
      "('H9R6K5', 'E8I0O8', {'properties': {'id': 'intact277910', 'label': 'interacts_with'}})\n",
      "('I5X3I2', 'D4X6C4', {'properties': {'source': 'intact', 'method': 'Lorem ipsum iiozd', 'label': 'interacts_with'}})\n",
      "('I5X3I2', 'T9Z8Y0', {'properties': {'method': 'Lorem ipsum gconp', 'id': 'intact994853', 'label': 'interacts_with'}})\n"
     ]
    }
   ],
   "source": [
    "print_networkx_edges(G)"
   ]
  },
  {
   "cell_type": "markdown",
   "id": "ca5de3ad-a378-448f-aa93-e33a9297ef80",
   "metadata": {},
   "source": [
    "### 3.2 Format the dictionary of properties for each edge"
   ]
  },
  {
   "cell_type": "code",
   "execution_count": 14,
   "id": "3c751868-998b-4d59-8335-b7595d094693",
   "metadata": {},
   "outputs": [],
   "source": [
    "for index, row in edges_pandas_dataframe.iterrows():\n",
    "    properties = G[row['source']][row['target']][\"properties\"]\n",
    "    G.add_edge(row['source'], row['target'], **properties)\n",
    "    G[row['source']][row['target']].pop(\"properties\")"
   ]
  },
  {
   "cell_type": "code",
   "execution_count": 15,
   "id": "ba77b112-f582-4c45-831c-b9773d86e389",
   "metadata": {},
   "outputs": [
    {
     "name": "stdout",
     "output_type": "stream",
     "text": [
      "('B6V6V7', 'H9R6K5', {'source': 'signor', 'label': 'interacts_with'})\n",
      "('B6V6V7', 'I5X3I2', {'method': 'Lorem ipsum pblfc', 'label': 'interacts_with'})\n",
      "('H9R6K5', 'E8I0O8', {'id': 'intact277910', 'label': 'interacts_with'})\n",
      "('I5X3I2', 'D4X6C4', {'source': 'intact', 'method': 'Lorem ipsum iiozd', 'label': 'interacts_with'})\n",
      "('I5X3I2', 'T9Z8Y0', {'method': 'Lorem ipsum gconp', 'id': 'intact994853', 'label': 'interacts_with'})\n"
     ]
    }
   ],
   "source": [
    "print_networkx_edges(G)"
   ]
  },
  {
   "cell_type": "markdown",
   "id": "f3ee7e48-8fc5-47f1-99e8-413c33a4ee88",
   "metadata": {},
   "source": [
    "### 3.2 Draw Graph"
   ]
  },
  {
   "cell_type": "code",
   "execution_count": 16,
   "id": "9f83f10a-b537-469a-b8fd-c64bef2b54c8",
   "metadata": {},
   "outputs": [
    {
     "data": {
      "image/png": "[encoded data removed]",
      "text/plain": [
       "<Figure size 640x480 with 1 Axes>"
      ]
     },
     "metadata": {},
     "output_type": "display_data"
    }
   ],
   "source": [
    "nx.draw(G, with_labels=True)"
   ]
  },
  {
   "cell_type": "markdown",
   "id": "8b45347c-e79c-4174-bf1f-cc7ff6653575",
   "metadata": {},
   "source": [
    "### 3.3 Some statistics"
   ]
  },
  {
   "cell_type": "code",
   "execution_count": 17,
   "id": "53174abf-67f8-48a3-a5f9-3e261c41463e",
   "metadata": {},
   "outputs": [
    {
     "name": "stdout",
     "output_type": "stream",
     "text": [
      "Number of nodes: 30\n",
      "Number of edges: 47\n"
     ]
    }
   ],
   "source": [
    "print(\"Number of nodes: {}\".format(G.number_of_nodes()))\n",
    "print(\"Number of edges: {}\".format(G.number_of_edges()))"
   ]
  },
  {
   "cell_type": "code",
   "execution_count": 18,
   "id": "217cbf8e-8fff-4b6a-81e4-6923e49a8410",
   "metadata": {},
   "outputs": [
    {
     "name": "stdout",
     "output_type": "stream",
     "text": [
      "('B6V6V7', 'H9R6K5', {'source': 'signor', 'label': 'interacts_with'})\n",
      "('B6V6V7', 'I5X3I2', {'method': 'Lorem ipsum pblfc', 'label': 'interacts_with'})\n",
      "('H9R6K5', 'E8I0O8', {'id': 'intact277910', 'label': 'interacts_with'})\n",
      "('I5X3I2', 'D4X6C4', {'source': 'intact', 'method': 'Lorem ipsum iiozd', 'label': 'interacts_with'})\n",
      "('I5X3I2', 'T9Z8Y0', {'method': 'Lorem ipsum gconp', 'id': 'intact994853', 'label': 'interacts_with'})\n"
     ]
    }
   ],
   "source": [
    "print_networkx_edges(G)"
   ]
  },
  {
   "cell_type": "code",
   "execution_count": null,
   "id": "d1c24eff-0989-451a-ba6a-6311e9603cb7",
   "metadata": {},
   "outputs": [],
   "source": []
  }
 ],
 "metadata": {
  "kernelspec": {
   "display_name": "Python 3 (ipykernel)",
   "language": "python",
   "name": "python3"
  },
  "language_info": {
   "codemirror_mode": {
    "name": "ipython",
    "version": 3
   },
   "file_extension": ".py",
   "mimetype": "text/x-python",
   "name": "python",
   "nbconvert_exporter": "python",
   "pygments_lexer": "ipython3",
   "version": "3.10.14"
  }
 },
 "nbformat": 4,
 "nbformat_minor": 5
}
