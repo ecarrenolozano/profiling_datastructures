{
 "cells": [
  {
   "cell_type": "markdown",
   "id": "0be74670-0ab5-4b48-9444-a66ae52cd5d1",
   "metadata": {},
   "source": [
    "# Experiment 1: Lists as data structures for Graphs"
   ]
  },
  {
   "cell_type": "markdown",
   "id": "1e67bac5-aa4a-4bfb-bab9-2a87ac29dbdc",
   "metadata": {},
   "source": [
    "[//]: # (------------------------------------------    DO NOT MODIFY THIS    ------------------------------------------)\n",
    "<style type=\"text/css\">\n",
    ".tg  {border-collapse:collapse;\n",
    "      border-spacing:0;\n",
    "     }\n",
    ".tg td{border-color:black;\n",
    "       border-style:solid;\n",
    "       border-width:1px;\n",
    "       font-family:Arial, sans-serif;\n",
    "       font-size:14px;\n",
    "       overflow:hidden;\n",
    "       padding:10px 5px;\n",
    "       word-break:normal;\n",
    "      }\n",
    ".tg th{border-color:black;\n",
    "       border-style:solid;\n",
    "       border-width:1px;\n",
    "       font-family:Arial, sans-serif;\n",
    "       font-size:14px;\n",
    "       font-weight:normal;\n",
    "       overflow:hidden;\n",
    "       padding:10px 5px;\n",
    "       word-break:normal;\n",
    "      }\n",
    ".tg .tg-fymr{border-color:inherit;\n",
    "             font-weight:bold;\n",
    "             text-align:left;\n",
    "             vertical-align:top\n",
    "            }\n",
    ".tg .tg-0pky{border-color:inherit;\n",
    "             text-align:left;\n",
    "             vertical-align:top\n",
    "            }\n",
    "[//]: # (--------------------------------------------------------------------------------------------------------------)\n",
    "\n",
    "[//]: # (-------------------------------------    FILL THIS OUT WITH YOUR DATA    -------------------------------------)\n",
    "</style>\n",
    "<table class=\"tg\">\n",
    "    <tbody>\n",
    "      <tr>\n",
    "        <td class=\"tg-fymr\" style=\"font-weight: bold\">Title:</td>\n",
    "        <td class=\"tg-0pky\"> Experiment 1: Lists as data structures for Graphs</td>\n",
    "      </tr>\n",
    "      <tr>\n",
    "        <td class=\"tg-fymr\" style=\"font-weight: bold\">Authors:</td>\n",
    "        <td class=\"tg-0pky\">\n",
    "            <a href=\"https://github.com/ecarrenolozano\" target=\"_blank\" rel=\"noopener noreferrer\">Edwin Carreño</a>\n",
    "        </td>\n",
    "      </tr>\n",
    "      <tr>\n",
    "        <td class=\"tg-fymr\" style=\"font-weight: bold\">Affiliations:</td>\n",
    "        <td class=\"tg-0pky\">\n",
    "            <a href=\"https://www.ssc.uni-heidelberg.de/en\" target=\"_blank\" rel=\"noopener noreferrer\">Scientific Software Center</a>\n",
    "        </td>\n",
    "      </tr>\n",
    "      <tr>\n",
    "        <td class=\"tg-fymr\" style=\"font-weight: bold\">Date Created:</td>\n",
    "        <td class=\"tg-0pky\">30.10.2024</td>\n",
    "      </tr>\n",
    "      <tr>\n",
    "        <td class=\"tg-fymr\" style=\"font-weight: bold\">Description:</td>\n",
    "        <td class=\"tg-0pky\">Creation of a graph using Python lists and data from CSV files. Conversion to NetworkX is tested too.</td>\n",
    "      </tr>\n",
    "    </tbody>\n",
    "</table>\n",
    "\n",
    "[//]: # (--------------------------------------------------------------------------------------------------------------)"
   ]
  },
  {
   "cell_type": "markdown",
   "id": "a6f2daac-918d-471e-83b7-6685cd141424",
   "metadata": {},
   "source": [
    "<table class=\"tfo-notebook-buttons\" align=\"left\">\n",
    "  <td>\n",
    "    <a target=\"_blank\" href=\"https://colab.research.google.com/github/tensorflow/docs/blob/master/site/en/tutorials/quickstart/beginner.ipynb\"><img src=\"https://www.tensorflow.org/images/colab_logo_32px.png\" />Run in Google Colab</a>\n",
    "  </td>\n",
    "  <td>\n",
    "    <a target=\"_blank\" href=\"https://github.com/tensorflow/docs/blob/master/site/en/tutorials/quickstart/beginner.ipynb\"><img src=\"https://www.tensorflow.org/images/GitHub-Mark-32px.png\" />View source on GitHub</a>\n",
    "  </td>  \n",
    "</table>"
   ]
  },
  {
   "cell_type": "markdown",
   "id": "1fb5ab5e-6d91-4d66-b054-c95cf385b943",
   "metadata": {},
   "source": [
    "## Overview"
   ]
  },
  {
   "cell_type": "markdown",
   "id": "30d9abb0-6e7b-4061-ac52-99e30da031cc",
   "metadata": {},
   "source": [
    "In this notebook we are going to:\n",
    "\n",
    "1. Import CSV (comma-separated values) data from nodes and edges.\n",
    "2. Describe the data from CSVs.\n",
    "3. Create a data pipeline that:\n",
    "   - load csv data.\n",
    "   - transform the format of tuples that represents edges (from 5 to 3 elements).\n",
    "   - create a list (data structure) of tuples containing the information of edges .\n",
    "4. Create a NetworkX graph from an edge list."
   ]
  },
  {
   "cell_type": "markdown",
   "id": "2174e6d2-5701-455a-a617-10d394d17424",
   "metadata": {},
   "source": [
    "## Setup (if required)\n",
    "\n",
    "**Note:** If your code require to install dependencies before your main code, please add the commands to install the dependencies. You can silence the messages returned by `pip` the flag `-q`, i.e. `pip install pandas -q`"
   ]
  },
  {
   "cell_type": "markdown",
   "id": "d898971c-065f-44f2-8b6f-b0c11ee7a039",
   "metadata": {},
   "source": [
    "### NetworkX installation"
   ]
  },
  {
   "cell_type": "code",
   "execution_count": 1,
   "id": "b8e3ea23-d939-4fb4-b995-28837b276806",
   "metadata": {},
   "outputs": [],
   "source": [
    "!pip install networkx[default] -q"
   ]
  },
  {
   "cell_type": "markdown",
   "id": "d649800f-af21-422f-be65-e289455c68ba",
   "metadata": {},
   "source": [
    "## Importing Libraries"
   ]
  },
  {
   "cell_type": "code",
   "execution_count": 2,
   "id": "c294dcee-9162-4f31-bcb5-576f598f387f",
   "metadata": {},
   "outputs": [],
   "source": [
    "\"\"\"\n",
    "Recommendations:\n",
    "    - Respect the order of the imports, they are indicated by the numbers 1, 2, 3.\n",
    "    - One import per line is recommended, with this we can track easily any modified line when we use git.\n",
    "    - Absolute imports are recommended (see 3. Local application/library specific imports below), they improve readability and give better error messages.\n",
    "    - You should put a blank line between each group of imports.\n",
    "\"\"\"\n",
    "\n",
    "# future-imports (for instance: from __future__ import barry_as_FLUFL)\n",
    "# from __future__ import barry_as_FLUFL  \n",
    "\n",
    "# 1. Standard library imports\n",
    "import ast\n",
    "import csv\n",
    "import os\n",
    "\n",
    "# 2. Related third party imports\n",
    "import networkx as nx\n",
    "\n",
    "# 3. Local application/library specific imports\n",
    "# import <mypackage>.<MyClass>         # this is an example\n",
    "# from <mypackage> import <MyClass>    # this is another example "
   ]
  },
  {
   "cell_type": "markdown",
   "id": "7ca790f6-9af7-43b2-a5a1-7c2b7f5bd2b3",
   "metadata": {},
   "source": [
    "## Helper Functions"
   ]
  },
  {
   "cell_type": "code",
   "execution_count": 3,
   "id": "ad47a09f-ca55-4882-882a-6e135502390a",
   "metadata": {},
   "outputs": [],
   "source": [
    "def load_csv_generator(file_path, header=True):\n",
    "    with open(file_path, \"r\") as file:\n",
    "        reader = csv.reader(file)\n",
    "        if header:\n",
    "            next(reader)\n",
    "        for row in reader:\n",
    "            yield tuple(row)\n",
    "\n",
    "def to_networkx_nodes_format(nodes_iterable, mapping_properties=True):\n",
    "    for node in nodes_iterable:\n",
    "        # Original format\n",
    "        #  (node id, node label, properties)\n",
    "\n",
    "        # Desired format\n",
    "        #  (node id, properties as dict)\n",
    "\n",
    "        node_id = node[0]\n",
    "        properties = ast.literal_eval(node[2])\n",
    "\n",
    "        if mapping_properties:\n",
    "            properties[\"node_label\"] = node[1]\n",
    "\n",
    "        yield(\n",
    "            node_id,\n",
    "            properties\n",
    "        )\n",
    "\n",
    "def to_networkx_edges_format(edges_iterable, mapping_properties=True):\n",
    "    for edge in edges_iterable:\n",
    "        # Original format\n",
    "        #  (edge id, source (node id), target (node id), label, properties)\n",
    "\n",
    "        # Desired format\n",
    "        #  (source (node id), target (node id), properties as dict)\n",
    "\n",
    "        edge_source_id = edge[1]\n",
    "        edge_target_id = edge[2]\n",
    "        properties = ast.literal_eval(edge[4])\n",
    "\n",
    "        if mapping_properties:\n",
    "            properties[\"edge_id\"] = edge[0]\n",
    "            properties[\"edge_label\"] = edge[3]\n",
    "\n",
    "        yield (\n",
    "            edge_source_id,\n",
    "            edge_target_id,\n",
    "            properties,\n",
    "        )\n",
    "\n",
    "def create_lists(nodes_generator, edges_generator):\n",
    "    list_nodes = [item for item in nodes_generator]\n",
    "    list_edges = [item for item in edges_generator]\n",
    "\n",
    "    return list_nodes, list_edges\n",
    "\n",
    "\n",
    "def networkx_graph_from_lists(nodes_iterable, edges_iterable, graph_type=nx.DiGraph()):\n",
    "    # create graph from a list of edges\n",
    "    graph = create_graph_from_edge_list(edges_iterable)\n",
    "\n",
    "    # populate nodes with properties\n",
    "    populate_graph_node_properties(graph, nodes_iterable)\n",
    "    \n",
    "    return graph\n",
    "\n",
    "def create_graph_from_edge_list(edges_iterable, graph_type=nx.DiGraph()):\n",
    "    try:\n",
    "        return nx.from_edgelist(edges_iterable, graph_type)\n",
    "    except nx.NetworkXError as e:\n",
    "        # Edge format not compatible\n",
    "        if '2-tuple' or '3-tuple' in e:\n",
    "            print(\"ERROR: Edge format is not compatible\")\n",
    "            raise\n",
    "\n",
    "def populate_graph_node_properties(graph, nodes_iterable):\n",
    "    try:\n",
    "        graph.add_nodes_from(nodes_iterable)\n",
    "    except nx.NetworkXError as e:\n",
    "        # node format not compatible\n",
    "        if '2-tuple' or '3-tuple' in e:\n",
    "            print(\"ERROR: Edge format is not compatible\")\n",
    "            raise"
   ]
  },
  {
   "cell_type": "markdown",
   "id": "0cd932b1-cfd4-4dae-be70-aac312bc6043",
   "metadata": {},
   "source": [
    "## Introduction"
   ]
  },
  {
   "cell_type": "code",
   "execution_count": null,
   "id": "97b3fb54-fa92-4906-a8a6-81f11a7fdaaf",
   "metadata": {},
   "outputs": [],
   "source": []
  },
  {
   "cell_type": "code",
   "execution_count": null,
   "id": "a7b0eb1f-2dc2-40d9-890a-f0a6c45101bb",
   "metadata": {},
   "outputs": [],
   "source": []
  },
  {
   "cell_type": "markdown",
   "id": "ef9b5426-9c61-4113-a86c-5d99e164034c",
   "metadata": {},
   "source": [
    "## Section 1: Load the CSV data that contains nodes and edges\n",
    "\n",
    "For this exercise, each graph is represented by two CSV files. One containing information about the **nodes** and the other about the **edges**. To indicate that both files correspond to the same graph, their names include the same number of nodes. For example:\n",
    "\n",
    "- `dataset_30_nodes_proteins.csv`: contains 30 rows (nodes).\n",
    "- `dataset_30_edges_interactions.csv`: contains 47 rows (edges).\n",
    "\n",
    "We reference each CSV file or dataset as follows:"
   ]
  },
  {
   "cell_type": "code",
   "execution_count": 4,
   "id": "5bd42b65-6e18-4e3a-9115-62f3efd0310c",
   "metadata": {},
   "outputs": [],
   "source": [
    "filename_nodes = \"dataset_30_nodes_proteins.csv\"\n",
    "filename_edges = \"dataset_30_edges_interactions.csv\"\n",
    "\n",
    "FILE_PATH_DATASETS = \"../../../DATASETS\""
   ]
  },
  {
   "cell_type": "markdown",
   "id": "3d28236b-c3c8-425c-9fdc-0d2c6d021137",
   "metadata": {},
   "source": [
    "### 1.1: Load Nodes\n",
    "\n",
    "The CSV file for nodes contains three columns:\n",
    "- `UniProt ID`\n",
    "- `label`\n",
    "- `properties`\n",
    "\n",
    "We are going to load the information of nodes as a **list of tuples**. Each tuple represents a node with the structure:\n",
    "- `(id, label, properties)`\n",
    "- Each field in the tuple is a `string`\n",
    "- The `properties` field is a string containing a dictionary of properties."
   ]
  },
  {
   "cell_type": "code",
   "execution_count": 5,
   "id": "397537fa-046f-41d0-b90e-80aab4e3f951",
   "metadata": {},
   "outputs": [],
   "source": [
    "file_path_nodes = os.path.join(FILE_PATH_DATASETS, filename_nodes)\n",
    "\n",
    "list_nodes = [node for node in load_csv_generator(file_path_nodes, header=True)]"
   ]
  },
  {
   "cell_type": "code",
   "execution_count": 6,
   "id": "2fbf819a-e86f-412c-8720-17c7391cd065",
   "metadata": {},
   "outputs": [
    {
     "name": "stdout",
     "output_type": "stream",
     "text": [
      "/home/ecarreno/SSC-Projects/REPOSITORIES/profiling_datastructures/notebooks\n"
     ]
    }
   ],
   "source": [
    "!pwd"
   ]
  },
  {
   "cell_type": "code",
   "execution_count": 7,
   "id": "23a07299-5403-4388-a9dd-09a4a6ace368",
   "metadata": {},
   "outputs": [
    {
     "name": "stdout",
     "output_type": "stream",
     "text": [
      "The list of NODES contains: 30 nodes\n",
      "Example:\n",
      "\t('G0P1I0', 'uniprot_protein', \"{'sequence': 'QKRTLFKVEFGSMSWFYKHRTNMHLRTMMYD', 'description': 'Lorem ipsum ilymp', 'taxon': '7813'}\")\n"
     ]
    }
   ],
   "source": [
    "print(\"The list of NODES contains: {} nodes\".format(len(list_nodes)))\n",
    "print(\"Example:\\n\\t{}\".format(list_nodes[0]))"
   ]
  },
  {
   "cell_type": "markdown",
   "id": "b9ac9426-27e1-4ff6-a360-6ec984134e44",
   "metadata": {},
   "source": [
    "### 1.2: Load Edges\n",
    "\n",
    "The CSV file for edges contains five columns:\n",
    "- `Relation ID`\n",
    "- `Source ID`\n",
    "- `Target ID`\n",
    "- `label`\n",
    "- `properties`\n",
    "\n",
    "We are going to load the information of edges as a list of tuples. Each tuple represents a node with thethe structure:\n",
    "- `(id, source, target, label, properties)`\n",
    "- Each field in the tuple is a `string`\n",
    "- The `properties` field is string containing a dictionary of properties."
   ]
  },
  {
   "cell_type": "code",
   "execution_count": 8,
   "id": "31d3ffb6-2de3-429a-bfcf-2ed6f68501d8",
   "metadata": {},
   "outputs": [],
   "source": [
    "file_path_edges = os.path.join(FILE_PATH_DATASETS, filename_edges)\n",
    "\n",
    "list_edges = [edge for edge in load_csv_generator(file_path_edges, header=True)]"
   ]
  },
  {
   "cell_type": "code",
   "execution_count": 9,
   "id": "6a2c5d42-d6fd-4dc9-82d1-ca3ea448724f",
   "metadata": {},
   "outputs": [
    {
     "name": "stdout",
     "output_type": "stream",
     "text": [
      "The list of EDGES contains: 47 edges\n",
      "Example:\n",
      "\t('', 'B6V6V7', 'H9R6K5', 'interacts_with', \"{'source': 'signor'}\")\n",
      "\t('', 'B6V6V7', 'I5X3I2', 'interacts_with', \"{'method': 'Lorem ipsum pblfc'}\")\n",
      "\t('', '385603', 'H9R6K5', 'interacts_with', \"{'source': 'intact', 'method': 'Lorem ipsum nbqvj'}\")\n",
      "\t('', '385603', 'I9A3P8', 'interacts_with', '{}')\n",
      "\t('', 'L3V2Y6', 'X0C9T5', 'interacts_with', \"{'source': 'intact', 'method': 'Lorem ipsum zwhrq'}\")\n",
      "\t('intact956331', 'L3V2Y6', 'Y8Y3K0', 'interacts_with', \"{'source': 'signor'}\")\n"
     ]
    }
   ],
   "source": [
    "print(\"The list of EDGES contains: {} edges\".format(len(list_edges)))\n",
    "print(\"Example:\")\n",
    "for edge in list_edges[0:6]:\n",
    "    print(\"\\t{}\".format(edge))"
   ]
  },
  {
   "cell_type": "markdown",
   "id": "bb0eeaa8-c8c4-413c-9949-ea9d158d5a27",
   "metadata": {},
   "source": [
    "## Section 2: Create Data Pipeline\n",
    "\n",
    "- **input:** CSV data of edges\n",
    "- **output:** List of tuples containing information of edges\n",
    "\n",
    "The pipeline consist of three consecutive stages:\n",
    "\n",
    "| Stage | Function                      | Description |\n",
    "|-------|-------------------------------| ----------- |\n",
    "| 1     | `load_csv_module()`           | read the csv and load the information in memory    |\n",
    "| 2     | `edges_generator_streaming()` | transform the tuples to desired format             |\n",
    "| 3     | `create_edgelist_ds()`        | create an edgelist containing all the tuples       |"
   ]
  },
  {
   "cell_type": "markdown",
   "id": "c08f7e8d-d4dd-444f-a22f-af87d46d79bc",
   "metadata": {},
   "source": [
    "### 2.1 Create List of tuples (data structure)"
   ]
  },
  {
   "cell_type": "code",
   "execution_count": 10,
   "id": "1bb73a4e-d997-46a5-bf25-6743403c23c6",
   "metadata": {},
   "outputs": [],
   "source": [
    "nodelist, edgelist = create_lists(\n",
    "    nodes_generator=load_csv_generator(file_path_nodes),\n",
    "    edges_generator=load_csv_generator(file_path_edges))"
   ]
  },
  {
   "cell_type": "code",
   "execution_count": 11,
   "id": "2dca3f67-e2fc-4344-85fb-a412af842299",
   "metadata": {},
   "outputs": [
    {
     "name": "stdout",
     "output_type": "stream",
     "text": [
      "('G0P1I0', 'uniprot_protein', \"{'sequence': 'QKRTLFKVEFGSMSWFYKHRTNMHLRTMMYD', 'description': 'Lorem ipsum ilymp', 'taxon': '7813'}\")\n",
      "('B6V6V7', 'uniprot_isoform', \"{'sequence': 'CGLGLSMRFLMVGVQNWFWYGTRVPDVAYIDWHEYQHQPRVLMQNGN', 'description': 'Lorem ipsum kxujk', 'taxon': '4800'}\")\n",
      "('385603', 'entrez_protein', \"{'sequence': 'EHYTERRSMRSTGQDKTSNPYLFFHITRFKRCPANQVKPWFMVLHKYEW', 'description': 'Lorem ipsum ufuuy', 'taxon': '9606'}\")\n",
      "('L3V2Y6', 'uniprot_protein', \"{'sequence': 'EGYPSHLLDVESFMSHNWTPWIFKCDARLC', 'description': 'Lorem ipsum yueos', 'taxon': '3342', 'mass': 73}\")\n",
      "('Q1R3N5', 'uniprot_isoform', \"{'sequence': 'IVHIKHTTQLGAIIQRNFQVGWCHVG', 'description': 'Lorem ipsum xyked', 'taxon': '5672', 'mass': 7347}\")\n"
     ]
    }
   ],
   "source": [
    "for node in nodelist[0:5]:\n",
    "    print(node)"
   ]
  },
  {
   "cell_type": "code",
   "execution_count": 12,
   "id": "2de432f6-a5a1-4d82-a566-8f11c7107f58",
   "metadata": {},
   "outputs": [
    {
     "name": "stdout",
     "output_type": "stream",
     "text": [
      "('', 'B6V6V7', 'H9R6K5', 'interacts_with', \"{'source': 'signor'}\")\n",
      "('', 'B6V6V7', 'I5X3I2', 'interacts_with', \"{'method': 'Lorem ipsum pblfc'}\")\n",
      "('', '385603', 'H9R6K5', 'interacts_with', \"{'source': 'intact', 'method': 'Lorem ipsum nbqvj'}\")\n",
      "('', '385603', 'I9A3P8', 'interacts_with', '{}')\n",
      "('', 'L3V2Y6', 'X0C9T5', 'interacts_with', \"{'source': 'intact', 'method': 'Lorem ipsum zwhrq'}\")\n"
     ]
    }
   ],
   "source": [
    "for edge in edgelist[0:5]:\n",
    "    print(edge)"
   ]
  },
  {
   "cell_type": "markdown",
   "id": "ff55d01d-0419-41e9-bb17-bb401daf995c",
   "metadata": {},
   "source": [
    "## Section 3: Creating NetworkX "
   ]
  },
  {
   "cell_type": "markdown",
   "id": "7e9b0cbc-f931-447a-97e8-5988aec65b88",
   "metadata": {},
   "source": [
    "Before creating a NetworkX graph we need to convert the data we have into a format that NetworkX understand.\n",
    "\n",
    "NetworkX format for nodes\n",
    "- `(node, properties)`\n",
    "- **node:** hashable object, except `None`. For instance, `str`, `int`, `dict`, etc.\n",
    "- **properties:** python dictionary\n",
    "\n",
    "NetworkX format for edges\n",
    "- `(source node, target node, properties)`\n",
    "- **source node:** hashable object, except `None`. For instance, `str`, `int`, `dict`, etc.\n",
    "- **target node:** hashable object, except `None`. For instance, `str`, `int`, `dict`, etc.\n",
    "- **properties:** python dictionary\n",
    "\n",
    "To perform transformations use:\n",
    "- `to_networkx_edges_format(edgelist)`\n",
    "- `to_networkx_nodes_format(nodelist)`"
   ]
  },
  {
   "cell_type": "markdown",
   "id": "ab982179-d23c-43e9-98b1-c6bad344bd5d",
   "metadata": {},
   "source": [
    "### 3.1 Create a Directed Graph"
   ]
  },
  {
   "cell_type": "code",
   "execution_count": 13,
   "id": "b2c06087-2f04-45bc-b2a8-9949d2c03b9c",
   "metadata": {},
   "outputs": [
    {
     "name": "stdout",
     "output_type": "stream",
     "text": [
      "Graph G doesn't exist\n"
     ]
    }
   ],
   "source": [
    "try:\n",
    "    G.clear()\n",
    "    print(\"Graph has been cleared!\")\n",
    "except:\n",
    "    print(\"Graph G doesn't exist\")"
   ]
  },
  {
   "cell_type": "code",
   "execution_count": 14,
   "id": "e02819a8-e614-4f43-82eb-f54d81f3b421",
   "metadata": {},
   "outputs": [],
   "source": [
    "G = networkx_graph_from_lists(edges_iterable=to_networkx_edges_format(edgelist),\n",
    "                              nodes_iterable=to_networkx_nodes_format(nodelist),\n",
    "                              graph_type=nx.DiGraph())"
   ]
  },
  {
   "cell_type": "markdown",
   "id": "159eb09e-6f7e-4f71-840c-b836d0d91988",
   "metadata": {},
   "source": [
    "### 3.2 Draw Graph"
   ]
  },
  {
   "cell_type": "code",
   "execution_count": 15,
   "id": "ab373c16-aa79-4f6d-95bd-bdffefed6c20",
   "metadata": {},
   "outputs": [
    {
     "data": {
      "image/png": "[encoded data removed]",
      "text/plain": [
       "<Figure size 640x480 with 1 Axes>"
      ]
     },
     "metadata": {},
     "output_type": "display_data"
    }
   ],
   "source": [
    "nx.draw(G, with_labels=True)"
   ]
  },
  {
   "cell_type": "markdown",
   "id": "07c3ca3c-a3bf-4f7b-a098-a5ab18695842",
   "metadata": {},
   "source": [
    "### 3.3 Some statistics"
   ]
  },
  {
   "cell_type": "code",
   "execution_count": 16,
   "id": "d6724a37-75a7-4f21-9187-6166747692fd",
   "metadata": {},
   "outputs": [
    {
     "name": "stdout",
     "output_type": "stream",
     "text": [
      "Number of nodes: 30\n",
      "Number of edges: 47\n"
     ]
    }
   ],
   "source": [
    "print(\"Number of nodes: {}\".format(G.number_of_nodes()))\n",
    "print(\"Number of edges: {}\".format(G.number_of_edges()))"
   ]
  },
  {
   "cell_type": "code",
   "execution_count": 17,
   "id": "5fe924bc-d677-46ed-919a-5c84d941f382",
   "metadata": {},
   "outputs": [
    {
     "name": "stdout",
     "output_type": "stream",
     "text": [
      "('B6V6V7', 'H9R6K5', {'source': 'signor', 'edge_id': '', 'edge_label': 'interacts_with'})\n",
      "('B6V6V7', 'I5X3I2', {'method': 'Lorem ipsum pblfc', 'edge_id': '', 'edge_label': 'interacts_with'})\n",
      "('H9R6K5', 'E8I0O8', {'edge_id': 'intact277910', 'edge_label': 'interacts_with'})\n",
      "('I5X3I2', 'D4X6C4', {'source': 'intact', 'method': 'Lorem ipsum iiozd', 'edge_id': '', 'edge_label': 'interacts_with'})\n",
      "('I5X3I2', 'T9Z8Y0', {'method': 'Lorem ipsum gconp', 'edge_id': 'intact994853', 'edge_label': 'interacts_with'})\n"
     ]
    }
   ],
   "source": [
    "limit = 5\n",
    "for index, edge in enumerate(G.edges(data=True)):\n",
    "    if index == limit:\n",
    "        break\n",
    "    print(edge)"
   ]
  },
  {
   "cell_type": "code",
   "execution_count": 18,
   "id": "fe0629a5-7691-4b75-8061-abe8d18454ea",
   "metadata": {},
   "outputs": [
    {
     "name": "stdout",
     "output_type": "stream",
     "text": [
      "('B6V6V7', {'sequence': 'CGLGLSMRFLMVGVQNWFWYGTRVPDVAYIDWHEYQHQPRVLMQNGN', 'description': 'Lorem ipsum kxujk', 'taxon': '4800', 'node_label': 'uniprot_isoform'})\n",
      "('H9R6K5', {'sequence': 'CEDNSRWWHWPVKIAHININCSKACCENTSLATLTARSTLC', 'description': 'Lorem ipsum fdrbm', 'taxon': '7576', 'mass': 9671, 'node_label': 'uniprot_isoform'})\n",
      "('I5X3I2', {'sequence': 'WSAAEAGGAELALDFWLVASRKKYGMLQVT', 'description': 'Lorem ipsum ddbvb', 'taxon': '4186', 'node_label': 'uniprot_isoform'})\n",
      "('385603', {'sequence': 'EHYTERRSMRSTGQDKTSNPYLFFHITRFKRCPANQVKPWFMVLHKYEW', 'description': 'Lorem ipsum ufuuy', 'taxon': '9606', 'node_label': 'entrez_protein'})\n",
      "('I9A3P8', {'sequence': 'YMSEGKWSIWIINMMLMHAQNLHVALIIVVY', 'description': 'Lorem ipsum dbhcg', 'taxon': '1230', 'mass': 6364, 'node_label': 'uniprot_protein'})\n"
     ]
    }
   ],
   "source": [
    "limit = 5\n",
    "for index, node in enumerate(G.nodes(data=True)):\n",
    "    if index == limit:\n",
    "        break\n",
    "    print(node)"
   ]
  },
  {
   "cell_type": "code",
   "execution_count": null,
   "id": "906bd6ad-5376-414e-94e5-0cfcb7d74c4a",
   "metadata": {},
   "outputs": [],
   "source": []
  },
  {
   "cell_type": "code",
   "execution_count": null,
   "id": "b6a5c8ad-9615-48d0-8763-9188e8234edc",
   "metadata": {},
   "outputs": [],
   "source": []
  },
  {
   "cell_type": "code",
   "execution_count": null,
   "id": "4919c005-ada7-4c6e-b0d0-fb0570c6bb62",
   "metadata": {},
   "outputs": [],
   "source": []
  }
 ],
 "metadata": {
  "kernelspec": {
   "display_name": "Python 3 (ipykernel)",
   "language": "python",
   "name": "python3"
  },
  "language_info": {
   "codemirror_mode": {
    "name": "ipython",
    "version": 3
   },
   "file_extension": ".py",
   "mimetype": "text/x-python",
   "name": "python",
   "nbconvert_exporter": "python",
   "pygments_lexer": "ipython3",
   "version": "3.10.14"
  }
 },
 "nbformat": 4,
 "nbformat_minor": 5
}
