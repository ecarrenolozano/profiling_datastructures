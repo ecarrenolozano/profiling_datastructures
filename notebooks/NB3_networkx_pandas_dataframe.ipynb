{
 "cells": [
  {
   "cell_type": "markdown",
   "id": "c0de5ce9-181a-4b51-91b0-baea01d91cbc",
   "metadata": {},
   "source": [
    "# Experiment 3: Pandas Dataframes as data structures for Graphs"
   ]
  },
  {
   "cell_type": "markdown",
   "id": "3c952c33-0a33-4b38-8e5f-3a60e80e13c0",
   "metadata": {},
   "source": [
    "[//]: # (------------------------------------------    DO NOT MODIFY THIS    ------------------------------------------)\n",
    "<style type=\"text/css\">\n",
    ".tg  {border-collapse:collapse;\n",
    "      border-spacing:0;\n",
    "     }\n",
    ".tg td{border-color:black;\n",
    "       border-style:solid;\n",
    "       border-width:1px;\n",
    "       font-family:Arial, sans-serif;\n",
    "       font-size:14px;\n",
    "       overflow:hidden;\n",
    "       padding:10px 5px;\n",
    "       word-break:normal;\n",
    "      }\n",
    ".tg th{border-color:black;\n",
    "       border-style:solid;\n",
    "       border-width:1px;\n",
    "       font-family:Arial, sans-serif;\n",
    "       font-size:14px;\n",
    "       font-weight:normal;\n",
    "       overflow:hidden;\n",
    "       padding:10px 5px;\n",
    "       word-break:normal;\n",
    "      }\n",
    ".tg .tg-fymr{border-color:inherit;\n",
    "             font-weight:bold;\n",
    "             text-align:left;\n",
    "             vertical-align:top\n",
    "            }\n",
    ".tg .tg-0pky{border-color:inherit;\n",
    "             text-align:left;\n",
    "             vertical-align:top\n",
    "            }\n",
    "[//]: # (--------------------------------------------------------------------------------------------------------------)\n",
    "\n",
    "[//]: # (-------------------------------------    FILL THIS OUT WITH YOUR DATA    -------------------------------------)\n",
    "</style>\n",
    "<table class=\"tg\">\n",
    "    <tbody>\n",
    "      <tr>\n",
    "        <td class=\"tg-fymr\" style=\"font-weight: bold\">Title:</td>\n",
    "        <td class=\"tg-0pky\">Experiment 3: Pandas Dataframes as data structures for Graphs</td>\n",
    "      </tr>\n",
    "      <tr>\n",
    "        <td class=\"tg-fymr\" style=\"font-weight: bold\">Authors:</td>\n",
    "        <td class=\"tg-0pky\">\n",
    "            <a href=\"https://github.com/ecarrenolozano\" target=\"_blank\" rel=\"noopener noreferrer\">Edwin Carreño</a>\n",
    "        </td>\n",
    "      </tr>\n",
    "      <tr>\n",
    "        <td class=\"tg-fymr\" style=\"font-weight: bold\">Affiliations:</td>\n",
    "        <td class=\"tg-0pky\">\n",
    "            <a href=\"https://www.ssc.uni-heidelberg.de/en\" target=\"_blank\" rel=\"noopener noreferrer\">Scientific Software Center</a>\n",
    "        </td>\n",
    "      </tr>\n",
    "      <tr>\n",
    "        <td class=\"tg-fymr\" style=\"font-weight: bold\">Date Created:</td>\n",
    "        <td class=\"tg-0pky\">30.10.2024</td>\n",
    "      </tr>\n",
    "      <tr>\n",
    "        <td class=\"tg-fymr\" style=\"font-weight: bold\">Description:</td>\n",
    "        <td class=\"tg-0pky\">Creation of a graph using Pandas dataframes and data from CSV files. Conversion to NetworkX is tested too.</td>\n",
    "      </tr>\n",
    "    </tbody>\n",
    "</table>\n",
    "\n",
    "[//]: # (--------------------------------------------------------------------------------------------------------------)"
   ]
  },
  {
   "cell_type": "markdown",
   "id": "653757e8-0707-435f-a254-17e93a65df5e",
   "metadata": {},
   "source": [
    "<table class=\"tfo-notebook-buttons\" align=\"left\">\n",
    "  <td>\n",
    "    <a target=\"_blank\" href=\"https://colab.research.google.com/github/tensorflow/docs/blob/master/site/en/tutorials/quickstart/beginner.ipynb\"><img src=\"https://www.tensorflow.org/images/colab_logo_32px.png\" />Run in Google Colab</a>\n",
    "  </td>\n",
    "  <td>\n",
    "    <a target=\"_blank\" href=\"https://github.com/tensorflow/docs/blob/master/site/en/tutorials/quickstart/beginner.ipynb\"><img src=\"https://www.tensorflow.org/images/GitHub-Mark-32px.png\" />View source on GitHub</a>\n",
    "  </td>\n",
    "</table>"
   ]
  },
  {
   "cell_type": "markdown",
   "id": "7f88122b-bb84-4f8a-8e1f-1c7e352a82ff",
   "metadata": {},
   "source": [
    "## Overview"
   ]
  },
  {
   "cell_type": "markdown",
   "id": "21c7cb98-8b5b-4512-bff9-c28f828b9511",
   "metadata": {},
   "source": [
    "In this notebook we are going to:\n",
    "\n",
    "1. Import CSV data from nodes and edges.\n",
    "2. Describe the data from CSVs.\n",
    "3. Create a data pipeline that:\n",
    "   - load csv data as Pandas dataframes.\n",
    "4. Create a NetworkX graph from a Pandas dataframe that contains information about edges."
   ]
  },
  {
   "cell_type": "markdown",
   "id": "ee004365-46a9-4318-9151-9ef3de72bce8",
   "metadata": {},
   "source": [
    "## Setup (if required)"
   ]
  },
  {
   "cell_type": "markdown",
   "id": "a3048939-862a-464e-95f6-530c165fceea",
   "metadata": {},
   "source": [
    "If your code require to install dependencies before your main code, please add the commands to install the dependencies. You can silence the messages returned by `pip` the flag `-q`, i.e. `pip install pandas -q`"
   ]
  },
  {
   "cell_type": "markdown",
   "id": "ccae6a64-c265-4c36-9120-42399598c4a6",
   "metadata": {},
   "source": [
    "### NetworkX installation"
   ]
  },
  {
   "cell_type": "code",
   "execution_count": 1,
   "id": "4b8a6f6a-0a47-4475-b8a3-bf333d173eaf",
   "metadata": {},
   "outputs": [],
   "source": [
    "!pip install networkx[default] -q"
   ]
  },
  {
   "cell_type": "markdown",
   "id": "275908a3-9b55-4a06-beed-f9a5ce96629f",
   "metadata": {},
   "source": [
    "### Pandas installation"
   ]
  },
  {
   "cell_type": "code",
   "execution_count": 2,
   "id": "1246c7ab-9d29-49d9-abbc-a1e81b5bd1b9",
   "metadata": {},
   "outputs": [],
   "source": [
    "!pip install pandas -q"
   ]
  },
  {
   "cell_type": "markdown",
   "id": "8a7d3a16-1b78-414f-929d-95af2d3fabfc",
   "metadata": {},
   "source": [
    "## Importing Libraries"
   ]
  },
  {
   "cell_type": "code",
   "execution_count": 3,
   "id": "f958512c-3e17-4f2e-9d28-53f91179c0fe",
   "metadata": {},
   "outputs": [],
   "source": [
    "\"\"\"\n",
    "Recommendations:\n",
    "    - Respect the order of the imports, they are indicated by the numbers 1, 2, 3.\n",
    "    - One import per line is recommended, with this we can track easily any modified line when we use git.\n",
    "    - Absolute imports are recommended (see 3. Local application/library specific imports below), they improve readability and give better error messages.\n",
    "    - You should put a blank line between each group of imports.\n",
    "\"\"\"\n",
    "\n",
    "# future-imports (for instance: from __future__ import barry_as_FLUFL)\n",
    "# from __future__ import barry_as_FLUFL  \n",
    "\n",
    "# 1. Standard library imports\n",
    "import ast\n",
    "import csv\n",
    "import os\n",
    "\n",
    "# 2. Related third party imports\n",
    "import networkx as nx\n",
    "import pandas as pd\n",
    "\n",
    "# 3. Local application/library specific imports\n",
    "# import <mypackage>.<MyClass>         # this is an example\n",
    "# from <mypackage> import <MyClass>    # this is another example "
   ]
  },
  {
   "cell_type": "markdown",
   "id": "66111ca1-b143-4832-b669-ffc7ec3d29c0",
   "metadata": {},
   "source": [
    "## Helper Functions"
   ]
  },
  {
   "cell_type": "code",
   "execution_count": 4,
   "id": "9b06b5e2-3131-4c60-b8de-43923bb22e94",
   "metadata": {},
   "outputs": [],
   "source": [
    "def networkx_graph_from_pandas(df_nodes, df_edges, graph_type=nx.DiGraph()):\n",
    "    # create_graph_from_edgeslist\n",
    "    networkx_graph = nx.from_pandas_edgelist(df_edges,\n",
    "                                             source='Source ID',\n",
    "                                             target='Target ID',\n",
    "                                             create_using=nx.DiGraph()\n",
    "                                            )\n",
    "    # populate_graph_nodes_properties\n",
    "    networkx_graph.add_edges_from(pd.concat([df_edges[['Source ID', 'Target ID']],\n",
    "                                             df_edges['properties'].map(ast.literal_eval)\n",
    "                                            ],\n",
    "                                            axis=1).itertuples(index=False, name=None)\n",
    "                                 )\n",
    "\n",
    "    # populate_graph_nodes_properties\n",
    "    networkx_graph.add_nodes_from(pd.concat([df_nodes['UniProt ID'],\n",
    "                                             df_nodes['properties'].map(ast.literal_eval)\n",
    "                                            ],\n",
    "                                            axis=1).itertuples(index=False, name=None)\n",
    "                                 )\n",
    "    return networkx_graph\n",
    "\n",
    "def create_dataframes(file_path_nodes, file_path_edges):\n",
    "    df_nodes = from_csv_to_pandasdf(file_path_nodes, delimiter=',')\n",
    "    df_edges = from_csv_to_pandasdf(file_path_edges, delimiter=',')\n",
    "    return df_nodes, df_edges    \n",
    "\n",
    "def from_csv_to_pandasdf(file_path, delimiter=','):\n",
    "    return pd.read_csv(file_path,\n",
    "                       delimiter=delimiter)\n",
    "\n",
    "def load_csv_generator(file_path, header=True):\n",
    "    with open(file_path, \"r\") as file:\n",
    "        reader = csv.reader(file)\n",
    "        if header:\n",
    "            next(reader)\n",
    "        for row in reader:\n",
    "            yield tuple(row)"
   ]
  },
  {
   "cell_type": "markdown",
   "id": "54ddca15-f883-4099-b5fc-f9d786a2831f",
   "metadata": {},
   "source": [
    "## Introduction"
   ]
  },
  {
   "cell_type": "code",
   "execution_count": null,
   "id": "dfae1cb5-f356-449a-8235-5e4ede519eea",
   "metadata": {},
   "outputs": [],
   "source": []
  },
  {
   "cell_type": "code",
   "execution_count": null,
   "id": "468f2860-5866-4281-91c4-304f73cd6ab5",
   "metadata": {},
   "outputs": [],
   "source": []
  },
  {
   "cell_type": "markdown",
   "id": "34f979dc-b2ba-4642-9a49-58fc7a0c5d96",
   "metadata": {},
   "source": [
    "## Section 1: Load the CSV data that contains nodes and edges\n",
    "\n",
    "For this exercise, each graph is represented by two CSV files. One containing information about the **nodes** and the other about the **edges**. To indicate that both files correspond to the same graph, their names include the same number of nodes. For example:\n",
    "\n",
    "- `dataset_30_nodes_proteins.csv`: contains 30 rows (nodes).\n",
    "- `dataset_30_edges_interactions.csv`: contains 47 rows (edges).\n",
    "\n",
    "We reference each CSV file or dataset as follows:"
   ]
  },
  {
   "cell_type": "code",
   "execution_count": 5,
   "id": "0d93aef8-5fb2-4817-b705-0812575d4e81",
   "metadata": {},
   "outputs": [],
   "source": [
    "filename_nodes = \"dataset_30_nodes_proteins.csv\"\n",
    "filename_edges = \"dataset_30_edges_interactions.csv\"\n",
    "\n",
    "FILE_PATH_DATASETS = \"../../../DATASETS\""
   ]
  },
  {
   "cell_type": "markdown",
   "id": "a9078df4-c914-4e68-a265-f81b527ed41d",
   "metadata": {},
   "source": [
    "### 1.1: Load Nodes\n",
    "\n",
    "The CSV file for nodes contains three columns:\n",
    "- `UniProt ID`\n",
    "- `label`\n",
    "- `properties`\n",
    "\n",
    "We are going to load the information of nodes as a **list of tuples**. Each tuple represents a node with the structure:\n",
    "- `(id, label, properties)`\n",
    "- Each field in the tuple is a `string`\n",
    "- The `properties` field is a string containing a dictionary of properties."
   ]
  },
  {
   "cell_type": "code",
   "execution_count": 6,
   "id": "ebea24bf-fbd7-42d2-a06b-0380266271d7",
   "metadata": {},
   "outputs": [],
   "source": [
    "file_path_nodes = os.path.join(FILE_PATH_DATASETS, filename_nodes)\n",
    "\n",
    "list_nodes = [node for node in load_csv_generator(file_path_nodes, header=True)]"
   ]
  },
  {
   "cell_type": "code",
   "execution_count": 7,
   "id": "58536a6f-3ab1-4067-96ec-274ead181f73",
   "metadata": {},
   "outputs": [
    {
     "name": "stdout",
     "output_type": "stream",
     "text": [
      "The NODES dataframe contains: 30 nodes\n",
      "Example:\n",
      "\t('G0P1I0', 'uniprot_protein', \"{'sequence': 'QKRTLFKVEFGSMSWFYKHRTNMHLRTMMYD', 'description': 'Lorem ipsum ilymp', 'taxon': '7813'}\")\n"
     ]
    }
   ],
   "source": [
    "print(\"The NODES dataframe contains: {} nodes\".format(len(list_nodes)))\n",
    "print(\"Example:\\n\\t{}\".format(list_nodes[0]))"
   ]
  },
  {
   "cell_type": "markdown",
   "id": "a7654e4e-1cf3-47c4-87da-68b3aad0feff",
   "metadata": {},
   "source": [
    "### 1.2: Load Edges\n",
    "\n",
    "The CSV file for edges contains five columns:\n",
    "- `Relation ID`\n",
    "- `Source ID`\n",
    "- `Target ID`\n",
    "- `label`\n",
    "- `properties`\n",
    "\n",
    "We are going to load the information of edges as a list of tuples. Each tuple represents a node with thethe structure:\n",
    "- `(id, source, target, label, properties)`\n",
    "- Each field in the tuple is a `string`\n",
    "- The `properties` field is string containing a dictionary of properties."
   ]
  },
  {
   "cell_type": "code",
   "execution_count": 8,
   "id": "b0f494bb-4fc5-458d-83dc-8f4567aac7ee",
   "metadata": {},
   "outputs": [],
   "source": [
    "file_path_edges = os.path.join(FILE_PATH_DATASETS, filename_edges)\n",
    "\n",
    "list_edges = [edge for edge in load_csv_generator(file_path_edges, header=True)]"
   ]
  },
  {
   "cell_type": "code",
   "execution_count": 9,
   "id": "d236833d-4cc5-4842-9f6a-192cab33c247",
   "metadata": {},
   "outputs": [
    {
     "name": "stdout",
     "output_type": "stream",
     "text": [
      "The list of EDGES contains: 47 edges\n",
      "Example:\n",
      "\t('', 'B6V6V7', 'H9R6K5', 'interacts_with', \"{'source': 'signor'}\")\n",
      "\t('', 'B6V6V7', 'I5X3I2', 'interacts_with', \"{'method': 'Lorem ipsum pblfc'}\")\n",
      "\t('', '385603', 'H9R6K5', 'interacts_with', \"{'source': 'intact', 'method': 'Lorem ipsum nbqvj'}\")\n",
      "\t('', '385603', 'I9A3P8', 'interacts_with', '{}')\n",
      "\t('', 'L3V2Y6', 'X0C9T5', 'interacts_with', \"{'source': 'intact', 'method': 'Lorem ipsum zwhrq'}\")\n",
      "\t('intact956331', 'L3V2Y6', 'Y8Y3K0', 'interacts_with', \"{'source': 'signor'}\")\n"
     ]
    }
   ],
   "source": [
    "print(\"The list of EDGES contains: {} edges\".format(len(list_edges)))\n",
    "print(\"Example:\")\n",
    "for edge in list_edges[0:6]:\n",
    "    print(\"\\t{}\".format(edge))"
   ]
  },
  {
   "cell_type": "markdown",
   "id": "95e42816-66d7-46cd-8ef6-88cd841f414e",
   "metadata": {},
   "source": [
    "## Section 2: Create Data Pipeline\n",
    "- **input:** CSV data of edges\n",
    "- **output:** Pandas dataframe containing information of edges\n",
    "\n",
    "The pipeline consist of two consecutive stages:\n",
    "\n",
    "| Stage | Function                              | Description |\n",
    "|-------|---------------------------------------| ----------- |\n",
    "| 1     | `create_pandasdf_from_csv()`          | create a pandas dataframe in memory        |\n",
    "| 2     | `edges_format_converter(dataframe)`   | transform dataframe rows to desired format |"
   ]
  },
  {
   "cell_type": "markdown",
   "id": "dc665a12-7f51-443c-ace2-281e899e11c1",
   "metadata": {},
   "source": [
    "### 2.1 Create Pandas Dataframe from CSV file (data structure)"
   ]
  },
  {
   "cell_type": "code",
   "execution_count": 10,
   "id": "7269fb6c-d1a7-4245-81b4-73a2d39d87af",
   "metadata": {},
   "outputs": [],
   "source": [
    "df_nodes, df_edges = create_dataframes(file_path_nodes, file_path_edges)"
   ]
  },
  {
   "cell_type": "code",
   "execution_count": 11,
   "id": "8b6ec146-4afd-43f1-805f-e18b53547e55",
   "metadata": {},
   "outputs": [
    {
     "data": {
      "text/html": [
       "<div>\n",
       "<style scoped>\n",
       "    .dataframe tbody tr th:only-of-type {\n",
       "        vertical-align: middle;\n",
       "    }\n",
       "\n",
       "    .dataframe tbody tr th {\n",
       "        vertical-align: top;\n",
       "    }\n",
       "\n",
       "    .dataframe thead th {\n",
       "        text-align: right;\n",
       "    }\n",
       "</style>\n",
       "<table border=\"1\" class=\"dataframe\">\n",
       "  <thead>\n",
       "    <tr style=\"text-align: right;\">\n",
       "      <th></th>\n",
       "      <th>UniProt ID</th>\n",
       "      <th>label</th>\n",
       "      <th>properties</th>\n",
       "    </tr>\n",
       "  </thead>\n",
       "  <tbody>\n",
       "    <tr>\n",
       "      <th>0</th>\n",
       "      <td>G0P1I0</td>\n",
       "      <td>uniprot_protein</td>\n",
       "      <td>{'sequence': 'QKRTLFKVEFGSMSWFYKHRTNMHLRTMMYD'...</td>\n",
       "    </tr>\n",
       "    <tr>\n",
       "      <th>1</th>\n",
       "      <td>B6V6V7</td>\n",
       "      <td>uniprot_isoform</td>\n",
       "      <td>{'sequence': 'CGLGLSMRFLMVGVQNWFWYGTRVPDVAYIDW...</td>\n",
       "    </tr>\n",
       "    <tr>\n",
       "      <th>2</th>\n",
       "      <td>385603</td>\n",
       "      <td>entrez_protein</td>\n",
       "      <td>{'sequence': 'EHYTERRSMRSTGQDKTSNPYLFFHITRFKRC...</td>\n",
       "    </tr>\n",
       "    <tr>\n",
       "      <th>3</th>\n",
       "      <td>L3V2Y6</td>\n",
       "      <td>uniprot_protein</td>\n",
       "      <td>{'sequence': 'EGYPSHLLDVESFMSHNWTPWIFKCDARLC',...</td>\n",
       "    </tr>\n",
       "    <tr>\n",
       "      <th>4</th>\n",
       "      <td>Q1R3N5</td>\n",
       "      <td>uniprot_isoform</td>\n",
       "      <td>{'sequence': 'IVHIKHTTQLGAIIQRNFQVGWCHVG', 'de...</td>\n",
       "    </tr>\n",
       "  </tbody>\n",
       "</table>\n",
       "</div>"
      ],
      "text/plain": [
       "  UniProt ID            label  \\\n",
       "0     G0P1I0  uniprot_protein   \n",
       "1     B6V6V7  uniprot_isoform   \n",
       "2     385603   entrez_protein   \n",
       "3     L3V2Y6  uniprot_protein   \n",
       "4     Q1R3N5  uniprot_isoform   \n",
       "\n",
       "                                          properties  \n",
       "0  {'sequence': 'QKRTLFKVEFGSMSWFYKHRTNMHLRTMMYD'...  \n",
       "1  {'sequence': 'CGLGLSMRFLMVGVQNWFWYGTRVPDVAYIDW...  \n",
       "2  {'sequence': 'EHYTERRSMRSTGQDKTSNPYLFFHITRFKRC...  \n",
       "3  {'sequence': 'EGYPSHLLDVESFMSHNWTPWIFKCDARLC',...  \n",
       "4  {'sequence': 'IVHIKHTTQLGAIIQRNFQVGWCHVG', 'de...  "
      ]
     },
     "execution_count": 11,
     "metadata": {},
     "output_type": "execute_result"
    }
   ],
   "source": [
    "df_nodes.head()"
   ]
  },
  {
   "cell_type": "code",
   "execution_count": 12,
   "id": "4b393cdb-92a6-433c-b16b-8b69ba3cbc13",
   "metadata": {},
   "outputs": [
    {
     "data": {
      "text/html": [
       "<div>\n",
       "<style scoped>\n",
       "    .dataframe tbody tr th:only-of-type {\n",
       "        vertical-align: middle;\n",
       "    }\n",
       "\n",
       "    .dataframe tbody tr th {\n",
       "        vertical-align: top;\n",
       "    }\n",
       "\n",
       "    .dataframe thead th {\n",
       "        text-align: right;\n",
       "    }\n",
       "</style>\n",
       "<table border=\"1\" class=\"dataframe\">\n",
       "  <thead>\n",
       "    <tr style=\"text-align: right;\">\n",
       "      <th></th>\n",
       "      <th>Relationship ID</th>\n",
       "      <th>Source ID</th>\n",
       "      <th>Target ID</th>\n",
       "      <th>label</th>\n",
       "      <th>properties</th>\n",
       "    </tr>\n",
       "  </thead>\n",
       "  <tbody>\n",
       "    <tr>\n",
       "      <th>0</th>\n",
       "      <td>NaN</td>\n",
       "      <td>B6V6V7</td>\n",
       "      <td>H9R6K5</td>\n",
       "      <td>interacts_with</td>\n",
       "      <td>{'source': 'signor'}</td>\n",
       "    </tr>\n",
       "    <tr>\n",
       "      <th>1</th>\n",
       "      <td>NaN</td>\n",
       "      <td>B6V6V7</td>\n",
       "      <td>I5X3I2</td>\n",
       "      <td>interacts_with</td>\n",
       "      <td>{'method': 'Lorem ipsum pblfc'}</td>\n",
       "    </tr>\n",
       "    <tr>\n",
       "      <th>2</th>\n",
       "      <td>NaN</td>\n",
       "      <td>385603</td>\n",
       "      <td>H9R6K5</td>\n",
       "      <td>interacts_with</td>\n",
       "      <td>{'source': 'intact', 'method': 'Lorem ipsum nb...</td>\n",
       "    </tr>\n",
       "    <tr>\n",
       "      <th>3</th>\n",
       "      <td>NaN</td>\n",
       "      <td>385603</td>\n",
       "      <td>I9A3P8</td>\n",
       "      <td>interacts_with</td>\n",
       "      <td>{}</td>\n",
       "    </tr>\n",
       "    <tr>\n",
       "      <th>4</th>\n",
       "      <td>NaN</td>\n",
       "      <td>L3V2Y6</td>\n",
       "      <td>X0C9T5</td>\n",
       "      <td>interacts_with</td>\n",
       "      <td>{'source': 'intact', 'method': 'Lorem ipsum zw...</td>\n",
       "    </tr>\n",
       "  </tbody>\n",
       "</table>\n",
       "</div>"
      ],
      "text/plain": [
       "  Relationship ID Source ID Target ID           label  \\\n",
       "0             NaN    B6V6V7    H9R6K5  interacts_with   \n",
       "1             NaN    B6V6V7    I5X3I2  interacts_with   \n",
       "2             NaN    385603    H9R6K5  interacts_with   \n",
       "3             NaN    385603    I9A3P8  interacts_with   \n",
       "4             NaN    L3V2Y6    X0C9T5  interacts_with   \n",
       "\n",
       "                                          properties  \n",
       "0                               {'source': 'signor'}  \n",
       "1                    {'method': 'Lorem ipsum pblfc'}  \n",
       "2  {'source': 'intact', 'method': 'Lorem ipsum nb...  \n",
       "3                                                 {}  \n",
       "4  {'source': 'intact', 'method': 'Lorem ipsum zw...  "
      ]
     },
     "execution_count": 12,
     "metadata": {},
     "output_type": "execute_result"
    }
   ],
   "source": [
    "df_edges.head()"
   ]
  },
  {
   "cell_type": "markdown",
   "id": "e81545df-47e5-4296-a752-40fed325d2c9",
   "metadata": {},
   "source": [
    "## Section 3: Converting to Networkx graph"
   ]
  },
  {
   "cell_type": "code",
   "execution_count": 13,
   "id": "529f0973-21fa-478c-b46e-f9020ca4526b",
   "metadata": {},
   "outputs": [
    {
     "name": "stdout",
     "output_type": "stream",
     "text": [
      "Graph G doesn't exist\n"
     ]
    }
   ],
   "source": [
    "try:\n",
    "    G.clear()\n",
    "    print(\"Graph has been cleared!\")\n",
    "except:\n",
    "    print(\"Graph G doesn't exist\")"
   ]
  },
  {
   "cell_type": "markdown",
   "id": "ef9fedd7-2199-4a7d-be81-a74cb8b4effb",
   "metadata": {},
   "source": [
    "### 3.1 Create a Directed Graph"
   ]
  },
  {
   "cell_type": "code",
   "execution_count": 14,
   "id": "af1823ee-0588-4025-a5a9-2c3b7bcb637c",
   "metadata": {},
   "outputs": [],
   "source": [
    "G = networkx_graph_from_pandas(df_nodes, df_edges, graph_type=nx.DiGraph())"
   ]
  },
  {
   "cell_type": "markdown",
   "id": "db95f6ed-d199-40ff-a4cf-0d6c20ea7d28",
   "metadata": {},
   "source": [
    "Note that the graph contains a dictionary with a single key, `\"properties\"`. Inside this dictionary is another dictionary that holds each property. However, this is not the desired format. Instead, we want a single dictionary containing all the properties directly."
   ]
  },
  {
   "cell_type": "markdown",
   "id": "f3ee7e48-8fc5-47f1-99e8-413c33a4ee88",
   "metadata": {},
   "source": [
    "### 3.2 Draw Graph"
   ]
  },
  {
   "cell_type": "code",
   "execution_count": 15,
   "id": "9f83f10a-b537-469a-b8fd-c64bef2b54c8",
   "metadata": {},
   "outputs": [
    {
     "data": {
      "image/png": "[encoded data removed]",
      "text/plain": [
       "<Figure size 640x480 with 1 Axes>"
      ]
     },
     "metadata": {},
     "output_type": "display_data"
    }
   ],
   "source": [
    "nx.draw(G, with_labels=True)"
   ]
  },
  {
   "cell_type": "markdown",
   "id": "8b45347c-e79c-4174-bf1f-cc7ff6653575",
   "metadata": {},
   "source": [
    "### 3.3 Some statistics"
   ]
  },
  {
   "cell_type": "code",
   "execution_count": 16,
   "id": "53174abf-67f8-48a3-a5f9-3e261c41463e",
   "metadata": {},
   "outputs": [
    {
     "name": "stdout",
     "output_type": "stream",
     "text": [
      "Number of nodes: 30\n",
      "Number of edges: 47\n"
     ]
    }
   ],
   "source": [
    "print(\"Number of nodes: {}\".format(G.number_of_nodes()))\n",
    "print(\"Number of edges: {}\".format(G.number_of_edges()))"
   ]
  },
  {
   "cell_type": "code",
   "execution_count": 17,
   "id": "217cbf8e-8fff-4b6a-81e4-6923e49a8410",
   "metadata": {},
   "outputs": [
    {
     "name": "stdout",
     "output_type": "stream",
     "text": [
      "('B6V6V7', 'H9R6K5', {'source': 'signor'})\n",
      "('B6V6V7', 'I5X3I2', {'method': 'Lorem ipsum pblfc'})\n",
      "('H9R6K5', 'E8I0O8', {})\n",
      "('I5X3I2', 'D4X6C4', {'source': 'intact', 'method': 'Lorem ipsum iiozd'})\n",
      "('I5X3I2', 'T9Z8Y0', {'method': 'Lorem ipsum gconp'})\n"
     ]
    }
   ],
   "source": [
    "limit = 5\n",
    "for index, edge in enumerate(G.edges(data=True)):\n",
    "    if index == limit:\n",
    "        break\n",
    "    print(edge)"
   ]
  },
  {
   "cell_type": "code",
   "execution_count": 18,
   "id": "d1c24eff-0989-451a-ba6a-6311e9603cb7",
   "metadata": {},
   "outputs": [
    {
     "name": "stdout",
     "output_type": "stream",
     "text": [
      "('B6V6V7', {'sequence': 'CGLGLSMRFLMVGVQNWFWYGTRVPDVAYIDWHEYQHQPRVLMQNGN', 'description': 'Lorem ipsum kxujk', 'taxon': '4800'})\n",
      "('H9R6K5', {'sequence': 'CEDNSRWWHWPVKIAHININCSKACCENTSLATLTARSTLC', 'description': 'Lorem ipsum fdrbm', 'taxon': '7576', 'mass': 9671})\n",
      "('I5X3I2', {'sequence': 'WSAAEAGGAELALDFWLVASRKKYGMLQVT', 'description': 'Lorem ipsum ddbvb', 'taxon': '4186'})\n",
      "('385603', {'sequence': 'EHYTERRSMRSTGQDKTSNPYLFFHITRFKRCPANQVKPWFMVLHKYEW', 'description': 'Lorem ipsum ufuuy', 'taxon': '9606'})\n",
      "('I9A3P8', {'sequence': 'YMSEGKWSIWIINMMLMHAQNLHVALIIVVY', 'description': 'Lorem ipsum dbhcg', 'taxon': '1230', 'mass': 6364})\n"
     ]
    }
   ],
   "source": [
    "limit = 5\n",
    "for index, node in enumerate(G.nodes(data=True)):\n",
    "    if index == limit:\n",
    "        break\n",
    "    print(node)"
   ]
  },
  {
   "cell_type": "code",
   "execution_count": null,
   "id": "62643718-1359-4b27-a97e-937c56ca4b40",
   "metadata": {},
   "outputs": [],
   "source": []
  },
  {
   "cell_type": "code",
   "execution_count": null,
   "id": "e6143ea0-b3fa-49db-8086-d424911f778b",
   "metadata": {},
   "outputs": [],
   "source": []
  }
 ],
 "metadata": {
  "kernelspec": {
   "display_name": "Python 3 (ipykernel)",
   "language": "python",
   "name": "python3"
  },
  "language_info": {
   "codemirror_mode": {
    "name": "ipython",
    "version": 3
   },
   "file_extension": ".py",
   "mimetype": "text/x-python",
   "name": "python",
   "nbconvert_exporter": "python",
   "pygments_lexer": "ipython3",
   "version": "3.10.14"
  }
 },
 "nbformat": 4,
 "nbformat_minor": 5
}
