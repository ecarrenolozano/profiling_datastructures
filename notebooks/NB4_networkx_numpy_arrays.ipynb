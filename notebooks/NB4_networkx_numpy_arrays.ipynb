{
 "cells": [
  {
   "cell_type": "markdown",
   "id": "35f519fb-c112-4978-ac8c-266aea978bcf",
   "metadata": {},
   "source": [
    "# Experiment 4: Numpy Arrays as data structure for Graphs"
   ]
  },
  {
   "cell_type": "markdown",
   "id": "13ed58ee-4486-4cfd-bad3-05c4d1c81e1f",
   "metadata": {},
   "source": [
    "[//]: # (------------------------------------------    DO NOT MODIFY THIS    ------------------------------------------)\n",
    "<style type=\"text/css\">\n",
    ".tg  {border-collapse:collapse;\n",
    "      border-spacing:0;\n",
    "     }\n",
    ".tg td{border-color:black;\n",
    "       border-style:solid;\n",
    "       border-width:1px;\n",
    "       font-family:Arial, sans-serif;\n",
    "       font-size:14px;\n",
    "       overflow:hidden;\n",
    "       padding:10px 5px;\n",
    "       word-break:normal;\n",
    "      }\n",
    ".tg th{border-color:black;\n",
    "       border-style:solid;\n",
    "       border-width:1px;\n",
    "       font-family:Arial, sans-serif;\n",
    "       font-size:14px;\n",
    "       font-weight:normal;\n",
    "       overflow:hidden;\n",
    "       padding:10px 5px;\n",
    "       word-break:normal;\n",
    "      }\n",
    ".tg .tg-fymr{border-color:inherit;\n",
    "             font-weight:bold;\n",
    "             text-align:left;\n",
    "             vertical-align:top\n",
    "            }\n",
    ".tg .tg-0pky{border-color:inherit;\n",
    "             text-align:left;\n",
    "             vertical-align:top\n",
    "            }\n",
    "[//]: # (--------------------------------------------------------------------------------------------------------------)\n",
    "\n",
    "[//]: # (-------------------------------------    FILL THIS OUT WITH YOUR DATA    -------------------------------------)\n",
    "</style>\n",
    "<table class=\"tg\">\n",
    "    <tbody>\n",
    "      <tr>\n",
    "        <td class=\"tg-fymr\" style=\"font-weight: bold\">Title:</td>\n",
    "        <td class=\"tg-0pky\">Experiment 5: Numpy Arrays as data structure for Graphs</td>\n",
    "      </tr>\n",
    "      <tr>\n",
    "        <td class=\"tg-fymr\" style=\"font-weight: bold\">Authors:</td>\n",
    "        <td class=\"tg-0pky\">\n",
    "            <a href=\"https://github.com/ecarrenolozano\" target=\"_blank\" rel=\"noopener noreferrer\">Edwin Carreño</a>\n",
    "        </td>\n",
    "      </tr>\n",
    "      <tr>\n",
    "        <td class=\"tg-fymr\" style=\"font-weight: bold\">Affiliations:</td>\n",
    "        <td class=\"tg-0pky\">\n",
    "            <a href=\"https://www.ssc.uni-heidelberg.de/en\" target=\"_blank\" rel=\"noopener noreferrer\">Scientific Software Center</a>\n",
    "        </td>\n",
    "      </tr>\n",
    "      <tr>\n",
    "        <td class=\"tg-fymr\" style=\"font-weight: bold\">Date Created:</td>\n",
    "        <td class=\"tg-0pky\">30.10.2024</td>\n",
    "      </tr>\n",
    "      <tr>\n",
    "        <td class=\"tg-fymr\" style=\"font-weight: bold\">Description:</td>\n",
    "        <td class=\"tg-0pky\">Creation of a graph using numpy arrays and data from CSV files. Conversion to NetworkX is tested too.</td>\n",
    "      </tr>\n",
    "    </tbody>\n",
    "</table>\n",
    "\n",
    "[//]: # (--------------------------------------------------------------------------------------------------------------)"
   ]
  },
  {
   "cell_type": "markdown",
   "id": "c32de8e4-efd1-457d-a22d-49aad0ae7474",
   "metadata": {},
   "source": [
    "<table class=\"tfo-notebook-buttons\" align=\"left\">\n",
    "  <td>\n",
    "    <a target=\"_blank\" href=\"https://colab.research.google.com/github/tensorflow/docs/blob/master/site/en/tutorials/quickstart/beginner.ipynb\"><img src=\"https://www.tensorflow.org/images/colab_logo_32px.png\" />Run in Google Colab</a>\n",
    "  </td>\n",
    "  <td>\n",
    "    <a target=\"_blank\" href=\"https://github.com/tensorflow/docs/blob/master/site/en/tutorials/quickstart/beginner.ipynb\"><img src=\"https://www.tensorflow.org/images/GitHub-Mark-32px.png\" />View source on GitHub</a>\n",
    "  </td>  \n",
    "</table>"
   ]
  },
  {
   "cell_type": "markdown",
   "id": "084484b1-73d6-42ae-a1a3-f3c2476f33e8",
   "metadata": {},
   "source": [
    "## Overview"
   ]
  },
  {
   "cell_type": "markdown",
   "id": "7e7c9a52-bd7f-4832-851b-bd8a2c78fd89",
   "metadata": {},
   "source": [
    "In this notebook we are going to:\n",
    "\n",
    "1. Import CSV (comma-separated values) data from nodes and edges.\n",
    "2. Describe the data from CSVs.\n",
    "3. Create a data pipeline that:\n",
    "   - load csv data.\n",
    "   - transform the format of tuples that represents edges (from 5 to 3 elements).\n",
    "   - transform the format of tuples that represents nodes (from 3 to 2 elements).\n",
    "   - create Numpy Arrays (data structures) of tuples containing the information of edges and nodes.\n",
    "4. Create a NetworkX graph from Numpy arrays that contain information about edges."
   ]
  },
  {
   "cell_type": "markdown",
   "id": "3bfa44b7-26bb-494d-8a98-14a00d9df0a0",
   "metadata": {},
   "source": [
    "## Setup (if required)\n",
    "\n",
    "**Note:** The following function checks if a library of interest is installed. Depending on the parameter `install`, you can install it automatically."
   ]
  },
  {
   "cell_type": "code",
   "execution_count": 1,
   "id": "474b8e52-8406-42fc-b7e9-c9672452bfdc",
   "metadata": {},
   "outputs": [],
   "source": [
    "import subprocess\n",
    "from importlib.metadata import version\n",
    "from importlib.util import find_spec\n",
    "\n",
    "def check_package_install(package, install=False):\n",
    "    if find_spec(package) is None:\n",
    "        print(package,\"is NOT installed in Python environment\")\n",
    "        if install:\n",
    "            try:\n",
    "                subprocess.check_call([\"python\", \"-m\", \"pip\", \"install\", package])\n",
    "            except subprocess.CalledProcessError as e:\n",
    "                print(f\"\\tError occurred: {e}\")\n",
    "                print(f\"\\tCheck the name of your package!\")\n",
    "            print(package, \"has been installed with version: \", version(package))\n",
    "    else:\n",
    "        print(package,\"is installed with version: \", version(package))"
   ]
  },
  {
   "cell_type": "markdown",
   "id": "3fd5b238-c57d-4c8d-ba87-df7ccd1d8219",
   "metadata": {},
   "source": [
    "### NetworkX installation"
   ]
  },
  {
   "cell_type": "code",
   "execution_count": 2,
   "id": "fa16f58a-0862-4d29-9ca9-1dfe6f3f1a47",
   "metadata": {},
   "outputs": [
    {
     "name": "stdout",
     "output_type": "stream",
     "text": [
      "networkx is installed with version:  3.4.2\n"
     ]
    }
   ],
   "source": [
    "check_package_install(\"networkx\", install=False)"
   ]
  },
  {
   "cell_type": "markdown",
   "id": "f3a370a5-9a03-49e5-be24-ec10c90f8c81",
   "metadata": {},
   "source": [
    "### Numpy installation"
   ]
  },
  {
   "cell_type": "code",
   "execution_count": 3,
   "id": "faa9aff1-9f6a-460b-bac2-c8e5e1e39b7b",
   "metadata": {},
   "outputs": [
    {
     "name": "stdout",
     "output_type": "stream",
     "text": [
      "numpy is installed with version:  2.0.1\n"
     ]
    }
   ],
   "source": [
    "check_package_install(\"numpy\", install=False)"
   ]
  },
  {
   "cell_type": "markdown",
   "id": "8fae0a05-5496-414a-b70e-1048f091a5df",
   "metadata": {},
   "source": [
    "## Importing Libraries"
   ]
  },
  {
   "cell_type": "code",
   "execution_count": 20,
   "id": "92018775-64da-4945-833f-48f6de0c067e",
   "metadata": {},
   "outputs": [],
   "source": [
    "\"\"\"\n",
    "Recommendations:\n",
    "    - Respect the order of the imports, they are indicated by the numbers 1, 2, 3.\n",
    "    - One import per line is recommended, with this we can track easily any modified line when we use git.\n",
    "    - Absolute imports are recommended (see 3. Local application/library specific imports below), they improve readability and give better error messages.\n",
    "    - You should put a blank line between each group of imports.\n",
    "\"\"\"\n",
    "\n",
    "# future-imports (for instance: from __future__ import barry_as_FLUFL)\n",
    "# from __future__ import barry_as_FLUFL  \n",
    "\n",
    "# 1. Standard library imports\n",
    "import ast\n",
    "import csv\n",
    "import os\n",
    "from itertools import islice\n",
    "\n",
    "# 2. Related third party imports\n",
    "import networkx as nx\n",
    "import numpy as np\n",
    "from IPython.display import Image \n",
    "\n",
    "# 3. Local application/library specific imports\n",
    "# import <mypackage>.<MyClass>         # this is an example\n",
    "# from <mypackage> import <MyClass>    # this is another example "
   ]
  },
  {
   "cell_type": "markdown",
   "id": "b0ab5494-98ae-42ed-816f-6f483801d0a5",
   "metadata": {},
   "source": [
    "## Helper Functions"
   ]
  },
  {
   "cell_type": "code",
   "execution_count": 5,
   "id": "3d68de39-0590-47ac-bce4-37392681a8b2",
   "metadata": {},
   "outputs": [],
   "source": [
    "def load_csv_generator(file_path, header=True):\n",
    "    with open(file_path, \"r\") as file:\n",
    "        reader = csv.reader(file)\n",
    "        if header:\n",
    "            next(reader)\n",
    "        for row in reader:\n",
    "            yield tuple(row)\n",
    "\n",
    "def create_arrays():\n",
    "    nodes_ds = load_csv_generator(file_path_nodes, header=True)\n",
    "    nodes_ds = create_numpy_array(nodes_ds)\n",
    "\n",
    "    edges_ds = load_csv_generator(file_path_edges, header=True)\n",
    "    edges_ds = create_numpy_array(edges_ds)\n",
    "\n",
    "    return nodes_ds, edges_ds\n",
    "\n",
    "def create_numpy_array(iterable):\n",
    "    return np.fromiter(iterable, dtype=object)\n",
    "\n",
    "def to_networkx_nodes_format(nodes_iterable, mapping_properties=True):\n",
    "    for (node_id, node_label, properties) in nodes_iterable:\n",
    "        # Original format\n",
    "        #  (node id, node label, properties)\n",
    "\n",
    "        # Desired format\n",
    "        #  (node id, properties as dict)\n",
    "\n",
    "        properties = ast.literal_eval(properties)\n",
    "\n",
    "        if mapping_properties:\n",
    "            properties[\"node_label\"] = node_label\n",
    "\n",
    "        yield(\n",
    "            node_id,\n",
    "            properties\n",
    "        )\n",
    "\n",
    "def to_networkx_edges_format(edges_iterable, mapping_properties=True):\n",
    "    for (edge_id, source_id, target_id, edge_label, properties) in edges_iterable:\n",
    "        # Original format\n",
    "        #  (edge id, source (edge id), target (edge id), label, properties)\n",
    "\n",
    "        # Desired format\n",
    "        #  (source (edge id), target (edge id), properties as dict)\n",
    "\n",
    "        properties = ast.literal_eval(properties)\n",
    "\n",
    "        if mapping_properties:\n",
    "            properties[\"edge_id\"] = edge_id\n",
    "            properties[\"edge_label\"] = edge_label\n",
    "\n",
    "        yield (\n",
    "            source_id,\n",
    "            target_id,\n",
    "            properties,\n",
    "        )\n",
    "\n",
    "def networkx_graph_from_nparrays(nodes_nparray, edges_nparray, graph_type=nx.DiGraph()):\n",
    "    # Build an empty graph\n",
    "    networkx_graph = graph_type\n",
    "\n",
    "    # Populate the graph with edges containing properties\n",
    "    networkx_graph.add_edges_from(edges_nparray)\n",
    "\n",
    "    # Populate the graph with nodes containing properties\n",
    "    networkx_graph.add_nodes_from(nodes_nparray)\n",
    "\n",
    "    return networkx_graph"
   ]
  },
  {
   "cell_type": "markdown",
   "id": "f6f0ab58-836c-467c-bd5f-157a2284b68e",
   "metadata": {},
   "source": [
    "## Introduction"
   ]
  },
  {
   "cell_type": "markdown",
   "id": "8b6637ef-ce09-409b-afdd-b226f7de033e",
   "metadata": {},
   "source": [
    "A graph is collection of nodes and edges that expresses the relationship between nodes. A minimal node contain their `node label`. Similarly, a minimal edge contain the `source id`, `target id` and `label`.\n",
    "\n",
    "The data for nodes and edges can be stored in form of tuples. Figure 1 shows the graph that can be constructed with the information from the dataset `dataset_dummy2_edges.csv` and `dataset_dummy2_nodes.csv` "
   ]
  },
  {
   "cell_type": "code",
   "execution_count": 25,
   "id": "bf70db74-e9f1-458c-b5d5-6ce3df20b5b5",
   "metadata": {},
   "outputs": [
    {
     "data": {
      "image/png": "[encoded data removed]",
      "text/plain": [
       "<IPython.core.display.Image object>"
      ]
     },
     "execution_count": 25,
     "metadata": {
      "image/png": {
       "height": 600,
       "width": 600
      }
     },
     "output_type": "execute_result"
    }
   ],
   "source": [
    "Image(filename=\"./images/graph_dataset_dummy2.png\", width=600, height=600) "
   ]
  },
  {
   "cell_type": "markdown",
   "id": "17df776a-1c16-468e-aeb6-5b5714bd0782",
   "metadata": {},
   "source": [
    "In this notebook we are going to work with a little bit complex graphs (more nodes, and more edges). Additionally, each node and edge contain properties that are from our interest to keep in order to use for subsequent frameworks, i.e. machine learning and optimization frameworks."
   ]
  },
  {
   "cell_type": "markdown",
   "id": "a3e440d7-a30e-4019-bff9-4b0b115de04d",
   "metadata": {},
   "source": [
    "## Section 1: Load the CSV data that contains nodes and edges\n",
    "\n",
    "For this exercise, each graph is represented by two CSV files. One containing information about the **nodes** and the other about the **edges**. To indicate that both files correspond to the same graph, their names include the same number of nodes. For example:\n",
    "\n",
    "- `dataset_30_nodes_proteins.csv`: contains 30 rows (nodes).\n",
    "- `dataset_30_edges_interactions.csv`: contains 47 rows (edges).\n",
    "\n",
    "We reference each CSV file or dataset as follows:"
   ]
  },
  {
   "cell_type": "code",
   "execution_count": 6,
   "id": "e64420dc-f34c-45e1-bb46-20d0f189dfa7",
   "metadata": {},
   "outputs": [],
   "source": [
    "filename_nodes = \"dataset_dummy2_nodes.csv\"\n",
    "filename_edges = \"dataset_dummy2_edges.csv\"\n",
    "\n",
    "#filename_nodes = \"dataset_30_nodes_proteins.csv\"\n",
    "#filename_edges = \"dataset_30_edges_interactions.csv\"\n",
    "\n",
    "# FILE_PATH_DATASETS = \"../../../DATASETS\"\n",
    "FILE_PATH_DATASETS = \"../data_examples\""
   ]
  },
  {
   "cell_type": "markdown",
   "id": "f244186f-71c5-48ca-bf8f-14a83c2cdf30",
   "metadata": {},
   "source": [
    "### 1.1: Load Nodes\n",
    "\n",
    "The CSV file for nodes contains three columns:\n",
    "- `UniProt ID`\n",
    "- `label`\n",
    "- `properties`\n",
    "\n",
    "We are going to load the information of nodes as a **list of tuples**. Each tuple represents a node with the structure:\n",
    "- `(id, label, properties)`\n",
    "- Each field in the tuple is a `string`\n",
    "- The `properties` field is a string containing a dictionary of properties."
   ]
  },
  {
   "cell_type": "code",
   "execution_count": 7,
   "id": "edaf1988-c2ae-455d-aeca-9f8931f758fc",
   "metadata": {},
   "outputs": [],
   "source": [
    "file_path_nodes = os.path.join(FILE_PATH_DATASETS, filename_nodes)\n",
    "\n",
    "list_nodes_example = list(islice(load_csv_generator(file_path_nodes, header=True), 3))"
   ]
  },
  {
   "cell_type": "code",
   "execution_count": 8,
   "id": "cf6487ac-fe16-4fed-baa6-3bc5ae496bf6",
   "metadata": {},
   "outputs": [
    {
     "name": "stdout",
     "output_type": "stream",
     "text": [
      "The list of NODES contains: 3 nodes\n",
      "Examples:\n",
      "('A', 'letters', \"{'alphabet': 'latin', 'equivalent':'a'}\")\n",
      "('B', 'letters', \"{'alphabet': 'latin', 'equivalent':'b'}\")\n",
      "('C', 'letters', \"{'alphabet': 'latin', 'equivalent':'c'}\")\n"
     ]
    }
   ],
   "source": [
    "print(\"The list of NODES contains: {} nodes\".format(len(list_nodes_example)))\n",
    "print(\"Examples:\")\n",
    "for node in list_nodes_example:\n",
    "    print(\"{}\".format(node))"
   ]
  },
  {
   "cell_type": "markdown",
   "id": "776fef58-693f-4fbe-b502-bf12d3f76509",
   "metadata": {},
   "source": [
    "### 1.2: Load Edges\n",
    "\n",
    "The CSV file for edges contains five columns:\n",
    "- `Relationship ID`\n",
    "- `Source ID`\n",
    "- `Target ID`\n",
    "- `label`\n",
    "- `properties`\n",
    "\n",
    "We are going to load the information of edges as a list of tuples. Each tuple represents a node with thethe structure:\n",
    "- `(id, source, target, label, properties)`\n",
    "- Each field in the tuple is a `string`\n",
    "- The `properties` field is string containing a dictionary of properties."
   ]
  },
  {
   "cell_type": "code",
   "execution_count": 9,
   "id": "eec6ad23-e6a3-4668-ba1f-c4a1fe5b0b3a",
   "metadata": {},
   "outputs": [],
   "source": [
    "file_path_edges = os.path.join(FILE_PATH_DATASETS, filename_edges)\n",
    "\n",
    "list_edges_example = list(islice(load_csv_generator(file_path_edges, header=True), 3))"
   ]
  },
  {
   "cell_type": "code",
   "execution_count": 10,
   "id": "0c01180d-bfb6-46dc-b4d0-9ddee33a257b",
   "metadata": {},
   "outputs": [
    {
     "name": "stdout",
     "output_type": "stream",
     "text": [
      "The list of EDGES contains: 3 edges\n",
      "Examples:\n",
      "('E1', 'A', '1', 'is_equivalent', \"{'info': 'A is equal to 1', 'mass=': 1}\")\n",
      "('E2', 'B', '2', 'is_equivalent', \"{'info': 'B is equal to 2', 'mass=': 2}\")\n",
      "('E3', 'C', '3', 'is_equivalent', \"{'info': 'C is equal to 3', 'mass=': 3}\")\n"
     ]
    }
   ],
   "source": [
    "print(\"The list of EDGES contains: {} edges\".format(len(list_edges_example)))\n",
    "print(\"Examples:\")\n",
    "for edge in list_edges_example:\n",
    "    print(\"{}\".format(edge))"
   ]
  },
  {
   "cell_type": "code",
   "execution_count": null,
   "id": "82c565ab-ea69-4266-9be6-20d5f8743ed5",
   "metadata": {},
   "outputs": [],
   "source": []
  },
  {
   "cell_type": "markdown",
   "id": "cca66399-2b2a-4234-b17f-1d7c9adaa09f",
   "metadata": {},
   "source": [
    "## Section 2: Create Data Pipeline\n",
    "\n",
    "- **input:** CSV data of edges\n",
    "- **output:** Numpy arrays containing information of nodes and edges\n",
    "\n",
    "The pipeline consist of one stages:\n",
    "\n",
    "| Stage | Function                      | Description |\n",
    "|-------|-------------------------------| ----------- |\n",
    "| 1     | `create_arrays()`      | create  Numpy arrays for nodes and edges      |\n",
    "|       | `load_csv_generator()` | read the csv and load nodes data as generator |\n",
    "|       | `load_csv_generator()` | read the csv and load edges data as generator |"
   ]
  },
  {
   "cell_type": "markdown",
   "id": "4f51a9de-0519-46f6-af7f-a90b6043734f",
   "metadata": {},
   "source": [
    "### 2.1 Create Numpy Array (data structure)"
   ]
  },
  {
   "cell_type": "code",
   "execution_count": 11,
   "id": "62d32e91-d2c8-4c50-8134-6f6301c08dd7",
   "metadata": {},
   "outputs": [],
   "source": [
    "nodes_nparray, edges_nparray = create_arrays()"
   ]
  },
  {
   "cell_type": "code",
   "execution_count": 12,
   "id": "7b4bd85b-0a52-45da-9007-4f11968c0f2f",
   "metadata": {},
   "outputs": [
    {
     "name": "stdout",
     "output_type": "stream",
     "text": [
      "Dimension array: (6,)\n",
      "Type: <class 'numpy.ndarray'>\n",
      "Example: \n",
      "\t\n",
      "('A', 'letters', \"{'alphabet': 'latin', 'equivalent':'a'}\")\n",
      "('B', 'letters', \"{'alphabet': 'latin', 'equivalent':'b'}\")\n",
      "('C', 'letters', \"{'alphabet': 'latin', 'equivalent':'c'}\")\n",
      "('1', 'numbers', \"{'mathset':'integer', 'name':'one'}\")\n",
      "('2', 'numbers', \"{'mathset':'integer', 'name':'two'}\")\n"
     ]
    }
   ],
   "source": [
    "print(\"Dimension array: {}\".format(nodes_nparray.shape))\n",
    "print(f\"Type: {type(nodes_nparray)}\")\n",
    "\n",
    "nodes_examples = nodes_nparray[0:5]\n",
    "\n",
    "print(\"Example: \\n\\t\")\n",
    "for node in nodes_examples:\n",
    "    print(node)"
   ]
  },
  {
   "cell_type": "code",
   "execution_count": 13,
   "id": "e2eb3852-4b69-45ef-836c-bb8be3604e69",
   "metadata": {},
   "outputs": [
    {
     "name": "stdout",
     "output_type": "stream",
     "text": [
      "Dimension array: (6,)\n",
      "Type: <class 'numpy.ndarray'>\n",
      "Example: \n",
      "\t\n",
      "('E1', 'A', '1', 'is_equivalent', \"{'info': 'A is equal to 1', 'mass=': 1}\")\n",
      "('E2', 'B', '2', 'is_equivalent', \"{'info': 'B is equal to 2', 'mass=': 2}\")\n",
      "('E3', 'C', '3', 'is_equivalent', \"{'info': 'C is equal to 3', 'mass=': 3}\")\n",
      "('R1', 'B', 'A', 'follows', \"{'info': 'B follows A', 'mass=': 1.0}\")\n",
      "('R2', 'C', 'B', 'follows', \"{'info': 'C follows B', 'mass=': 2.0}\")\n"
     ]
    }
   ],
   "source": [
    "print(\"Dimension array: {}\".format(edges_nparray.shape))\n",
    "print(f\"Type: {type(edges_nparray)}\")\n",
    "\n",
    "edges_examples = edges_nparray[0:5]\n",
    "\n",
    "print(\"Example: \\n\\t\")\n",
    "for edge in edges_examples:\n",
    "    print(edge)"
   ]
  },
  {
   "cell_type": "code",
   "execution_count": null,
   "id": "6662d58b-5659-4eb5-83ee-1c2290d28f9b",
   "metadata": {},
   "outputs": [],
   "source": []
  },
  {
   "cell_type": "code",
   "execution_count": null,
   "id": "43d5f254-e4ad-4489-b465-2a6388ac46d5",
   "metadata": {},
   "outputs": [],
   "source": []
  },
  {
   "cell_type": "markdown",
   "id": "ff55d01d-0419-41e9-bb17-bb401daf995c",
   "metadata": {},
   "source": [
    "## Section 3: Converting to Networkx graph\n",
    "### Create Data Pipeline\n",
    "- **input:** Numpy arrays of nodes and edges\n",
    "- **output:** A NetworkX graph\n",
    "\n",
    "The pipeline consist of two consecutive stages:\n",
    "\n",
    "| Stage | Function                 | Description |\n",
    "|-------|--------------------------|--------------------------------------------------------------|\n",
    "| 1     | `to_networkx_nodes_format()` | generator that converts nodes to networkx format (node, properties) |\n",
    "|       | `to_networkx_edges_format()` | generator that converts edges to networkx format (source, target, properties) |\n",
    "| 2     | `networkx_graph_from_arrays()`| convert lists (nodes and edges) into a NetworkX graph. |\n",
    "|       | `nx.Graph()`                 | create an empty NetworkX graph \n",
    "|       | `graph.add_edges_from()`     | populate an empty graph with edges including properties |\n",
    "|       | `graph.add_nodes_from()`     | populate a graph with nodes including properties |"
   ]
  },
  {
   "cell_type": "code",
   "execution_count": 14,
   "id": "26b05eca-cda5-4816-b2d1-bd5d5ac46a3b",
   "metadata": {},
   "outputs": [
    {
     "name": "stdout",
     "output_type": "stream",
     "text": [
      "Graph G doesn't exist\n"
     ]
    }
   ],
   "source": [
    "try:\n",
    "    G.clear()\n",
    "    print(\"Graph has been cleared!\")\n",
    "except:\n",
    "    print(\"Graph G doesn't exist\")"
   ]
  },
  {
   "cell_type": "markdown",
   "id": "a6a45f4e-0788-4475-89f0-4eded29a535b",
   "metadata": {},
   "source": [
    "### 3.1 Create a Directed Graph"
   ]
  },
  {
   "cell_type": "code",
   "execution_count": 15,
   "id": "9cf2e5c5-6585-43df-ad9c-91df21b1c5b7",
   "metadata": {},
   "outputs": [],
   "source": [
    "G = networkx_graph_from_nparrays(nodes_nparray=to_networkx_nodes_format(nodes_nparray),\n",
    "                                 edges_nparray=to_networkx_edges_format(edges_nparray),\n",
    "                                 graph_type=nx.DiGraph()\n",
    "                                )"
   ]
  },
  {
   "cell_type": "markdown",
   "id": "b5738400-e25f-4111-92dc-feb107a15731",
   "metadata": {},
   "source": [
    "### 3.3 Draw Graph"
   ]
  },
  {
   "cell_type": "code",
   "execution_count": 16,
   "id": "5fe924bc-d677-46ed-919a-5c84d941f382",
   "metadata": {},
   "outputs": [
    {
     "data": {
      "image/png": "[encoded data removed]",
      "text/plain": [
       "<Figure size 640x480 with 1 Axes>"
      ]
     },
     "metadata": {},
     "output_type": "display_data"
    }
   ],
   "source": [
    "nx.draw(G, with_labels=True)"
   ]
  },
  {
   "cell_type": "markdown",
   "id": "228ef13f-c401-455c-ab4c-07eb890a990a",
   "metadata": {},
   "source": [
    "### 3.4 Some statistics"
   ]
  },
  {
   "cell_type": "code",
   "execution_count": 17,
   "id": "79feb05e-09d2-4d07-9a34-ebe4bec15bfb",
   "metadata": {},
   "outputs": [
    {
     "name": "stdout",
     "output_type": "stream",
     "text": [
      "Number of nodes: 6\n",
      "Number of edges: 6\n"
     ]
    }
   ],
   "source": [
    "print(\"Number of nodes: {}\".format(G.number_of_nodes()))\n",
    "print(\"Number of edges: {}\".format(G.number_of_edges()))"
   ]
  },
  {
   "cell_type": "code",
   "execution_count": 18,
   "id": "55ce79e5-b377-4cac-a8fc-492addcac9f8",
   "metadata": {},
   "outputs": [
    {
     "name": "stdout",
     "output_type": "stream",
     "text": [
      "('A', '1', {'info': 'A is equal to 1', 'mass=': 1, 'edge_id': 'E1', 'edge_label': 'is_equivalent'})\n",
      "('B', '2', {'info': 'B is equal to 2', 'mass=': 2, 'edge_id': 'E2', 'edge_label': 'is_equivalent'})\n",
      "('B', 'A', {'info': 'B follows A', 'mass=': 1.0, 'edge_id': 'R1', 'edge_label': 'follows'})\n",
      "('C', '3', {'info': 'C is equal to 3', 'mass=': 3, 'edge_id': 'E3', 'edge_label': 'is_equivalent'})\n",
      "('C', 'B', {'info': 'C follows B', 'mass=': 2.0, 'edge_id': 'R2', 'edge_label': 'follows'})\n"
     ]
    }
   ],
   "source": [
    "limit = 5\n",
    "for index, edge in enumerate(G.edges(data=True)):\n",
    "    if index >=5:\n",
    "        break\n",
    "    print(edge)"
   ]
  },
  {
   "cell_type": "code",
   "execution_count": 19,
   "id": "110e9f4d-2665-4e38-8ab0-97a967081cd9",
   "metadata": {},
   "outputs": [
    {
     "name": "stdout",
     "output_type": "stream",
     "text": [
      "('A', {'alphabet': 'latin', 'equivalent': 'a', 'node_label': 'letters'})\n",
      "('1', {'mathset': 'integer', 'name': 'one', 'node_label': 'numbers'})\n",
      "('B', {'alphabet': 'latin', 'equivalent': 'b', 'node_label': 'letters'})\n",
      "('2', {'mathset': 'integer', 'name': 'two', 'node_label': 'numbers'})\n",
      "('C', {'alphabet': 'latin', 'equivalent': 'c', 'node_label': 'letters'})\n"
     ]
    }
   ],
   "source": [
    "limit = 5\n",
    "for index, node in enumerate(G.nodes(data=True)):\n",
    "    if index >=5:\n",
    "        break\n",
    "    print(node)"
   ]
  },
  {
   "cell_type": "code",
   "execution_count": null,
   "id": "e08b6a61-a9bf-4c31-b206-8cd49c626a90",
   "metadata": {},
   "outputs": [],
   "source": []
  },
  {
   "cell_type": "code",
   "execution_count": null,
   "id": "e67315d5-d1de-459b-a03b-df4cece6661d",
   "metadata": {},
   "outputs": [],
   "source": []
  }
 ],
 "metadata": {
  "kernelspec": {
   "display_name": "Python 3 (ipykernel)",
   "language": "python",
   "name": "python3"
  },
  "language_info": {
   "codemirror_mode": {
    "name": "ipython",
    "version": 3
   },
   "file_extension": ".py",
   "mimetype": "text/x-python",
   "name": "python",
   "nbconvert_exporter": "python",
   "pygments_lexer": "ipython3",
   "version": "3.10.14"
  }
 },
 "nbformat": 4,
 "nbformat_minor": 5
}
